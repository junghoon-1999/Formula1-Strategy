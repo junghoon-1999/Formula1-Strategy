{
 "cells": [
  {
   "cell_type": "code",
   "execution_count": null,
   "metadata": {},
   "outputs": [],
   "source": [
    "# Import necessary libraries for the data creation step of the project\n",
    "import fastf1 as f1\n",
    "import pandas as pd\n",
    "import seaborn as sns\n",
    "import numpy as np\n",
    "import torch\n",
    "import torch.nn as nn\n",
    "import torch.nn.functional as F        "
   ]
  },
  {
   "cell_type": "markdown",
   "metadata": {},
   "source": [
    "# 1. Data creation and engineering"
   ]
  },
  {
   "cell_type": "markdown",
   "metadata": {},
   "source": [
    "## 1-1. Data Creation"
   ]
  },
  {
   "cell_type": "markdown",
   "metadata": {},
   "source": [
    "The primary data source is from the FastF1 library (https://github.com/theOehrly/Fast-F1). We will be using the telemetry data from the 2023 season to predict change of positions for all drivers. The justification for the use of data from 2023 has been specified in the data-analysis.ipynb file. "
   ]
  },
  {
   "cell_type": "code",
   "execution_count": null,
   "metadata": {},
   "outputs": [],
   "source": [
    "# Select all race events in 2023\n",
    "Events = f1.get_event_schedule(2023)\n",
    "Events_Race = Events[Events['Session5'] == 'Race']\n",
    "total_tele = pd.DataFrame()\n",
    "Event = Events_Race.loc[1, :]\n",
    "\n",
    "# Load session object\n",
    "session = f1.core.Session(Event, session_name = 'Race', f1_api_support = True)\n",
    "session.load(laps = True, telemetry = True, weather = True, messages = True)\n",
    "\n",
    "# Load laps and results data\n",
    "sesh_l = session.laps\n",
    "sesh_r = session.results\n",
    "\n",
    "# Attain all the drivers from the lap\n",
    "drivers = list(sesh_l['Driver'].unique())\n",
    "\n",
    "for drv in drivers:\n",
    "    total_drv = pd.DataFrame()\n",
    "\n",
    "    # Total number of laps the driver had \n",
    "    total_laps = int(sesh_l.pick_driver(drv).LapNumber.iloc[-1])\n",
    "    \n",
    "    distance = 0\n",
    "\n",
    "    for j in range(total_laps):\n",
    "\n",
    "        temp_tele = sesh_l.pick_driver(drv).iloc[j].get_telemetry().add_distance()\n",
    "        temp_tele['Brake'] = temp_tele['Brake'].astype(int)\n",
    "\n",
    "        # Adding data from session.Laps\n",
    "        # Laps: which lap the driver is in\n",
    "        # Compound: Which compound it's in\n",
    "        # TyreLife: How long the Tyre has been used \n",
    "        # TrackStatus: What the track status is \n",
    "        temp_tele['Lap'] = j+1\n",
    "        temp_tele['Compound'] = sesh_l.pick_driver(drv).iloc[j]['Compound']\n",
    "        temp_tele['TyreLife'] = sesh_l.pick_driver(drv).iloc[j]['TyreLife']\n",
    "        temp_tele['TrackStatus'] = sesh_l.pick_driver(drv).iloc[j]['TrackStatus']\n",
    "\n",
    "        # Combining the dataset \n",
    "        total_drv = pd.concat([total_drv, temp_tele.reset_index(drop=True)], axis = 0)\n",
    "\n",
    "    # Drop columns we don't need \n",
    "    total_drv.drop(columns = ['Time', 'Source', 'DriverAhead', 'DistanceToDriverAhead'], inplace = True)\n",
    "\n",
    "    # Add a status column for each telemetry input\n",
    "    outcome = sesh_r[sesh_r['Abbreviation'] == drv]['Status'].values[0]\n",
    "\n",
    "    if outcome == 'Finished':\n",
    "        total_drv['Status'] = 'Finished'\n",
    "    \n",
    "    elif '+' in outcome:\n",
    "        total_drv['Status'] = 'Finished'\n",
    "        total_drv['Status'].iloc[-1] = 'Lapped'\n",
    "    \n",
    "    else:\n",
    "        total_drv['Status'] = 'Finished'\n",
    "        total_drv['Status'].iloc[-1] = 'DNF'\n",
    "    \n",
    "    # Set consistency of data for the RB team \n",
    "    #if drv in ['DEV', 'LAW']:\n",
    "    #    drv = 'RIC'\n",
    "\n",
    "    for i in total_drv.columns:\n",
    "        new_col = drv + '_' + i\n",
    "        total_drv.rename(columns = {i: new_col}, inplace = True)\n",
    "\n",
    "    # Concatenate all the data from a single race together\n",
    "    total_tele = pd.concat([total_tele, total_drv.reset_index(drop = True)], axis = 1)\n",
    "    total_tele['Location'] = Event['RoundNumber']\n"
   ]
  },
  {
   "cell_type": "markdown",
   "metadata": {},
   "source": [
    "The data is consisted of the following columns for each driver \n",
    "\n",
    "| Feature | Type | Description |\n",
    "| --- | --- | --- |\n",
    "| Date | TimeDelta | The timestamp of when the data was collected |\n",
    "| SessionDate | TimeDelta | The relative timestamp of the session |\n",
    "| RPM | int | The RPM of the vehicle |\n",
    "| Speed | int | The speed of the vehicle |\n",
    "| nGear | int | The gear status of the vehicle |\n",
    "| Throttle | int | The % of throttle pressure |\n",
    "| Brake | Bool | The brake status |\n",
    "| DRS | Bool | The DRS status |\n",
    "| RelativeDistance | int | Distance driven since first sample |\n",
    "| X | int | X position (1/10 m) |\n",
    "| Y | int | Y position (1/10 m) |\n",
    "| Z | int | Z position (1/10 m) |\n",
    "| Status | Cat (str) | Current status of the driver (DNF, Finished etc) |\n",
    "| TrackStatus | Cat (str) | Flag (Yellow flag, Safety Car, Red Flag, Virtual Safety Car) | \n",
    "| Compound | Cat (str)|The Tyre Compound (Soft, Medium, Hard, Intermediate, Wet) |\n",
    "| PitIn | Bool | Driver pit in status |\n",
    "| PitOut | Bool | Driver pit out status |\n",
    "| Distance | int | The total distance driven for the lap |\n",
    "\n",
    "Here the categorical and boolean values will seperately be encoded as Dummy Variables. "
   ]
  },
  {
   "cell_type": "code",
   "execution_count": null,
   "metadata": {},
   "outputs": [],
   "source": [
    "# Find the Date and Session Time column with the most input amongst drivers and use that\n",
    "# SessionTime is kept to merge weather data \n",
    "def mx_len(df, col_name):\n",
    "    mx_len = 0\n",
    "\n",
    "    for col in df.columns:\n",
    "        if col_name in col:\n",
    "            if total_tele[col].count() > mx_len:\n",
    "\n",
    "                if mx_len != 0:\n",
    "                    df.drop(columns = col_name, inplace = True)\n",
    "                mx_len = max(mx_len, df[col].count())\n",
    "                df.rename(columns = {col: col_name}, inplace = True)\n",
    "            else:\n",
    "                df.drop(columns = col, inplace = True)\n",
    "    df = df[[col_name] + [col for col in df.columns if col != col_name]]\n",
    "    return df\n",
    "\n",
    "total_tele = mx_len(total_tele, 'Date')\n",
    "total_tele = mx_len(total_tele, 'SessionTime')"
   ]
  },
  {
   "cell_type": "markdown",
   "metadata": {},
   "source": [
    "We will also add the weather data of the specified timestamp from the FastF1 library. The weather_data is a telemetry data with specified descriptions as show below, all of which will be included into our data.\n",
    "\n",
    "| Feature | Type | Description |\n",
    "| --- | --- | --- |\n",
    "| AirTemp | Int | Temperature |\n",
    "| Humidity | Int | Humidity |\n",
    "| Pressure | Int | Air pressure|\n",
    "| RainFall | bool | Show if there is rainfall |\n",
    "| TrackTemp | Int | Temperature of the track |\n",
    "| WindDirection | Int | Direction of the wind |\n",
    "| WindSpeed | Int | Speed of the wind | "
   ]
  },
  {
   "cell_type": "code",
   "execution_count": null,
   "metadata": {},
   "outputs": [],
   "source": [
    "# Add weatherdata \n",
    "weather_data = session.weather_data\n",
    "weather_data['Time'] = pd.to_timedelta(weather_data['Time'])\n",
    "weather_data['Rainfall'] = weather_data['Rainfall'].astype(int)\n",
    "\n",
    "# Add the weather data df to the total_tele df and drop SessionTime as it is no longer needed\n",
    "total_tele = pd.merge_asof(total_tele, weather_data, left_on = 'SessionTime', right_on = 'Time', direction = 'nearest')\n",
    "total_tele.drop(columns=['Time'], inplace=True)\n"
   ]
  },
  {
   "cell_type": "markdown",
   "metadata": {},
   "source": []
  }
 ],
 "metadata": {
  "language_info": {
   "name": "python"
  }
 },
 "nbformat": 4,
 "nbformat_minor": 2
}
