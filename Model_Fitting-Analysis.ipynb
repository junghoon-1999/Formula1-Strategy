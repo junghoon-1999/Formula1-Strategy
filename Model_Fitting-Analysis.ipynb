{
  "cells": [
    {
      "cell_type": "markdown",
      "metadata": {
        "colab_type": "text",
        "id": "view-in-github"
      },
      "source": [
        "<a href=\"https://colab.research.google.com/github/junghoon-1999/Formula1-Strategy/blob/main/Model_Fitting-Analysis.ipynb\" target=\"_parent\"><img src=\"https://colab.research.google.com/assets/colab-badge.svg\" alt=\"Open In Colab\"/></a>"
      ]
    },
    {
      "cell_type": "markdown",
      "metadata": {
        "id": "EzZv9a8D2ajm"
      },
      "source": []
    },
    {
      "cell_type": "code",
      "execution_count": 2,
      "metadata": {
        "colab": {
          "base_uri": "https://localhost:8080/"
        },
        "id": "6etS3ZTkhjkx",
        "outputId": "44d1e926-e14b-47e9-b047-744a5e2e9fc7"
      },
      "outputs": [
        {
          "name": "stdout",
          "output_type": "stream",
          "text": [
            "Collecting optuna\n",
            "  Downloading optuna-3.6.1-py3-none-any.whl.metadata (17 kB)\n",
            "Collecting alembic>=1.5.0 (from optuna)\n",
            "  Downloading alembic-1.13.2-py3-none-any.whl.metadata (7.4 kB)\n",
            "Collecting colorlog (from optuna)\n",
            "  Downloading colorlog-6.8.2-py3-none-any.whl.metadata (10 kB)\n",
            "Requirement already satisfied: numpy in /usr/local/lib/python3.10/dist-packages (from optuna) (1.26.4)\n",
            "Requirement already satisfied: packaging>=20.0 in /usr/local/lib/python3.10/dist-packages (from optuna) (24.1)\n",
            "Requirement already satisfied: sqlalchemy>=1.3.0 in /usr/local/lib/python3.10/dist-packages (from optuna) (2.0.31)\n",
            "Requirement already satisfied: tqdm in /usr/local/lib/python3.10/dist-packages (from optuna) (4.66.4)\n",
            "Requirement already satisfied: PyYAML in /usr/local/lib/python3.10/dist-packages (from optuna) (6.0.1)\n",
            "Collecting Mako (from alembic>=1.5.0->optuna)\n",
            "  Downloading Mako-1.3.5-py3-none-any.whl.metadata (2.9 kB)\n",
            "Requirement already satisfied: typing-extensions>=4 in /usr/local/lib/python3.10/dist-packages (from alembic>=1.5.0->optuna) (4.12.2)\n",
            "Requirement already satisfied: greenlet!=0.4.17 in /usr/local/lib/python3.10/dist-packages (from sqlalchemy>=1.3.0->optuna) (3.0.3)\n",
            "Requirement already satisfied: MarkupSafe>=0.9.2 in /usr/local/lib/python3.10/dist-packages (from Mako->alembic>=1.5.0->optuna) (2.1.5)\n",
            "Downloading optuna-3.6.1-py3-none-any.whl (380 kB)\n",
            "\u001b[2K   \u001b[90m━━━━━━━━━━━━━━━━━━━━━━━━━━━━━━━━━━━━━━━━\u001b[0m \u001b[32m380.1/380.1 kB\u001b[0m \u001b[31m7.0 MB/s\u001b[0m eta \u001b[36m0:00:00\u001b[0m\n",
            "\u001b[?25hDownloading alembic-1.13.2-py3-none-any.whl (232 kB)\n",
            "\u001b[2K   \u001b[90m━━━━━━━━━━━━━━━━━━━━━━━━━━━━━━━━━━━━━━━━\u001b[0m \u001b[32m233.0/233.0 kB\u001b[0m \u001b[31m7.3 MB/s\u001b[0m eta \u001b[36m0:00:00\u001b[0m\n",
            "\u001b[?25hDownloading colorlog-6.8.2-py3-none-any.whl (11 kB)\n",
            "Downloading Mako-1.3.5-py3-none-any.whl (78 kB)\n",
            "\u001b[2K   \u001b[90m━━━━━━━━━━━━━━━━━━━━━━━━━━━━━━━━━━━━━━━━\u001b[0m \u001b[32m78.6/78.6 kB\u001b[0m \u001b[31m4.3 MB/s\u001b[0m eta \u001b[36m0:00:00\u001b[0m\n",
            "\u001b[?25hInstalling collected packages: Mako, colorlog, alembic, optuna\n",
            "Successfully installed Mako-1.3.5 alembic-1.13.2 colorlog-6.8.2 optuna-3.6.1\n"
          ]
        }
      ],
      "source": [
        "pip install optuna"
      ]
    },
    {
      "cell_type": "code",
      "execution_count": 3,
      "metadata": {
        "colab": {
          "base_uri": "https://localhost:8080/"
        },
        "id": "vp8YT4MUFbok",
        "outputId": "5ca59d5d-0cb4-4721-a2df-ba885af14baa"
      },
      "outputs": [
        {
          "name": "stdout",
          "output_type": "stream",
          "text": [
            "Mounted at /content/drive\n"
          ]
        }
      ],
      "source": [
        "from google.colab import drive\n",
        "drive.mount('/content/drive')"
      ]
    },
    {
      "cell_type": "code",
      "execution_count": 4,
      "metadata": {
        "id": "rYSZrZhDFsWW"
      },
      "outputs": [],
      "source": [
        "import numpy as np\n",
        "import pandas as pd\n",
        "import torch\n",
        "import torch.nn as nn\n",
        "import torch.nn.functional as F\n",
        "import matplotlib.pyplot as plt\n",
        "import optuna"
      ]
    },
    {
      "cell_type": "code",
      "execution_count": 7,
      "metadata": {
        "id": "1pyQEz3qG86E"
      },
      "outputs": [],
      "source": [
        "# Import data and initialize drivers to evaluate and run the model\n",
        "total_tele_bah = pd.read_csv('/content/drive/MyDrive/tot_dat_bah.csv')\n",
        "total_tele_bah.drop(columns = ['Unnamed: 0'], inplace = True)\n",
        "total_tele = total_tele_bah\n",
        "drivers = ['VER','GAS','PER','ALO','LEC','STR','SAR','MAG','DEV','TSU','ALB','ZHO',\n",
        " 'HUL','OCO','NOR','HAM','SAI','RUS','BOT','PIA']"
      ]
    },
    {
      "cell_type": "code",
      "execution_count": 11,
      "metadata": {
        "id": "JsuCQ4ABAoH1"
      },
      "outputs": [],
      "source": [
        "# Create sequences and labels for the data\n",
        "seq = []\n",
        "lab = []\n",
        "target = []\n",
        "remainder = []\n",
        "start_seq = 0\n",
        "end_seq = 0\n",
        "drivers_distance = [i+'_Distance' for i in drivers]\n",
        "distances = total_tele[drivers_distance]\n",
        "\n",
        "# For every 50 sequences we will predict the next 100 sequences\n",
        "for i in range(150, len(total_tele), 150):\n",
        "    end_seq = i\n",
        "\n",
        "    # Append 50 items to the sequence list and convert them to numpy\n",
        "    seq.append(total_tele.loc[start_seq:end_seq-100-1].to_numpy())\n",
        "\n",
        "    # Append the last item of every subsequent 50 items to the target list and convert them to numpy\n",
        "    target1 = distances.loc[end_seq-100:end_seq-50-1].to_numpy()\n",
        "    target2 = distances.loc[end_seq-50:end_seq-1].to_numpy()\n",
        "    temp = np.concatenate((target1, target2), axis = 1)\n",
        "    target.append(temp)\n",
        "    start_seq = i\n",
        "\n",
        "remainder.append(total_tele.loc[len(total_tele) - len(total_tele)%50+1: len(total_tele)].to_numpy())\n",
        "seq = torch.stack([torch.tensor(s.astype(float), dtype=torch.float) for s in seq])\n",
        "target = torch.stack([torch.tensor(s.astype(float), dtype=torch.float) for s in target])"
      ]
    },
    {
      "cell_type": "code",
      "execution_count": 12,
      "metadata": {
        "id": "bIXmGTidAoH1"
      },
      "outputs": [],
      "source": [
        "# Create training and test set\n",
        "# Shuffling the sequence and target dataset\n",
        "np.random.seed(12)\n",
        "shuffled_indices = np.random.permutation(len(seq))\n",
        "seq = seq[shuffled_indices]\n",
        "target = target[shuffled_indices]\n",
        "\n",
        "# Define testing dataset and training dataset\n",
        "train_size = int(len(seq)*0.8)\n",
        "val_size = int(len(seq)*0.9)\n",
        "\n",
        "train_seq = seq[:train_size]\n",
        "train_target = target[:train_size]\n",
        "\n",
        "val_seq = seq[train_size:val_size]\n",
        "val_target = target[train_size:val_size]\n",
        "\n",
        "test_seq = seq[val_size:]\n",
        "test_target = target[val_size:]\n"
      ]
    },
    {
      "cell_type": "code",
      "execution_count": 13,
      "metadata": {
        "id": "v3veKdbsAoH1"
      },
      "outputs": [],
      "source": [
        "from torch.utils.data import DataLoader\n",
        "\n",
        "bs = 16\n",
        "\n",
        "# Load and preprocess data for deep learning models\n",
        "input_dataloader = DataLoader(train_seq, batch_size=bs)\n",
        "target_dataloader = DataLoader(train_target, batch_size=bs)\n",
        "\n",
        "val_input_dataloader = DataLoader(val_seq, batch_size=bs)\n",
        "val_target_dataloader = DataLoader(val_target, batch_size=bs)\n",
        "\n",
        "test_input_dataloader = DataLoader(test_seq, batch_size=bs)\n",
        "test_target_dataloader = DataLoader(test_target, batch_size=bs)"
      ]
    },
    {
      "cell_type": "markdown",
      "metadata": {
        "id": "CvW8q79mBG_h"
      },
      "source": [
        "# 3. Model set up"
      ]
    },
    {
      "cell_type": "code",
      "execution_count": 14,
      "metadata": {
        "id": "D5Hi0UpxAoH1"
      },
      "outputs": [],
      "source": [
        "class FFN(torch.nn.Module):\n",
        "    def __init__(self, hidden_dim):\n",
        "        super(FFN, self).__init__()\n",
        "        self.gelu = nn.GELU()\n",
        "        self.ffn = nn.Linear(hidden_dim, hidden_dim)\n",
        "        self.norm = nn.LayerNorm(hidden_dim)\n",
        "\n",
        "    def forward(self, x):\n",
        "        identity = x\n",
        "        x = self.ffn(x)\n",
        "        x = self.gelu(x) + identity\n",
        "        x = self.norm(x)\n",
        "        return x\n",
        "\n",
        "class SelfAttnLayer(torch.nn.Module):\n",
        "    def __init__(self, hidden_dim, num_heads):\n",
        "        super(SelfAttnLayer, self).__init__()\n",
        "        self.gelu = nn.GELU()\n",
        "        self.mha = nn.MultiheadAttention(hidden_dim, num_heads, batch_first=True)\n",
        "        self.norm = nn.LayerNorm(hidden_dim)\n",
        "\n",
        "    def forward(self, x):\n",
        "        identity = x\n",
        "        x, _ = self.mha(x, x, x)\n",
        "        x = self.gelu(x) + identity\n",
        "        x = self.norm(x)\n",
        "        return x\n",
        "\n",
        "\n",
        "class Model(torch.nn.Module):\n",
        "\n",
        "    def __init__(self, hidden_dim, num_heads, n_layers, rate):\n",
        "        super(Model, self).__init__()\n",
        "        self.linear_in = nn.Linear(927, hidden_dim)\n",
        "        self.gelu = nn.GELU()\n",
        "\n",
        "        module_lst = []\n",
        "        for _ in range(n_layers):\n",
        "            # module_lst.append(nn.LayerNorm(hidden_dim))\n",
        "            module_lst.append(SelfAttnLayer(hidden_dim, num_heads))\n",
        "            module_lst.append(FFN(hidden_dim))\n",
        "            module_lst.append(nn.Dropout(p = rate))\n",
        "\n",
        "        self.module_lst = nn.ModuleList(module_lst)\n",
        "        # self.sl1 = SelfAttnLayer(hidden_dim, num_heads)\n",
        "        # self.ffn1 = FFN(hidden_dim)\n",
        "        # self.sl2 = SelfAttnLayer(hidden_dim, num_heads)\n",
        "        # self.ffn2 = FFN(hidden_dim)\n",
        "        # self.norm1 = nn.LayerNorm(hidden_dim)\n",
        "        # self.norm2 = nn.LayerNorm(hidden_dim)\n",
        "        self.linear2 = nn.Linear(hidden_dim, hidden_dim)\n",
        "        self.out_head = nn.Linear(hidden_dim, 40)\n",
        "        # self.dropout = nn.Dropout(p = 0.075) # 0.1, 0.2\n",
        "\n",
        "    def forward(self, x):\n",
        "        x = self.linear_in(x)\n",
        "        x = self.gelu(x)\n",
        "        for module in self.module_lst:\n",
        "            x = module(x)\n",
        "        # x = self.sl1(x)\n",
        "        # x = self.ffn1(x)\n",
        "        # x = self.dropout(x)\n",
        "        # x = self.sl2(x)\n",
        "        # x = self.ffn2(x)\n",
        "        x = self.out_head(x)\n",
        "        return x\n"
      ]
    },
    {
      "cell_type": "markdown",
      "metadata": {
        "id": "FG3hvJLCAoH2"
      },
      "source": [
        "# 4. Model Training"
      ]
    },
    {
      "cell_type": "markdown",
      "metadata": {
        "id": "eLJ69yQF1YMs"
      },
      "source": [
        "# 4-1. Defining the MAE"
      ]
    },
    {
      "cell_type": "markdown",
      "metadata": {
        "id": "JNR8kt4iz5Nf"
      },
      "source": [
        "The model returns error values of near 1.0 when estimating values near the starting points. This happens when the vehicles is either behind or right in front of the starting point and the model predicts the other side. Hence we will use a custom MAE that is capable of correcting error values for these predictions"
      ]
    },
    {
      "cell_type": "code",
      "execution_count": 15,
      "metadata": {
        "id": "86GHwQWbo7pd"
      },
      "outputs": [],
      "source": [
        "import torch\n",
        "import torch.nn as nn\n",
        "\n",
        "class CustomMAELoss(nn.Module):\n",
        "    def __init__(self):\n",
        "        super(CustomMAELoss, self).__init__()\n",
        "\n",
        "    def forward(self, output, target):\n",
        "        loss = torch.abs(output - target)\n",
        "\n",
        "        high_loss_indices = torch.nonzero(loss > 4800 / 5412, as_tuple=True)\n",
        "\n",
        "        if len(high_loss_indices[0]) > 0:\n",
        "            loss[high_loss_indices] = 1 - loss[high_loss_indices]\n",
        "\n",
        "        return torch.mean(torch.abs(loss))"
      ]
    },
    {
      "cell_type": "markdown",
      "metadata": {
        "id": "BEXfBDnUzbXI"
      },
      "source": [
        "## 4-2. Hyperparameter Tuning"
      ]
    },
    {
      "cell_type": "code",
      "execution_count": null,
      "metadata": {
        "id": "PraiF-a4zcgv"
      },
      "outputs": [],
      "source": [
        "def objective(trial):\n",
        "\n",
        "  # Define grid space\n",
        "  n_layers = trial.suggest_int(\"n_layers\", 1, 8)\n",
        "  hidden_dim = trial.suggest_int(\"hidden_dim\", 256, 1024, step = 128)\n",
        "  num_heads = trial.suggest_categorical(\"num_heads\",[2, 4, 8])\n",
        "  rate = trial.suggest_categorical('rate', [0.1, 0.75, 0.5])\n",
        "  lr = trial.suggest_float(\"lr\", 0.0001, 0.001, step = 0.0002)\n",
        "\n",
        "  # Initialize for tuning\n",
        "  device = torch.device('cuda')\n",
        "  model = Model(hidden_dim, num_heads, n_layers, rate).to(device)\n",
        "  model = model.float()\n",
        "  loss = CustomMAELoss()\n",
        "  optimizer = torch.optim.AdamW(model.parameters(), lr = lr)\n",
        "\n",
        "  for epoch in range(500):\n",
        "\n",
        "\n",
        "    model.train()\n",
        "    loss_val = 0\n",
        "\n",
        "    for s, t in zip(input_dataloader, target_dataloader):\n",
        "      s = s.to(device)\n",
        "      t = t.to(device)\n",
        "      optimizer.zero_grad()\n",
        "      output = model(s)\n",
        "      mae_loss = loss(output, t)\n",
        "      mae_loss.backward()\n",
        "      optimizer.step()\n",
        "\n",
        "    model.eval()\n",
        "    val_loss_val = 0\n",
        "    for s, t in zip(val_input_dataloader, val_target_dataloader):\n",
        "        s = s.to(device)\n",
        "        t = t.to(device)\n",
        "        logits = model(s)\n",
        "        mae_loss = loss(logits, t)\n",
        "        val_loss_val += (mae_loss.item())\n",
        "\n",
        "    val_avg_loss = val_loss_val / len(val_input_dataloader)\n",
        "\n",
        "    trial.report(val_avg_loss, epoch)\n",
        "\n",
        "    if trial.should_prune():\n",
        "      raise optuna.exceptions.TrialPruned()\n",
        "\n",
        "  return val_avg_loss\n",
        "\n",
        "study = optuna.create_study(direction=\"minimize\")\n",
        "study.optimize(objective, n_trials=50)\n",
        "print('Best trial:')\n",
        "trial = study.best_trial\n",
        "\n",
        "print(\"value: {:.4f}\".format(trial.value))\n",
        "\n",
        "print(\"Params: \")\n",
        "for key, value in trial.params.items():\n",
        "  print(\"    {}: {}\".format(key, value))\n"
      ]
    },
    {
      "cell_type": "markdown",
      "metadata": {
        "id": "shmaeM-vzxe7"
      },
      "source": [
        "Optuna suggested the following parameters"
      ]
    },
    {
      "cell_type": "markdown",
      "metadata": {
        "id": "sxG-QFt7m-5u"
      },
      "source": [
        "    - n_layers: 3\n",
        "    - hidden_dim: 896\n",
        "    - num_heads: 2\n",
        "    - rate: 0.1\n",
        "    - lr: 0.0005"
      ]
    },
    {
      "cell_type": "markdown",
      "metadata": {
        "id": "XaC-rg1Rz1Dk"
      },
      "source": [
        "## 4-3. Training"
      ]
    },
    {
      "cell_type": "code",
      "execution_count": 139,
      "metadata": {
        "colab": {
          "base_uri": "https://localhost:8080/"
        },
        "id": "XnNEJu2MhZWj",
        "outputId": "e41f6734-dd7c-4e69-dd94-9f2a28837a7f"
      },
      "outputs": [
        {
          "name": "stdout",
          "output_type": "stream",
          "text": [
            "Epoch 0, avg_loss= 0.3151422341664632, val_avg_loss= 0.21138624101877213\n",
            "Epoch 1, avg_loss= 0.22957689960797628, val_avg_loss= 0.15488621592521667\n",
            "Epoch 2, avg_loss= 0.20118610660235087, val_avg_loss= 0.13045384734869003\n",
            "Epoch 3, avg_loss= 0.18174990316232045, val_avg_loss= 0.11554669216275215\n",
            "Epoch 4, avg_loss= 0.16739520231882732, val_avg_loss= 0.11579496040940285\n",
            "Epoch 5, avg_loss= 0.15389951964219412, val_avg_loss= 0.10371122136712074\n",
            "Epoch 6, avg_loss= 0.1391499976317088, val_avg_loss= 0.1031917966902256\n",
            "Epoch 7, avg_loss= 0.12540053178866703, val_avg_loss= 0.10047516226768494\n",
            "Epoch 8, avg_loss= 0.11612383226553599, val_avg_loss= 0.11469680070877075\n",
            "Epoch 9, avg_loss= 0.10785571485757828, val_avg_loss= 0.09876575693488121\n",
            "Epoch 10, avg_loss= 0.10062711586554846, val_avg_loss= 0.09838973358273506\n",
            "Epoch 11, avg_loss= 0.09286936918894449, val_avg_loss= 0.10115434601902962\n",
            "Epoch 12, avg_loss= 0.08925018906593322, val_avg_loss= 0.08875895291566849\n",
            "Epoch 13, avg_loss= 0.08405902981758118, val_avg_loss= 0.09237650781869888\n",
            "Epoch 14, avg_loss= 0.08134690324465434, val_avg_loss= 0.09499311074614525\n",
            "Epoch 15, avg_loss= 0.08210041522979736, val_avg_loss= 0.09032808616757393\n",
            "Epoch 16, avg_loss= 0.0778208906451861, val_avg_loss= 0.08716227859258652\n",
            "Epoch 17, avg_loss= 0.07432548155387243, val_avg_loss= 0.08729564025998116\n",
            "Epoch 18, avg_loss= 0.07403716817498207, val_avg_loss= 0.08337129652500153\n",
            "Epoch 19, avg_loss= 0.07031701952219009, val_avg_loss= 0.09236779436469078\n",
            "Epoch 20, avg_loss= 0.07133733133474986, val_avg_loss= 0.08379394561052322\n",
            "Epoch 21, avg_loss= 0.07134609719117482, val_avg_loss= 0.081508319824934\n",
            "Epoch 22, avg_loss= 0.0695709283153216, val_avg_loss= 0.08528323844075203\n",
            "Epoch 23, avg_loss= 0.0700414369503657, val_avg_loss= 0.09100335836410522\n",
            "Epoch 24, avg_loss= 0.07428040554126104, val_avg_loss= 0.0828903503715992\n",
            "Epoch 25, avg_loss= 0.0741664263109366, val_avg_loss= 0.08916770666837692\n",
            "Epoch 26, avg_loss= 0.0732724462946256, val_avg_loss= 0.09122740849852562\n",
            "Epoch 27, avg_loss= 0.07163857916990916, val_avg_loss= 0.08602900803089142\n",
            "Epoch 28, avg_loss= 0.06935624157389005, val_avg_loss= 0.0804678313434124\n",
            "Epoch 29, avg_loss= 0.06735658397277196, val_avg_loss= 0.08264431357383728\n",
            "Epoch 30, avg_loss= 0.0659581979115804, val_avg_loss= 0.07636474445462227\n",
            "Epoch 31, avg_loss= 0.0643923044204712, val_avg_loss= 0.07724620401859283\n",
            "Epoch 32, avg_loss= 0.06380276679992676, val_avg_loss= 0.07803384959697723\n",
            "Epoch 33, avg_loss= 0.06197775428493817, val_avg_loss= 0.07842450588941574\n",
            "Epoch 34, avg_loss= 0.0626776618262132, val_avg_loss= 0.0742843821644783\n",
            "Epoch 35, avg_loss= 0.06200291266043981, val_avg_loss= 0.07779742777347565\n",
            "Epoch 36, avg_loss= 0.060684072971344, val_avg_loss= 0.07830599695444107\n",
            "Epoch 37, avg_loss= 0.059739402929941815, val_avg_loss= 0.0772681012749672\n",
            "Epoch 38, avg_loss= 0.05981672033667564, val_avg_loss= 0.07865322753787041\n",
            "Epoch 39, avg_loss= 0.05886066158612569, val_avg_loss= 0.07941386848688126\n",
            "Epoch 40, avg_loss= 0.059678949415683746, val_avg_loss= 0.07791805267333984\n",
            "Epoch 41, avg_loss= 0.05954025636116664, val_avg_loss= 0.07429462671279907\n",
            "Epoch 42, avg_loss= 0.05796055346727371, val_avg_loss= 0.0783696360886097\n",
            "Epoch 43, avg_loss= 0.060507359355688094, val_avg_loss= 0.07960742339491844\n",
            "Epoch 44, avg_loss= 0.0566276694337527, val_avg_loss= 0.08099905028939247\n",
            "Epoch 45, avg_loss= 0.058340730518102644, val_avg_loss= 0.08198210224509239\n",
            "Epoch 46, avg_loss= 0.056556085993846254, val_avg_loss= 0.07673099264502525\n",
            "Epoch 47, avg_loss= 0.05747441152731578, val_avg_loss= 0.07327152788639069\n",
            "Epoch 48, avg_loss= 0.05895383358001709, val_avg_loss= 0.07911551743745804\n",
            "Epoch 49, avg_loss= 0.05873055557409922, val_avg_loss= 0.08041725307703018\n",
            "Epoch 50, avg_loss= 0.05828801542520523, val_avg_loss= 0.07600407302379608\n",
            "Epoch 51, avg_loss= 0.05915641784667969, val_avg_loss= 0.0746537484228611\n",
            "Epoch 52, avg_loss= 0.05843382601936658, val_avg_loss= 0.0849895030260086\n",
            "Epoch 53, avg_loss= 0.05680041785041491, val_avg_loss= 0.07713788002729416\n",
            "Epoch 54, avg_loss= 0.05551324213544528, val_avg_loss= 0.07001359760761261\n",
            "Epoch 55, avg_loss= 0.05251914511124293, val_avg_loss= 0.07596355676651001\n",
            "Epoch 56, avg_loss= 0.05470969577630361, val_avg_loss= 0.07555048167705536\n",
            "Epoch 57, avg_loss= 0.055212458968162535, val_avg_loss= 0.07226840406656265\n",
            "Epoch 58, avg_loss= 0.055293139070272446, val_avg_loss= 0.0752359889447689\n",
            "Epoch 59, avg_loss= 0.05409229894479116, val_avg_loss= 0.07790695130825043\n",
            "Epoch 60, avg_loss= 0.05423825706044833, val_avg_loss= 0.07129983603954315\n",
            "Epoch 61, avg_loss= 0.054032376408576964, val_avg_loss= 0.07933025807142258\n",
            "Epoch 62, avg_loss= 0.056803767134745914, val_avg_loss= 0.08292115107178688\n",
            "Epoch 63, avg_loss= 0.06265161459644636, val_avg_loss= 0.07604015618562698\n",
            "Epoch 64, avg_loss= 0.054047331462303796, val_avg_loss= 0.07644448429346085\n",
            "Epoch 65, avg_loss= 0.052095580101013186, val_avg_loss= 0.06869475170969963\n",
            "Epoch 66, avg_loss= 0.04869685793916385, val_avg_loss= 0.06948621571063995\n",
            "Epoch 67, avg_loss= 0.04871229852239291, val_avg_loss= 0.07613671198487282\n",
            "Epoch 68, avg_loss= 0.05331871931751569, val_avg_loss= 0.07175864279270172\n",
            "Epoch 69, avg_loss= 0.05327700674533844, val_avg_loss= 0.07413706928491592\n",
            "Epoch 70, avg_loss= 0.052342740694681804, val_avg_loss= 0.07593054324388504\n",
            "Epoch 71, avg_loss= 0.05161191150546074, val_avg_loss= 0.07230373471975327\n",
            "Epoch 72, avg_loss= 0.050878791014353435, val_avg_loss= 0.07384016364812851\n",
            "Epoch 73, avg_loss= 0.05195772002140681, val_avg_loss= 0.07456817850470543\n",
            "Epoch 74, avg_loss= 0.05306898926695188, val_avg_loss= 0.07214292511343956\n",
            "Epoch 75, avg_loss= 0.050672967731952664, val_avg_loss= 0.07503553852438927\n",
            "Epoch 76, avg_loss= 0.04940938750902812, val_avg_loss= 0.07279092445969582\n",
            "Epoch 77, avg_loss= 0.04823409964640935, val_avg_loss= 0.06988105177879333\n",
            "Epoch 78, avg_loss= 0.04925655275583267, val_avg_loss= 0.07330228760838509\n",
            "Epoch 79, avg_loss= 0.050161370635032655, val_avg_loss= 0.0722762942314148\n",
            "Epoch 80, avg_loss= 0.052458502103885016, val_avg_loss= 0.07358719408512115\n",
            "Epoch 81, avg_loss= 0.051937348147233324, val_avg_loss= 0.07733643800020218\n",
            "Epoch 82, avg_loss= 0.05201791177193324, val_avg_loss= 0.07106825709342957\n",
            "Epoch 83, avg_loss= 0.05065126270055771, val_avg_loss= 0.06834247335791588\n",
            "Epoch 84, avg_loss= 0.049538600444793704, val_avg_loss= 0.07061551511287689\n",
            "Epoch 85, avg_loss= 0.04863382404049237, val_avg_loss= 0.07074657827615738\n",
            "Epoch 86, avg_loss= 0.04993812615672747, val_avg_loss= 0.07236584648489952\n",
            "Epoch 87, avg_loss= 0.047696742912133536, val_avg_loss= 0.07204319164156914\n",
            "Epoch 88, avg_loss= 0.04922533060113589, val_avg_loss= 0.06600365415215492\n",
            "Epoch 89, avg_loss= 0.045680004854997, val_avg_loss= 0.07016295194625854\n",
            "Epoch 90, avg_loss= 0.045747938007116316, val_avg_loss= 0.07320119440555573\n",
            "Epoch 91, avg_loss= 0.048130697508653, val_avg_loss= 0.0655151829123497\n",
            "Epoch 92, avg_loss= 0.04665099332729975, val_avg_loss= 0.06994863227009773\n",
            "Epoch 93, avg_loss= 0.047730892648299536, val_avg_loss= 0.06880097836256027\n",
            "Epoch 94, avg_loss= 0.046258938312530515, val_avg_loss= 0.06926235556602478\n",
            "Epoch 95, avg_loss= 0.0458895189066728, val_avg_loss= 0.06579503417015076\n",
            "Epoch 96, avg_loss= 0.04833548466364543, val_avg_loss= 0.06956180557608604\n",
            "Epoch 97, avg_loss= 0.046558550496896105, val_avg_loss= 0.07356511056423187\n",
            "Epoch 98, avg_loss= 0.05064964443445206, val_avg_loss= 0.06827091053128242\n",
            "Epoch 99, avg_loss= 0.04855222900708516, val_avg_loss= 0.07037969678640366\n",
            "Epoch 100, avg_loss= 0.04717022900780042, val_avg_loss= 0.06435453332960606\n",
            "Epoch 101, avg_loss= 0.04723538905382156, val_avg_loss= 0.06889555975794792\n",
            "Epoch 102, avg_loss= 0.044711153705914816, val_avg_loss= 0.06919863820075989\n",
            "Epoch 103, avg_loss= 0.045615851134061816, val_avg_loss= 0.06551260873675346\n",
            "Epoch 104, avg_loss= 0.0449408936003844, val_avg_loss= 0.07101117447018623\n",
            "Epoch 105, avg_loss= 0.04570731371641159, val_avg_loss= 0.07012229412794113\n",
            "Epoch 106, avg_loss= 0.046785138299067816, val_avg_loss= 0.06814075633883476\n",
            "Epoch 107, avg_loss= 0.045262971272071205, val_avg_loss= 0.06776337325572968\n",
            "Epoch 108, avg_loss= 0.04435727223753929, val_avg_loss= 0.0626050028949976\n",
            "Epoch 109, avg_loss= 0.0427652008831501, val_avg_loss= 0.06848122179508209\n",
            "Epoch 110, avg_loss= 0.04492054184277852, val_avg_loss= 0.06884531676769257\n",
            "Epoch 111, avg_loss= 0.046670641253391904, val_avg_loss= 0.0697205625474453\n",
            "Epoch 112, avg_loss= 0.045139479637146, val_avg_loss= 0.0733707845211029\n",
            "Epoch 113, avg_loss= 0.046931880464156465, val_avg_loss= 0.062088845297694206\n",
            "Epoch 114, avg_loss= 0.04437479923168818, val_avg_loss= 0.06880567595362663\n",
            "Epoch 115, avg_loss= 0.045721851537624994, val_avg_loss= 0.06559818238019943\n",
            "Epoch 116, avg_loss= 0.045833786825339, val_avg_loss= 0.06683960929512978\n",
            "Epoch 117, avg_loss= 0.04573091467221578, val_avg_loss= 0.06840682029724121\n",
            "Epoch 118, avg_loss= 0.04426348383227984, val_avg_loss= 0.06287897005677223\n",
            "Epoch 119, avg_loss= 0.04264023651679357, val_avg_loss= 0.06973601505160332\n",
            "Epoch 120, avg_loss= 0.04403507659832637, val_avg_loss= 0.06650599464774132\n",
            "Epoch 121, avg_loss= 0.043842459470033644, val_avg_loss= 0.06598814949393272\n",
            "Epoch 122, avg_loss= 0.04272115578254064, val_avg_loss= 0.06577286869287491\n",
            "Epoch 123, avg_loss= 0.042182060827811556, val_avg_loss= 0.06210666708648205\n",
            "Epoch 124, avg_loss= 0.04283616418639819, val_avg_loss= 0.06854576990008354\n",
            "Epoch 125, avg_loss= 0.04378913988669713, val_avg_loss= 0.06639101356267929\n",
            "Epoch 126, avg_loss= 0.04348696023225784, val_avg_loss= 0.06778222322463989\n",
            "Epoch 127, avg_loss= 0.04434017265836398, val_avg_loss= 0.06439770385622978\n",
            "Epoch 128, avg_loss= 0.04258192032575607, val_avg_loss= 0.06731634959578514\n",
            "Epoch 129, avg_loss= 0.042972686638434725, val_avg_loss= 0.06733972951769829\n",
            "Epoch 130, avg_loss= 0.04266447126865387, val_avg_loss= 0.06681091338396072\n",
            "Epoch 131, avg_loss= 0.0421446792781353, val_avg_loss= 0.06790154799818993\n",
            "Epoch 132, avg_loss= 0.04177087669571241, val_avg_loss= 0.06779899820685387\n",
            "Epoch 133, avg_loss= 0.04073462883631388, val_avg_loss= 0.06542889401316643\n",
            "Epoch 134, avg_loss= 0.041198261578877765, val_avg_loss= 0.06614150479435921\n",
            "Epoch 135, avg_loss= 0.04282058204213778, val_avg_loss= 0.06529024615883827\n",
            "Epoch 136, avg_loss= 0.04265681554873784, val_avg_loss= 0.06856804341077805\n",
            "Epoch 137, avg_loss= 0.04351264188687007, val_avg_loss= 0.0688883624970913\n",
            "Epoch 138, avg_loss= 0.04254884844024976, val_avg_loss= 0.06819289550185204\n",
            "Epoch 139, avg_loss= 0.04302216718594233, val_avg_loss= 0.06681966781616211\n",
            "Epoch 140, avg_loss= 0.042598357299963634, val_avg_loss= 0.06866510957479477\n",
            "Epoch 141, avg_loss= 0.042631473888953525, val_avg_loss= 0.06868156418204308\n",
            "Epoch 142, avg_loss= 0.043350771566232044, val_avg_loss= 0.06915748119354248\n",
            "Epoch 143, avg_loss= 0.043308495978514355, val_avg_loss= 0.0659148246049881\n",
            "Epoch 144, avg_loss= 0.044894078622261684, val_avg_loss= 0.06710562855005264\n",
            "Epoch 145, avg_loss= 0.043083250522613525, val_avg_loss= 0.06658576056361198\n",
            "Epoch 146, avg_loss= 0.04210170010725657, val_avg_loss= 0.06363357603549957\n",
            "Epoch 147, avg_loss= 0.040673816204071046, val_avg_loss= 0.0663478896021843\n",
            "Epoch 148, avg_loss= 0.040303597847620644, val_avg_loss= 0.06278623454272747\n",
            "Epoch 149, avg_loss= 0.04044042453169823, val_avg_loss= 0.062043322250247\n",
            "Epoch 150, avg_loss= 0.040813298026720686, val_avg_loss= 0.06452906131744385\n",
            "Epoch 151, avg_loss= 0.03867160106698672, val_avg_loss= 0.06174525246024132\n",
            "Epoch 152, avg_loss= 0.03810855100552241, val_avg_loss= 0.06054902821779251\n",
            "Epoch 153, avg_loss= 0.038322957853476204, val_avg_loss= 0.060406941920518875\n",
            "Epoch 154, avg_loss= 0.037826290478308995, val_avg_loss= 0.06104294955730438\n",
            "Epoch 155, avg_loss= 0.03925610060493152, val_avg_loss= 0.06097692623734474\n",
            "Epoch 156, avg_loss= 0.03885590756932895, val_avg_loss= 0.06189713254570961\n",
            "Epoch 157, avg_loss= 0.03912080650528272, val_avg_loss= 0.06142035126686096\n",
            "Epoch 158, avg_loss= 0.03883394201596578, val_avg_loss= 0.0634135752916336\n",
            "Epoch 159, avg_loss= 0.03821478957931201, val_avg_loss= 0.06327484548091888\n",
            "Epoch 160, avg_loss= 0.0381081722676754, val_avg_loss= 0.0616772435605526\n",
            "Epoch 161, avg_loss= 0.03749122793475787, val_avg_loss= 0.062223052605986595\n",
            "Epoch 162, avg_loss= 0.036512145400047304, val_avg_loss= 0.06293649971485138\n",
            "Epoch 163, avg_loss= 0.037015271931886674, val_avg_loss= 0.06191496551036835\n",
            "Epoch 164, avg_loss= 0.03751525307695071, val_avg_loss= 0.0654572956264019\n",
            "Epoch 165, avg_loss= 0.03807848033805688, val_avg_loss= 0.06553561985492706\n",
            "Epoch 166, avg_loss= 0.038314840942621234, val_avg_loss= 0.06303883716464043\n",
            "Epoch 167, avg_loss= 0.03884377777576446, val_avg_loss= 0.06765799969434738\n",
            "Epoch 168, avg_loss= 0.04069120983282725, val_avg_loss= 0.06557655707001686\n",
            "Epoch 169, avg_loss= 0.040051913758118944, val_avg_loss= 0.06375100463628769\n",
            "Epoch 170, avg_loss= 0.039074673255284624, val_avg_loss= 0.06422456726431847\n",
            "Epoch 171, avg_loss= 0.039386798689762754, val_avg_loss= 0.0639386922121048\n",
            "Epoch 172, avg_loss= 0.03820752824346225, val_avg_loss= 0.06444652006030083\n",
            "Epoch 173, avg_loss= 0.038882906238238014, val_avg_loss= 0.061887964606285095\n",
            "Epoch 174, avg_loss= 0.039852866033713026, val_avg_loss= 0.06613176688551903\n",
            "Epoch 175, avg_loss= 0.03940712114175161, val_avg_loss= 0.06614686921238899\n",
            "Epoch 176, avg_loss= 0.037861984719832736, val_avg_loss= 0.06084308587014675\n",
            "Epoch 177, avg_loss= 0.03683857060968876, val_avg_loss= 0.06253005564212799\n",
            "Epoch 178, avg_loss= 0.038352487484614055, val_avg_loss= 0.0595688633620739\n",
            "Epoch 179, avg_loss= 0.036460967361927034, val_avg_loss= 0.06118783541023731\n",
            "Epoch 180, avg_loss= 0.03708924303452174, val_avg_loss= 0.06267163716256618\n",
            "Epoch 181, avg_loss= 0.03771820763746898, val_avg_loss= 0.06253593415021896\n",
            "Epoch 182, avg_loss= 0.03703320175409317, val_avg_loss= 0.06492495909333229\n",
            "Epoch 183, avg_loss= 0.0387319249411424, val_avg_loss= 0.06011319160461426\n",
            "Epoch 184, avg_loss= 0.037038712203502654, val_avg_loss= 0.06266499496996403\n",
            "Epoch 185, avg_loss= 0.0382685790459315, val_avg_loss= 0.061221541836857796\n",
            "Epoch 186, avg_loss= 0.03784330288569133, val_avg_loss= 0.06233183108270168\n",
            "Epoch 187, avg_loss= 0.03849844038486481, val_avg_loss= 0.060116034001111984\n",
            "Epoch 188, avg_loss= 0.037478809555371605, val_avg_loss= 0.06278277933597565\n",
            "Epoch 189, avg_loss= 0.037320842842261, val_avg_loss= 0.06475487723946571\n",
            "Epoch 190, avg_loss= 0.03745387593905131, val_avg_loss= 0.06125600449740887\n",
            "Epoch 191, avg_loss= 0.03660354167222977, val_avg_loss= 0.0654805563390255\n",
            "Epoch 192, avg_loss= 0.03836398236453533, val_avg_loss= 0.06143486313521862\n",
            "Epoch 193, avg_loss= 0.037966154019037884, val_avg_loss= 0.06361705996096134\n",
            "Epoch 194, avg_loss= 0.037660763661066694, val_avg_loss= 0.0677378699183464\n",
            "Epoch 195, avg_loss= 0.037315636252363525, val_avg_loss= 0.06577613949775696\n",
            "Epoch 196, avg_loss= 0.03719053268432617, val_avg_loss= 0.0582235362380743\n",
            "Epoch 197, avg_loss= 0.03583239788810412, val_avg_loss= 0.0610384177416563\n",
            "Epoch 198, avg_loss= 0.03670961558818817, val_avg_loss= 0.06163491867482662\n",
            "Epoch 199, avg_loss= 0.036706894636154175, val_avg_loss= 0.062423089519143105\n",
            "Epoch 200, avg_loss= 0.037779819965362546, val_avg_loss= 0.059992872178554535\n",
            "Epoch 201, avg_loss= 0.03734144034485022, val_avg_loss= 0.06422589346766472\n",
            "Epoch 202, avg_loss= 0.03825254688660304, val_avg_loss= 0.060429876670241356\n",
            "Epoch 203, avg_loss= 0.03838004842400551, val_avg_loss= 0.06351222470402718\n",
            "Epoch 204, avg_loss= 0.037861346080899236, val_avg_loss= 0.06772171705961227\n",
            "Epoch 205, avg_loss= 0.03833926394581795, val_avg_loss= 0.06319622695446014\n",
            "Epoch 206, avg_loss= 0.03877832368016243, val_avg_loss= 0.0638788677752018\n",
            "Epoch 207, avg_loss= 0.03830184191465378, val_avg_loss= 0.06532026454806328\n",
            "Epoch 208, avg_loss= 0.037095709269245464, val_avg_loss= 0.061768755316734314\n",
            "Epoch 209, avg_loss= 0.03631697259843349, val_avg_loss= 0.06464120745658875\n",
            "Epoch 210, avg_loss= 0.03708628639578819, val_avg_loss= 0.06244577653706074\n",
            "Epoch 211, avg_loss= 0.03688918041686217, val_avg_loss= 0.06359661184251308\n",
            "Epoch 212, avg_loss= 0.03807311529914538, val_avg_loss= 0.059880563989281654\n",
            "Epoch 213, avg_loss= 0.03733757634957632, val_avg_loss= 0.0666869692504406\n",
            "Epoch 214, avg_loss= 0.040897544970115024, val_avg_loss= 0.06549949198961258\n",
            "Epoch 215, avg_loss= 0.04041776234904925, val_avg_loss= 0.06386886909604073\n",
            "Epoch 216, avg_loss= 0.042435540507237114, val_avg_loss= 0.0644453801214695\n",
            "Epoch 217, avg_loss= 0.04217443068822225, val_avg_loss= 0.06721017137169838\n",
            "Epoch 218, avg_loss= 0.04147136112054189, val_avg_loss= 0.0646805427968502\n",
            "Epoch 219, avg_loss= 0.042140566060940424, val_avg_loss= 0.06264527328312397\n",
            "Epoch 220, avg_loss= 0.0418942753225565, val_avg_loss= 0.07822402566671371\n",
            "Epoch 221, avg_loss= 0.04344384595751762, val_avg_loss= 0.06901301071047783\n",
            "Epoch 222, avg_loss= 0.04110366851091385, val_avg_loss= 0.07242236286401749\n",
            "Epoch 223, avg_loss= 0.04076496014992396, val_avg_loss= 0.06685584411025047\n",
            "Epoch 224, avg_loss= 0.04008762886126836, val_avg_loss= 0.06555978953838348\n",
            "Epoch 225, avg_loss= 0.038314563284317656, val_avg_loss= 0.0667891763150692\n",
            "Epoch 226, avg_loss= 0.04098093931873639, val_avg_loss= 0.06484251469373703\n",
            "Epoch 227, avg_loss= 0.04210727935036023, val_avg_loss= 0.0605215709656477\n",
            "Epoch 228, avg_loss= 0.04354447250564893, val_avg_loss= 0.07322095334529877\n",
            "Epoch 229, avg_loss= 0.04701501503586769, val_avg_loss= 0.0762391909956932\n",
            "Epoch 230, avg_loss= 0.04692499289909999, val_avg_loss= 0.0758599266409874\n",
            "Epoch 231, avg_loss= 0.04423851519823074, val_avg_loss= 0.06986412405967712\n",
            "Epoch 232, avg_loss= 0.043518986801306406, val_avg_loss= 0.06932993605732918\n",
            "Epoch 233, avg_loss= 0.044419959435860315, val_avg_loss= 0.06039878539741039\n",
            "Epoch 234, avg_loss= 0.045975165565808614, val_avg_loss= 0.06306488066911697\n",
            "Epoch 235, avg_loss= 0.04519143551588058, val_avg_loss= 0.07907536998391151\n",
            "Epoch 236, avg_loss= 0.04609437833229701, val_avg_loss= 0.0753275416791439\n",
            "Epoch 237, avg_loss= 0.0465667558213075, val_avg_loss= 0.06815988197922707\n",
            "Epoch 238, avg_loss= 0.042623611787954964, val_avg_loss= 0.06136880815029144\n",
            "Epoch 239, avg_loss= 0.04079562400778135, val_avg_loss= 0.06756744906306267\n",
            "Epoch 240, avg_loss= 0.042101710786422095, val_avg_loss= 0.07385148480534554\n",
            "Epoch 241, avg_loss= 0.04368781472245852, val_avg_loss= 0.06762389838695526\n",
            "Epoch 242, avg_loss= 0.04719695970416069, val_avg_loss= 0.06356020644307137\n",
            "Epoch 243, avg_loss= 0.043459787219762805, val_avg_loss= 0.06975211203098297\n",
            "Epoch 244, avg_loss= 0.04259064892927806, val_avg_loss= 0.07134509831666946\n",
            "Epoch 245, avg_loss= 0.04194093669454257, val_avg_loss= 0.06462104618549347\n",
            "Epoch 246, avg_loss= 0.04095823094248772, val_avg_loss= 0.06197221204638481\n",
            "Epoch 247, avg_loss= 0.038921220848957695, val_avg_loss= 0.06565256044268608\n",
            "Epoch 248, avg_loss= 0.03903067496915658, val_avg_loss= 0.069151122123003\n",
            "Epoch 249, avg_loss= 0.040946123252312346, val_avg_loss= 0.05949067883193493\n",
            "Epoch 250, avg_loss= 0.04335210174322128, val_avg_loss= 0.06687817350029945\n",
            "Epoch 251, avg_loss= 0.041737919797499974, val_avg_loss= 0.0729369968175888\n",
            "Epoch 252, avg_loss= 0.04098892857631047, val_avg_loss= 0.06013134494423866\n",
            "Epoch 253, avg_loss= 0.03952266424894333, val_avg_loss= 0.062198374420404434\n",
            "Epoch 254, avg_loss= 0.03684505472580592, val_avg_loss= 0.0636337660253048\n",
            "Epoch 255, avg_loss= 0.03693607685466607, val_avg_loss= 0.06509572453796864\n",
            "Epoch 256, avg_loss= 0.04011952877044678, val_avg_loss= 0.0564030185341835\n",
            "Epoch 257, avg_loss= 0.03890653625130654, val_avg_loss= 0.066432885825634\n",
            "Epoch 258, avg_loss= 0.03781177078684171, val_avg_loss= 0.066657904535532\n",
            "Epoch 259, avg_loss= 0.0375210082779328, val_avg_loss= 0.05859040096402168\n",
            "Epoch 260, avg_loss= 0.03569453607002894, val_avg_loss= 0.056655528023839\n",
            "Epoch 261, avg_loss= 0.034203148384888964, val_avg_loss= 0.05980794504284859\n",
            "Epoch 262, avg_loss= 0.03474865406751633, val_avg_loss= 0.05936659686267376\n",
            "Epoch 263, avg_loss= 0.035611856107910476, val_avg_loss= 0.05478668212890625\n",
            "Epoch 264, avg_loss= 0.034593065207203226, val_avg_loss= 0.058128295466303825\n",
            "Epoch 265, avg_loss= 0.03359196210900942, val_avg_loss= 0.0631924569606781\n",
            "Epoch 266, avg_loss= 0.0341076319416364, val_avg_loss= 0.058757927268743515\n",
            "Epoch 267, avg_loss= 0.03488492394487063, val_avg_loss= 0.05774567648768425\n",
            "Epoch 268, avg_loss= 0.03550433628261089, val_avg_loss= 0.057765351608395576\n",
            "Epoch 269, avg_loss= 0.03577519282698631, val_avg_loss= 0.060902077704668045\n",
            "Epoch 270, avg_loss= 0.037061790749430654, val_avg_loss= 0.062042493373155594\n",
            "Epoch 271, avg_loss= 0.03817919989426931, val_avg_loss= 0.06050489470362663\n",
            "Epoch 272, avg_loss= 0.03626396084825198, val_avg_loss= 0.06196806766092777\n",
            "Epoch 273, avg_loss= 0.03748150219519933, val_avg_loss= 0.06570202857255936\n",
            "Epoch 274, avg_loss= 0.03778168534239133, val_avg_loss= 0.06313972920179367\n",
            "Epoch 275, avg_loss= 0.03818215802311897, val_avg_loss= 0.06051412969827652\n",
            "Epoch 276, avg_loss= 0.037878357370694477, val_avg_loss= 0.05888982675969601\n",
            "Epoch 277, avg_loss= 0.03679392958680789, val_avg_loss= 0.0605113860219717\n",
            "Epoch 278, avg_loss= 0.035198616608977315, val_avg_loss= 0.05942868813872337\n",
            "Epoch 279, avg_loss= 0.035706262290477755, val_avg_loss= 0.0598220806568861\n",
            "Epoch 280, avg_loss= 0.03548234701156616, val_avg_loss= 0.06477604806423187\n",
            "Epoch 281, avg_loss= 0.03610924544433753, val_avg_loss= 0.06184000335633755\n",
            "Epoch 282, avg_loss= 0.035820293923219046, val_avg_loss= 0.057360557839274406\n",
            "Epoch 283, avg_loss= 0.036070954302946726, val_avg_loss= 0.055617718026041985\n",
            "Epoch 284, avg_loss= 0.03609005721906821, val_avg_loss= 0.06402864307165146\n",
            "Epoch 285, avg_loss= 0.034504642461737, val_avg_loss= 0.060722991824150085\n",
            "Epoch 286, avg_loss= 0.03607285271088282, val_avg_loss= 0.05512736923992634\n",
            "Epoch 287, avg_loss= 0.035937778279185296, val_avg_loss= 0.06268025934696198\n",
            "Epoch 288, avg_loss= 0.03589662685990334, val_avg_loss= 0.0661890096962452\n",
            "Epoch 289, avg_loss= 0.035880040874083835, val_avg_loss= 0.06054098159074783\n",
            "Epoch 290, avg_loss= 0.03549844597776731, val_avg_loss= 0.05591597035527229\n",
            "Epoch 291, avg_loss= 0.03415204460422198, val_avg_loss= 0.060914985835552216\n",
            "Epoch 292, avg_loss= 0.03371689580380917, val_avg_loss= 0.06077716313302517\n",
            "Epoch 293, avg_loss= 0.0348699476569891, val_avg_loss= 0.05752132833003998\n",
            "Epoch 294, avg_loss= 0.03734911779562632, val_avg_loss= 0.061874235048890114\n",
            "Epoch 295, avg_loss= 0.03714170679450035, val_avg_loss= 0.06881215050816536\n",
            "Epoch 296, avg_loss= 0.03617037298778693, val_avg_loss= 0.06275778450071812\n",
            "Epoch 297, avg_loss= 0.03855318749944369, val_avg_loss= 0.06142703630030155\n",
            "Epoch 298, avg_loss= 0.03593792766332626, val_avg_loss= 0.06080993264913559\n",
            "Epoch 299, avg_loss= 0.03469262346625328, val_avg_loss= 0.05663561634719372\n",
            "Epoch 300, avg_loss= 0.03584360393385092, val_avg_loss= 0.05751899257302284\n",
            "Epoch 301, avg_loss= 0.0351845891525348, val_avg_loss= 0.05460890382528305\n",
            "Epoch 302, avg_loss= 0.032983145614465074, val_avg_loss= 0.05884271673858166\n",
            "Epoch 303, avg_loss= 0.033138949796557425, val_avg_loss= 0.05839639715850353\n",
            "Epoch 304, avg_loss= 0.03160162456333637, val_avg_loss= 0.05804513022303581\n",
            "Epoch 305, avg_loss= 0.03227535660068194, val_avg_loss= 0.05143622308969498\n",
            "Epoch 306, avg_loss= 0.03245666312674681, val_avg_loss= 0.0570578146725893\n",
            "Epoch 307, avg_loss= 0.03245258145034313, val_avg_loss= 0.05908693000674248\n",
            "Epoch 308, avg_loss= 0.032928347339232764, val_avg_loss= 0.05620073154568672\n",
            "Epoch 309, avg_loss= 0.03352372820178668, val_avg_loss= 0.05512208864092827\n",
            "Epoch 310, avg_loss= 0.03283649856845538, val_avg_loss= 0.05850641243159771\n",
            "Epoch 311, avg_loss= 0.0331081185489893, val_avg_loss= 0.06640125438570976\n",
            "Epoch 312, avg_loss= 0.035095773513118426, val_avg_loss= 0.060600895434617996\n",
            "Epoch 313, avg_loss= 0.03561955578625202, val_avg_loss= 0.0576508566737175\n",
            "Epoch 314, avg_loss= 0.03530829052130381, val_avg_loss= 0.06087167374789715\n",
            "Epoch 315, avg_loss= 0.03542005692919095, val_avg_loss= 0.06244184449315071\n",
            "Epoch 316, avg_loss= 0.036146497602264085, val_avg_loss= 0.05645974725484848\n",
            "Epoch 317, avg_loss= 0.03574910784761111, val_avg_loss= 0.058040719479322433\n",
            "Epoch 318, avg_loss= 0.03303808905184269, val_avg_loss= 0.06066910922527313\n",
            "Epoch 319, avg_loss= 0.03163696303963661, val_avg_loss= 0.054229505360126495\n",
            "Epoch 320, avg_loss= 0.030530753855903942, val_avg_loss= 0.05589978024363518\n",
            "Epoch 321, avg_loss= 0.0310878640661637, val_avg_loss= 0.05483590438961983\n",
            "Epoch 322, avg_loss= 0.0310551588733991, val_avg_loss= 0.05498267523944378\n",
            "Epoch 323, avg_loss= 0.03127603406707446, val_avg_loss= 0.055124809965491295\n",
            "Epoch 324, avg_loss= 0.030874408781528473, val_avg_loss= 0.05789575167000294\n",
            "Epoch 325, avg_loss= 0.03258934170007706, val_avg_loss= 0.054677482694387436\n",
            "Epoch 326, avg_loss= 0.032106756791472436, val_avg_loss= 0.06020470708608627\n",
            "Epoch 327, avg_loss= 0.03212866522371769, val_avg_loss= 0.0598287507891655\n",
            "Epoch 328, avg_loss= 0.03126573748886585, val_avg_loss= 0.0566175002604723\n",
            "Epoch 329, avg_loss= 0.033073565612236656, val_avg_loss= 0.05573052540421486\n",
            "Epoch 330, avg_loss= 0.03301320262253284, val_avg_loss= 0.05900737829506397\n",
            "Epoch 331, avg_loss= 0.03287982642650604, val_avg_loss= 0.06044720113277435\n",
            "Epoch 332, avg_loss= 0.033652089163661005, val_avg_loss= 0.058202311396598816\n",
            "Epoch 333, avg_loss= 0.0337374626348416, val_avg_loss= 0.054467830806970596\n",
            "Epoch 334, avg_loss= 0.033559883137543996, val_avg_loss= 0.06138155050575733\n",
            "Epoch 335, avg_loss= 0.03364188286165396, val_avg_loss= 0.06425419449806213\n",
            "Epoch 336, avg_loss= 0.035291490331292155, val_avg_loss= 0.059147220104932785\n",
            "Epoch 337, avg_loss= 0.03445185646414757, val_avg_loss= 0.058053869754076004\n",
            "Epoch 338, avg_loss= 0.03345189814766248, val_avg_loss= 0.06084960326552391\n",
            "Epoch 339, avg_loss= 0.0347432636966308, val_avg_loss= 0.06213016249239445\n",
            "Epoch 340, avg_loss= 0.03558808105687301, val_avg_loss= 0.05684572830796242\n",
            "Epoch 341, avg_loss= 0.03518423736095429, val_avg_loss= 0.058609722182154655\n",
            "Epoch 342, avg_loss= 0.032881854971249895, val_avg_loss= 0.06403816491365433\n",
            "Epoch 343, avg_loss= 0.03412021957337856, val_avg_loss= 0.06353602185845375\n",
            "Epoch 344, avg_loss= 0.035175630201896034, val_avg_loss= 0.05965563468635082\n",
            "Epoch 345, avg_loss= 0.03443315823872884, val_avg_loss= 0.05977286025881767\n",
            "Epoch 346, avg_loss= 0.03460909699400266, val_avg_loss= 0.061760978773236275\n",
            "Epoch 347, avg_loss= 0.03547530819972356, val_avg_loss= 0.05409380607306957\n",
            "Epoch 348, avg_loss= 0.03506032874186834, val_avg_loss= 0.05942419730126858\n",
            "Epoch 349, avg_loss= 0.033275271331270534, val_avg_loss= 0.061209701001644135\n",
            "Epoch 350, avg_loss= 0.032423286512494084, val_avg_loss= 0.05606084503233433\n",
            "Epoch 351, avg_loss= 0.03282662406563759, val_avg_loss= 0.05400817096233368\n",
            "Epoch 352, avg_loss= 0.03116873688995838, val_avg_loss= 0.05596143752336502\n",
            "Epoch 353, avg_loss= 0.031033993388215702, val_avg_loss= 0.05726154148578644\n",
            "Epoch 354, avg_loss= 0.032220173999667166, val_avg_loss= 0.053280970081686974\n",
            "Epoch 355, avg_loss= 0.03242270648479462, val_avg_loss= 0.054508715867996216\n",
            "Epoch 356, avg_loss= 0.030785064026713372, val_avg_loss= 0.05756834335625172\n",
            "Epoch 357, avg_loss= 0.030831982443730036, val_avg_loss= 0.05814772844314575\n",
            "Epoch 358, avg_loss= 0.03100796937942505, val_avg_loss= 0.050986019894480705\n",
            "Epoch 359, avg_loss= 0.030350658545891442, val_avg_loss= 0.053319862112402916\n",
            "Epoch 360, avg_loss= 0.029946186517675718, val_avg_loss= 0.05587582103908062\n",
            "Epoch 361, avg_loss= 0.031000995760162672, val_avg_loss= 0.05465284362435341\n",
            "Epoch 362, avg_loss= 0.03134363032877445, val_avg_loss= 0.05421760864555836\n",
            "Epoch 363, avg_loss= 0.03065631203353405, val_avg_loss= 0.05886072851717472\n",
            "Epoch 364, avg_loss= 0.03093189572294553, val_avg_loss= 0.05913478881120682\n",
            "Epoch 365, avg_loss= 0.03229716072479884, val_avg_loss= 0.05767093971371651\n",
            "Epoch 366, avg_loss= 0.0324155172954003, val_avg_loss= 0.059680407866835594\n",
            "Epoch 367, avg_loss= 0.032130784913897516, val_avg_loss= 0.05574108101427555\n",
            "Epoch 368, avg_loss= 0.03172885663807392, val_avg_loss= 0.05513330176472664\n",
            "Epoch 369, avg_loss= 0.03198973089456558, val_avg_loss= 0.06018934026360512\n",
            "Epoch 370, avg_loss= 0.032319082195560137, val_avg_loss= 0.05974727123975754\n",
            "Epoch 371, avg_loss= 0.032290576646725334, val_avg_loss= 0.054914819076657295\n",
            "Epoch 372, avg_loss= 0.030748231088121733, val_avg_loss= 0.0550111997872591\n",
            "Epoch 373, avg_loss= 0.03034394681453705, val_avg_loss= 0.05361032299697399\n",
            "Epoch 374, avg_loss= 0.03035359059770902, val_avg_loss= 0.05230298079550266\n",
            "Epoch 375, avg_loss= 0.030570723364750543, val_avg_loss= 0.05486859194934368\n",
            "Epoch 376, avg_loss= 0.02983441837131977, val_avg_loss= 0.057004259899258614\n",
            "Epoch 377, avg_loss= 0.029974117875099182, val_avg_loss= 0.05611604452133179\n",
            "Epoch 378, avg_loss= 0.030770681674281757, val_avg_loss= 0.05543564073741436\n",
            "Epoch 379, avg_loss= 0.03079425704975923, val_avg_loss= 0.05938398092985153\n",
            "Epoch 380, avg_loss= 0.03143225610256195, val_avg_loss= 0.0551436934620142\n",
            "Epoch 381, avg_loss= 0.031538228318095204, val_avg_loss= 0.05733324959874153\n",
            "Epoch 382, avg_loss= 0.032793024679025014, val_avg_loss= 0.06167077273130417\n",
            "Epoch 383, avg_loss= 0.03181168412168821, val_avg_loss= 0.06032934412360191\n",
            "Epoch 384, avg_loss= 0.03276151182750861, val_avg_loss= 0.05425107851624489\n",
            "Epoch 385, avg_loss= 0.03215327262878418, val_avg_loss= 0.05369218811392784\n",
            "Epoch 386, avg_loss= 0.03213320411741734, val_avg_loss= 0.05983666144311428\n",
            "Epoch 387, avg_loss= 0.03184274310866992, val_avg_loss= 0.06515556573867798\n",
            "Epoch 388, avg_loss= 0.032928772767384845, val_avg_loss= 0.05829674005508423\n",
            "Epoch 389, avg_loss= 0.033523851881424586, val_avg_loss= 0.05627893656492233\n",
            "Epoch 390, avg_loss= 0.03384009425838788, val_avg_loss= 0.06721615046262741\n",
            "Epoch 391, avg_loss= 0.0342860276500384, val_avg_loss= 0.060303034260869026\n",
            "Epoch 392, avg_loss= 0.03297322317957878, val_avg_loss= 0.0551025215536356\n",
            "Epoch 393, avg_loss= 0.032301095748941105, val_avg_loss= 0.05511016957461834\n",
            "Epoch 394, avg_loss= 0.032524253552158676, val_avg_loss= 0.06544317305088043\n",
            "Epoch 395, avg_loss= 0.03310966206093629, val_avg_loss= 0.06145973317325115\n",
            "Epoch 396, avg_loss= 0.03329364421466986, val_avg_loss= 0.05832509882748127\n",
            "Epoch 397, avg_loss= 0.03228040933609009, val_avg_loss= 0.057278819382190704\n",
            "Epoch 398, avg_loss= 0.03185960700114568, val_avg_loss= 0.06597482785582542\n",
            "Epoch 399, avg_loss= 0.0338044876853625, val_avg_loss= 0.06050357036292553\n",
            "Epoch 400, avg_loss= 0.03656298692027728, val_avg_loss= 0.058007339015603065\n",
            "Epoch 401, avg_loss= 0.03467153112093608, val_avg_loss= 0.06353673711419106\n",
            "Epoch 402, avg_loss= 0.033342742795745534, val_avg_loss= 0.06221036799252033\n",
            "Epoch 403, avg_loss= 0.034840791548291845, val_avg_loss= 0.05652666464447975\n",
            "Epoch 404, avg_loss= 0.032985214764873184, val_avg_loss= 0.06365055590867996\n",
            "Epoch 405, avg_loss= 0.03252337910234928, val_avg_loss= 0.061558982357382774\n",
            "Epoch 406, avg_loss= 0.03478090278804302, val_avg_loss= 0.05599795840680599\n",
            "Epoch 407, avg_loss= 0.03734764891366164, val_avg_loss= 0.06162657216191292\n",
            "Epoch 408, avg_loss= 0.03572255484759808, val_avg_loss= 0.05844656005501747\n",
            "Epoch 409, avg_loss= 0.03327262960374355, val_avg_loss= 0.05662771873176098\n",
            "Epoch 410, avg_loss= 0.030299038315812748, val_avg_loss= 0.0543682761490345\n",
            "Epoch 411, avg_loss= 0.029714508851369222, val_avg_loss= 0.052174754440784454\n",
            "Epoch 412, avg_loss= 0.02892042597134908, val_avg_loss= 0.05337558872997761\n",
            "Epoch 413, avg_loss= 0.028279816110928852, val_avg_loss= 0.05106830596923828\n",
            "Epoch 414, avg_loss= 0.02814560979604721, val_avg_loss= 0.05398162640631199\n",
            "Epoch 415, avg_loss= 0.027422873427470525, val_avg_loss= 0.053105540573596954\n",
            "Epoch 416, avg_loss= 0.02701026958723863, val_avg_loss= 0.05306221544742584\n",
            "Epoch 417, avg_loss= 0.026927099376916886, val_avg_loss= 0.052497049793601036\n",
            "Epoch 418, avg_loss= 0.026877700909972192, val_avg_loss= 0.053760429844260216\n",
            "Epoch 419, avg_loss= 0.02730007953941822, val_avg_loss= 0.05341297574341297\n",
            "Epoch 420, avg_loss= 0.027302779878179233, val_avg_loss= 0.053924715146422386\n",
            "Epoch 421, avg_loss= 0.02764051655928294, val_avg_loss= 0.05554565042257309\n",
            "Epoch 422, avg_loss= 0.028572114805380504, val_avg_loss= 0.05352308973670006\n",
            "Epoch 423, avg_loss= 0.027580083534121513, val_avg_loss= 0.05237341485917568\n",
            "Epoch 424, avg_loss= 0.027645114064216613, val_avg_loss= 0.052242374047636986\n",
            "Epoch 425, avg_loss= 0.027610464518268905, val_avg_loss= 0.0513642318546772\n",
            "Epoch 426, avg_loss= 0.026893631493051847, val_avg_loss= 0.054784145206213\n",
            "Epoch 427, avg_loss= 0.027514171227812766, val_avg_loss= 0.05244974046945572\n",
            "Epoch 428, avg_loss= 0.028175167615214984, val_avg_loss= 0.05163737200200558\n",
            "Epoch 429, avg_loss= 0.0275142519424359, val_avg_loss= 0.05433969385921955\n",
            "Epoch 430, avg_loss= 0.027989737565318744, val_avg_loss= 0.05340258963406086\n",
            "Epoch 431, avg_loss= 0.02777515451113383, val_avg_loss= 0.05810870788991451\n",
            "Epoch 432, avg_loss= 0.029384216542045274, val_avg_loss= 0.05688953585922718\n",
            "Epoch 433, avg_loss= 0.029258657619357108, val_avg_loss= 0.05381284840404987\n",
            "Epoch 434, avg_loss= 0.028686413665612538, val_avg_loss= 0.05480922386050224\n",
            "Epoch 435, avg_loss= 0.029014123727877934, val_avg_loss= 0.053044769912958145\n",
            "Epoch 436, avg_loss= 0.02878967709839344, val_avg_loss= 0.05547797307372093\n",
            "Epoch 437, avg_loss= 0.028414426371455193, val_avg_loss= 0.05399411544203758\n",
            "Epoch 438, avg_loss= 0.028751628349224727, val_avg_loss= 0.05424952320754528\n",
            "Epoch 439, avg_loss= 0.02899514709909757, val_avg_loss= 0.05409214831888676\n",
            "Epoch 440, avg_loss= 0.029784183452526727, val_avg_loss= 0.055950840935111046\n",
            "Epoch 441, avg_loss= 0.029995609571536384, val_avg_loss= 0.059600234031677246\n",
            "Epoch 442, avg_loss= 0.03006697023908297, val_avg_loss= 0.06054830551147461\n",
            "Epoch 443, avg_loss= 0.029988732809821766, val_avg_loss= 0.058697061613202095\n",
            "Epoch 444, avg_loss= 0.03070776176949342, val_avg_loss= 0.05577632039785385\n",
            "Epoch 445, avg_loss= 0.031625303874413174, val_avg_loss= 0.056066351011395454\n",
            "Epoch 446, avg_loss= 0.03229560777544975, val_avg_loss= 0.06058123707771301\n",
            "Epoch 447, avg_loss= 0.0341732465972503, val_avg_loss= 0.06130995973944664\n",
            "Epoch 448, avg_loss= 0.03319489819308122, val_avg_loss= 0.05856119468808174\n",
            "Epoch 449, avg_loss= 0.0341681282967329, val_avg_loss= 0.056115809828042984\n",
            "Epoch 450, avg_loss= 0.03350328219433626, val_avg_loss= 0.06382225081324577\n",
            "Epoch 451, avg_loss= 0.033279305199782054, val_avg_loss= 0.0660453513264656\n",
            "Epoch 452, avg_loss= 0.034714130436380705, val_avg_loss= 0.059830451384186745\n",
            "Epoch 453, avg_loss= 0.033380336314439776, val_avg_loss= 0.05566051043570042\n",
            "Epoch 454, avg_loss= 0.03061509442826112, val_avg_loss= 0.055925097316503525\n",
            "Epoch 455, avg_loss= 0.03130752171079318, val_avg_loss= 0.06133329123258591\n",
            "Epoch 456, avg_loss= 0.03203693355123202, val_avg_loss= 0.056573571637272835\n",
            "Epoch 457, avg_loss= 0.033118507266044615, val_avg_loss= 0.05579036846756935\n",
            "Epoch 458, avg_loss= 0.03432042027513186, val_avg_loss= 0.06527406349778175\n",
            "Epoch 459, avg_loss= 0.033250965923070905, val_avg_loss= 0.06480563431978226\n",
            "Epoch 460, avg_loss= 0.03302620785931746, val_avg_loss= 0.06077771633863449\n",
            "Epoch 461, avg_loss= 0.03352254716058572, val_avg_loss= 0.06170307472348213\n",
            "Epoch 462, avg_loss= 0.03329504653811455, val_avg_loss= 0.060056859627366066\n",
            "Epoch 463, avg_loss= 0.03461732429762681, val_avg_loss= 0.0585918165743351\n",
            "Epoch 464, avg_loss= 0.03336777500808239, val_avg_loss= 0.05575292557477951\n",
            "Epoch 465, avg_loss= 0.03195377339919408, val_avg_loss= 0.062111569568514824\n",
            "Epoch 466, avg_loss= 0.032804212222496666, val_avg_loss= 0.06503726541996002\n",
            "Epoch 467, avg_loss= 0.03303257239361604, val_avg_loss= 0.057301146909594536\n",
            "Epoch 468, avg_loss= 0.03394060954451561, val_avg_loss= 0.05934823490679264\n",
            "Epoch 469, avg_loss= 0.03343722733358542, val_avg_loss= 0.06308592483401299\n",
            "Epoch 470, avg_loss= 0.03596232533454895, val_avg_loss= 0.054707545787096024\n",
            "Epoch 471, avg_loss= 0.03377101719379425, val_avg_loss= 0.06038281507790089\n",
            "Epoch 472, avg_loss= 0.03161563364168008, val_avg_loss= 0.06528075411915779\n",
            "Epoch 473, avg_loss= 0.033330508942405385, val_avg_loss= 0.055706748738884926\n",
            "Epoch 474, avg_loss= 0.03280327990651131, val_avg_loss= 0.056071652099490166\n",
            "Epoch 475, avg_loss= 0.030779199302196504, val_avg_loss= 0.057999322190880775\n",
            "Epoch 476, avg_loss= 0.03163013371328513, val_avg_loss= 0.05743340775370598\n",
            "Epoch 477, avg_loss= 0.033332717170317966, val_avg_loss= 0.054583268240094185\n",
            "Epoch 478, avg_loss= 0.03191924790541331, val_avg_loss= 0.06340532749891281\n",
            "Epoch 479, avg_loss= 0.03294940950969855, val_avg_loss= 0.06248391047120094\n",
            "Epoch 480, avg_loss= 0.033494793251156806, val_avg_loss= 0.05876101739704609\n",
            "Epoch 481, avg_loss= 0.030596083526810012, val_avg_loss= 0.05769944377243519\n",
            "Epoch 482, avg_loss= 0.029864230876167616, val_avg_loss= 0.05163830891251564\n",
            "Epoch 483, avg_loss= 0.029461882511774697, val_avg_loss= 0.05132699944078922\n",
            "Epoch 484, avg_loss= 0.028900558253129323, val_avg_loss= 0.0541391596198082\n",
            "Epoch 485, avg_loss= 0.02839693836867809, val_avg_loss= 0.053833575919270515\n",
            "Epoch 486, avg_loss= 0.027925767625371616, val_avg_loss= 0.05323868989944458\n",
            "Epoch 487, avg_loss= 0.027420408527056375, val_avg_loss= 0.05435753054916859\n",
            "Epoch 488, avg_loss= 0.029030451426903407, val_avg_loss= 0.05313427373766899\n",
            "Epoch 489, avg_loss= 0.028954903905590374, val_avg_loss= 0.055310629308223724\n",
            "Epoch 490, avg_loss= 0.030354576433698335, val_avg_loss= 0.053656093776226044\n",
            "Epoch 491, avg_loss= 0.030806478237112363, val_avg_loss= 0.05566554144024849\n",
            "Epoch 492, avg_loss= 0.028557491302490235, val_avg_loss= 0.05624929070472717\n",
            "Epoch 493, avg_loss= 0.027944272756576537, val_avg_loss= 0.05472743511199951\n",
            "Epoch 494, avg_loss= 0.027975855271021526, val_avg_loss= 0.053937746211886406\n",
            "Epoch 495, avg_loss= 0.028756059954563776, val_avg_loss= 0.05655014514923096\n",
            "Epoch 496, avg_loss= 0.029290190835793813, val_avg_loss= 0.05609733797609806\n",
            "Epoch 497, avg_loss= 0.030243182306488356, val_avg_loss= 0.05182886868715286\n",
            "Epoch 498, avg_loss= 0.030372684821486473, val_avg_loss= 0.05556035041809082\n",
            "Epoch 499, avg_loss= 0.030536277343829472, val_avg_loss= 0.06229267455637455\n",
            "Epoch 500, avg_loss= 0.03103221406539281, val_avg_loss= 0.05562711879611015\n",
            "Epoch 501, avg_loss= 0.030693150932590167, val_avg_loss= 0.05405771918594837\n",
            "Epoch 502, avg_loss= 0.030198282996813455, val_avg_loss= 0.05938735604286194\n",
            "Epoch 503, avg_loss= 0.029442191372315088, val_avg_loss= 0.05649832636117935\n",
            "Epoch 504, avg_loss= 0.03090016854306062, val_avg_loss= 0.0510624423623085\n",
            "Epoch 505, avg_loss= 0.03065876600642999, val_avg_loss= 0.062244053930044174\n",
            "Epoch 506, avg_loss= 0.0310093991458416, val_avg_loss= 0.06173626147210598\n",
            "Epoch 507, avg_loss= 0.03321754957238833, val_avg_loss= 0.052587561309337616\n",
            "Epoch 508, avg_loss= 0.03082971175511678, val_avg_loss= 0.05676150880753994\n",
            "Epoch 509, avg_loss= 0.03053510847191016, val_avg_loss= 0.05426623113453388\n",
            "Epoch 510, avg_loss= 0.03050230865677198, val_avg_loss= 0.05371728166937828\n",
            "Epoch 511, avg_loss= 0.02940657250583172, val_avg_loss= 0.061249375343322754\n",
            "Epoch 512, avg_loss= 0.029332964743177096, val_avg_loss= 0.05723165534436703\n",
            "Epoch 513, avg_loss= 0.030887480204304058, val_avg_loss= 0.05416969209909439\n",
            "Epoch 514, avg_loss= 0.029590149347980817, val_avg_loss= 0.05811421759426594\n",
            "Epoch 515, avg_loss= 0.03055333122611046, val_avg_loss= 0.053841108456254005\n",
            "Epoch 516, avg_loss= 0.030479067315657932, val_avg_loss= 0.05310930497944355\n",
            "Epoch 517, avg_loss= 0.029824149856964747, val_avg_loss= 0.0600605309009552\n",
            "Epoch 518, avg_loss= 0.03042728329698245, val_avg_loss= 0.05696112662553787\n",
            "Epoch 519, avg_loss= 0.030323666085799537, val_avg_loss= 0.05448780581355095\n",
            "Epoch 520, avg_loss= 0.02896299275259177, val_avg_loss= 0.05659931339323521\n",
            "Epoch 521, avg_loss= 0.029931941876808803, val_avg_loss= 0.05377262644469738\n",
            "Epoch 522, avg_loss= 0.02943089393277963, val_avg_loss= 0.052199508994817734\n",
            "Epoch 523, avg_loss= 0.026835337032874426, val_avg_loss= 0.054398832842707634\n",
            "Epoch 524, avg_loss= 0.027583239351709685, val_avg_loss= 0.05435699597001076\n",
            "Epoch 525, avg_loss= 0.027809593205650646, val_avg_loss= 0.05132357217371464\n",
            "Epoch 526, avg_loss= 0.02711352544526259, val_avg_loss= 0.053110310807824135\n",
            "Epoch 527, avg_loss= 0.02751890607178211, val_avg_loss= 0.052523668855428696\n",
            "Epoch 528, avg_loss= 0.02789876200258732, val_avg_loss= 0.05171365104615688\n",
            "Epoch 529, avg_loss= 0.028858864679932594, val_avg_loss= 0.0573306605219841\n",
            "Epoch 530, avg_loss= 0.027356020857890448, val_avg_loss= 0.057984547689557076\n",
            "Epoch 531, avg_loss= 0.029643178979555766, val_avg_loss= 0.05313262157142162\n",
            "Epoch 532, avg_loss= 0.029087647795677185, val_avg_loss= 0.05635308846831322\n",
            "Epoch 533, avg_loss= 0.030261963978409766, val_avg_loss= 0.05672376789152622\n",
            "Epoch 534, avg_loss= 0.03019124964872996, val_avg_loss= 0.05368639528751373\n",
            "Epoch 535, avg_loss= 0.028627948090434074, val_avg_loss= 0.05774383619427681\n",
            "Epoch 536, avg_loss= 0.028518292928735416, val_avg_loss= 0.05421432852745056\n",
            "Epoch 537, avg_loss= 0.028492810577154158, val_avg_loss= 0.05126873403787613\n",
            "Epoch 538, avg_loss= 0.028396259248256683, val_avg_loss= 0.05545045807957649\n",
            "Epoch 539, avg_loss= 0.028430122385422387, val_avg_loss= 0.054124269634485245\n",
            "Epoch 540, avg_loss= 0.028531875088810922, val_avg_loss= 0.05192688852548599\n",
            "Epoch 541, avg_loss= 0.029006455466151236, val_avg_loss= 0.05572148971259594\n",
            "Epoch 542, avg_loss= 0.02895062230527401, val_avg_loss= 0.05642288364470005\n",
            "Epoch 543, avg_loss= 0.02872932826479276, val_avg_loss= 0.053940195590257645\n",
            "Epoch 544, avg_loss= 0.02912906271715959, val_avg_loss= 0.057668332010507584\n",
            "Epoch 545, avg_loss= 0.028563930715123812, val_avg_loss= 0.05277145095169544\n",
            "Epoch 546, avg_loss= 0.0320505096266667, val_avg_loss= 0.05629052594304085\n",
            "Epoch 547, avg_loss= 0.03019599380592505, val_avg_loss= 0.05587216094136238\n",
            "Epoch 548, avg_loss= 0.02746829204261303, val_avg_loss= 0.053157635033130646\n",
            "Epoch 549, avg_loss= 0.027106813217202822, val_avg_loss= 0.05083034001290798\n",
            "Epoch 550, avg_loss= 0.02680517596503099, val_avg_loss= 0.05473027192056179\n",
            "Epoch 551, avg_loss= 0.02571498155593872, val_avg_loss= 0.05307437852025032\n",
            "Epoch 552, avg_loss= 0.02556856336692969, val_avg_loss= 0.0493916068226099\n",
            "Epoch 553, avg_loss= 0.02502112885316213, val_avg_loss= 0.05046321079134941\n",
            "Epoch 554, avg_loss= 0.024536000937223433, val_avg_loss= 0.05306842364370823\n",
            "Epoch 555, avg_loss= 0.024957327420512834, val_avg_loss= 0.05250832065939903\n",
            "Epoch 556, avg_loss= 0.024625119691093763, val_avg_loss= 0.051610082387924194\n",
            "Epoch 557, avg_loss= 0.024577295531829198, val_avg_loss= 0.05093982256948948\n",
            "Epoch 558, avg_loss= 0.024504075820247332, val_avg_loss= 0.05248016305267811\n",
            "Epoch 559, avg_loss= 0.02541356471677621, val_avg_loss= 0.04982881620526314\n",
            "Epoch 560, avg_loss= 0.0251886489490668, val_avg_loss= 0.051589030772447586\n",
            "Epoch 561, avg_loss= 0.025388405720392863, val_avg_loss= 0.053252169862389565\n",
            "Epoch 562, avg_loss= 0.025583781426151593, val_avg_loss= 0.050343453884124756\n",
            "Epoch 563, avg_loss= 0.025459783151745796, val_avg_loss= 0.054257242009043694\n",
            "Epoch 564, avg_loss= 0.025516936928033827, val_avg_loss= 0.05432893522083759\n",
            "Epoch 565, avg_loss= 0.026922554771105448, val_avg_loss= 0.052921950817108154\n",
            "Epoch 566, avg_loss= 0.027407571425040564, val_avg_loss= 0.05326765403151512\n",
            "Epoch 567, avg_loss= 0.02746040274699529, val_avg_loss= 0.05478443391621113\n",
            "Epoch 568, avg_loss= 0.028187620515624682, val_avg_loss= 0.051098378375172615\n",
            "Epoch 569, avg_loss= 0.02910325825214386, val_avg_loss= 0.05817118287086487\n",
            "Epoch 570, avg_loss= 0.027807542060812315, val_avg_loss= 0.058425381779670715\n",
            "Epoch 571, avg_loss= 0.027741561209162078, val_avg_loss= 0.05412187799811363\n",
            "Epoch 572, avg_loss= 0.027591946596900622, val_avg_loss= 0.051951320841908455\n",
            "Epoch 573, avg_loss= 0.02798042284945647, val_avg_loss= 0.058264466002583504\n",
            "Epoch 574, avg_loss= 0.028995084514220556, val_avg_loss= 0.05510716140270233\n",
            "Epoch 575, avg_loss= 0.029196673880020778, val_avg_loss= 0.055037545040249825\n",
            "Epoch 576, avg_loss= 0.0306864516188701, val_avg_loss= 0.05340765044093132\n",
            "Epoch 577, avg_loss= 0.02998894527554512, val_avg_loss= 0.061259496957063675\n",
            "Epoch 578, avg_loss= 0.02998265586793423, val_avg_loss= 0.05821805261075497\n",
            "Epoch 579, avg_loss= 0.029911821335554124, val_avg_loss= 0.05379066802561283\n",
            "Epoch 580, avg_loss= 0.029340948412815728, val_avg_loss= 0.05346350371837616\n",
            "Epoch 581, avg_loss= 0.028147206703821818, val_avg_loss= 0.0605572871863842\n",
            "Epoch 582, avg_loss= 0.030481324096520743, val_avg_loss= 0.052618155255913734\n",
            "Epoch 583, avg_loss= 0.03062409001092116, val_avg_loss= 0.05641106702387333\n",
            "Epoch 584, avg_loss= 0.029172665749986965, val_avg_loss= 0.05918282829225063\n",
            "Epoch 585, avg_loss= 0.02802450122932593, val_avg_loss= 0.05636330135166645\n",
            "Epoch 586, avg_loss= 0.029523851970831554, val_avg_loss= 0.052093129605054855\n",
            "Epoch 587, avg_loss= 0.028519912560780843, val_avg_loss= 0.054512426257133484\n",
            "Epoch 588, avg_loss= 0.028375942260026932, val_avg_loss= 0.05609997734427452\n",
            "Epoch 589, avg_loss= 0.030048003296057384, val_avg_loss= 0.05022290162742138\n",
            "Epoch 590, avg_loss= 0.029278763011097907, val_avg_loss= 0.059254301711916924\n",
            "Epoch 591, avg_loss= 0.028751822685201964, val_avg_loss= 0.059578683227300644\n",
            "Epoch 592, avg_loss= 0.02807554602622986, val_avg_loss= 0.050639549270272255\n",
            "Epoch 593, avg_loss= 0.026504293580849967, val_avg_loss= 0.05297115072607994\n",
            "Epoch 594, avg_loss= 0.02709911825756232, val_avg_loss= 0.057105064392089844\n",
            "Epoch 595, avg_loss= 0.0279670396198829, val_avg_loss= 0.053691497072577477\n",
            "Epoch 596, avg_loss= 0.030447786673903465, val_avg_loss= 0.05827910080552101\n",
            "Epoch 597, avg_loss= 0.028902876004576684, val_avg_loss= 0.06032131798565388\n",
            "Epoch 598, avg_loss= 0.028611977646748225, val_avg_loss= 0.05492327734827995\n",
            "Epoch 599, avg_loss= 0.02704770031074683, val_avg_loss= 0.05412098579108715\n"
          ]
        }
      ],
      "source": [
        "# Initialize model and set up\n",
        "device = torch.device('cuda')\n",
        "model = Model(896, 2, 3, 0.1).to(device)\n",
        "loss = CustomMAELoss()\n",
        "opt = torch.optim.AdamW(model.parameters(), lr = 0.0005) # 0.01, 0.005\n",
        "\n",
        "losses = []\n",
        "val_losses = []\n",
        "\n",
        "outputs = []\n",
        "tot = []\n",
        "min_val_loss = 1000000000000\n",
        "for epoch in range(600):\n",
        "    model.train()\n",
        "    loss_val = 0\n",
        "    for s, t in zip(input_dataloader, target_dataloader):\n",
        "        s = s.to(device)\n",
        "        t = t.to(device)\n",
        "        opt.zero_grad()\n",
        "        logits = model(s)\n",
        "        mae_loss = loss(logits, t)\n",
        "        mae_loss.backward()\n",
        "        opt.step()\n",
        "        loss_val += (mae_loss.item())\n",
        "    avg_loss = loss_val / len(input_dataloader)\n",
        "    losses.append(avg_loss)\n",
        "\n",
        "    model.eval()\n",
        "    val_loss_val = 0\n",
        "    for s, t in zip(val_input_dataloader, val_target_dataloader):\n",
        "        s = s.to(device)\n",
        "        t = t.to(device)\n",
        "        logits = model(s)\n",
        "        mae_loss = loss(logits, t)\n",
        "        val_loss_val += (mae_loss.item())\n",
        "\n",
        "    val_avg_loss = val_loss_val / len(val_input_dataloader)\n",
        "    if val_avg_loss < min_val_loss:\n",
        "        min_val_loss = val_avg_loss\n",
        "        best_model = model.state_dict()\n",
        "\n",
        "    val_losses.append(val_avg_loss)\n",
        "    print(f\"Epoch {epoch}, {avg_loss= }, {val_avg_loss= }\")\n"
      ]
    },
    {
      "cell_type": "markdown",
      "metadata": {
        "id": "eSHXFKiU0aqn"
      },
      "source": [
        "## 4-2. Testing"
      ]
    },
    {
      "cell_type": "code",
      "execution_count": 140,
      "metadata": {
        "id": "kLuUY1v-1cii"
      },
      "outputs": [],
      "source": [
        "model.load_state_dict(best_model)\n",
        "model.eval()\n",
        "test_loss_val = 0\n",
        "output = []\n",
        "for s, t in zip(test_input_dataloader, test_target_dataloader):\n",
        "    s = s.to(device)\n",
        "    t = t.to(device)\n",
        "    logits = model(s)\n",
        "    output.append(logits)\n",
        "    mse_loss = loss(logits, t)\n",
        "\n",
        "    test_loss_val += (mse_loss.item())\n",
        "test_avg_loss = test_loss_val / len(test_input_dataloader)"
      ]
    },
    {
      "cell_type": "code",
      "execution_count": 141,
      "metadata": {
        "colab": {
          "base_uri": "https://localhost:8080/"
        },
        "id": "s62nQVcNWuCo",
        "outputId": "c852dca8-2c1d-4baf-b5ab-104ee868ea70"
      },
      "outputs": [
        {
          "data": {
            "text/plain": [
              "221.44075655937195"
            ]
          },
          "execution_count": 141,
          "metadata": {},
          "output_type": "execute_result"
        }
      ],
      "source": [
        "# Unscaled loss\n",
        "test_avg_loss *5412"
      ]
    },
    {
      "cell_type": "code",
      "execution_count": 281,
      "metadata": {
        "colab": {
          "base_uri": "https://localhost:8080/",
          "height": 448
        },
        "id": "zTEd99h3xw8t",
        "outputId": "81be5a38-b3a4-4e40-fabf-07b50c289062"
      },
      "outputs": [
        {
          "data": {
            "text/plain": [
              "[<matplotlib.lines.Line2D at 0x7e8f5cc18af0>]"
            ]
          },
          "execution_count": 281,
          "metadata": {},
          "output_type": "execute_result"
        },
        {
          "data": {
            "image/png": "[encoded data removed]",
            "text/plain": [
              "<Figure size 640x480 with 1 Axes>"
            ]
          },
          "metadata": {},
          "output_type": "display_data"
        }
      ],
      "source": [
        "plt.plot(losses)\n",
        "plt.plot(val_losses)"
      ]
    },
    {
      "cell_type": "markdown",
      "metadata": {
        "id": "oD8xeW-5WmGO"
      },
      "source": [
        "# 5. Error Analysis"
      ]
    },
    {
      "cell_type": "markdown",
      "metadata": {
        "id": "3kqPcSHdWoKu"
      },
      "source": [
        "Overall the model behaves well but exhibits massive spikes in error values for certain mini batch of data. This section will uncover the blackbox behind these error values and understand the limitations of this project."
      ]
    },
    {
      "cell_type": "code",
      "execution_count": null,
      "metadata": {
        "id": "iWSzgOGJx1EI"
      },
      "outputs": [],
      "source": [
        "# Get the output tensor for error analysis\n",
        "exp_val = torch.vstack((output)).to('cpu')\n",
        "test_target = test_target.to('cpu')"
      ]
    },
    {
      "cell_type": "code",
      "execution_count": null,
      "metadata": {
        "id": "q3Rd5IAAx2cp"
      },
      "outputs": [],
      "source": [
        "dataframes = []\n",
        "obs_loss = pd.DataFrame(columns = ['Results', 'Drv', 'Iter'])\n",
        "\n",
        "err = torch.abs(exp_val - test_target)\n",
        "high_loss_indices = torch.nonzero((err) > 4800 / 5412, as_tuple=True)\n",
        "\n",
        "if len(high_loss_indices[0]) > 0:\n",
        "    err[high_loss_indices] = 1 - (err[high_loss_indices])\n",
        "\n",
        "obs_err = err.detach().numpy()\n",
        "\n",
        "for j in range(len(obs_err)):\n",
        "    for i in range(len(drivers)):\n",
        "        # Concatenate the specified slices from exp_val[j]\n",
        "        concat_array = np.concatenate((obs_err[j, :, i]*5412, obs_err[j, :, 20+i]*5412), 0)\n",
        "        df = pd.DataFrame()\n",
        "        df['Results'] = concat_array\n",
        "        df['Drv'] = drivers[i]\n",
        "        df['Iter'] = j\n",
        "        dataframes.append(df)\n",
        "\n",
        "# Concatenate all DataFrames horizontally\n",
        "obs_loss = pd.concat(dataframes, axis=0)"
      ]
    },
    {
      "cell_type": "code",
      "execution_count": 144,
      "metadata": {
        "id": "XBIXRnVAUAmk"
      },
      "outputs": [],
      "source": [
        "# Calculate the average of 'value' for each 'Drv'\n",
        "grp_obs_loss = obs_loss.groupby(['Drv', 'Iter'])['Results'].mean().reset_index()\n",
        "\n",
        "# Rename the columns for clarity\n",
        "grp_obs_loss.columns = ['Drv', 'Iter',  'AverageValue']"
      ]
    },
    {
      "cell_type": "code",
      "execution_count": 145,
      "metadata": {
        "id": "yYKyiFPkWUN-"
      },
      "outputs": [],
      "source": [
        "drv_1 = ['VER', 'PER', 'ALO', 'SAI', 'HAM']\n",
        "drv_2 = ['STR', 'RUS', 'BOT', 'GAS', 'ALB']\n",
        "drv_3 = ['TSU', 'SAR', 'MAG', 'DEV', 'HUK']\n",
        "drv_4 = ['ZHO', 'NOR', 'OCO', 'LEC', 'PIA']\n",
        "drv_5 = ['OCO', 'LEC', 'PIA']"
      ]
    },
    {
      "cell_type": "code",
      "execution_count": 146,
      "metadata": {
        "id": "vHd4umiMWus7"
      },
      "outputs": [],
      "source": [
        "# Create a function that returns the index of the column we are interested in to use for error analysis\n",
        "def get_col_ind(col_name):\n",
        "    for i in range(len(total_tele.columns)):\n",
        "        if total_tele.columns[i] == col_name:\n",
        "            return i"
      ]
    },
    {
      "cell_type": "code",
      "execution_count": 147,
      "metadata": {
        "colab": {
          "base_uri": "https://localhost:8080/",
          "height": 542
        },
        "id": "J5E8qQBCU5Tt",
        "outputId": "c49db2c5-438d-4ebf-ddca-65869b150427"
      },
      "outputs": [
        {
          "data": {
            "text/html": [
              "<html>\n",
              "<head><meta charset=\"utf-8\" /></head>\n",
              "<body>\n",
              "    <div>            <script src=\"https://cdnjs.cloudflare.com/ajax/libs/mathjax/2.7.5/MathJax.js?config=TeX-AMS-MML_SVG\"></script><script type=\"text/javascript\">if (window.MathJax && window.MathJax.Hub && window.MathJax.Hub.Config) {window.MathJax.Hub.Config({SVG: {font: \"STIX-Web\"}});}</script>                <script type=\"text/javascript\">window.PlotlyConfig = {MathJaxConfig: 'local'};</script>\n",
              "        <script charset=\"utf-8\" src=\"https://cdn.plot.ly/plotly-2.24.1.min.js\"></script>                <div id=\"bd4aad2e-4df6-446a-a822-36122f562c94\" class=\"plotly-graph-div\" style=\"height:525px; width:100%;\"></div>            <script type=\"text/javascript\">                                    window.PLOTLYENV=window.PLOTLYENV || {};                                    if (document.getElementById(\"bd4aad2e-4df6-446a-a822-36122f562c94\")) {                    Plotly.newPlot(                        \"bd4aad2e-4df6-446a-a822-36122f562c94\",                        [{\"hovertemplate\":\"Drv=ALO\\u003cbr\\u003eIter=%{x}\\u003cbr\\u003eAverageValue=%{y}\\u003cextra\\u003e\\u003c\\u002fextra\\u003e\",\"legendgroup\":\"ALO\",\"line\":{\"color\":\"#636efa\",\"dash\":\"solid\"},\"marker\":{\"symbol\":\"circle\"},\"mode\":\"lines\",\"name\":\"ALO\",\"orientation\":\"v\",\"showlegend\":true,\"x\":[0,1,2,3,4,5,6,7,8,9,10,11,12,13,14,15,16,17,18,19,20,21,22,23,24,25,26,27,28],\"xaxis\":\"x\",\"y\":[54.00069808959961,91.5930404663086,1369.7193603515625,75.02405548095703,104.98485565185547,523.3602294921875,88.60515594482422,86.45989990234375,122.39373779296875,78.39778137207031,49.74092102050781,64.82560729980469,61.422821044921875,33.78550338745117,167.9699249267578,102.23286437988281,45.22024917602539,138.51808166503906,99.148193359375,1039.3466796875,69.76569366455078,54.372344970703125,248.93646240234375,84.6448745727539,74.31651306152344,602.5222778320312,30.34799575805664,112.91206359863281,192.9073486328125],\"yaxis\":\"y\",\"type\":\"scatter\"},{\"hovertemplate\":\"Drv=HAM\\u003cbr\\u003eIter=%{x}\\u003cbr\\u003eAverageValue=%{y}\\u003cextra\\u003e\\u003c\\u002fextra\\u003e\",\"legendgroup\":\"HAM\",\"line\":{\"color\":\"#EF553B\",\"dash\":\"solid\"},\"marker\":{\"symbol\":\"circle\"},\"mode\":\"lines\",\"name\":\"HAM\",\"orientation\":\"v\",\"showlegend\":true,\"x\":[0,1,2,3,4,5,6,7,8,9,10,11,12,13,14,15,16,17,18,19,20,21,22,23,24,25,26,27,28],\"xaxis\":\"x\",\"y\":[80.23064422607422,31.285076141357422,342.9660949707031,147.89402770996094,137.45018005371094,171.22439575195312,103.57735443115234,60.84687042236328,140.4767608642578,111.28384399414062,120.48564147949219,45.626956939697266,67.3919906616211,48.8680419921875,187.15492248535156,24.626562118530273,75.1902084350586,171.17340087890625,110.22737121582031,103.46456146240234,55.256256103515625,104.11068725585938,288.9792175292969,121.68443298339844,58.836421966552734,218.07073974609375,178.4842987060547,162.985595703125,1079.128173828125],\"yaxis\":\"y\",\"type\":\"scatter\"},{\"hovertemplate\":\"Drv=PER\\u003cbr\\u003eIter=%{x}\\u003cbr\\u003eAverageValue=%{y}\\u003cextra\\u003e\\u003c\\u002fextra\\u003e\",\"legendgroup\":\"PER\",\"line\":{\"color\":\"#00cc96\",\"dash\":\"solid\"},\"marker\":{\"symbol\":\"circle\"},\"mode\":\"lines\",\"name\":\"PER\",\"orientation\":\"v\",\"showlegend\":true,\"x\":[0,1,2,3,4,5,6,7,8,9,10,11,12,13,14,15,16,17,18,19,20,21,22,23,24,25,26,27,28],\"xaxis\":\"x\",\"y\":[33.56418228149414,128.07098388671875,122.9113540649414,199.6754150390625,139.18739318847656,504.8006896972656,102.1404037475586,80.03862762451172,1366.79150390625,84.43167114257812,78.60438537597656,68.64906311035156,82.30391693115234,137.9049072265625,253.94891357421875,1013.91015625,83.50509643554688,160.11065673828125,88.3897476196289,321.8168029785156,125.17938232421875,82.6982650756836,1617.72900390625,80.2972183227539,153.70359802246094,50.75556182861328,143.63485717773438,84.42964172363281,139.57102966308594],\"yaxis\":\"y\",\"type\":\"scatter\"},{\"hovertemplate\":\"Drv=SAI\\u003cbr\\u003eIter=%{x}\\u003cbr\\u003eAverageValue=%{y}\\u003cextra\\u003e\\u003c\\u002fextra\\u003e\",\"legendgroup\":\"SAI\",\"line\":{\"color\":\"#ab63fa\",\"dash\":\"solid\"},\"marker\":{\"symbol\":\"circle\"},\"mode\":\"lines\",\"name\":\"SAI\",\"orientation\":\"v\",\"showlegend\":true,\"x\":[0,1,2,3,4,5,6,7,8,9,10,11,12,13,14,15,16,17,18,19,20,21,22,23,24,25,26,27,28],\"xaxis\":\"x\",\"y\":[69.14685821533203,69.69036102294922,1346.0380859375,59.185237884521484,189.56405639648438,222.29067993164062,157.80978393554688,89.41185760498047,156.26560974121094,112.59639739990234,71.12635803222656,94.66632080078125,799.25146484375,32.27132034301758,151.6135711669922,43.416629791259766,61.235042572021484,110.04507446289062,160.28158569335938,173.9351043701172,86.03079223632812,44.363887786865234,235.52659606933594,41.89651870727539,108.77576446533203,233.1255340576172,51.192378997802734,158.20823669433594,1102.455322265625],\"yaxis\":\"y\",\"type\":\"scatter\"},{\"hovertemplate\":\"Drv=VER\\u003cbr\\u003eIter=%{x}\\u003cbr\\u003eAverageValue=%{y}\\u003cextra\\u003e\\u003c\\u002fextra\\u003e\",\"legendgroup\":\"VER\",\"line\":{\"color\":\"#FFA15A\",\"dash\":\"solid\"},\"marker\":{\"symbol\":\"circle\"},\"mode\":\"lines\",\"name\":\"VER\",\"orientation\":\"v\",\"showlegend\":true,\"x\":[0,1,2,3,4,5,6,7,8,9,10,11,12,13,14,15,16,17,18,19,20,21,22,23,24,25,26,27,28],\"xaxis\":\"x\",\"y\":[39.94588088989258,133.8702392578125,236.9273223876953,173.53927612304688,411.7314453125,429.4562072753906,461.6117248535156,213.39447021484375,118.64945983886719,98.61018371582031,150.0499267578125,111.07919311523438,1278.4073486328125,73.98271942138672,578.1976318359375,67.57849884033203,44.678836822509766,1566.9971923828125,339.93597412109375,2946.516845703125,185.09542846679688,175.28857421875,1963.5726318359375,790.0947875976562,43.9522819519043,80.91300201416016,170.6207275390625,636.8111572265625,110.47940063476562],\"yaxis\":\"y\",\"type\":\"scatter\"}],                        {\"template\":{\"data\":{\"histogram2dcontour\":[{\"type\":\"histogram2dcontour\",\"colorbar\":{\"outlinewidth\":0,\"ticks\":\"\"},\"colorscale\":[[0.0,\"#0d0887\"],[0.1111111111111111,\"#46039f\"],[0.2222222222222222,\"#7201a8\"],[0.3333333333333333,\"#9c179e\"],[0.4444444444444444,\"#bd3786\"],[0.5555555555555556,\"#d8576b\"],[0.6666666666666666,\"#ed7953\"],[0.7777777777777778,\"#fb9f3a\"],[0.8888888888888888,\"#fdca26\"],[1.0,\"#f0f921\"]]}],\"choropleth\":[{\"type\":\"choropleth\",\"colorbar\":{\"outlinewidth\":0,\"ticks\":\"\"}}],\"histogram2d\":[{\"type\":\"histogram2d\",\"colorbar\":{\"outlinewidth\":0,\"ticks\":\"\"},\"colorscale\":[[0.0,\"#0d0887\"],[0.1111111111111111,\"#46039f\"],[0.2222222222222222,\"#7201a8\"],[0.3333333333333333,\"#9c179e\"],[0.4444444444444444,\"#bd3786\"],[0.5555555555555556,\"#d8576b\"],[0.6666666666666666,\"#ed7953\"],[0.7777777777777778,\"#fb9f3a\"],[0.8888888888888888,\"#fdca26\"],[1.0,\"#f0f921\"]]}],\"heatmap\":[{\"type\":\"heatmap\",\"colorbar\":{\"outlinewidth\":0,\"ticks\":\"\"},\"colorscale\":[[0.0,\"#0d0887\"],[0.1111111111111111,\"#46039f\"],[0.2222222222222222,\"#7201a8\"],[0.3333333333333333,\"#9c179e\"],[0.4444444444444444,\"#bd3786\"],[0.5555555555555556,\"#d8576b\"],[0.6666666666666666,\"#ed7953\"],[0.7777777777777778,\"#fb9f3a\"],[0.8888888888888888,\"#fdca26\"],[1.0,\"#f0f921\"]]}],\"heatmapgl\":[{\"type\":\"heatmapgl\",\"colorbar\":{\"outlinewidth\":0,\"ticks\":\"\"},\"colorscale\":[[0.0,\"#0d0887\"],[0.1111111111111111,\"#46039f\"],[0.2222222222222222,\"#7201a8\"],[0.3333333333333333,\"#9c179e\"],[0.4444444444444444,\"#bd3786\"],[0.5555555555555556,\"#d8576b\"],[0.6666666666666666,\"#ed7953\"],[0.7777777777777778,\"#fb9f3a\"],[0.8888888888888888,\"#fdca26\"],[1.0,\"#f0f921\"]]}],\"contourcarpet\":[{\"type\":\"contourcarpet\",\"colorbar\":{\"outlinewidth\":0,\"ticks\":\"\"}}],\"contour\":[{\"type\":\"contour\",\"colorbar\":{\"outlinewidth\":0,\"ticks\":\"\"},\"colorscale\":[[0.0,\"#0d0887\"],[0.1111111111111111,\"#46039f\"],[0.2222222222222222,\"#7201a8\"],[0.3333333333333333,\"#9c179e\"],[0.4444444444444444,\"#bd3786\"],[0.5555555555555556,\"#d8576b\"],[0.6666666666666666,\"#ed7953\"],[0.7777777777777778,\"#fb9f3a\"],[0.8888888888888888,\"#fdca26\"],[1.0,\"#f0f921\"]]}],\"surface\":[{\"type\":\"surface\",\"colorbar\":{\"outlinewidth\":0,\"ticks\":\"\"},\"colorscale\":[[0.0,\"#0d0887\"],[0.1111111111111111,\"#46039f\"],[0.2222222222222222,\"#7201a8\"],[0.3333333333333333,\"#9c179e\"],[0.4444444444444444,\"#bd3786\"],[0.5555555555555556,\"#d8576b\"],[0.6666666666666666,\"#ed7953\"],[0.7777777777777778,\"#fb9f3a\"],[0.8888888888888888,\"#fdca26\"],[1.0,\"#f0f921\"]]}],\"mesh3d\":[{\"type\":\"mesh3d\",\"colorbar\":{\"outlinewidth\":0,\"ticks\":\"\"}}],\"scatter\":[{\"fillpattern\":{\"fillmode\":\"overlay\",\"size\":10,\"solidity\":0.2},\"type\":\"scatter\"}],\"parcoords\":[{\"type\":\"parcoords\",\"line\":{\"colorbar\":{\"outlinewidth\":0,\"ticks\":\"\"}}}],\"scatterpolargl\":[{\"type\":\"scatterpolargl\",\"marker\":{\"colorbar\":{\"outlinewidth\":0,\"ticks\":\"\"}}}],\"bar\":[{\"error_x\":{\"color\":\"#2a3f5f\"},\"error_y\":{\"color\":\"#2a3f5f\"},\"marker\":{\"line\":{\"color\":\"#E5ECF6\",\"width\":0.5},\"pattern\":{\"fillmode\":\"overlay\",\"size\":10,\"solidity\":0.2}},\"type\":\"bar\"}],\"scattergeo\":[{\"type\":\"scattergeo\",\"marker\":{\"colorbar\":{\"outlinewidth\":0,\"ticks\":\"\"}}}],\"scatterpolar\":[{\"type\":\"scatterpolar\",\"marker\":{\"colorbar\":{\"outlinewidth\":0,\"ticks\":\"\"}}}],\"histogram\":[{\"marker\":{\"pattern\":{\"fillmode\":\"overlay\",\"size\":10,\"solidity\":0.2}},\"type\":\"histogram\"}],\"scattergl\":[{\"type\":\"scattergl\",\"marker\":{\"colorbar\":{\"outlinewidth\":0,\"ticks\":\"\"}}}],\"scatter3d\":[{\"type\":\"scatter3d\",\"line\":{\"colorbar\":{\"outlinewidth\":0,\"ticks\":\"\"}},\"marker\":{\"colorbar\":{\"outlinewidth\":0,\"ticks\":\"\"}}}],\"scattermapbox\":[{\"type\":\"scattermapbox\",\"marker\":{\"colorbar\":{\"outlinewidth\":0,\"ticks\":\"\"}}}],\"scatterternary\":[{\"type\":\"scatterternary\",\"marker\":{\"colorbar\":{\"outlinewidth\":0,\"ticks\":\"\"}}}],\"scattercarpet\":[{\"type\":\"scattercarpet\",\"marker\":{\"colorbar\":{\"outlinewidth\":0,\"ticks\":\"\"}}}],\"carpet\":[{\"aaxis\":{\"endlinecolor\":\"#2a3f5f\",\"gridcolor\":\"white\",\"linecolor\":\"white\",\"minorgridcolor\":\"white\",\"startlinecolor\":\"#2a3f5f\"},\"baxis\":{\"endlinecolor\":\"#2a3f5f\",\"gridcolor\":\"white\",\"linecolor\":\"white\",\"minorgridcolor\":\"white\",\"startlinecolor\":\"#2a3f5f\"},\"type\":\"carpet\"}],\"table\":[{\"cells\":{\"fill\":{\"color\":\"#EBF0F8\"},\"line\":{\"color\":\"white\"}},\"header\":{\"fill\":{\"color\":\"#C8D4E3\"},\"line\":{\"color\":\"white\"}},\"type\":\"table\"}],\"barpolar\":[{\"marker\":{\"line\":{\"color\":\"#E5ECF6\",\"width\":0.5},\"pattern\":{\"fillmode\":\"overlay\",\"size\":10,\"solidity\":0.2}},\"type\":\"barpolar\"}],\"pie\":[{\"automargin\":true,\"type\":\"pie\"}]},\"layout\":{\"autotypenumbers\":\"strict\",\"colorway\":[\"#636efa\",\"#EF553B\",\"#00cc96\",\"#ab63fa\",\"#FFA15A\",\"#19d3f3\",\"#FF6692\",\"#B6E880\",\"#FF97FF\",\"#FECB52\"],\"font\":{\"color\":\"#2a3f5f\"},\"hovermode\":\"closest\",\"hoverlabel\":{\"align\":\"left\"},\"paper_bgcolor\":\"white\",\"plot_bgcolor\":\"#E5ECF6\",\"polar\":{\"bgcolor\":\"#E5ECF6\",\"angularaxis\":{\"gridcolor\":\"white\",\"linecolor\":\"white\",\"ticks\":\"\"},\"radialaxis\":{\"gridcolor\":\"white\",\"linecolor\":\"white\",\"ticks\":\"\"}},\"ternary\":{\"bgcolor\":\"#E5ECF6\",\"aaxis\":{\"gridcolor\":\"white\",\"linecolor\":\"white\",\"ticks\":\"\"},\"baxis\":{\"gridcolor\":\"white\",\"linecolor\":\"white\",\"ticks\":\"\"},\"caxis\":{\"gridcolor\":\"white\",\"linecolor\":\"white\",\"ticks\":\"\"}},\"coloraxis\":{\"colorbar\":{\"outlinewidth\":0,\"ticks\":\"\"}},\"colorscale\":{\"sequential\":[[0.0,\"#0d0887\"],[0.1111111111111111,\"#46039f\"],[0.2222222222222222,\"#7201a8\"],[0.3333333333333333,\"#9c179e\"],[0.4444444444444444,\"#bd3786\"],[0.5555555555555556,\"#d8576b\"],[0.6666666666666666,\"#ed7953\"],[0.7777777777777778,\"#fb9f3a\"],[0.8888888888888888,\"#fdca26\"],[1.0,\"#f0f921\"]],\"sequentialminus\":[[0.0,\"#0d0887\"],[0.1111111111111111,\"#46039f\"],[0.2222222222222222,\"#7201a8\"],[0.3333333333333333,\"#9c179e\"],[0.4444444444444444,\"#bd3786\"],[0.5555555555555556,\"#d8576b\"],[0.6666666666666666,\"#ed7953\"],[0.7777777777777778,\"#fb9f3a\"],[0.8888888888888888,\"#fdca26\"],[1.0,\"#f0f921\"]],\"diverging\":[[0,\"#8e0152\"],[0.1,\"#c51b7d\"],[0.2,\"#de77ae\"],[0.3,\"#f1b6da\"],[0.4,\"#fde0ef\"],[0.5,\"#f7f7f7\"],[0.6,\"#e6f5d0\"],[0.7,\"#b8e186\"],[0.8,\"#7fbc41\"],[0.9,\"#4d9221\"],[1,\"#276419\"]]},\"xaxis\":{\"gridcolor\":\"white\",\"linecolor\":\"white\",\"ticks\":\"\",\"title\":{\"standoff\":15},\"zerolinecolor\":\"white\",\"automargin\":true,\"zerolinewidth\":2},\"yaxis\":{\"gridcolor\":\"white\",\"linecolor\":\"white\",\"ticks\":\"\",\"title\":{\"standoff\":15},\"zerolinecolor\":\"white\",\"automargin\":true,\"zerolinewidth\":2},\"scene\":{\"xaxis\":{\"backgroundcolor\":\"#E5ECF6\",\"gridcolor\":\"white\",\"linecolor\":\"white\",\"showbackground\":true,\"ticks\":\"\",\"zerolinecolor\":\"white\",\"gridwidth\":2},\"yaxis\":{\"backgroundcolor\":\"#E5ECF6\",\"gridcolor\":\"white\",\"linecolor\":\"white\",\"showbackground\":true,\"ticks\":\"\",\"zerolinecolor\":\"white\",\"gridwidth\":2},\"zaxis\":{\"backgroundcolor\":\"#E5ECF6\",\"gridcolor\":\"white\",\"linecolor\":\"white\",\"showbackground\":true,\"ticks\":\"\",\"zerolinecolor\":\"white\",\"gridwidth\":2}},\"shapedefaults\":{\"line\":{\"color\":\"#2a3f5f\"}},\"annotationdefaults\":{\"arrowcolor\":\"#2a3f5f\",\"arrowhead\":0,\"arrowwidth\":1},\"geo\":{\"bgcolor\":\"white\",\"landcolor\":\"#E5ECF6\",\"subunitcolor\":\"white\",\"showland\":true,\"showlakes\":true,\"lakecolor\":\"white\"},\"title\":{\"x\":0.05},\"mapbox\":{\"style\":\"light\"}}},\"xaxis\":{\"anchor\":\"y\",\"domain\":[0.0,1.0],\"title\":{\"text\":\"Iter\"}},\"yaxis\":{\"anchor\":\"x\",\"domain\":[0.0,1.0],\"title\":{\"text\":\"AverageValue\"}},\"legend\":{\"title\":{\"text\":\"Drv\"},\"tracegroupgap\":0},\"margin\":{\"t\":60}},                        {\"responsive\": true}                    ).then(function(){\n",
              "                            \n",
              "var gd = document.getElementById('bd4aad2e-4df6-446a-a822-36122f562c94');\n",
              "var x = new MutationObserver(function (mutations, observer) {{\n",
              "        var display = window.getComputedStyle(gd).display;\n",
              "        if (!display || display === 'none') {{\n",
              "            console.log([gd, 'removed!']);\n",
              "            Plotly.purge(gd);\n",
              "            observer.disconnect();\n",
              "        }}\n",
              "}});\n",
              "\n",
              "// Listen for the removal of the full notebook cells\n",
              "var notebookContainer = gd.closest('#notebook-container');\n",
              "if (notebookContainer) {{\n",
              "    x.observe(notebookContainer, {childList: true});\n",
              "}}\n",
              "\n",
              "// Listen for the clearing of the current output cell\n",
              "var outputEl = gd.closest('.output');\n",
              "if (outputEl) {{\n",
              "    x.observe(outputEl, {childList: true});\n",
              "}}\n",
              "\n",
              "                        })                };                            </script>        </div>\n",
              "</body>\n",
              "</html>"
            ]
          },
          "metadata": {},
          "output_type": "display_data"
        }
      ],
      "source": [
        "import plotly.express as px\n",
        "dat = grp_obs_loss[grp_obs_loss['Drv'].isin(drv_1)]\n",
        "fig = px.line(dat, x = 'Iter', y = 'AverageValue', color = 'Drv')\n",
        "fig.show()"
      ]
    },
    {
      "cell_type": "markdown",
      "metadata": {
        "id": "sYukk0UWXG5M"
      },
      "source": [
        "We will analysis error values that are above 800."
      ]
    },
    {
      "cell_type": "markdown",
      "metadata": {
        "id": "ssjWCAUiXN0B"
      },
      "source": [
        "## 1. Sainz"
      ]
    },
    {
      "cell_type": "markdown",
      "metadata": {
        "id": "p4i6qwfFXPWT"
      },
      "source": [
        "Predition for Sainz did well overall, however there were significant peaks in the following laps: 15, 29 and 56.\n",
        "\n",
        "Apart from 29 the laps 15 and 56 had something in common, the predicted values were decreasing at around 0.07 - 0.08. This could be attributed to the fact that drivers who DNFed all failed at around this distance.\n"
      ]
    },
    {
      "cell_type": "markdown",
      "metadata": {
        "id": "hVcmt9XFctBQ"
      },
      "source": [
        "## 2. Alonso"
      ]
    },
    {
      "cell_type": "markdown",
      "metadata": {
        "id": "h0jsmn8Xcx4o"
      },
      "source": [
        "Prediction for Alonso was consistent and well overall, however there was a significant peak in error at the 2nd and 19th iteration (15th lap, 48th lap).\n",
        "\n",
        "The model had issues with jumping from the end of the lap to the start of the lap. This may be attributed to the fact that there are only 57 time stamps where this was occuring."
      ]
    },
    {
      "cell_type": "markdown",
      "metadata": {
        "id": "I7BmrThAmLTg"
      },
      "source": [
        "## 3. Perez"
      ]
    },
    {
      "cell_type": "markdown",
      "metadata": {
        "id": "-gBoWoqcmOdR"
      },
      "source": [
        "Predictions for Perez was also consistent and well overall. However, significant error values were shown for iteration 8, 15 and 22.\n",
        "\n",
        "Iteration 8 and 22 had the same reason for its error values as Alonso and Sainz. The Model could not transition from 0.9 to 0.0."
      ]
    },
    {
      "cell_type": "markdown",
      "metadata": {
        "id": "dsisH5Smn9Ak"
      },
      "source": [
        "# 4. Verstappen\n",
        "\n",
        "Predictions for Verstappen had the most volatility in terms of error. Iterations 12, 17, 22 were all due to the model's inability to adapt to the end of the lap and the beginning of the next lap.\n",
        "\n",
        "Iteration 19's error was however notable, as this was when Perez and Verstappen changed positions this may have been due to a team strategic move something the model cannot capture and was not intended to capture."
      ]
    },
    {
      "cell_type": "markdown",
      "metadata": {
        "id": "bjjoAuDbeAkD"
      },
      "source": [
        "# The second group"
      ]
    },
    {
      "cell_type": "code",
      "execution_count": 207,
      "metadata": {
        "colab": {
          "base_uri": "https://localhost:8080/",
          "height": 542
        },
        "id": "SOlOj_w-VOWV",
        "outputId": "c9fd00f9-6667-4c23-91c8-01f73eeacf2e"
      },
      "outputs": [
        {
          "data": {
            "text/html": [
              "<html>\n",
              "<head><meta charset=\"utf-8\" /></head>\n",
              "<body>\n",
              "    <div>            <script src=\"https://cdnjs.cloudflare.com/ajax/libs/mathjax/2.7.5/MathJax.js?config=TeX-AMS-MML_SVG\"></script><script type=\"text/javascript\">if (window.MathJax && window.MathJax.Hub && window.MathJax.Hub.Config) {window.MathJax.Hub.Config({SVG: {font: \"STIX-Web\"}});}</script>                <script type=\"text/javascript\">window.PlotlyConfig = {MathJaxConfig: 'local'};</script>\n",
              "        <script charset=\"utf-8\" src=\"https://cdn.plot.ly/plotly-2.24.1.min.js\"></script>                <div id=\"719e2281-aee8-494a-a2f7-631216dce9e5\" class=\"plotly-graph-div\" style=\"height:525px; width:100%;\"></div>            <script type=\"text/javascript\">                                    window.PLOTLYENV=window.PLOTLYENV || {};                                    if (document.getElementById(\"719e2281-aee8-494a-a2f7-631216dce9e5\")) {                    Plotly.newPlot(                        \"719e2281-aee8-494a-a2f7-631216dce9e5\",                        [{\"hovertemplate\":\"Drv=ALB\\u003cbr\\u003eIter=%{x}\\u003cbr\\u003eAverageValue=%{y}\\u003cextra\\u003e\\u003c\\u002fextra\\u003e\",\"legendgroup\":\"ALB\",\"line\":{\"color\":\"#636efa\",\"dash\":\"solid\"},\"marker\":{\"symbol\":\"circle\"},\"mode\":\"lines\",\"name\":\"ALB\",\"orientation\":\"v\",\"showlegend\":true,\"x\":[0,1,2,3,4,5,6,7,8,9,10,11,12,13,14,15,16,17,18,19,20,21,22,23,24,25,26,27,28],\"xaxis\":\"x\",\"y\":[13.146880149841309,21.495376586914062,100.59671020507812,61.1715087890625,29.06460189819336,31.912487030029297,86.70669555664062,145.46893310546875,725.0128784179688,529.5770874023438,99.81558227539062,35.79787826538086,113.22412872314453,23.523948669433594,66.80891418457031,57.24563980102539,27.543424606323242,517.7782592773438,51.10367202758789,80.33733367919922,151.60569763183594,38.0491828918457,88.48814392089844,56.658782958984375,102.04730224609375,298.3084716796875,214.5497283935547,100.16340637207031,60.604557037353516],\"yaxis\":\"y\",\"type\":\"scatter\"},{\"hovertemplate\":\"Drv=BOT\\u003cbr\\u003eIter=%{x}\\u003cbr\\u003eAverageValue=%{y}\\u003cextra\\u003e\\u003c\\u002fextra\\u003e\",\"legendgroup\":\"BOT\",\"line\":{\"color\":\"#EF553B\",\"dash\":\"solid\"},\"marker\":{\"symbol\":\"circle\"},\"mode\":\"lines\",\"name\":\"BOT\",\"orientation\":\"v\",\"showlegend\":true,\"x\":[0,1,2,3,4,5,6,7,8,9,10,11,12,13,14,15,16,17,18,19,20,21,22,23,24,25,26,27,28],\"xaxis\":\"x\",\"y\":[47.15126419067383,55.28169250488281,393.3303527832031,108.3560562133789,94.40450286865234,79.05375671386719,41.650028228759766,64.8567886352539,108.8246841430664,634.1140747070312,788.6546020507812,118.36660766601562,82.7247085571289,68.99886322021484,156.67523193359375,72.35901641845703,43.01316452026367,85.2001724243164,50.42243957519531,93.84709930419922,72.2606430053711,131.2037353515625,206.8820343017578,67.69648742675781,53.0421257019043,213.3939971923828,201.3707275390625,83.36903381347656,82.37559509277344],\"yaxis\":\"y\",\"type\":\"scatter\"},{\"hovertemplate\":\"Drv=GAS\\u003cbr\\u003eIter=%{x}\\u003cbr\\u003eAverageValue=%{y}\\u003cextra\\u003e\\u003c\\u002fextra\\u003e\",\"legendgroup\":\"GAS\",\"line\":{\"color\":\"#00cc96\",\"dash\":\"solid\"},\"marker\":{\"symbol\":\"circle\"},\"mode\":\"lines\",\"name\":\"GAS\",\"orientation\":\"v\",\"showlegend\":true,\"x\":[0,1,2,3,4,5,6,7,8,9,10,11,12,13,14,15,16,17,18,19,20,21,22,23,24,25,26,27,28],\"xaxis\":\"x\",\"y\":[48.81202697753906,58.503787994384766,418.96173095703125,247.86741638183594,47.41627502441406,48.64841842651367,37.322017669677734,263.71075439453125,337.0355224609375,701.112060546875,120.21736145019531,51.02418518066406,147.94003295898438,37.54743576049805,70.69390106201172,80.6850814819336,47.87067413330078,521.3965454101562,29.269075393676758,126.46327209472656,84.24884796142578,32.19866943359375,866.1517333984375,44.199947357177734,25.960039138793945,926.3036499023438,343.0845031738281,143.16952514648438,116.09339904785156],\"yaxis\":\"y\",\"type\":\"scatter\"},{\"hovertemplate\":\"Drv=RUS\\u003cbr\\u003eIter=%{x}\\u003cbr\\u003eAverageValue=%{y}\\u003cextra\\u003e\\u003c\\u002fextra\\u003e\",\"legendgroup\":\"RUS\",\"line\":{\"color\":\"#ab63fa\",\"dash\":\"solid\"},\"marker\":{\"symbol\":\"circle\"},\"mode\":\"lines\",\"name\":\"RUS\",\"orientation\":\"v\",\"showlegend\":true,\"x\":[0,1,2,3,4,5,6,7,8,9,10,11,12,13,14,15,16,17,18,19,20,21,22,23,24,25,26,27,28],\"xaxis\":\"x\",\"y\":[77.49501037597656,47.30107879638672,417.1055908203125,154.01998901367188,144.8976593017578,212.72586059570312,114.77741241455078,64.77090454101562,161.18284606933594,106.8822250366211,69.7699203491211,74.67475891113281,815.324462890625,39.40032958984375,201.6836700439453,83.35397338867188,96.63731384277344,119.97509765625,127.93567657470703,211.5413818359375,76.53498840332031,83.30206298828125,203.23104858398438,72.07077026367188,47.54380798339844,190.74720764160156,208.77236938476562,153.23036193847656,268.8763427734375],\"yaxis\":\"y\",\"type\":\"scatter\"},{\"hovertemplate\":\"Drv=STR\\u003cbr\\u003eIter=%{x}\\u003cbr\\u003eAverageValue=%{y}\\u003cextra\\u003e\\u003c\\u002fextra\\u003e\",\"legendgroup\":\"STR\",\"line\":{\"color\":\"#FFA15A\",\"dash\":\"solid\"},\"marker\":{\"symbol\":\"circle\"},\"mode\":\"lines\",\"name\":\"STR\",\"orientation\":\"v\",\"showlegend\":true,\"x\":[0,1,2,3,4,5,6,7,8,9,10,11,12,13,14,15,16,17,18,19,20,21,22,23,24,25,26,27,28],\"xaxis\":\"x\",\"y\":[94.94837951660156,47.57891082763672,294.29168701171875,187.0709228515625,170.73960876464844,904.1646728515625,124.01014709472656,45.1523323059082,181.02804565429688,106.77201080322266,114.801025390625,86.25774383544922,75.12495422363281,69.56523132324219,175.0454864501953,29.698200225830078,73.41371154785156,160.98721313476562,150.5906982421875,432.3116149902344,68.69129943847656,127.83914947509766,294.3224792480469,159.3734893798828,57.018577575683594,122.5673828125,614.5333862304688,160.4448699951172,1015.6506958007812],\"yaxis\":\"y\",\"type\":\"scatter\"}],                        {\"template\":{\"data\":{\"histogram2dcontour\":[{\"type\":\"histogram2dcontour\",\"colorbar\":{\"outlinewidth\":0,\"ticks\":\"\"},\"colorscale\":[[0.0,\"#0d0887\"],[0.1111111111111111,\"#46039f\"],[0.2222222222222222,\"#7201a8\"],[0.3333333333333333,\"#9c179e\"],[0.4444444444444444,\"#bd3786\"],[0.5555555555555556,\"#d8576b\"],[0.6666666666666666,\"#ed7953\"],[0.7777777777777778,\"#fb9f3a\"],[0.8888888888888888,\"#fdca26\"],[1.0,\"#f0f921\"]]}],\"choropleth\":[{\"type\":\"choropleth\",\"colorbar\":{\"outlinewidth\":0,\"ticks\":\"\"}}],\"histogram2d\":[{\"type\":\"histogram2d\",\"colorbar\":{\"outlinewidth\":0,\"ticks\":\"\"},\"colorscale\":[[0.0,\"#0d0887\"],[0.1111111111111111,\"#46039f\"],[0.2222222222222222,\"#7201a8\"],[0.3333333333333333,\"#9c179e\"],[0.4444444444444444,\"#bd3786\"],[0.5555555555555556,\"#d8576b\"],[0.6666666666666666,\"#ed7953\"],[0.7777777777777778,\"#fb9f3a\"],[0.8888888888888888,\"#fdca26\"],[1.0,\"#f0f921\"]]}],\"heatmap\":[{\"type\":\"heatmap\",\"colorbar\":{\"outlinewidth\":0,\"ticks\":\"\"},\"colorscale\":[[0.0,\"#0d0887\"],[0.1111111111111111,\"#46039f\"],[0.2222222222222222,\"#7201a8\"],[0.3333333333333333,\"#9c179e\"],[0.4444444444444444,\"#bd3786\"],[0.5555555555555556,\"#d8576b\"],[0.6666666666666666,\"#ed7953\"],[0.7777777777777778,\"#fb9f3a\"],[0.8888888888888888,\"#fdca26\"],[1.0,\"#f0f921\"]]}],\"heatmapgl\":[{\"type\":\"heatmapgl\",\"colorbar\":{\"outlinewidth\":0,\"ticks\":\"\"},\"colorscale\":[[0.0,\"#0d0887\"],[0.1111111111111111,\"#46039f\"],[0.2222222222222222,\"#7201a8\"],[0.3333333333333333,\"#9c179e\"],[0.4444444444444444,\"#bd3786\"],[0.5555555555555556,\"#d8576b\"],[0.6666666666666666,\"#ed7953\"],[0.7777777777777778,\"#fb9f3a\"],[0.8888888888888888,\"#fdca26\"],[1.0,\"#f0f921\"]]}],\"contourcarpet\":[{\"type\":\"contourcarpet\",\"colorbar\":{\"outlinewidth\":0,\"ticks\":\"\"}}],\"contour\":[{\"type\":\"contour\",\"colorbar\":{\"outlinewidth\":0,\"ticks\":\"\"},\"colorscale\":[[0.0,\"#0d0887\"],[0.1111111111111111,\"#46039f\"],[0.2222222222222222,\"#7201a8\"],[0.3333333333333333,\"#9c179e\"],[0.4444444444444444,\"#bd3786\"],[0.5555555555555556,\"#d8576b\"],[0.6666666666666666,\"#ed7953\"],[0.7777777777777778,\"#fb9f3a\"],[0.8888888888888888,\"#fdca26\"],[1.0,\"#f0f921\"]]}],\"surface\":[{\"type\":\"surface\",\"colorbar\":{\"outlinewidth\":0,\"ticks\":\"\"},\"colorscale\":[[0.0,\"#0d0887\"],[0.1111111111111111,\"#46039f\"],[0.2222222222222222,\"#7201a8\"],[0.3333333333333333,\"#9c179e\"],[0.4444444444444444,\"#bd3786\"],[0.5555555555555556,\"#d8576b\"],[0.6666666666666666,\"#ed7953\"],[0.7777777777777778,\"#fb9f3a\"],[0.8888888888888888,\"#fdca26\"],[1.0,\"#f0f921\"]]}],\"mesh3d\":[{\"type\":\"mesh3d\",\"colorbar\":{\"outlinewidth\":0,\"ticks\":\"\"}}],\"scatter\":[{\"fillpattern\":{\"fillmode\":\"overlay\",\"size\":10,\"solidity\":0.2},\"type\":\"scatter\"}],\"parcoords\":[{\"type\":\"parcoords\",\"line\":{\"colorbar\":{\"outlinewidth\":0,\"ticks\":\"\"}}}],\"scatterpolargl\":[{\"type\":\"scatterpolargl\",\"marker\":{\"colorbar\":{\"outlinewidth\":0,\"ticks\":\"\"}}}],\"bar\":[{\"error_x\":{\"color\":\"#2a3f5f\"},\"error_y\":{\"color\":\"#2a3f5f\"},\"marker\":{\"line\":{\"color\":\"#E5ECF6\",\"width\":0.5},\"pattern\":{\"fillmode\":\"overlay\",\"size\":10,\"solidity\":0.2}},\"type\":\"bar\"}],\"scattergeo\":[{\"type\":\"scattergeo\",\"marker\":{\"colorbar\":{\"outlinewidth\":0,\"ticks\":\"\"}}}],\"scatterpolar\":[{\"type\":\"scatterpolar\",\"marker\":{\"colorbar\":{\"outlinewidth\":0,\"ticks\":\"\"}}}],\"histogram\":[{\"marker\":{\"pattern\":{\"fillmode\":\"overlay\",\"size\":10,\"solidity\":0.2}},\"type\":\"histogram\"}],\"scattergl\":[{\"type\":\"scattergl\",\"marker\":{\"colorbar\":{\"outlinewidth\":0,\"ticks\":\"\"}}}],\"scatter3d\":[{\"type\":\"scatter3d\",\"line\":{\"colorbar\":{\"outlinewidth\":0,\"ticks\":\"\"}},\"marker\":{\"colorbar\":{\"outlinewidth\":0,\"ticks\":\"\"}}}],\"scattermapbox\":[{\"type\":\"scattermapbox\",\"marker\":{\"colorbar\":{\"outlinewidth\":0,\"ticks\":\"\"}}}],\"scatterternary\":[{\"type\":\"scatterternary\",\"marker\":{\"colorbar\":{\"outlinewidth\":0,\"ticks\":\"\"}}}],\"scattercarpet\":[{\"type\":\"scattercarpet\",\"marker\":{\"colorbar\":{\"outlinewidth\":0,\"ticks\":\"\"}}}],\"carpet\":[{\"aaxis\":{\"endlinecolor\":\"#2a3f5f\",\"gridcolor\":\"white\",\"linecolor\":\"white\",\"minorgridcolor\":\"white\",\"startlinecolor\":\"#2a3f5f\"},\"baxis\":{\"endlinecolor\":\"#2a3f5f\",\"gridcolor\":\"white\",\"linecolor\":\"white\",\"minorgridcolor\":\"white\",\"startlinecolor\":\"#2a3f5f\"},\"type\":\"carpet\"}],\"table\":[{\"cells\":{\"fill\":{\"color\":\"#EBF0F8\"},\"line\":{\"color\":\"white\"}},\"header\":{\"fill\":{\"color\":\"#C8D4E3\"},\"line\":{\"color\":\"white\"}},\"type\":\"table\"}],\"barpolar\":[{\"marker\":{\"line\":{\"color\":\"#E5ECF6\",\"width\":0.5},\"pattern\":{\"fillmode\":\"overlay\",\"size\":10,\"solidity\":0.2}},\"type\":\"barpolar\"}],\"pie\":[{\"automargin\":true,\"type\":\"pie\"}]},\"layout\":{\"autotypenumbers\":\"strict\",\"colorway\":[\"#636efa\",\"#EF553B\",\"#00cc96\",\"#ab63fa\",\"#FFA15A\",\"#19d3f3\",\"#FF6692\",\"#B6E880\",\"#FF97FF\",\"#FECB52\"],\"font\":{\"color\":\"#2a3f5f\"},\"hovermode\":\"closest\",\"hoverlabel\":{\"align\":\"left\"},\"paper_bgcolor\":\"white\",\"plot_bgcolor\":\"#E5ECF6\",\"polar\":{\"bgcolor\":\"#E5ECF6\",\"angularaxis\":{\"gridcolor\":\"white\",\"linecolor\":\"white\",\"ticks\":\"\"},\"radialaxis\":{\"gridcolor\":\"white\",\"linecolor\":\"white\",\"ticks\":\"\"}},\"ternary\":{\"bgcolor\":\"#E5ECF6\",\"aaxis\":{\"gridcolor\":\"white\",\"linecolor\":\"white\",\"ticks\":\"\"},\"baxis\":{\"gridcolor\":\"white\",\"linecolor\":\"white\",\"ticks\":\"\"},\"caxis\":{\"gridcolor\":\"white\",\"linecolor\":\"white\",\"ticks\":\"\"}},\"coloraxis\":{\"colorbar\":{\"outlinewidth\":0,\"ticks\":\"\"}},\"colorscale\":{\"sequential\":[[0.0,\"#0d0887\"],[0.1111111111111111,\"#46039f\"],[0.2222222222222222,\"#7201a8\"],[0.3333333333333333,\"#9c179e\"],[0.4444444444444444,\"#bd3786\"],[0.5555555555555556,\"#d8576b\"],[0.6666666666666666,\"#ed7953\"],[0.7777777777777778,\"#fb9f3a\"],[0.8888888888888888,\"#fdca26\"],[1.0,\"#f0f921\"]],\"sequentialminus\":[[0.0,\"#0d0887\"],[0.1111111111111111,\"#46039f\"],[0.2222222222222222,\"#7201a8\"],[0.3333333333333333,\"#9c179e\"],[0.4444444444444444,\"#bd3786\"],[0.5555555555555556,\"#d8576b\"],[0.6666666666666666,\"#ed7953\"],[0.7777777777777778,\"#fb9f3a\"],[0.8888888888888888,\"#fdca26\"],[1.0,\"#f0f921\"]],\"diverging\":[[0,\"#8e0152\"],[0.1,\"#c51b7d\"],[0.2,\"#de77ae\"],[0.3,\"#f1b6da\"],[0.4,\"#fde0ef\"],[0.5,\"#f7f7f7\"],[0.6,\"#e6f5d0\"],[0.7,\"#b8e186\"],[0.8,\"#7fbc41\"],[0.9,\"#4d9221\"],[1,\"#276419\"]]},\"xaxis\":{\"gridcolor\":\"white\",\"linecolor\":\"white\",\"ticks\":\"\",\"title\":{\"standoff\":15},\"zerolinecolor\":\"white\",\"automargin\":true,\"zerolinewidth\":2},\"yaxis\":{\"gridcolor\":\"white\",\"linecolor\":\"white\",\"ticks\":\"\",\"title\":{\"standoff\":15},\"zerolinecolor\":\"white\",\"automargin\":true,\"zerolinewidth\":2},\"scene\":{\"xaxis\":{\"backgroundcolor\":\"#E5ECF6\",\"gridcolor\":\"white\",\"linecolor\":\"white\",\"showbackground\":true,\"ticks\":\"\",\"zerolinecolor\":\"white\",\"gridwidth\":2},\"yaxis\":{\"backgroundcolor\":\"#E5ECF6\",\"gridcolor\":\"white\",\"linecolor\":\"white\",\"showbackground\":true,\"ticks\":\"\",\"zerolinecolor\":\"white\",\"gridwidth\":2},\"zaxis\":{\"backgroundcolor\":\"#E5ECF6\",\"gridcolor\":\"white\",\"linecolor\":\"white\",\"showbackground\":true,\"ticks\":\"\",\"zerolinecolor\":\"white\",\"gridwidth\":2}},\"shapedefaults\":{\"line\":{\"color\":\"#2a3f5f\"}},\"annotationdefaults\":{\"arrowcolor\":\"#2a3f5f\",\"arrowhead\":0,\"arrowwidth\":1},\"geo\":{\"bgcolor\":\"white\",\"landcolor\":\"#E5ECF6\",\"subunitcolor\":\"white\",\"showland\":true,\"showlakes\":true,\"lakecolor\":\"white\"},\"title\":{\"x\":0.05},\"mapbox\":{\"style\":\"light\"}}},\"xaxis\":{\"anchor\":\"y\",\"domain\":[0.0,1.0],\"title\":{\"text\":\"Iter\"}},\"yaxis\":{\"anchor\":\"x\",\"domain\":[0.0,1.0],\"title\":{\"text\":\"AverageValue\"}},\"legend\":{\"title\":{\"text\":\"Drv\"},\"tracegroupgap\":0},\"margin\":{\"t\":60}},                        {\"responsive\": true}                    ).then(function(){\n",
              "                            \n",
              "var gd = document.getElementById('719e2281-aee8-494a-a2f7-631216dce9e5');\n",
              "var x = new MutationObserver(function (mutations, observer) {{\n",
              "        var display = window.getComputedStyle(gd).display;\n",
              "        if (!display || display === 'none') {{\n",
              "            console.log([gd, 'removed!']);\n",
              "            Plotly.purge(gd);\n",
              "            observer.disconnect();\n",
              "        }}\n",
              "}});\n",
              "\n",
              "// Listen for the removal of the full notebook cells\n",
              "var notebookContainer = gd.closest('#notebook-container');\n",
              "if (notebookContainer) {{\n",
              "    x.observe(notebookContainer, {childList: true});\n",
              "}}\n",
              "\n",
              "// Listen for the clearing of the current output cell\n",
              "var outputEl = gd.closest('.output');\n",
              "if (outputEl) {{\n",
              "    x.observe(outputEl, {childList: true});\n",
              "}}\n",
              "\n",
              "                        })                };                            </script>        </div>\n",
              "</body>\n",
              "</html>"
            ]
          },
          "metadata": {},
          "output_type": "display_data"
        }
      ],
      "source": [
        "dat = grp_obs_loss[grp_obs_loss['Drv'].isin(drv_2)]\n",
        "fig = px.line(dat, x = 'Iter', y = 'AverageValue', color = 'Drv')\n",
        "fig.show()"
      ]
    },
    {
      "cell_type": "markdown",
      "metadata": {
        "id": "s6oOCd7epJ6N"
      },
      "source": [
        "The second group prediction worked out a lot better than the first group overall with 4 points of error values above 800. All points occurred mid track and were due to unexplained variances."
      ]
    },
    {
      "cell_type": "markdown",
      "metadata": {
        "id": "6IKWtYe5tl7d"
      },
      "source": [
        "# 3. Group 3"
      ]
    },
    {
      "cell_type": "code",
      "execution_count": 232,
      "metadata": {
        "colab": {
          "base_uri": "https://localhost:8080/",
          "height": 542
        },
        "id": "U8xeDTPQVB5O",
        "outputId": "a739ab23-5a95-4af3-ee72-9aa67e5a8e14"
      },
      "outputs": [
        {
          "data": {
            "text/html": [
              "<html>\n",
              "<head><meta charset=\"utf-8\" /></head>\n",
              "<body>\n",
              "    <div>            <script src=\"https://cdnjs.cloudflare.com/ajax/libs/mathjax/2.7.5/MathJax.js?config=TeX-AMS-MML_SVG\"></script><script type=\"text/javascript\">if (window.MathJax && window.MathJax.Hub && window.MathJax.Hub.Config) {window.MathJax.Hub.Config({SVG: {font: \"STIX-Web\"}});}</script>                <script type=\"text/javascript\">window.PlotlyConfig = {MathJaxConfig: 'local'};</script>\n",
              "        <script charset=\"utf-8\" src=\"https://cdn.plot.ly/plotly-2.24.1.min.js\"></script>                <div id=\"f2ca1591-bab2-4183-a626-4d1bc2202768\" class=\"plotly-graph-div\" style=\"height:525px; width:100%;\"></div>            <script type=\"text/javascript\">                                    window.PLOTLYENV=window.PLOTLYENV || {};                                    if (document.getElementById(\"f2ca1591-bab2-4183-a626-4d1bc2202768\")) {                    Plotly.newPlot(                        \"f2ca1591-bab2-4183-a626-4d1bc2202768\",                        [{\"hovertemplate\":\"Drv=DEV\\u003cbr\\u003eIter=%{x}\\u003cbr\\u003eAverageValue=%{y}\\u003cextra\\u003e\\u003c\\u002fextra\\u003e\",\"legendgroup\":\"DEV\",\"line\":{\"color\":\"#636efa\",\"dash\":\"solid\"},\"marker\":{\"symbol\":\"circle\"},\"mode\":\"lines\",\"name\":\"DEV\",\"orientation\":\"v\",\"showlegend\":true,\"x\":[0,1,2,3,4,5,6,7,8,9,10,11,12,13,14,15,16,17,18,19,20,21,22,23,24,25,26,27,28],\"xaxis\":\"x\",\"y\":[43.4951171875,40.76708984375,230.5601806640625,66.46489715576172,403.5138244628906,181.85060119628906,33.18726348876953,68.66712188720703,526.6239624023438,133.7913818359375,1252.6175537109375,87.0140609741211,646.8564453125,38.3838996887207,69.6662826538086,158.48373413085938,69.88363647460938,310.55804443359375,29.349750518798828,84.91751861572266,59.63160705566406,1314.8106689453125,95.21066284179688,71.8365478515625,98.29025268554688,106.9646987915039,43.585426330566406,231.98724365234375,132.82852172851562],\"yaxis\":\"y\",\"type\":\"scatter\"},{\"hovertemplate\":\"Drv=MAG\\u003cbr\\u003eIter=%{x}\\u003cbr\\u003eAverageValue=%{y}\\u003cextra\\u003e\\u003c\\u002fextra\\u003e\",\"legendgroup\":\"MAG\",\"line\":{\"color\":\"#EF553B\",\"dash\":\"solid\"},\"marker\":{\"symbol\":\"circle\"},\"mode\":\"lines\",\"name\":\"MAG\",\"orientation\":\"v\",\"showlegend\":true,\"x\":[0,1,2,3,4,5,6,7,8,9,10,11,12,13,14,15,16,17,18,19,20,21,22,23,24,25,26,27,28],\"xaxis\":\"x\",\"y\":[16.379762649536133,33.71303939819336,193.7041473388672,184.38136291503906,464.08148193359375,1029.786376953125,40.43019104003906,59.858272552490234,142.26531982421875,654.4760131835938,50.942344665527344,84.98823547363281,68.47168731689453,19.749691009521484,76.55461120605469,152.31089782714844,104.43466186523438,1191.44482421875,57.73479080200195,444.9984130859375,52.313560485839844,30.415328979492188,119.60603332519531,101.2578353881836,47.71818923950195,175.72802734375,192.53253173828125,116.92571258544922,81.54170227050781],\"yaxis\":\"y\",\"type\":\"scatter\"},{\"hovertemplate\":\"Drv=SAR\\u003cbr\\u003eIter=%{x}\\u003cbr\\u003eAverageValue=%{y}\\u003cextra\\u003e\\u003c\\u002fextra\\u003e\",\"legendgroup\":\"SAR\",\"line\":{\"color\":\"#00cc96\",\"dash\":\"solid\"},\"marker\":{\"symbol\":\"circle\"},\"mode\":\"lines\",\"name\":\"SAR\",\"orientation\":\"v\",\"showlegend\":true,\"x\":[0,1,2,3,4,5,6,7,8,9,10,11,12,13,14,15,16,17,18,19,20,21,22,23,24,25,26,27,28],\"xaxis\":\"x\",\"y\":[12.411055564880371,74.6980209350586,758.4784545898438,50.250911712646484,26.165616989135742,62.283817291259766,68.90491485595703,98.2224349975586,81.59805297851562,642.0728759765625,249.09442138671875,46.7633056640625,1291.7293701171875,39.19435119628906,57.73723602294922,51.402584075927734,50.73566818237305,616.9443969726562,33.46237564086914,63.044315338134766,100.5747299194336,152.94752502441406,83.28961181640625,381.2818298339844,85.67149353027344,36.2842903137207,133.7350616455078,198.5760955810547,1088.5433349609375],\"yaxis\":\"y\",\"type\":\"scatter\"},{\"hovertemplate\":\"Drv=TSU\\u003cbr\\u003eIter=%{x}\\u003cbr\\u003eAverageValue=%{y}\\u003cextra\\u003e\\u003c\\u002fextra\\u003e\",\"legendgroup\":\"TSU\",\"line\":{\"color\":\"#ab63fa\",\"dash\":\"solid\"},\"marker\":{\"symbol\":\"circle\"},\"mode\":\"lines\",\"name\":\"TSU\",\"orientation\":\"v\",\"showlegend\":true,\"x\":[0,1,2,3,4,5,6,7,8,9,10,11,12,13,14,15,16,17,18,19,20,21,22,23,24,25,26,27,28],\"xaxis\":\"x\",\"y\":[12.880536079406738,27.656044006347656,123.17601776123047,64.1347427368164,56.40800857543945,39.03913497924805,69.01056671142578,175.9229278564453,667.013671875,617.9024047851562,119.78146362304688,40.264976501464844,88.88005065917969,40.97026443481445,85.61791229248047,63.77696228027344,40.34016036987305,565.3195190429688,57.574485778808594,93.20986938476562,156.3621368408203,43.53782653808594,386.0738220214844,57.518741607666016,121.1186294555664,289.286865234375,251.47796630859375,75.7379379272461,51.5186653137207],\"yaxis\":\"y\",\"type\":\"scatter\"}],                        {\"template\":{\"data\":{\"histogram2dcontour\":[{\"type\":\"histogram2dcontour\",\"colorbar\":{\"outlinewidth\":0,\"ticks\":\"\"},\"colorscale\":[[0.0,\"#0d0887\"],[0.1111111111111111,\"#46039f\"],[0.2222222222222222,\"#7201a8\"],[0.3333333333333333,\"#9c179e\"],[0.4444444444444444,\"#bd3786\"],[0.5555555555555556,\"#d8576b\"],[0.6666666666666666,\"#ed7953\"],[0.7777777777777778,\"#fb9f3a\"],[0.8888888888888888,\"#fdca26\"],[1.0,\"#f0f921\"]]}],\"choropleth\":[{\"type\":\"choropleth\",\"colorbar\":{\"outlinewidth\":0,\"ticks\":\"\"}}],\"histogram2d\":[{\"type\":\"histogram2d\",\"colorbar\":{\"outlinewidth\":0,\"ticks\":\"\"},\"colorscale\":[[0.0,\"#0d0887\"],[0.1111111111111111,\"#46039f\"],[0.2222222222222222,\"#7201a8\"],[0.3333333333333333,\"#9c179e\"],[0.4444444444444444,\"#bd3786\"],[0.5555555555555556,\"#d8576b\"],[0.6666666666666666,\"#ed7953\"],[0.7777777777777778,\"#fb9f3a\"],[0.8888888888888888,\"#fdca26\"],[1.0,\"#f0f921\"]]}],\"heatmap\":[{\"type\":\"heatmap\",\"colorbar\":{\"outlinewidth\":0,\"ticks\":\"\"},\"colorscale\":[[0.0,\"#0d0887\"],[0.1111111111111111,\"#46039f\"],[0.2222222222222222,\"#7201a8\"],[0.3333333333333333,\"#9c179e\"],[0.4444444444444444,\"#bd3786\"],[0.5555555555555556,\"#d8576b\"],[0.6666666666666666,\"#ed7953\"],[0.7777777777777778,\"#fb9f3a\"],[0.8888888888888888,\"#fdca26\"],[1.0,\"#f0f921\"]]}],\"heatmapgl\":[{\"type\":\"heatmapgl\",\"colorbar\":{\"outlinewidth\":0,\"ticks\":\"\"},\"colorscale\":[[0.0,\"#0d0887\"],[0.1111111111111111,\"#46039f\"],[0.2222222222222222,\"#7201a8\"],[0.3333333333333333,\"#9c179e\"],[0.4444444444444444,\"#bd3786\"],[0.5555555555555556,\"#d8576b\"],[0.6666666666666666,\"#ed7953\"],[0.7777777777777778,\"#fb9f3a\"],[0.8888888888888888,\"#fdca26\"],[1.0,\"#f0f921\"]]}],\"contourcarpet\":[{\"type\":\"contourcarpet\",\"colorbar\":{\"outlinewidth\":0,\"ticks\":\"\"}}],\"contour\":[{\"type\":\"contour\",\"colorbar\":{\"outlinewidth\":0,\"ticks\":\"\"},\"colorscale\":[[0.0,\"#0d0887\"],[0.1111111111111111,\"#46039f\"],[0.2222222222222222,\"#7201a8\"],[0.3333333333333333,\"#9c179e\"],[0.4444444444444444,\"#bd3786\"],[0.5555555555555556,\"#d8576b\"],[0.6666666666666666,\"#ed7953\"],[0.7777777777777778,\"#fb9f3a\"],[0.8888888888888888,\"#fdca26\"],[1.0,\"#f0f921\"]]}],\"surface\":[{\"type\":\"surface\",\"colorbar\":{\"outlinewidth\":0,\"ticks\":\"\"},\"colorscale\":[[0.0,\"#0d0887\"],[0.1111111111111111,\"#46039f\"],[0.2222222222222222,\"#7201a8\"],[0.3333333333333333,\"#9c179e\"],[0.4444444444444444,\"#bd3786\"],[0.5555555555555556,\"#d8576b\"],[0.6666666666666666,\"#ed7953\"],[0.7777777777777778,\"#fb9f3a\"],[0.8888888888888888,\"#fdca26\"],[1.0,\"#f0f921\"]]}],\"mesh3d\":[{\"type\":\"mesh3d\",\"colorbar\":{\"outlinewidth\":0,\"ticks\":\"\"}}],\"scatter\":[{\"fillpattern\":{\"fillmode\":\"overlay\",\"size\":10,\"solidity\":0.2},\"type\":\"scatter\"}],\"parcoords\":[{\"type\":\"parcoords\",\"line\":{\"colorbar\":{\"outlinewidth\":0,\"ticks\":\"\"}}}],\"scatterpolargl\":[{\"type\":\"scatterpolargl\",\"marker\":{\"colorbar\":{\"outlinewidth\":0,\"ticks\":\"\"}}}],\"bar\":[{\"error_x\":{\"color\":\"#2a3f5f\"},\"error_y\":{\"color\":\"#2a3f5f\"},\"marker\":{\"line\":{\"color\":\"#E5ECF6\",\"width\":0.5},\"pattern\":{\"fillmode\":\"overlay\",\"size\":10,\"solidity\":0.2}},\"type\":\"bar\"}],\"scattergeo\":[{\"type\":\"scattergeo\",\"marker\":{\"colorbar\":{\"outlinewidth\":0,\"ticks\":\"\"}}}],\"scatterpolar\":[{\"type\":\"scatterpolar\",\"marker\":{\"colorbar\":{\"outlinewidth\":0,\"ticks\":\"\"}}}],\"histogram\":[{\"marker\":{\"pattern\":{\"fillmode\":\"overlay\",\"size\":10,\"solidity\":0.2}},\"type\":\"histogram\"}],\"scattergl\":[{\"type\":\"scattergl\",\"marker\":{\"colorbar\":{\"outlinewidth\":0,\"ticks\":\"\"}}}],\"scatter3d\":[{\"type\":\"scatter3d\",\"line\":{\"colorbar\":{\"outlinewidth\":0,\"ticks\":\"\"}},\"marker\":{\"colorbar\":{\"outlinewidth\":0,\"ticks\":\"\"}}}],\"scattermapbox\":[{\"type\":\"scattermapbox\",\"marker\":{\"colorbar\":{\"outlinewidth\":0,\"ticks\":\"\"}}}],\"scatterternary\":[{\"type\":\"scatterternary\",\"marker\":{\"colorbar\":{\"outlinewidth\":0,\"ticks\":\"\"}}}],\"scattercarpet\":[{\"type\":\"scattercarpet\",\"marker\":{\"colorbar\":{\"outlinewidth\":0,\"ticks\":\"\"}}}],\"carpet\":[{\"aaxis\":{\"endlinecolor\":\"#2a3f5f\",\"gridcolor\":\"white\",\"linecolor\":\"white\",\"minorgridcolor\":\"white\",\"startlinecolor\":\"#2a3f5f\"},\"baxis\":{\"endlinecolor\":\"#2a3f5f\",\"gridcolor\":\"white\",\"linecolor\":\"white\",\"minorgridcolor\":\"white\",\"startlinecolor\":\"#2a3f5f\"},\"type\":\"carpet\"}],\"table\":[{\"cells\":{\"fill\":{\"color\":\"#EBF0F8\"},\"line\":{\"color\":\"white\"}},\"header\":{\"fill\":{\"color\":\"#C8D4E3\"},\"line\":{\"color\":\"white\"}},\"type\":\"table\"}],\"barpolar\":[{\"marker\":{\"line\":{\"color\":\"#E5ECF6\",\"width\":0.5},\"pattern\":{\"fillmode\":\"overlay\",\"size\":10,\"solidity\":0.2}},\"type\":\"barpolar\"}],\"pie\":[{\"automargin\":true,\"type\":\"pie\"}]},\"layout\":{\"autotypenumbers\":\"strict\",\"colorway\":[\"#636efa\",\"#EF553B\",\"#00cc96\",\"#ab63fa\",\"#FFA15A\",\"#19d3f3\",\"#FF6692\",\"#B6E880\",\"#FF97FF\",\"#FECB52\"],\"font\":{\"color\":\"#2a3f5f\"},\"hovermode\":\"closest\",\"hoverlabel\":{\"align\":\"left\"},\"paper_bgcolor\":\"white\",\"plot_bgcolor\":\"#E5ECF6\",\"polar\":{\"bgcolor\":\"#E5ECF6\",\"angularaxis\":{\"gridcolor\":\"white\",\"linecolor\":\"white\",\"ticks\":\"\"},\"radialaxis\":{\"gridcolor\":\"white\",\"linecolor\":\"white\",\"ticks\":\"\"}},\"ternary\":{\"bgcolor\":\"#E5ECF6\",\"aaxis\":{\"gridcolor\":\"white\",\"linecolor\":\"white\",\"ticks\":\"\"},\"baxis\":{\"gridcolor\":\"white\",\"linecolor\":\"white\",\"ticks\":\"\"},\"caxis\":{\"gridcolor\":\"white\",\"linecolor\":\"white\",\"ticks\":\"\"}},\"coloraxis\":{\"colorbar\":{\"outlinewidth\":0,\"ticks\":\"\"}},\"colorscale\":{\"sequential\":[[0.0,\"#0d0887\"],[0.1111111111111111,\"#46039f\"],[0.2222222222222222,\"#7201a8\"],[0.3333333333333333,\"#9c179e\"],[0.4444444444444444,\"#bd3786\"],[0.5555555555555556,\"#d8576b\"],[0.6666666666666666,\"#ed7953\"],[0.7777777777777778,\"#fb9f3a\"],[0.8888888888888888,\"#fdca26\"],[1.0,\"#f0f921\"]],\"sequentialminus\":[[0.0,\"#0d0887\"],[0.1111111111111111,\"#46039f\"],[0.2222222222222222,\"#7201a8\"],[0.3333333333333333,\"#9c179e\"],[0.4444444444444444,\"#bd3786\"],[0.5555555555555556,\"#d8576b\"],[0.6666666666666666,\"#ed7953\"],[0.7777777777777778,\"#fb9f3a\"],[0.8888888888888888,\"#fdca26\"],[1.0,\"#f0f921\"]],\"diverging\":[[0,\"#8e0152\"],[0.1,\"#c51b7d\"],[0.2,\"#de77ae\"],[0.3,\"#f1b6da\"],[0.4,\"#fde0ef\"],[0.5,\"#f7f7f7\"],[0.6,\"#e6f5d0\"],[0.7,\"#b8e186\"],[0.8,\"#7fbc41\"],[0.9,\"#4d9221\"],[1,\"#276419\"]]},\"xaxis\":{\"gridcolor\":\"white\",\"linecolor\":\"white\",\"ticks\":\"\",\"title\":{\"standoff\":15},\"zerolinecolor\":\"white\",\"automargin\":true,\"zerolinewidth\":2},\"yaxis\":{\"gridcolor\":\"white\",\"linecolor\":\"white\",\"ticks\":\"\",\"title\":{\"standoff\":15},\"zerolinecolor\":\"white\",\"automargin\":true,\"zerolinewidth\":2},\"scene\":{\"xaxis\":{\"backgroundcolor\":\"#E5ECF6\",\"gridcolor\":\"white\",\"linecolor\":\"white\",\"showbackground\":true,\"ticks\":\"\",\"zerolinecolor\":\"white\",\"gridwidth\":2},\"yaxis\":{\"backgroundcolor\":\"#E5ECF6\",\"gridcolor\":\"white\",\"linecolor\":\"white\",\"showbackground\":true,\"ticks\":\"\",\"zerolinecolor\":\"white\",\"gridwidth\":2},\"zaxis\":{\"backgroundcolor\":\"#E5ECF6\",\"gridcolor\":\"white\",\"linecolor\":\"white\",\"showbackground\":true,\"ticks\":\"\",\"zerolinecolor\":\"white\",\"gridwidth\":2}},\"shapedefaults\":{\"line\":{\"color\":\"#2a3f5f\"}},\"annotationdefaults\":{\"arrowcolor\":\"#2a3f5f\",\"arrowhead\":0,\"arrowwidth\":1},\"geo\":{\"bgcolor\":\"white\",\"landcolor\":\"#E5ECF6\",\"subunitcolor\":\"white\",\"showland\":true,\"showlakes\":true,\"lakecolor\":\"white\"},\"title\":{\"x\":0.05},\"mapbox\":{\"style\":\"light\"}}},\"xaxis\":{\"anchor\":\"y\",\"domain\":[0.0,1.0],\"title\":{\"text\":\"Iter\"}},\"yaxis\":{\"anchor\":\"x\",\"domain\":[0.0,1.0],\"title\":{\"text\":\"AverageValue\"}},\"legend\":{\"title\":{\"text\":\"Drv\"},\"tracegroupgap\":0},\"margin\":{\"t\":60}},                        {\"responsive\": true}                    ).then(function(){\n",
              "                            \n",
              "var gd = document.getElementById('f2ca1591-bab2-4183-a626-4d1bc2202768');\n",
              "var x = new MutationObserver(function (mutations, observer) {{\n",
              "        var display = window.getComputedStyle(gd).display;\n",
              "        if (!display || display === 'none') {{\n",
              "            console.log([gd, 'removed!']);\n",
              "            Plotly.purge(gd);\n",
              "            observer.disconnect();\n",
              "        }}\n",
              "}});\n",
              "\n",
              "// Listen for the removal of the full notebook cells\n",
              "var notebookContainer = gd.closest('#notebook-container');\n",
              "if (notebookContainer) {{\n",
              "    x.observe(notebookContainer, {childList: true});\n",
              "}}\n",
              "\n",
              "// Listen for the clearing of the current output cell\n",
              "var outputEl = gd.closest('.output');\n",
              "if (outputEl) {{\n",
              "    x.observe(outputEl, {childList: true});\n",
              "}}\n",
              "\n",
              "                        })                };                            </script>        </div>\n",
              "</body>\n",
              "</html>"
            ]
          },
          "metadata": {},
          "output_type": "display_data"
        }
      ],
      "source": [
        "dat = grp_obs_loss[grp_obs_loss['Drv'].isin(drv_3)]\n",
        "fig = px.line(dat, x = 'Iter', y = 'AverageValue', color = 'Drv')\n",
        "fig.show()"
      ]
    },
    {
      "cell_type": "markdown",
      "metadata": {
        "id": "XfuQPvVjuGPF"
      },
      "source": [
        "## 1. Magnussen\n",
        "\n",
        "At the 17th iteration the beginning of the lap it overestimated\n"
      ]
    },
    {
      "cell_type": "markdown",
      "metadata": {
        "id": "orfnoaGvuQjQ"
      },
      "source": [
        "## 2. Sargeant\n",
        "\n",
        "At the 12th iteration which was at the end of the lap it had the same decreasing prediction problem."
      ]
    },
    {
      "cell_type": "markdown",
      "metadata": {
        "id": "mOmfTmWAu-jy"
      },
      "source": [
        "## 3. De Vrie"
      ]
    },
    {
      "cell_type": "markdown",
      "metadata": {
        "id": "gU9R4cjAvAL9"
      },
      "source": [
        "Both De Vrie's error values were due to the variance of the model's predictions."
      ]
    },
    {
      "cell_type": "markdown",
      "metadata": {
        "id": "sdVMlo-4vIEZ"
      },
      "source": [
        "# 4. Group 4"
      ]
    },
    {
      "cell_type": "code",
      "execution_count": 254,
      "metadata": {
        "colab": {
          "base_uri": "https://localhost:8080/",
          "height": 542
        },
        "id": "uvYNZqAJVeXn",
        "outputId": "5a50865c-7741-4962-af06-706796df66d2"
      },
      "outputs": [
        {
          "data": {
            "text/html": [
              "<html>\n",
              "<head><meta charset=\"utf-8\" /></head>\n",
              "<body>\n",
              "    <div>            <script src=\"https://cdnjs.cloudflare.com/ajax/libs/mathjax/2.7.5/MathJax.js?config=TeX-AMS-MML_SVG\"></script><script type=\"text/javascript\">if (window.MathJax && window.MathJax.Hub && window.MathJax.Hub.Config) {window.MathJax.Hub.Config({SVG: {font: \"STIX-Web\"}});}</script>                <script type=\"text/javascript\">window.PlotlyConfig = {MathJaxConfig: 'local'};</script>\n",
              "        <script charset=\"utf-8\" src=\"https://cdn.plot.ly/plotly-2.24.1.min.js\"></script>                <div id=\"6bea55d1-ddcb-47f4-9b84-4f8604db1714\" class=\"plotly-graph-div\" style=\"height:525px; width:100%;\"></div>            <script type=\"text/javascript\">                                    window.PLOTLYENV=window.PLOTLYENV || {};                                    if (document.getElementById(\"6bea55d1-ddcb-47f4-9b84-4f8604db1714\")) {                    Plotly.newPlot(                        \"6bea55d1-ddcb-47f4-9b84-4f8604db1714\",                        [{\"hovertemplate\":\"Drv=LEC\\u003cbr\\u003eIter=%{x}\\u003cbr\\u003eAverageValue=%{y}\\u003cextra\\u003e\\u003c\\u002fextra\\u003e\",\"legendgroup\":\"LEC\",\"line\":{\"color\":\"#636efa\",\"dash\":\"solid\"},\"marker\":{\"symbol\":\"circle\"},\"mode\":\"lines\",\"name\":\"LEC\",\"orientation\":\"v\",\"showlegend\":true,\"x\":[0,1,2,3,4,5,6,7,8,9,10,11,12,13,14,15,16,17,18,19,20,21,22,23,24,25,26,27,28],\"xaxis\":\"x\",\"y\":[37.9140739440918,237.98556518554688,338.6208190917969,32.79926681518555,132.1894073486328,494.72283935546875,73.6296615600586,69.90137481689453,205.15011596679688,57.9406852722168,27.681175231933594,64.86965942382812,77.57505798339844,316.0243835449219,76.28041076660156,54.128902435302734,36.51856231689453,2415.265380859375,66.31352996826172,175.19097900390625,86.69538116455078,14.178077697753906,2009.7611083984375,39.944889068603516,73.26586151123047,37.445098876953125,21.78145980834961,25.109392166137695,190.16648864746094],\"yaxis\":\"y\",\"type\":\"scatter\"},{\"hovertemplate\":\"Drv=NOR\\u003cbr\\u003eIter=%{x}\\u003cbr\\u003eAverageValue=%{y}\\u003cextra\\u003e\\u003c\\u002fextra\\u003e\",\"legendgroup\":\"NOR\",\"line\":{\"color\":\"#EF553B\",\"dash\":\"solid\"},\"marker\":{\"symbol\":\"circle\"},\"mode\":\"lines\",\"name\":\"NOR\",\"orientation\":\"v\",\"showlegend\":true,\"x\":[0,1,2,3,4,5,6,7,8,9,10,11,12,13,14,15,16,17,18,19,20,21,22,23,24,25,26,27,28],\"xaxis\":\"x\",\"y\":[51.50160217285156,69.6433334350586,593.6574096679688,513.0614013671875,244.3545379638672,187.6783447265625,91.248291015625,297.6291809082031,348.042236328125,210.16065979003906,1060.5810546875,59.82917404174805,108.4800796508789,123.25841522216797,60.186187744140625,490.71331787109375,85.04537963867188,673.9961547851562,128.06532287597656,313.08050537109375,225.6234893798828,1116.6021728515625,618.1553955078125,1723.4989013671875,229.4088134765625,205.2769317626953,207.38162231445312,153.40696716308594,268.0851745605469],\"yaxis\":\"y\",\"type\":\"scatter\"},{\"hovertemplate\":\"Drv=OCO\\u003cbr\\u003eIter=%{x}\\u003cbr\\u003eAverageValue=%{y}\\u003cextra\\u003e\\u003c\\u002fextra\\u003e\",\"legendgroup\":\"OCO\",\"line\":{\"color\":\"#00cc96\",\"dash\":\"solid\"},\"marker\":{\"symbol\":\"circle\"},\"mode\":\"lines\",\"name\":\"OCO\",\"orientation\":\"v\",\"showlegend\":true,\"x\":[0,1,2,3,4,5,6,7,8,9,10,11,12,13,14,15,16,17,18,19,20,21,22,23,24,25,26,27,28],\"xaxis\":\"x\",\"y\":[43.024600982666016,117.01651000976562,382.1658935546875,41.075374603271484,152.0509033203125,1464.318603515625,60.6821174621582,642.0574951171875,512.55615234375,567.2528076171875,195.35887145996094,39.85783767700195,201.7290802001953,46.43064880371094,55.08106994628906,246.80690002441406,32.345054626464844,557.689697265625,45.92930603027344,394.5679931640625,558.7611694335938,69.43062591552734,83.3780746459961,103.46345520019531,53.42551803588867,40.965171813964844,131.41322326660156,51.106727600097656,322.4328918457031],\"yaxis\":\"y\",\"type\":\"scatter\"},{\"hovertemplate\":\"Drv=PIA\\u003cbr\\u003eIter=%{x}\\u003cbr\\u003eAverageValue=%{y}\\u003cextra\\u003e\\u003c\\u002fextra\\u003e\",\"legendgroup\":\"PIA\",\"line\":{\"color\":\"#ab63fa\",\"dash\":\"solid\"},\"marker\":{\"symbol\":\"circle\"},\"mode\":\"lines\",\"name\":\"PIA\",\"orientation\":\"v\",\"showlegend\":true,\"x\":[0,1,2,3,4,5,6,7,8,9,10,11,12,13,14,15,16,17,18,19,20,21,22,23,24,25,26,27,28],\"xaxis\":\"x\",\"y\":[17.081026077270508,13.586268424987793,204.2353057861328,31.643455505371094,79.53386688232422,253.03257751464844,12.215054512023926,79.67191314697266,19.35942268371582,45.2591552734375,30.94361114501953,10.046530723571777,55.56769561767578,25.886367797851562,17.989099502563477,18.36090087890625,9.228381156921387,169.35916137695312,13.538747787475586,34.76156234741211,73.22203826904297,27.707197189331055,103.50861358642578,70.34355926513672,7.345428466796875,48.06963348388672,15.456684112548828,114.6625747680664,65.91241455078125],\"yaxis\":\"y\",\"type\":\"scatter\"},{\"hovertemplate\":\"Drv=ZHO\\u003cbr\\u003eIter=%{x}\\u003cbr\\u003eAverageValue=%{y}\\u003cextra\\u003e\\u003c\\u002fextra\\u003e\",\"legendgroup\":\"ZHO\",\"line\":{\"color\":\"#FFA15A\",\"dash\":\"solid\"},\"marker\":{\"symbol\":\"circle\"},\"mode\":\"lines\",\"name\":\"ZHO\",\"orientation\":\"v\",\"showlegend\":true,\"x\":[0,1,2,3,4,5,6,7,8,9,10,11,12,13,14,15,16,17,18,19,20,21,22,23,24,25,26,27,28],\"xaxis\":\"x\",\"y\":[45.49501419067383,56.49095153808594,541.1271362304688,21.110708236694336,205.04754638671875,41.40072250366211,37.84581756591797,94.50399780273438,63.13644027709961,88.2579574584961,320.2381896972656,41.90578079223633,183.8487548828125,27.787534713745117,43.933658599853516,240.43653869628906,656.8109130859375,216.46112060546875,33.89959716796875,122.71435546875,112.96485137939453,219.0496063232422,110.80607604980469,358.6318664550781,137.67613220214844,73.4398422241211,88.51903533935547,717.5516967773438,126.87670135498047],\"yaxis\":\"y\",\"type\":\"scatter\"}],                        {\"template\":{\"data\":{\"histogram2dcontour\":[{\"type\":\"histogram2dcontour\",\"colorbar\":{\"outlinewidth\":0,\"ticks\":\"\"},\"colorscale\":[[0.0,\"#0d0887\"],[0.1111111111111111,\"#46039f\"],[0.2222222222222222,\"#7201a8\"],[0.3333333333333333,\"#9c179e\"],[0.4444444444444444,\"#bd3786\"],[0.5555555555555556,\"#d8576b\"],[0.6666666666666666,\"#ed7953\"],[0.7777777777777778,\"#fb9f3a\"],[0.8888888888888888,\"#fdca26\"],[1.0,\"#f0f921\"]]}],\"choropleth\":[{\"type\":\"choropleth\",\"colorbar\":{\"outlinewidth\":0,\"ticks\":\"\"}}],\"histogram2d\":[{\"type\":\"histogram2d\",\"colorbar\":{\"outlinewidth\":0,\"ticks\":\"\"},\"colorscale\":[[0.0,\"#0d0887\"],[0.1111111111111111,\"#46039f\"],[0.2222222222222222,\"#7201a8\"],[0.3333333333333333,\"#9c179e\"],[0.4444444444444444,\"#bd3786\"],[0.5555555555555556,\"#d8576b\"],[0.6666666666666666,\"#ed7953\"],[0.7777777777777778,\"#fb9f3a\"],[0.8888888888888888,\"#fdca26\"],[1.0,\"#f0f921\"]]}],\"heatmap\":[{\"type\":\"heatmap\",\"colorbar\":{\"outlinewidth\":0,\"ticks\":\"\"},\"colorscale\":[[0.0,\"#0d0887\"],[0.1111111111111111,\"#46039f\"],[0.2222222222222222,\"#7201a8\"],[0.3333333333333333,\"#9c179e\"],[0.4444444444444444,\"#bd3786\"],[0.5555555555555556,\"#d8576b\"],[0.6666666666666666,\"#ed7953\"],[0.7777777777777778,\"#fb9f3a\"],[0.8888888888888888,\"#fdca26\"],[1.0,\"#f0f921\"]]}],\"heatmapgl\":[{\"type\":\"heatmapgl\",\"colorbar\":{\"outlinewidth\":0,\"ticks\":\"\"},\"colorscale\":[[0.0,\"#0d0887\"],[0.1111111111111111,\"#46039f\"],[0.2222222222222222,\"#7201a8\"],[0.3333333333333333,\"#9c179e\"],[0.4444444444444444,\"#bd3786\"],[0.5555555555555556,\"#d8576b\"],[0.6666666666666666,\"#ed7953\"],[0.7777777777777778,\"#fb9f3a\"],[0.8888888888888888,\"#fdca26\"],[1.0,\"#f0f921\"]]}],\"contourcarpet\":[{\"type\":\"contourcarpet\",\"colorbar\":{\"outlinewidth\":0,\"ticks\":\"\"}}],\"contour\":[{\"type\":\"contour\",\"colorbar\":{\"outlinewidth\":0,\"ticks\":\"\"},\"colorscale\":[[0.0,\"#0d0887\"],[0.1111111111111111,\"#46039f\"],[0.2222222222222222,\"#7201a8\"],[0.3333333333333333,\"#9c179e\"],[0.4444444444444444,\"#bd3786\"],[0.5555555555555556,\"#d8576b\"],[0.6666666666666666,\"#ed7953\"],[0.7777777777777778,\"#fb9f3a\"],[0.8888888888888888,\"#fdca26\"],[1.0,\"#f0f921\"]]}],\"surface\":[{\"type\":\"surface\",\"colorbar\":{\"outlinewidth\":0,\"ticks\":\"\"},\"colorscale\":[[0.0,\"#0d0887\"],[0.1111111111111111,\"#46039f\"],[0.2222222222222222,\"#7201a8\"],[0.3333333333333333,\"#9c179e\"],[0.4444444444444444,\"#bd3786\"],[0.5555555555555556,\"#d8576b\"],[0.6666666666666666,\"#ed7953\"],[0.7777777777777778,\"#fb9f3a\"],[0.8888888888888888,\"#fdca26\"],[1.0,\"#f0f921\"]]}],\"mesh3d\":[{\"type\":\"mesh3d\",\"colorbar\":{\"outlinewidth\":0,\"ticks\":\"\"}}],\"scatter\":[{\"fillpattern\":{\"fillmode\":\"overlay\",\"size\":10,\"solidity\":0.2},\"type\":\"scatter\"}],\"parcoords\":[{\"type\":\"parcoords\",\"line\":{\"colorbar\":{\"outlinewidth\":0,\"ticks\":\"\"}}}],\"scatterpolargl\":[{\"type\":\"scatterpolargl\",\"marker\":{\"colorbar\":{\"outlinewidth\":0,\"ticks\":\"\"}}}],\"bar\":[{\"error_x\":{\"color\":\"#2a3f5f\"},\"error_y\":{\"color\":\"#2a3f5f\"},\"marker\":{\"line\":{\"color\":\"#E5ECF6\",\"width\":0.5},\"pattern\":{\"fillmode\":\"overlay\",\"size\":10,\"solidity\":0.2}},\"type\":\"bar\"}],\"scattergeo\":[{\"type\":\"scattergeo\",\"marker\":{\"colorbar\":{\"outlinewidth\":0,\"ticks\":\"\"}}}],\"scatterpolar\":[{\"type\":\"scatterpolar\",\"marker\":{\"colorbar\":{\"outlinewidth\":0,\"ticks\":\"\"}}}],\"histogram\":[{\"marker\":{\"pattern\":{\"fillmode\":\"overlay\",\"size\":10,\"solidity\":0.2}},\"type\":\"histogram\"}],\"scattergl\":[{\"type\":\"scattergl\",\"marker\":{\"colorbar\":{\"outlinewidth\":0,\"ticks\":\"\"}}}],\"scatter3d\":[{\"type\":\"scatter3d\",\"line\":{\"colorbar\":{\"outlinewidth\":0,\"ticks\":\"\"}},\"marker\":{\"colorbar\":{\"outlinewidth\":0,\"ticks\":\"\"}}}],\"scattermapbox\":[{\"type\":\"scattermapbox\",\"marker\":{\"colorbar\":{\"outlinewidth\":0,\"ticks\":\"\"}}}],\"scatterternary\":[{\"type\":\"scatterternary\",\"marker\":{\"colorbar\":{\"outlinewidth\":0,\"ticks\":\"\"}}}],\"scattercarpet\":[{\"type\":\"scattercarpet\",\"marker\":{\"colorbar\":{\"outlinewidth\":0,\"ticks\":\"\"}}}],\"carpet\":[{\"aaxis\":{\"endlinecolor\":\"#2a3f5f\",\"gridcolor\":\"white\",\"linecolor\":\"white\",\"minorgridcolor\":\"white\",\"startlinecolor\":\"#2a3f5f\"},\"baxis\":{\"endlinecolor\":\"#2a3f5f\",\"gridcolor\":\"white\",\"linecolor\":\"white\",\"minorgridcolor\":\"white\",\"startlinecolor\":\"#2a3f5f\"},\"type\":\"carpet\"}],\"table\":[{\"cells\":{\"fill\":{\"color\":\"#EBF0F8\"},\"line\":{\"color\":\"white\"}},\"header\":{\"fill\":{\"color\":\"#C8D4E3\"},\"line\":{\"color\":\"white\"}},\"type\":\"table\"}],\"barpolar\":[{\"marker\":{\"line\":{\"color\":\"#E5ECF6\",\"width\":0.5},\"pattern\":{\"fillmode\":\"overlay\",\"size\":10,\"solidity\":0.2}},\"type\":\"barpolar\"}],\"pie\":[{\"automargin\":true,\"type\":\"pie\"}]},\"layout\":{\"autotypenumbers\":\"strict\",\"colorway\":[\"#636efa\",\"#EF553B\",\"#00cc96\",\"#ab63fa\",\"#FFA15A\",\"#19d3f3\",\"#FF6692\",\"#B6E880\",\"#FF97FF\",\"#FECB52\"],\"font\":{\"color\":\"#2a3f5f\"},\"hovermode\":\"closest\",\"hoverlabel\":{\"align\":\"left\"},\"paper_bgcolor\":\"white\",\"plot_bgcolor\":\"#E5ECF6\",\"polar\":{\"bgcolor\":\"#E5ECF6\",\"angularaxis\":{\"gridcolor\":\"white\",\"linecolor\":\"white\",\"ticks\":\"\"},\"radialaxis\":{\"gridcolor\":\"white\",\"linecolor\":\"white\",\"ticks\":\"\"}},\"ternary\":{\"bgcolor\":\"#E5ECF6\",\"aaxis\":{\"gridcolor\":\"white\",\"linecolor\":\"white\",\"ticks\":\"\"},\"baxis\":{\"gridcolor\":\"white\",\"linecolor\":\"white\",\"ticks\":\"\"},\"caxis\":{\"gridcolor\":\"white\",\"linecolor\":\"white\",\"ticks\":\"\"}},\"coloraxis\":{\"colorbar\":{\"outlinewidth\":0,\"ticks\":\"\"}},\"colorscale\":{\"sequential\":[[0.0,\"#0d0887\"],[0.1111111111111111,\"#46039f\"],[0.2222222222222222,\"#7201a8\"],[0.3333333333333333,\"#9c179e\"],[0.4444444444444444,\"#bd3786\"],[0.5555555555555556,\"#d8576b\"],[0.6666666666666666,\"#ed7953\"],[0.7777777777777778,\"#fb9f3a\"],[0.8888888888888888,\"#fdca26\"],[1.0,\"#f0f921\"]],\"sequentialminus\":[[0.0,\"#0d0887\"],[0.1111111111111111,\"#46039f\"],[0.2222222222222222,\"#7201a8\"],[0.3333333333333333,\"#9c179e\"],[0.4444444444444444,\"#bd3786\"],[0.5555555555555556,\"#d8576b\"],[0.6666666666666666,\"#ed7953\"],[0.7777777777777778,\"#fb9f3a\"],[0.8888888888888888,\"#fdca26\"],[1.0,\"#f0f921\"]],\"diverging\":[[0,\"#8e0152\"],[0.1,\"#c51b7d\"],[0.2,\"#de77ae\"],[0.3,\"#f1b6da\"],[0.4,\"#fde0ef\"],[0.5,\"#f7f7f7\"],[0.6,\"#e6f5d0\"],[0.7,\"#b8e186\"],[0.8,\"#7fbc41\"],[0.9,\"#4d9221\"],[1,\"#276419\"]]},\"xaxis\":{\"gridcolor\":\"white\",\"linecolor\":\"white\",\"ticks\":\"\",\"title\":{\"standoff\":15},\"zerolinecolor\":\"white\",\"automargin\":true,\"zerolinewidth\":2},\"yaxis\":{\"gridcolor\":\"white\",\"linecolor\":\"white\",\"ticks\":\"\",\"title\":{\"standoff\":15},\"zerolinecolor\":\"white\",\"automargin\":true,\"zerolinewidth\":2},\"scene\":{\"xaxis\":{\"backgroundcolor\":\"#E5ECF6\",\"gridcolor\":\"white\",\"linecolor\":\"white\",\"showbackground\":true,\"ticks\":\"\",\"zerolinecolor\":\"white\",\"gridwidth\":2},\"yaxis\":{\"backgroundcolor\":\"#E5ECF6\",\"gridcolor\":\"white\",\"linecolor\":\"white\",\"showbackground\":true,\"ticks\":\"\",\"zerolinecolor\":\"white\",\"gridwidth\":2},\"zaxis\":{\"backgroundcolor\":\"#E5ECF6\",\"gridcolor\":\"white\",\"linecolor\":\"white\",\"showbackground\":true,\"ticks\":\"\",\"zerolinecolor\":\"white\",\"gridwidth\":2}},\"shapedefaults\":{\"line\":{\"color\":\"#2a3f5f\"}},\"annotationdefaults\":{\"arrowcolor\":\"#2a3f5f\",\"arrowhead\":0,\"arrowwidth\":1},\"geo\":{\"bgcolor\":\"white\",\"landcolor\":\"#E5ECF6\",\"subunitcolor\":\"white\",\"showland\":true,\"showlakes\":true,\"lakecolor\":\"white\"},\"title\":{\"x\":0.05},\"mapbox\":{\"style\":\"light\"}}},\"xaxis\":{\"anchor\":\"y\",\"domain\":[0.0,1.0],\"title\":{\"text\":\"Iter\"}},\"yaxis\":{\"anchor\":\"x\",\"domain\":[0.0,1.0],\"title\":{\"text\":\"AverageValue\"}},\"legend\":{\"title\":{\"text\":\"Drv\"},\"tracegroupgap\":0},\"margin\":{\"t\":60}},                        {\"responsive\": true}                    ).then(function(){\n",
              "                            \n",
              "var gd = document.getElementById('6bea55d1-ddcb-47f4-9b84-4f8604db1714');\n",
              "var x = new MutationObserver(function (mutations, observer) {{\n",
              "        var display = window.getComputedStyle(gd).display;\n",
              "        if (!display || display === 'none') {{\n",
              "            console.log([gd, 'removed!']);\n",
              "            Plotly.purge(gd);\n",
              "            observer.disconnect();\n",
              "        }}\n",
              "}});\n",
              "\n",
              "// Listen for the removal of the full notebook cells\n",
              "var notebookContainer = gd.closest('#notebook-container');\n",
              "if (notebookContainer) {{\n",
              "    x.observe(notebookContainer, {childList: true});\n",
              "}}\n",
              "\n",
              "// Listen for the clearing of the current output cell\n",
              "var outputEl = gd.closest('.output');\n",
              "if (outputEl) {{\n",
              "    x.observe(outputEl, {childList: true});\n",
              "}}\n",
              "\n",
              "                        })                };                            </script>        </div>\n",
              "</body>\n",
              "</html>"
            ]
          },
          "metadata": {},
          "output_type": "display_data"
        }
      ],
      "source": [
        "dat = grp_obs_loss[grp_obs_loss['Drv'].isin(drv_4)]\n",
        "fig = px.line(dat, x = 'Iter', y = 'AverageValue', color = 'Drv')\n",
        "fig.show()"
      ]
    },
    {
      "cell_type": "markdown",
      "metadata": {
        "id": "5pziLOHmv6oH"
      },
      "source": [
        "## 1. Norris"
      ]
    },
    {
      "cell_type": "markdown",
      "metadata": {
        "id": "6J9QKXIswfYc"
      },
      "source": [
        "The 27th iteration (54th lap) was when Norris Pitted his vehicle. The model was not able to capture that information"
      ]
    },
    {
      "cell_type": "markdown",
      "metadata": {
        "id": "dSc9uqHjw7Vk"
      },
      "source": [
        "## 2. Leclerc"
      ]
    },
    {
      "cell_type": "markdown",
      "metadata": {
        "id": "qS-wc2R0w934"
      },
      "source": [
        "Both Leclerc's error values occured when he DNFed."
      ]
    },
    {
      "cell_type": "markdown",
      "metadata": {
        "id": "NIwc-2xevScP"
      },
      "source": [
        "# 5. The DNF/Lapped group"
      ]
    },
    {
      "cell_type": "code",
      "execution_count": 279,
      "metadata": {
        "colab": {
          "base_uri": "https://localhost:8080/",
          "height": 542
        },
        "id": "LX6yRuoXW8Oj",
        "outputId": "3cdb73c3-4730-450f-b7b1-7dff1e75e200"
      },
      "outputs": [
        {
          "data": {
            "text/html": [
              "<html>\n",
              "<head><meta charset=\"utf-8\" /></head>\n",
              "<body>\n",
              "    <div>            <script src=\"https://cdnjs.cloudflare.com/ajax/libs/mathjax/2.7.5/MathJax.js?config=TeX-AMS-MML_SVG\"></script><script type=\"text/javascript\">if (window.MathJax && window.MathJax.Hub && window.MathJax.Hub.Config) {window.MathJax.Hub.Config({SVG: {font: \"STIX-Web\"}});}</script>                <script type=\"text/javascript\">window.PlotlyConfig = {MathJaxConfig: 'local'};</script>\n",
              "        <script charset=\"utf-8\" src=\"https://cdn.plot.ly/plotly-2.24.1.min.js\"></script>                <div id=\"4c02490e-09c5-49c3-959a-80ce21a906e4\" class=\"plotly-graph-div\" style=\"height:525px; width:100%;\"></div>            <script type=\"text/javascript\">                                    window.PLOTLYENV=window.PLOTLYENV || {};                                    if (document.getElementById(\"4c02490e-09c5-49c3-959a-80ce21a906e4\")) {                    Plotly.newPlot(                        \"4c02490e-09c5-49c3-959a-80ce21a906e4\",                        [{\"hovertemplate\":\"Drv=LEC\\u003cbr\\u003eIter=%{x}\\u003cbr\\u003eAverageValue=%{y}\\u003cextra\\u003e\\u003c\\u002fextra\\u003e\",\"legendgroup\":\"LEC\",\"line\":{\"color\":\"#636efa\",\"dash\":\"solid\"},\"marker\":{\"symbol\":\"circle\"},\"mode\":\"lines\",\"name\":\"LEC\",\"orientation\":\"v\",\"showlegend\":true,\"x\":[0,1,2,3,4,5,6,7,8,9,10,11,12,13,14,15,16,17,18,19,20,21,22,23,24,25,26,27,28],\"xaxis\":\"x\",\"y\":[37.9140739440918,237.98556518554688,338.6208190917969,32.79926681518555,132.1894073486328,494.72283935546875,73.6296615600586,69.90137481689453,205.15011596679688,57.9406852722168,27.681175231933594,64.86965942382812,77.57505798339844,316.0243835449219,76.28041076660156,54.128902435302734,36.51856231689453,2415.265380859375,66.31352996826172,175.19097900390625,86.69538116455078,14.178077697753906,2009.7611083984375,39.944889068603516,73.26586151123047,37.445098876953125,21.78145980834961,25.109392166137695,190.16648864746094],\"yaxis\":\"y\",\"type\":\"scatter\"},{\"hovertemplate\":\"Drv=OCO\\u003cbr\\u003eIter=%{x}\\u003cbr\\u003eAverageValue=%{y}\\u003cextra\\u003e\\u003c\\u002fextra\\u003e\",\"legendgroup\":\"OCO\",\"line\":{\"color\":\"#EF553B\",\"dash\":\"solid\"},\"marker\":{\"symbol\":\"circle\"},\"mode\":\"lines\",\"name\":\"OCO\",\"orientation\":\"v\",\"showlegend\":true,\"x\":[0,1,2,3,4,5,6,7,8,9,10,11,12,13,14,15,16,17,18,19,20,21,22,23,24,25,26,27,28],\"xaxis\":\"x\",\"y\":[43.024600982666016,117.01651000976562,382.1658935546875,41.075374603271484,152.0509033203125,1464.318603515625,60.6821174621582,642.0574951171875,512.55615234375,567.2528076171875,195.35887145996094,39.85783767700195,201.7290802001953,46.43064880371094,55.08106994628906,246.80690002441406,32.345054626464844,557.689697265625,45.92930603027344,394.5679931640625,558.7611694335938,69.43062591552734,83.3780746459961,103.46345520019531,53.42551803588867,40.965171813964844,131.41322326660156,51.106727600097656,322.4328918457031],\"yaxis\":\"y\",\"type\":\"scatter\"},{\"hovertemplate\":\"Drv=PIA\\u003cbr\\u003eIter=%{x}\\u003cbr\\u003eAverageValue=%{y}\\u003cextra\\u003e\\u003c\\u002fextra\\u003e\",\"legendgroup\":\"PIA\",\"line\":{\"color\":\"#00cc96\",\"dash\":\"solid\"},\"marker\":{\"symbol\":\"circle\"},\"mode\":\"lines\",\"name\":\"PIA\",\"orientation\":\"v\",\"showlegend\":true,\"x\":[0,1,2,3,4,5,6,7,8,9,10,11,12,13,14,15,16,17,18,19,20,21,22,23,24,25,26,27,28],\"xaxis\":\"x\",\"y\":[17.081026077270508,13.586268424987793,204.2353057861328,31.643455505371094,79.53386688232422,253.03257751464844,12.215054512023926,79.67191314697266,19.35942268371582,45.2591552734375,30.94361114501953,10.046530723571777,55.56769561767578,25.886367797851562,17.989099502563477,18.36090087890625,9.228381156921387,169.35916137695312,13.538747787475586,34.76156234741211,73.22203826904297,27.707197189331055,103.50861358642578,70.34355926513672,7.345428466796875,48.06963348388672,15.456684112548828,114.6625747680664,65.91241455078125],\"yaxis\":\"y\",\"type\":\"scatter\"}],                        {\"template\":{\"data\":{\"histogram2dcontour\":[{\"type\":\"histogram2dcontour\",\"colorbar\":{\"outlinewidth\":0,\"ticks\":\"\"},\"colorscale\":[[0.0,\"#0d0887\"],[0.1111111111111111,\"#46039f\"],[0.2222222222222222,\"#7201a8\"],[0.3333333333333333,\"#9c179e\"],[0.4444444444444444,\"#bd3786\"],[0.5555555555555556,\"#d8576b\"],[0.6666666666666666,\"#ed7953\"],[0.7777777777777778,\"#fb9f3a\"],[0.8888888888888888,\"#fdca26\"],[1.0,\"#f0f921\"]]}],\"choropleth\":[{\"type\":\"choropleth\",\"colorbar\":{\"outlinewidth\":0,\"ticks\":\"\"}}],\"histogram2d\":[{\"type\":\"histogram2d\",\"colorbar\":{\"outlinewidth\":0,\"ticks\":\"\"},\"colorscale\":[[0.0,\"#0d0887\"],[0.1111111111111111,\"#46039f\"],[0.2222222222222222,\"#7201a8\"],[0.3333333333333333,\"#9c179e\"],[0.4444444444444444,\"#bd3786\"],[0.5555555555555556,\"#d8576b\"],[0.6666666666666666,\"#ed7953\"],[0.7777777777777778,\"#fb9f3a\"],[0.8888888888888888,\"#fdca26\"],[1.0,\"#f0f921\"]]}],\"heatmap\":[{\"type\":\"heatmap\",\"colorbar\":{\"outlinewidth\":0,\"ticks\":\"\"},\"colorscale\":[[0.0,\"#0d0887\"],[0.1111111111111111,\"#46039f\"],[0.2222222222222222,\"#7201a8\"],[0.3333333333333333,\"#9c179e\"],[0.4444444444444444,\"#bd3786\"],[0.5555555555555556,\"#d8576b\"],[0.6666666666666666,\"#ed7953\"],[0.7777777777777778,\"#fb9f3a\"],[0.8888888888888888,\"#fdca26\"],[1.0,\"#f0f921\"]]}],\"heatmapgl\":[{\"type\":\"heatmapgl\",\"colorbar\":{\"outlinewidth\":0,\"ticks\":\"\"},\"colorscale\":[[0.0,\"#0d0887\"],[0.1111111111111111,\"#46039f\"],[0.2222222222222222,\"#7201a8\"],[0.3333333333333333,\"#9c179e\"],[0.4444444444444444,\"#bd3786\"],[0.5555555555555556,\"#d8576b\"],[0.6666666666666666,\"#ed7953\"],[0.7777777777777778,\"#fb9f3a\"],[0.8888888888888888,\"#fdca26\"],[1.0,\"#f0f921\"]]}],\"contourcarpet\":[{\"type\":\"contourcarpet\",\"colorbar\":{\"outlinewidth\":0,\"ticks\":\"\"}}],\"contour\":[{\"type\":\"contour\",\"colorbar\":{\"outlinewidth\":0,\"ticks\":\"\"},\"colorscale\":[[0.0,\"#0d0887\"],[0.1111111111111111,\"#46039f\"],[0.2222222222222222,\"#7201a8\"],[0.3333333333333333,\"#9c179e\"],[0.4444444444444444,\"#bd3786\"],[0.5555555555555556,\"#d8576b\"],[0.6666666666666666,\"#ed7953\"],[0.7777777777777778,\"#fb9f3a\"],[0.8888888888888888,\"#fdca26\"],[1.0,\"#f0f921\"]]}],\"surface\":[{\"type\":\"surface\",\"colorbar\":{\"outlinewidth\":0,\"ticks\":\"\"},\"colorscale\":[[0.0,\"#0d0887\"],[0.1111111111111111,\"#46039f\"],[0.2222222222222222,\"#7201a8\"],[0.3333333333333333,\"#9c179e\"],[0.4444444444444444,\"#bd3786\"],[0.5555555555555556,\"#d8576b\"],[0.6666666666666666,\"#ed7953\"],[0.7777777777777778,\"#fb9f3a\"],[0.8888888888888888,\"#fdca26\"],[1.0,\"#f0f921\"]]}],\"mesh3d\":[{\"type\":\"mesh3d\",\"colorbar\":{\"outlinewidth\":0,\"ticks\":\"\"}}],\"scatter\":[{\"fillpattern\":{\"fillmode\":\"overlay\",\"size\":10,\"solidity\":0.2},\"type\":\"scatter\"}],\"parcoords\":[{\"type\":\"parcoords\",\"line\":{\"colorbar\":{\"outlinewidth\":0,\"ticks\":\"\"}}}],\"scatterpolargl\":[{\"type\":\"scatterpolargl\",\"marker\":{\"colorbar\":{\"outlinewidth\":0,\"ticks\":\"\"}}}],\"bar\":[{\"error_x\":{\"color\":\"#2a3f5f\"},\"error_y\":{\"color\":\"#2a3f5f\"},\"marker\":{\"line\":{\"color\":\"#E5ECF6\",\"width\":0.5},\"pattern\":{\"fillmode\":\"overlay\",\"size\":10,\"solidity\":0.2}},\"type\":\"bar\"}],\"scattergeo\":[{\"type\":\"scattergeo\",\"marker\":{\"colorbar\":{\"outlinewidth\":0,\"ticks\":\"\"}}}],\"scatterpolar\":[{\"type\":\"scatterpolar\",\"marker\":{\"colorbar\":{\"outlinewidth\":0,\"ticks\":\"\"}}}],\"histogram\":[{\"marker\":{\"pattern\":{\"fillmode\":\"overlay\",\"size\":10,\"solidity\":0.2}},\"type\":\"histogram\"}],\"scattergl\":[{\"type\":\"scattergl\",\"marker\":{\"colorbar\":{\"outlinewidth\":0,\"ticks\":\"\"}}}],\"scatter3d\":[{\"type\":\"scatter3d\",\"line\":{\"colorbar\":{\"outlinewidth\":0,\"ticks\":\"\"}},\"marker\":{\"colorbar\":{\"outlinewidth\":0,\"ticks\":\"\"}}}],\"scattermapbox\":[{\"type\":\"scattermapbox\",\"marker\":{\"colorbar\":{\"outlinewidth\":0,\"ticks\":\"\"}}}],\"scatterternary\":[{\"type\":\"scatterternary\",\"marker\":{\"colorbar\":{\"outlinewidth\":0,\"ticks\":\"\"}}}],\"scattercarpet\":[{\"type\":\"scattercarpet\",\"marker\":{\"colorbar\":{\"outlinewidth\":0,\"ticks\":\"\"}}}],\"carpet\":[{\"aaxis\":{\"endlinecolor\":\"#2a3f5f\",\"gridcolor\":\"white\",\"linecolor\":\"white\",\"minorgridcolor\":\"white\",\"startlinecolor\":\"#2a3f5f\"},\"baxis\":{\"endlinecolor\":\"#2a3f5f\",\"gridcolor\":\"white\",\"linecolor\":\"white\",\"minorgridcolor\":\"white\",\"startlinecolor\":\"#2a3f5f\"},\"type\":\"carpet\"}],\"table\":[{\"cells\":{\"fill\":{\"color\":\"#EBF0F8\"},\"line\":{\"color\":\"white\"}},\"header\":{\"fill\":{\"color\":\"#C8D4E3\"},\"line\":{\"color\":\"white\"}},\"type\":\"table\"}],\"barpolar\":[{\"marker\":{\"line\":{\"color\":\"#E5ECF6\",\"width\":0.5},\"pattern\":{\"fillmode\":\"overlay\",\"size\":10,\"solidity\":0.2}},\"type\":\"barpolar\"}],\"pie\":[{\"automargin\":true,\"type\":\"pie\"}]},\"layout\":{\"autotypenumbers\":\"strict\",\"colorway\":[\"#636efa\",\"#EF553B\",\"#00cc96\",\"#ab63fa\",\"#FFA15A\",\"#19d3f3\",\"#FF6692\",\"#B6E880\",\"#FF97FF\",\"#FECB52\"],\"font\":{\"color\":\"#2a3f5f\"},\"hovermode\":\"closest\",\"hoverlabel\":{\"align\":\"left\"},\"paper_bgcolor\":\"white\",\"plot_bgcolor\":\"#E5ECF6\",\"polar\":{\"bgcolor\":\"#E5ECF6\",\"angularaxis\":{\"gridcolor\":\"white\",\"linecolor\":\"white\",\"ticks\":\"\"},\"radialaxis\":{\"gridcolor\":\"white\",\"linecolor\":\"white\",\"ticks\":\"\"}},\"ternary\":{\"bgcolor\":\"#E5ECF6\",\"aaxis\":{\"gridcolor\":\"white\",\"linecolor\":\"white\",\"ticks\":\"\"},\"baxis\":{\"gridcolor\":\"white\",\"linecolor\":\"white\",\"ticks\":\"\"},\"caxis\":{\"gridcolor\":\"white\",\"linecolor\":\"white\",\"ticks\":\"\"}},\"coloraxis\":{\"colorbar\":{\"outlinewidth\":0,\"ticks\":\"\"}},\"colorscale\":{\"sequential\":[[0.0,\"#0d0887\"],[0.1111111111111111,\"#46039f\"],[0.2222222222222222,\"#7201a8\"],[0.3333333333333333,\"#9c179e\"],[0.4444444444444444,\"#bd3786\"],[0.5555555555555556,\"#d8576b\"],[0.6666666666666666,\"#ed7953\"],[0.7777777777777778,\"#fb9f3a\"],[0.8888888888888888,\"#fdca26\"],[1.0,\"#f0f921\"]],\"sequentialminus\":[[0.0,\"#0d0887\"],[0.1111111111111111,\"#46039f\"],[0.2222222222222222,\"#7201a8\"],[0.3333333333333333,\"#9c179e\"],[0.4444444444444444,\"#bd3786\"],[0.5555555555555556,\"#d8576b\"],[0.6666666666666666,\"#ed7953\"],[0.7777777777777778,\"#fb9f3a\"],[0.8888888888888888,\"#fdca26\"],[1.0,\"#f0f921\"]],\"diverging\":[[0,\"#8e0152\"],[0.1,\"#c51b7d\"],[0.2,\"#de77ae\"],[0.3,\"#f1b6da\"],[0.4,\"#fde0ef\"],[0.5,\"#f7f7f7\"],[0.6,\"#e6f5d0\"],[0.7,\"#b8e186\"],[0.8,\"#7fbc41\"],[0.9,\"#4d9221\"],[1,\"#276419\"]]},\"xaxis\":{\"gridcolor\":\"white\",\"linecolor\":\"white\",\"ticks\":\"\",\"title\":{\"standoff\":15},\"zerolinecolor\":\"white\",\"automargin\":true,\"zerolinewidth\":2},\"yaxis\":{\"gridcolor\":\"white\",\"linecolor\":\"white\",\"ticks\":\"\",\"title\":{\"standoff\":15},\"zerolinecolor\":\"white\",\"automargin\":true,\"zerolinewidth\":2},\"scene\":{\"xaxis\":{\"backgroundcolor\":\"#E5ECF6\",\"gridcolor\":\"white\",\"linecolor\":\"white\",\"showbackground\":true,\"ticks\":\"\",\"zerolinecolor\":\"white\",\"gridwidth\":2},\"yaxis\":{\"backgroundcolor\":\"#E5ECF6\",\"gridcolor\":\"white\",\"linecolor\":\"white\",\"showbackground\":true,\"ticks\":\"\",\"zerolinecolor\":\"white\",\"gridwidth\":2},\"zaxis\":{\"backgroundcolor\":\"#E5ECF6\",\"gridcolor\":\"white\",\"linecolor\":\"white\",\"showbackground\":true,\"ticks\":\"\",\"zerolinecolor\":\"white\",\"gridwidth\":2}},\"shapedefaults\":{\"line\":{\"color\":\"#2a3f5f\"}},\"annotationdefaults\":{\"arrowcolor\":\"#2a3f5f\",\"arrowhead\":0,\"arrowwidth\":1},\"geo\":{\"bgcolor\":\"white\",\"landcolor\":\"#E5ECF6\",\"subunitcolor\":\"white\",\"showland\":true,\"showlakes\":true,\"lakecolor\":\"white\"},\"title\":{\"x\":0.05},\"mapbox\":{\"style\":\"light\"}}},\"xaxis\":{\"anchor\":\"y\",\"domain\":[0.0,1.0],\"title\":{\"text\":\"Iter\"}},\"yaxis\":{\"anchor\":\"x\",\"domain\":[0.0,1.0],\"title\":{\"text\":\"AverageValue\"}},\"legend\":{\"title\":{\"text\":\"Drv\"},\"tracegroupgap\":0},\"margin\":{\"t\":60}},                        {\"responsive\": true}                    ).then(function(){\n",
              "                            \n",
              "var gd = document.getElementById('4c02490e-09c5-49c3-959a-80ce21a906e4');\n",
              "var x = new MutationObserver(function (mutations, observer) {{\n",
              "        var display = window.getComputedStyle(gd).display;\n",
              "        if (!display || display === 'none') {{\n",
              "            console.log([gd, 'removed!']);\n",
              "            Plotly.purge(gd);\n",
              "            observer.disconnect();\n",
              "        }}\n",
              "}});\n",
              "\n",
              "// Listen for the removal of the full notebook cells\n",
              "var notebookContainer = gd.closest('#notebook-container');\n",
              "if (notebookContainer) {{\n",
              "    x.observe(notebookContainer, {childList: true});\n",
              "}}\n",
              "\n",
              "// Listen for the clearing of the current output cell\n",
              "var outputEl = gd.closest('.output');\n",
              "if (outputEl) {{\n",
              "    x.observe(outputEl, {childList: true});\n",
              "}}\n",
              "\n",
              "                        })                };                            </script>        </div>\n",
              "</body>\n",
              "</html>"
            ]
          },
          "metadata": {},
          "output_type": "display_data"
        }
      ],
      "source": [
        "dat = grp_obs_loss[grp_obs_loss['Drv'].isin(drv_5)]\n",
        "fig = px.line(dat, x = 'Iter', y = 'AverageValue', color = 'Drv')\n",
        "fig.show()"
      ]
    },
    {
      "cell_type": "markdown",
      "metadata": {
        "id": "3FH7eM30xaW_"
      },
      "source": [
        "Overall the model does seem to be able to predict to some level whether a vehicle is going to DNF or not. With better imputation methods this prediction performance may improve"
      ]
    },
    {
      "cell_type": "markdown",
      "metadata": {
        "id": "sIB68v97yDEu"
      },
      "source": [
        "# Evaluation scores across iterations"
      ]
    },
    {
      "cell_type": "markdown",
      "metadata": {
        "id": "RRNdeCZByK5p"
      },
      "source": [
        "## 1. Some iterations performed extremely well as shown below"
      ]
    },
    {
      "cell_type": "code",
      "execution_count": 300,
      "metadata": {
        "colab": {
          "base_uri": "https://localhost:8080/",
          "height": 542
        },
        "id": "31_aqZ0lRU1n",
        "outputId": "9ccd353a-09ac-4e2e-be00-042c7a5756ea"
      },
      "outputs": [
        {
          "data": {
            "text/html": [
              "<html>\n",
              "<head><meta charset=\"utf-8\" /></head>\n",
              "<body>\n",
              "    <div>            <script src=\"https://cdnjs.cloudflare.com/ajax/libs/mathjax/2.7.5/MathJax.js?config=TeX-AMS-MML_SVG\"></script><script type=\"text/javascript\">if (window.MathJax && window.MathJax.Hub && window.MathJax.Hub.Config) {window.MathJax.Hub.Config({SVG: {font: \"STIX-Web\"}});}</script>                <script type=\"text/javascript\">window.PlotlyConfig = {MathJaxConfig: 'local'};</script>\n",
              "        <script charset=\"utf-8\" src=\"https://cdn.plot.ly/plotly-2.24.1.min.js\"></script>                <div id=\"526aef52-6610-4de7-a4f1-dcfae6ab02d1\" class=\"plotly-graph-div\" style=\"height:525px; width:100%;\"></div>            <script type=\"text/javascript\">                                    window.PLOTLYENV=window.PLOTLYENV || {};                                    if (document.getElementById(\"526aef52-6610-4de7-a4f1-dcfae6ab02d1\")) {                    Plotly.newPlot(                        \"526aef52-6610-4de7-a4f1-dcfae6ab02d1\",                        [{\"hovertemplate\":\"Drv=VER\\u003cbr\\u003eindex=%{x}\\u003cbr\\u003eResults=%{y}\\u003cextra\\u003e\\u003c\\u002fextra\\u003e\",\"legendgroup\":\"VER\",\"line\":{\"color\":\"#636efa\",\"dash\":\"solid\"},\"marker\":{\"symbol\":\"circle\"},\"mode\":\"lines\",\"name\":\"VER\",\"showlegend\":true,\"x\":[0,1,2,3,4,5,6,7,8,9,10,11,12,13,14,15,16,17,18,19,20,21,22,23,24,25,26,27,28,29,30,31,32,33,34,35,36,37,38,39,40,41,42,43,44,45,46,47,48,49,50,51,52,53,54,55,56,57,58,59,60,61,62,63,64,65,66,67,68,69,70,71,72,73,74,75,76,77,78,79,80,81,82,83,84,85,86,87,88,89,90,91,92,93,94,95,96,97,98,99],\"xaxis\":\"x\",\"y\":[77.7307357788086,77.92266845703125,82.16024780273438,87.44588470458984,86.83088684082031,84.36846923828125,84.85282135009766,87.19556427001953,84.62911224365234,82.87879180908203,80.81621551513672,80.59056854248047,77.5916976928711,77.93234252929688,71.3336410522461,66.27461242675781,65.81267547607422,65.1423568725586,65.90654754638672,60.632362365722656,59.99139404296875,49.3475341796875,50.142372131347656,45.929954528808594,46.4383430480957,34.08964538574219,25.175460815429688,26.876426696777344,14.18272876739502,15.135469436645508,19.6451416015625,23.50352668762207,28.520296096801758,37.15867614746094,30.60319709777832,37.80770492553711,34.878997802734375,34.895450592041016,36.65867614746094,32.405452728271484,33.55513000488281,26.646427154541016,24.60836410522461,21.831592559814453,18.833208084106445,15.77353286743164,9.57418441772461,4.042899131774902,5.581930160522461,2.5703201293945312,65.53865051269531,60.68994140625,61.62284469604492,48.197052001953125,52.077693939208984,51.720272064208984,48.820274353027344,41.65705871582031,25.02191162109375,17.876434326171875,17.976757049560547,13.469018936157227,6.763542175292969,0.4454834461212158,1.2412891387939453,3.614190101623535,1.3348374366760254,11.72708511352539,12.420633316040039,14.8396635055542,18.46901512145996,16.07643699645996,17.04869270324707,24.854814529418945,36.897705078125,30.406099319458008,18.613208770751953,33.39738845825195,6.192897319793701,2.9570939540863037,1.8232240676879883,8.378378868103027,0.44838666915893555,5.446124076843262,3.8364479541778564,8.69289493560791,10.22547435760498,19.152240753173828,15.541598320007324,38.1712532043457,41.502540588378906,48.354793548583984,49.082855224609375,62.226715087890625,64.7005844116211,81.42959594726562,93.22281646728516,92.63507080078125,96.45087432861328,96.84603881835938],\"yaxis\":\"y\",\"type\":\"scattergl\"},{\"hovertemplate\":\"Drv=GAS\\u003cbr\\u003eindex=%{x}\\u003cbr\\u003eResults=%{y}\\u003cextra\\u003e\\u003c\\u002fextra\\u003e\",\"legendgroup\":\"GAS\",\"line\":{\"color\":\"#EF553B\",\"dash\":\"solid\"},\"marker\":{\"symbol\":\"circle\"},\"mode\":\"lines\",\"name\":\"GAS\",\"showlegend\":true,\"x\":[0,1,2,3,4,5,6,7,8,9,10,11,12,13,14,15,16,17,18,19,20,21,22,23,24,25,26,27,28,29,30,31,32,33,34,35,36,37,38,39,40,41,42,43,44,45,46,47,48,49,50,51,52,53,54,55,56,57,58,59,60,61,62,63,64,65,66,67,68,69,70,71,72,73,74,75,76,77,78,79,80,81,82,83,84,85,86,87,88,89,90,91,92,93,94,95,96,97,98,99],\"xaxis\":\"x\",\"y\":[50.77640151977539,54.214786529541016,51.110435485839844,46.075923919677734,49.24414825439453,49.09592056274414,49.57172775268555,44.23883056640625,46.427215576171875,50.49382400512695,53.65656280517578,54.36494827270508,59.52284622192383,57.83849334716797,67.64283752441406,78.2658920288086,76.9363784790039,75.8179931640625,70.1823501586914,76.66702270507812,75.5121841430664,70.66831970214844,65.57267761230469,63.942359924316406,58.094139099121094,70.80170440673828,64.70284271240234,62.39236068725586,66.73155212402344,61.96381378173828,53.93785095214844,47.544471740722656,43.86479568481445,47.63414764404297,31.294809341430664,36.578834533691406,29.81964874267578,26.239490509033203,29.411584854125977,23.500783920288086,24.74884796142578,16.561920166015625,19.752723693847656,17.09724235534668,14.294663429260254,11.788698196411133,5.37870454788208,0.84919273853302,0.08870959281921387,5.861445903778076,103.80103302001953,101.50587463378906,102.51038360595703,91.25265502929688,95.67861938476562,91.34490966796875,89.97362518310547,81.66637420654297,67.72799682617188,65.32041931152344,66.84687042236328,65.78526306152344,62.21220016479492,58.50042724609375,63.03816604614258,65.38187408447266,68.03880310058594,60.785911560058594,61.065425872802734,62.46961975097656,59.62897491455078,56.123172760009766,55.09526824951172,50.1272087097168,40.38641357421875,45.42414855957031,51.539306640625,42.45060348510742,54.53494644165039,46.10382843017578,44.09027862548828,37.725608825683594,40.47883224487305,37.33060836791992,38.142059326171875,36.260128021240234,35.35028839111328,31.480131149291992,35.801902770996094,26.321748733520508,25.722232818603516,23.719493865966797,26.79497528076172,22.38820457458496,21.92094612121582,16.766435623168945,12.871277809143066,11.304827690124512,10.19676399230957,11.440311431884766],\"yaxis\":\"y\",\"type\":\"scattergl\"},{\"hovertemplate\":\"Drv=PER\\u003cbr\\u003eindex=%{x}\\u003cbr\\u003eResults=%{y}\\u003cextra\\u003e\\u003c\\u002fextra\\u003e\",\"legendgroup\":\"PER\",\"line\":{\"color\":\"#00cc96\",\"dash\":\"solid\"},\"marker\":{\"symbol\":\"circle\"},\"mode\":\"lines\",\"name\":\"PER\",\"showlegend\":true,\"x\":[0,1,2,3,4,5,6,7,8,9,10,11,12,13,14,15,16,17,18,19,20,21,22,23,24,25,26,27,28,29,30,31,32,33,34,35,36,37,38,39,40,41,42,43,44,45,46,47,48,49,50,51,52,53,54,55,56,57,58,59,60,61,62,63,64,65,66,67,68,69,70,71,72,73,74,75,76,77,78,79,80,81,82,83,84,85,86,87,88,89,90,91,92,93,94,95,96,97,98,99],\"xaxis\":\"x\",\"y\":[2.500642776489258,1.8177402019500732,2.3724169731140137,7.834831237792969,8.236766815185547,7.859992504119873,10.317731857299805,16.965951919555664,14.939018249511719,17.501434326171875,16.960628509521484,21.055301666259766,18.404014587402344,23.46465492248535,18.661434173583984,17.272079467773438,20.242238998413086,22.617074966430664,29.901906967163086,28.174972534179688,29.176746368408203,29.077392578125,33.75464630126953,39.600284576416016,44.98414993286133,35.257869720458984,39.804962158203125,48.498016357421875,21.077882766723633,24.907556533813477,30.045778274536133,34.25012969970703,34.84319305419922,29.830778121948242,46.91156768798828,41.51850891113281,48.03575897216797,51.17866134643555,51.268821716308594,57.2897834777832,55.99188232421875,63.421875,62.544456481933594,64.75332641601562,66.59219360351562,68.78670501708984,73.215576171875,77.57154083251953,75.86734771728516,80.43911743164062,41.22544479370117,44.854312896728516,43.9920539855957,49.74462890625,46.05140686035156,47.13124465942383,46.66543960571289,47.486568450927734,51.98849868774414,51.80495071411133,50.26462936401367,49.883018493652344,50.619468688964844,51.04833984375,47.21834182739258,45.786407470703125,43.7260856628418,45.67076110839844,43.917701721191406,42.1683464050293,42.37028121948242,32.845130920410156,32.27964782714844,31.929325103759766,35.50609588623047,27.723844528198242,15.280953407287598,20.8409481048584,10.20353889465332,6.29580020904541,8.46418571472168,6.938380241394043,12.189343452453613,11.690633773803711,13.689664840698242,12.750633239746094,12.531923294067383,8.26321792602539,10.362893104553223,4.25547981262207,6.05031681060791,10.091925621032715,10.786441802978516,20.123207092285156,21.95901107788086,34.640289306640625,43.67060470581055,45.91286087036133,48.765438079833984,49.1612434387207],\"yaxis\":\"y\",\"type\":\"scattergl\"},{\"hovertemplate\":\"Drv=ALO\\u003cbr\\u003eindex=%{x}\\u003cbr\\u003eResults=%{y}\\u003cextra\\u003e\\u003c\\u002fextra\\u003e\",\"legendgroup\":\"ALO\",\"line\":{\"color\":\"#ab63fa\",\"dash\":\"solid\"},\"marker\":{\"symbol\":\"circle\"},\"mode\":\"lines\",\"name\":\"ALO\",\"showlegend\":true,\"x\":[0,1,2,3,4,5,6,7,8,9,10,11,12,13,14,15,16,17,18,19,20,21,22,23,24,25,26,27,28,29,30,31,32,33,34,35,36,37,38,39,40,41,42,43,44,45,46,47,48,49,50,51,52,53,54,55,56,57,58,59,60,61,62,63,64,65,66,67,68,69,70,71,72,73,74,75,76,77,78,79,80,81,82,83,84,85,86,87,88,89,90,91,92,93,94,95,96,97,98,99],\"xaxis\":\"x\",\"y\":[53.67994689941406,53.98688507080078,59.02123260498047,65.21300506591797,65.95106506347656,64.6759033203125,66.15235900878906,70.11428833007812,68.46219635009766,68.43799591064453,67.09058380126953,67.94719696044922,65.63397216796875,67.21057891845703,62.74897384643555,59.48494338989258,60.091556549072266,60.266395568847656,62.013973236083984,59.30332946777344,59.14558792114258,57.270591735839844,58.43397521972656,56.96639633178711,57.94849395751953,48.50882339477539,40.27625274658203,41.68367004394531,18.299821853637695,18.673046112060547,18.133047103881836,17.34853172302246,14.907404899597168,10.358377456665039,16.791275024414062,12.553375244140625,15.309501647949219,16.258371353149414,15.693532943725586,19.095788955688477,18.276756286621094,23.95659065246582,23.807235717773438,26.141103744506836,28.524972915649414,30.870615005493164,35.8278694152832,41.0101203918457,40.36076736450195,47.39156723022461,4.363060474395752,6.240962028503418,5.102736949920654,16.453693389892578,11.890311241149902,11.791763305664062,13.679825782775879,19.849658966064453,34.2943229675293,39.704315185546875,38.85399627685547,42.043670654296875,47.77366256713867,53.969303131103516,51.52608108520508,54.242530822753906,51.96156311035156,61.538330078125,61.935264587402344,63.519615173339844,66.80848693847656,68.73783874511719,69.5328369140625,77.16234588623047,88.25846099853516,83.62459564208984,75.93524932861328,89.24169158935547,71.30896759033203,79.77250671386719,79.29428100585938,84.19734191894531,76.82524871826172,78.04798889160156,76.08573150634766,76.87928009033203,77.27395629882812,80.37040710449219,76.13250732421875,87.89765930175781,88.36878967285156,90.01249694824219,86.66588592529297,91.44830322265625,91.19007110595703,97.18183898925781,101.19071197509766,100.99893951416016,101.50361633300781,100.07732391357422],\"yaxis\":\"y\",\"type\":\"scattergl\"},{\"hovertemplate\":\"Drv=LEC\\u003cbr\\u003eindex=%{x}\\u003cbr\\u003eResults=%{y}\\u003cextra\\u003e\\u003c\\u002fextra\\u003e\",\"legendgroup\":\"LEC\",\"line\":{\"color\":\"#FFA15A\",\"dash\":\"solid\"},\"marker\":{\"symbol\":\"circle\"},\"mode\":\"lines\",\"name\":\"LEC\",\"showlegend\":true,\"x\":[0,1,2,3,4,5,6,7,8,9,10,11,12,13,14,15,16,17,18,19,20,21,22,23,24,25,26,27,28,29,30,31,32,33,34,35,36,37,38,39,40,41,42,43,44,45,46,47,48,49,50,51,52,53,54,55,56,57,58,59,60,61,62,63,64,65,66,67,68,69,70,71,72,73,74,75,76,77,78,79,80,81,82,83,84,85,86,87,88,89,90,91,92,93,94,95,96,97,98,99],\"xaxis\":\"x\",\"y\":[97.60619354248047,93.87200927734375,86.67781829833984,81.35943603515625,83.4170150756836,79.96863555908203,70.29783630371094,73.483154296875,65.7857437133789,70.09477233886719,64.44654846191406,68.85041809082031,62.933326721191406,64.23477935791016,66.65026092529297,68.25283813476562,65.47784423828125,56.405269622802734,53.243980407714844,58.31123352050781,47.258182525634766,52.299949645996094,38.66496276855469,39.226253509521484,38.539642333984375,34.13416290283203,32.32561492919922,26.650297164916992,29.40174674987793,18.662240982055664,11.520956993103027,7.210315704345703,7.255154609680176,1.4570953845977783,1.8587079048156738,0.8638701438903809,6.496445655822754,4.209028244018555,5.364188194274902,3.5590288639068604,9.018539428710938,8.495475769042969,6.715638637542725,7.476283073425293,7.238863945007324,9.936442375183105,12.710309982299805,8.83692741394043,11.57950496673584,9.120959281921387,11.931601524353027,14.432405471801758,9.967893600463867,10.562248229980469,13.86611557006836,15.149662971496582,14.635147094726562,13.12514877319336,11.14773178100586,17.76530647277832,18.387401580810547,20.15030288696289,19.99256134033203,21.901914596557617,25.69675064086914,33.482547760009766,31.47222900390625,32.657386779785156,32.13287353515625,38.707061767578125,35.111900329589844,46.49705123901367,39.2235107421875,40.758995056152344,37.88222122192383,48.08350372314453,50.76801681518555,46.787052154541016,70.02122497558594,67.99897003173828,65.8886489868164,71.9496078491211,68.37638854980469,77.10282897949219,70.79605865478516,76.70379638671875,68.17574310302734,72.79476928710938,58.572845458984375,56.75123596191406,51.561885833740234,51.558982849121094,42.976409912109375,40.922542572021484,28.553844451904297,18.95191764831543,18.153207778930664,15.789340019226074,14.985469818115234,1.0893537998199463],\"yaxis\":\"y\",\"type\":\"scattergl\"},{\"hovertemplate\":\"Drv=STR\\u003cbr\\u003eindex=%{x}\\u003cbr\\u003eResults=%{y}\\u003cextra\\u003e\\u003c\\u002fextra\\u003e\",\"legendgroup\":\"STR\",\"line\":{\"color\":\"#19d3f3\",\"dash\":\"solid\"},\"marker\":{\"symbol\":\"circle\"},\"mode\":\"lines\",\"name\":\"STR\",\"showlegend\":true,\"x\":[0,1,2,3,4,5,6,7,8,9,10,11,12,13,14,15,16,17,18,19,20,21,22,23,24,25,26,27,28,29,30,31,32,33,34,35,36,37,38,39,40,41,42,43,44,45,46,47,48,49,50,51,52,53,54,55,56,57,58,59,60,61,62,63,64,65,66,67,68,69,70,71,72,73,74,75,76,77,78,79,80,81,82,83,84,85,86,87,88,89,90,91,92,93,94,95,96,97,98,99],\"xaxis\":\"x\",\"y\":[64.92945098876953,66.95719146728516,74.19041442871094,83.49250030517578,88.95088195800781,90.02410888671875,95.81329345703125,107.04425048828125,106.58361053466797,112.91231536865234,113.71956634521484,119.42085266113281,118.23714447021484,123.92262268066406,122.57810974121094,122.48407745361328,125.59487915039062,128.0668182373047,133.27745056152344,134.1106719970703,134.97825622558594,136.7711639404297,139.11793518066406,140.57760620117188,142.98648071289062,135.5258331298828,131.48939514160156,134.3997039794922,104.6002197265625,104.74231719970703,103.08860778808594,101.60990142822266,99.25684356689453,93.54894256591797,98.24507141113281,92.80152130126953,94.32894134521484,93.284423828125,90.9665298461914,92.56765747070312,91.18991088867188,93.95635986328125,91.9931411743164,92.79765319824219,93.45055389404297,94.58087921142578,97.80506896972656,101.00151824951172,99.91828918457031,103.7187728881836,31.819162368774414,32.5177116394043,31.55013084411621,39.39802551269531,35.54431915283203,35.78206253051758,36.626094818115234,41.43689727783203,53.2757568359375,56.46446228027344,55.551883697509766,57.86429977416992,62.405906677246094,67.43106842041016,65.39138793945312,67.41461181640625,65.53848266601562,74.0708999633789,74.68799591064453,77.19927978515625,80.38008117675781,82.38475799560547,83.40572357177734,90.7091064453125,101.23748779296875,97.71151733398438,90.6800765991211,102.86893463134766,76.84541320800781,85.22734069824219,84.87330627441406,90.76136779785156,83.8866958618164,87.7207260131836,86.11007690429688,89.26507568359375,90.42572021484375,97.087646484375,92.95491027832031,110.25521850585938,112.05037689208984,116.2316665649414,113.54037475585938,121.74069213867188,122.53165435791016,132.05052185058594,138.34938049316406,137.3116455078125,138.8521270751953,137.80776977539062],\"yaxis\":\"y\",\"type\":\"scattergl\"},{\"hovertemplate\":\"Drv=SAR\\u003cbr\\u003eindex=%{x}\\u003cbr\\u003eResults=%{y}\\u003cextra\\u003e\\u003c\\u002fextra\\u003e\",\"legendgroup\":\"SAR\",\"line\":{\"color\":\"#FF6692\",\"dash\":\"solid\"},\"marker\":{\"symbol\":\"circle\"},\"mode\":\"lines\",\"name\":\"SAR\",\"showlegend\":true,\"x\":[0,1,2,3,4,5,6,7,8,9,10,11,12,13,14,15,16,17,18,19,20,21,22,23,24,25,26,27,28,29,30,31,32,33,34,35,36,37,38,39,40,41,42,43,44,45,46,47,48,49,50,51,52,53,54,55,56,57,58,59,60,61,62,63,64,65,66,67,68,69,70,71,72,73,74,75,76,77,78,79,80,81,82,83,84,85,86,87,88,89,90,91,92,93,94,95,96,97,98,99],\"xaxis\":\"x\",\"y\":[0.8112895488739014,2.3011269569396973,4.066770553588867,13.224825859069824,12.779020309448242,11.228376388549805,13.50160026550293,19.8238525390625,17.578371047973633,15.745469093322754,13.448697090148926,14.728534698486328,10.702408790588379,14.04837417602539,6.275477886199951,1.2158052921295166,0.1009676456451416,0.7254831790924072,5.301608085632324,2.4606428146362305,1.649191975593567,3.679351329803467,0.18241918087005615,1.8756433725357056,2.409675121307373,12.119342803955078,13.338051795959473,11.020312309265137,29.820940017700195,27.27094268798828,24.774492263793945,22.759654998779297,24.44158935546875,31.065614700317383,16.03482437133789,22.7380428314209,16.358049392700195,13.308213233947754,16.26611328125,9.695958137512207,10.939183235168457,1.2577407360076904,3.081287384033203,0.30629003047943115,3.724835157394409,7.028058052062988,14.647566795349121,21.236915588378906,19.625303268432617,27.722070693969727,3.9899961948394775,0.5275801420211792,1.7803208827972412,13.474503517150879,8.2178955078125,9.526603698730469,12.213375091552734,18.83272361755371,32.813838958740234,33.295936584472656,31.55916404724121,32.188838958740234,34.88690185546875,37.31964111328125,32.234161376953125,28.774166107177734,26.024330139160156,29.092876434326172,27.75819969177246,21.929494857788086,23.042720794677734,18.067886352539062,18.613208770751953,15.861920356750488,20.173851013183594,11.093214988708496,3.8054802417755127,7.459186553955078,4.161608695983887,7.438541412353516,7.110315799713135,8.089346885681152,3.3735451698303223,0.9035475254058838,0.1148386001586914,2.893545627593994,3.1372551918029785,3.450803279876709,7.924508571624756,2.7904810905456543,2.877094030380249,2.0372562408447266,4.460963249206543,1.4282244443893433,1.4904824495315552,3.18919038772583,6.9811224937438965,7.175477027893066,8.055315017700195,7.017735481262207],\"yaxis\":\"y\",\"type\":\"scattergl\"},{\"hovertemplate\":\"Drv=MAG\\u003cbr\\u003eindex=%{x}\\u003cbr\\u003eResults=%{y}\\u003cextra\\u003e\\u003c\\u002fextra\\u003e\",\"legendgroup\":\"MAG\",\"line\":{\"color\":\"#B6E880\",\"dash\":\"solid\"},\"marker\":{\"symbol\":\"circle\"},\"mode\":\"lines\",\"name\":\"MAG\",\"showlegend\":true,\"x\":[0,1,2,3,4,5,6,7,8,9,10,11,12,13,14,15,16,17,18,19,20,21,22,23,24,25,26,27,28,29,30,31,32,33,34,35,36,37,38,39,40,41,42,43,44,45,46,47,48,49,50,51,52,53,54,55,56,57,58,59,60,61,62,63,64,65,66,67,68,69,70,71,72,73,74,75,76,77,78,79,80,81,82,83,84,85,86,87,88,89,90,91,92,93,94,95,96,97,98,99],\"xaxis\":\"x\",\"y\":[29.52722930908203,26.524490356445312,29.301424026489258,33.64916229248047,29.9840030670166,27.91819953918457,26.88094139099121,26.886587142944336,24.63433074951172,18.944660186767578,15.473372459411621,13.202245712280273,9.131926536560059,9.226119995117188,1.1477408409118652,7.807734489440918,7.9835405349731445,8.418701171875,6.299993991851807,13.416277885437012,13.138535499572754,14.844985961914062,11.971117973327637,14.806921005249023,11.572569847106934,24.20868682861328,24.114009857177734,23.691429138183594,37.396575927734375,35.17544937133789,32.77287292480469,30.887712478637695,32.5935173034668,38.481414794921875,24.650136947631836,30.756099700927734,24.93707275390625,21.566753387451172,23.552396774291992,16.718048095703125,17.88272476196289,7.201928615570068,8.848862648010254,4.716769695281982,0.6398380994796753,3.2830615043640137,11.944988250732422,20.52981948852539,19.12369155883789,28.35787582397461,21.05885124206543,17.322887420654297,18.504175186157227,1.886127233505249,6.893702983856201,3.6706416606903076,1.0998376607894897,4.999672889709473,19.603206634521484,20.159013748168945,17.952402114868164,18.235950469970703,21.29981803894043,24.39788055419922,19.15433692932129,15.476436614990234,12.603214263916016,17.86417579650879,16.963855743408203,12.301279067993164,14.318212509155273,14.485954284667969,15.352726936340332,15.435307502746582,23.197397232055664,13.21514892578125,3.9477381706237793,10.424667358398438,11.301924705505371,4.691769599914551,5.433220863342285,1.6785467863082886,9.357088088989258,9.56966781616211,11.300312042236328,12.253536224365234,11.9024076461792,8.712249755859375,15.510952949523926,0.7972573041915894,0.12370955944061279,3.4520936012268066,1.6748371124267578,6.929186820983887,7.589347839355469,19.425304412841797,28.43303680419922,28.85723114013672,31.334970474243164,29.098520278930664],\"yaxis\":\"y\",\"type\":\"scattergl\"},{\"hovertemplate\":\"Drv=DEV\\u003cbr\\u003eindex=%{x}\\u003cbr\\u003eResults=%{y}\\u003cextra\\u003e\\u003c\\u002fextra\\u003e\",\"legendgroup\":\"DEV\",\"line\":{\"color\":\"#FF97FF\",\"dash\":\"solid\"},\"marker\":{\"symbol\":\"circle\"},\"mode\":\"lines\",\"name\":\"DEV\",\"showlegend\":true,\"x\":[0,1,2,3,4,5,6,7,8,9,10,11,12,13,14,15,16,17,18,19,20,21,22,23,24,25,26,27,28,29,30,31,32,33,34,35,36,37,38,39,40,41,42,43,44,45,46,47,48,49,50,51,52,53,54,55,56,57,58,59,60,61,62,63,64,65,66,67,68,69,70,71,72,73,74,75,76,77,78,79,80,81,82,83,84,85,86,87,88,89,90,91,92,93,94,95,96,97,98,99],\"xaxis\":\"x\",\"y\":[50.1989860534668,47.63108444213867,50.29253387451172,54.35881805419922,52.02156448364258,50.60866165161133,50.72365951538086,54.00801467895508,52.430755615234375,50.27592086791992,48.154632568359375,48.56269454956055,45.18560028076172,47.8118896484375,41.56173324584961,34.58464431762695,36.342063903808594,37.90028762817383,43.357215881347656,39.88189697265625,40.93770217895508,45.457374572753906,50.05704879760742,53.00640106201172,58.478816986083984,46.180118560791016,46.920440673828125,49.61027526855469,20.097078323364258,23.456268310546875,27.90868377685547,31.83755111694336,33.317386627197266,27.734811782836914,47.67350387573242,41.34673309326172,49.5785026550293,53.562530517578125,50.432533264160156,57.02155685424805,55.041561126708984,63.06461715698242,58.63478088378906,60.61316680908203,62.16590881347656,64.26316833496094,70.34041595458984,74.25411987304688,71.75654602050781,75.1236343383789,4.58209228515625,5.9312849044799805,4.699350357055664,15.642243385314941,10.265474319458008,11.250311851501465,12.184988021850586,16.601436614990234,29.505779266357422,31.71690559387207,30.11432647705078,31.511098861694336,35.62351608276367,40.08205795288086,36.613189697265625,35.48109436035156,33.17287063598633,40.40496063232422,40.51512145996094,39.330284118652344,42.13189697265625,43.57673263549805,44.70785903930664,48.621726989746094,58.28768539428711,51.42527389526367,41.72931671142578,49.81027603149414,25.571910858154297,33.65980529785156,34.04771041870117,39.96996307373047,33.84464645385742,37.21189880371094,36.0186767578125,37.85076904296875,38.84722137451172,43.18028259277344,37.17173767089844,49.3028564453125,49.93979263305664,52.26640319824219,48.05898666381836,53.395755767822266,53.197208404541016,59.5057487487793,63.93897247314453,64.07316589355469,64.74590301513672,62.42736053466797],\"yaxis\":\"y\",\"type\":\"scattergl\"},{\"hovertemplate\":\"Drv=TSU\\u003cbr\\u003eindex=%{x}\\u003cbr\\u003eResults=%{y}\\u003cextra\\u003e\\u003c\\u002fextra\\u003e\",\"legendgroup\":\"TSU\",\"line\":{\"color\":\"#FECB52\",\"dash\":\"solid\"},\"marker\":{\"symbol\":\"circle\"},\"mode\":\"lines\",\"name\":\"TSU\",\"showlegend\":true,\"x\":[0,1,2,3,4,5,6,7,8,9,10,11,12,13,14,15,16,17,18,19,20,21,22,23,24,25,26,27,28,29,30,31,32,33,34,35,36,37,38,39,40,41,42,43,44,45,46,47,48,49,50,51,52,53,54,55,56,57,58,59,60,61,62,63,64,65,66,67,68,69,70,71,72,73,74,75,76,77,78,79,80,81,82,83,84,85,86,87,88,89,90,91,92,93,94,95,96,97,98,99],\"xaxis\":\"x\",\"y\":[12.703213691711426,15.44482421875,9.732893943786621,1.0822570323944092,1.275321364402771,2.288546085357666,0.3740319013595581,8.384991645812988,6.584025859832764,6.585638999938965,4.570318222045898,7.359992980957031,3.1806421279907227,8.181605339050293,0.890483021736145,6.12047815322876,3.4609644412994385,1.7962886095046997,4.519511699676514,1.316611647605896,0.11774182319641113,2.1153206825256348,6.517735481262207,6.540154933929443,11.319343566894531,1.5085469484329224,2.3356428146362305,0.26725780963897705,27.359006881713867,25.19094467163086,23.5286865234375,22.25497817993164,25.057878494262695,31.506582260131836,17.604660034179688,23.75417137145996,17.67159652709961,14.329018592834473,16.787403106689453,10.285151481628418,11.215956687927246,1.8491917848587036,3.382416248321533,0.06048381328582764,3.544996738433838,6.810638427734375,14.086760520935059,21.156108856201172,20.212238311767578,28.728843688964844,43.406410217285156,39.3183479309082,40.150123596191406,25.683040618896484,28.61739158630371,24.53610610961914,20.760786056518555,10.50305461883545,7.539831638336182,13.776277542114258,13.362245559692383,16.624662399291992,21.37804412841797,25.894330978393555,23.07852554321289,22.17239761352539,20.16078758239746,25.831104278564453,25.66836166381836,23.04433250427246,24.624008178710938,22.699817657470703,23.096107482910156,23.204010009765625,27.653522491455078,20.23062515258789,11.616279602050781,15.83353328704834,4.741769790649414,1.9191917181015015,3.2540292739868164,2.512739658355713,7.134025573730469,8.596765518188477,9.719345092773438,11.139505386352539,11.210311889648438,10.500473976135254,13.185471534729004,7.8817667961120605,7.618218421936035,6.459026336669922,8.22531509399414,4.987092018127441,4.53467321395874,0.06838703155517578,3.4179000854492188,4.801608085632324,6.193864822387695,6.535961627960205],\"yaxis\":\"y\",\"type\":\"scattergl\"},{\"hovertemplate\":\"Drv=ALB\\u003cbr\\u003eindex=%{x}\\u003cbr\\u003eResults=%{y}\\u003cextra\\u003e\\u003c\\u002fextra\\u003e\",\"legendgroup\":\"ALB\",\"line\":{\"color\":\"#636efa\",\"dash\":\"solid\"},\"marker\":{\"symbol\":\"circle\"},\"mode\":\"lines\",\"name\":\"ALB\",\"showlegend\":true,\"x\":[0,1,2,3,4,5,6,7,8,9,10,11,12,13,14,15,16,17,18,19,20,21,22,23,24,25,26,27,28,29,30,31,32,33,34,35,36,37,38,39,40,41,42,43,44,45,46,47,48,49,50,51,52,53,54,55,56,57,58,59,60,61,62,63,64,65,66,67,68,69,70,71,72,73,74,75,76,77,78,79,80,81,82,83,84,85,86,87,88,89,90,91,92,93,94,95,96,97,98,99],\"xaxis\":\"x\",\"y\":[5.6299943923950195,3.5027384757995605,8.115476608276367,14.654825210571289,13.317728996276855,12.207084655761719,13.06369686126709,17.411434173583984,15.245630264282227,12.94176197052002,10.428054809570312,10.836763381958008,6.991445064544678,9.40676498413086,2.3611268997192383,4.429673194885254,2.8274166584014893,1.6317726373672485,3.5617709159851074,0.8391927480697632,0.10370957851409912,2.083868980407715,6.289348602294922,8.495314598083496,13.317728996276855,2.0235464572906494,2.0308046340942383,5.122414588928223,23.550622940063477,20.67191505432129,16.9407901763916,13.5833740234375,13.351438522338867,17.432403564453125,0.12725794315338135,4.0632219314575195,3.8841898441314697,9.924507141113281,9.576281547546387,18.231111526489258,17.666595458984375,29.087068557739258,28.606586456298828,32.56722640991211,36.42964172363281,39.72318649291992,46.43818283081055,52.899627685546875,51.77801513671875,58.05671691894531,1.2851600646972656,2.8180618286132812,1.929030418395996,10.989989280700684,7.426605701446533,7.323057651519775,7.875153541564941,10.025958061218262,16.744661331176758,15.872565269470215,13.991276741027832,13.215632438659668,13.952244758605957,14.514341354370117,10.27273178100586,6.97838020324707,5.004188537597656,6.725316047668457,5.556446075439453,2.3958041667938232,2.938706874847412,0.16483855247497559,0.087257981300354,1.27451491355896,1.8490304946899414,4.05596399307251,10.324506759643555,6.7961225509643555,19.595626831054688,16.54514503479004,17.07853126525879,15.333372116088867,19.216110229492188,18.587562561035156,19.393529891967773,18.894498825073242,18.53530502319336,15.147889137268066,17.17321014404297,6.656767845153809,4.974833965301514,1.314998745918274,0.9217733144760132,6.414671421051025,8.498217582702637,18.074176788330078,25.293201446533203,27.56481170654297,30.84126091003418,32.78384017944336],\"yaxis\":\"y\",\"type\":\"scattergl\"},{\"hovertemplate\":\"Drv=ZHO\\u003cbr\\u003eindex=%{x}\\u003cbr\\u003eResults=%{y}\\u003cextra\\u003e\\u003c\\u002fextra\\u003e\",\"legendgroup\":\"ZHO\",\"line\":{\"color\":\"#EF553B\",\"dash\":\"solid\"},\"marker\":{\"symbol\":\"circle\"},\"mode\":\"lines\",\"name\":\"ZHO\",\"showlegend\":true,\"x\":[0,1,2,3,4,5,6,7,8,9,10,11,12,13,14,15,16,17,18,19,20,21,22,23,24,25,26,27,28,29,30,31,32,33,34,35,36,37,38,39,40,41,42,43,44,45,46,47,48,49,50,51,52,53,54,55,56,57,58,59,60,61,62,63,64,65,66,67,68,69,70,71,72,73,74,75,76,77,78,79,80,81,82,83,84,85,86,87,88,89,90,91,92,93,94,95,96,97,98,99],\"xaxis\":\"x\",\"y\":[50.94108200073242,47.934471130371094,51.76317596435547,57.814300537109375,56.48543167114258,54.14543151855469,55.45107650756836,60.87816619873047,59.4078483581543,57.96381378173828,55.63091278076172,57.01849365234375,53.11091613769531,57.10010528564453,49.82575988769531,41.365604400634766,43.687217712402344,45.343990325927734,52.28688430786133,45.94527816772461,47.391082763671875,51.82527160644531,57.311397552490234,58.999298095703125,65.28429412841797,50.34333801269531,51.62769317626953,55.287689208984375,26.7299747467041,30.2194881439209,34.037872314453125,36.78173828125,35.74528884887695,28.915456771850586,43.40560531616211,36.62948226928711,42.54512023925781,44.930118560791016,41.69496154785156,47.1959228515625,45.66253662109375,53.05978775024414,50.4354362487793,52.77640151977539,55.25236511230469,57.80446243286133,64.0755844116211,68.18912506103516,66.71703338623047,72.34170532226562,5.518865585327148,8.234508514404297,7.256606101989746,19.874658584594727,15.75321102142334,16.87933921813965,19.165626525878906,25.519813537597656,40.17060852050781,43.484153747558594,42.33866882324219,44.54350662231445,49.396728515625,54.91156005859375,51.97527313232422,51.699951171875,49.38608169555664,57.928977966308594,58.56413650512695,57.73801040649414,61.25623321533203,62.536231994628906,64.04558563232422,69.33525848388672,80.43605041503906,72.90154266357422,61.25800704956055,68.9238052368164,38.738834381103516,44.34447479248047,42.8023796081543,44.997859954833984,38.77367401123047,36.837867736816406,35.209964752197266,32.52851867675781,32.3404541015625,32.43770980834961,25.7299747467041,32.22577667236328,31.637712478637695,31.933034896850586,27.51642608642578,30.18045425415039,29.218521118164062,33.18642044067383,36.22690200805664,35.59770965576172,35.60932159423828,33.079002380371094],\"yaxis\":\"y\",\"type\":\"scattergl\"},{\"hovertemplate\":\"Drv=HUL\\u003cbr\\u003eindex=%{x}\\u003cbr\\u003eResults=%{y}\\u003cextra\\u003e\\u003c\\u002fextra\\u003e\",\"legendgroup\":\"HUL\",\"line\":{\"color\":\"#00cc96\",\"dash\":\"solid\"},\"marker\":{\"symbol\":\"circle\"},\"mode\":\"lines\",\"name\":\"HUL\",\"showlegend\":true,\"x\":[0,1,2,3,4,5,6,7,8,9,10,11,12,13,14,15,16,17,18,19,20,21,22,23,24,25,26,27,28,29,30,31,32,33,34,35,36,37,38,39,40,41,42,43,44,45,46,47,48,49,50,51,52,53,54,55,56,57,58,59,60,61,62,63,64,65,66,67,68,69,70,71,72,73,74,75,76,77,78,79,80,81,82,83,84,85,86,87,88,89,90,91,92,93,94,95,96,97,98,99],\"xaxis\":\"x\",\"y\":[20.972076416015625,22.430946350097656,16.35224151611328,7.6791863441467285,5.7385430335998535,5.36402702331543,1.4137083292007446,7.836121559143066,7.171767234802246,8.946281433105469,8.021444320678711,11.664666175842285,8.28225040435791,14.305147171020508,8.948700904846191,3.2483839988708496,7.065154552459717,10.070151329040527,18.520950317382812,15.686758995056152,17.518047332763672,24.500944137573242,29.487390518188477,30.734647750854492,36.07674026489258,23.360462188720703,22.500139236450195,23.490623474121094,1.410159945487976,1.136611819267273,3.3338677883148193,5.134188652038574,5.311769008636475,1.3645148277282715,11.571601867675781,3.9840283393859863,9.24837875366211,10.555473327636719,5.140317916870117,10.154829025268555,7.873379707336426,15.330146789550781,11.375473022460938,13.405470848083496,14.934662818908691,17.34917640686035,24.03255844116211,29.353843688964844,27.077877044677734,32.33964538574219,33.11287307739258,30.244810104370117,31.277389526367188,18.046112060546875,22.17110824584961,19.671432495117188,17.0703067779541,8.631927490234375,8.019024848937988,14.198857307434082,14.03934097290039,18.04143524169922,24.323686599731445,31.099647521972656,29.82416534423828,31.892066955566406,30.203197479248047,37.98641586303711,38.704803466796875,39.058349609375,41.66431427001953,42.42173385620117,43.36802291870117,45.23689270019531,50.9801139831543,44.06382751464844,35.04029083251953,38.50786590576172,19.643367767333984,22.87691307067871,21.368850708007812,21.7917537689209,17.540143966674805,14.282244682312012,12.872245788574219,9.023862838745117,8.528379440307617,7.388218879699707,1.7195144891738892,6.140961647033691,5.077736854553223,4.734511375427246,0.9891926050186157,2.9127392768859863,1.656288743019104,4.85402774810791,7.635315418243408,8.189830780029297,8.122572898864746,5.297737121582031],\"yaxis\":\"y\",\"type\":\"scattergl\"},{\"hovertemplate\":\"Drv=OCO\\u003cbr\\u003eindex=%{x}\\u003cbr\\u003eResults=%{y}\\u003cextra\\u003e\\u003c\\u002fextra\\u003e\",\"legendgroup\":\"OCO\",\"line\":{\"color\":\"#ab63fa\",\"dash\":\"solid\"},\"marker\":{\"symbol\":\"circle\"},\"mode\":\"lines\",\"name\":\"OCO\",\"showlegend\":true,\"x\":[0,1,2,3,4,5,6,7,8,9,10,11,12,13,14,15,16,17,18,19,20,21,22,23,24,25,26,27,28,29,30,31,32,33,34,35,36,37,38,39,40,41,42,43,44,45,46,47,48,49,50,51,52,53,54,55,56,57,58,59,60,61,62,63,64,65,66,67,68,69,70,71,72,73,74,75,76,77,78,79,80,81,82,83,84,85,86,87,88,89,90,91,92,93,94,95,96,97,98,99],\"xaxis\":\"x\",\"y\":[67.58590698242188,68.2713851928711,63.426551818847656,56.57155990600586,55.97414016723633,58.093170166015625,56.080108642578125,49.44414520263672,51.59898376464844,51.18059539794922,52.954627990722656,50.727691650390625,54.112369537353516,50.17027282714844,56.92720413208008,63.1642951965332,60.979942321777344,59.183006286621094,53.42607879638672,56.33059310913086,55.415592193603516,60.35607147216797,55.998817443847656,54.218658447265625,49.256404876708984,61.6331672668457,57.8320426940918,52.599143981933594,72.76154327392578,69.48928833007812,65.61880493164062,62.27768325805664,62.90477752685547,69.92719268798828,55.0463981628418,62.8907470703125,57.48252487182617,56.965431213378906,60.14478302001953,56.492366790771484,58.97091293334961,54.83833312988281,59.07123565673828,58.57575225830078,58.66139602661133,57.79833221435547,54.57930374145508,51.784629821777344,54.19139862060547,53.2636604309082,27.686586380004883,27.6712646484375,28.047069549560547,21.725139617919922,23.589492797851562,27.01432991027832,26.578523635864258,26.0201358795166,21.893205642700195,22.198688507080078,23.793363571166992,24.213848114013672,23.225622177124023,22.2214298248291,25.783363342285156,28.641101837158203,30.173036575317383,27.467554092407227,28.38094139099121,26.941587448120117,26.50384521484375,32.523841857910156,33.00787353515625,31.3143253326416,27.594650268554688,31.534324645996094,35.092063903808594,30.672874450683594,43.771732330322266,39.560123443603516,40.379154205322266,37.84528732299805,45.21560287475586,43.97673034667969,45.836570739746094,44.675601959228516,44.410118103027344,40.196414947509766,42.15850830078125,27.382232666015625,25.55610466003418,21.404172897338867,22.0557861328125,12.635310173034668,10.810795783996582,1.6120952367782593,10.548860549926758,11.919181823730469,15.250469207763672,16.49982261657715],\"yaxis\":\"y\",\"type\":\"scattergl\"},{\"hovertemplate\":\"Drv=NOR\\u003cbr\\u003eindex=%{x}\\u003cbr\\u003eResults=%{y}\\u003cextra\\u003e\\u003c\\u002fextra\\u003e\",\"legendgroup\":\"NOR\",\"line\":{\"color\":\"#FFA15A\",\"dash\":\"solid\"},\"marker\":{\"symbol\":\"circle\"},\"mode\":\"lines\",\"name\":\"NOR\",\"showlegend\":true,\"x\":[0,1,2,3,4,5,6,7,8,9,10,11,12,13,14,15,16,17,18,19,20,21,22,23,24,25,26,27,28,29,30,31,32,33,34,35,36,37,38,39,40,41,42,43,44,45,46,47,48,49,50,51,52,53,54,55,56,57,58,59,60,61,62,63,64,65,66,67,68,69,70,71,72,73,74,75,76,77,78,79,80,81,82,83,84,85,86,87,88,89,90,91,92,93,94,95,96,97,98,99],\"xaxis\":\"x\",\"y\":[37.1431884765625,37.07125473022461,44.236087799072266,53.53398132324219,56.61623764038086,53.8023681640625,57.584136962890625,65.62622833251953,64.43187713623047,65.5984878540039,63.816551208496094,66.36477661132812,63.26042175292969,67.49638366699219,61.46607208251953,55.52978515625,57.5830078125,58.91865539550781,63.78703689575195,58.23639678955078,58.7828483581543,57.901397705078125,61.39719772338867,61.529457092285156,65.4615478515625,51.407691955566406,46.8801155090332,50.41237258911133,12.764826774597168,15.31675910949707,18.207401275634766,21.004817962646484,21.055463790893555,16.429500579833984,32.1451301574707,27.798845291137695,34.73561096191406,39.76399612426758,40.524314880371094,47.77688980102539,46.704795837402344,57.103172302246094,56.89413833618164,60.75236129760742,64.18800354003906,67.8070297241211,75.86798858642578,82.9973373413086,81.37831115722656,89.9349136352539,33.728355407714844,37.01173782348633,36.247222900390625,51.1241455078125,47.85689163208008,49.28156661987305,51.6652717590332,57.05801010131836,68.15396881103516,67.93396759033203,65.75590515136719,65.08203125,66.43364715576172,67.56961059570312,62.39236068725586,57.841556549072266,55.3926887512207,57.72075271606445,56.09462356567383,53.23430252075195,53.85881805419922,49.72753143310547,49.8876953125,47.43882751464844,50.542049407958984,42.728668212890625,39.761253356933594,43.366573333740234,49.55447006225586,52.123497009277344,51.34833908081055,51.735435485839844,48.24930953979492,45.69527816772461,44.351409912109375,41.038185119628906,40.4910888671875,39.738834381103516,37.85012435913086,43.695281982421875,43.48012161254883,44.3480224609375,42.526573181152344,46.22963333129883,45.532535552978516,51.199466705322266,55.78720474243164,57.683815002441406,58.619136810302734,56.965267181396484],\"yaxis\":\"y\",\"type\":\"scattergl\"},{\"hovertemplate\":\"Drv=HAM\\u003cbr\\u003eindex=%{x}\\u003cbr\\u003eResults=%{y}\\u003cextra\\u003e\\u003c\\u002fextra\\u003e\",\"legendgroup\":\"HAM\",\"line\":{\"color\":\"#19d3f3\",\"dash\":\"solid\"},\"marker\":{\"symbol\":\"circle\"},\"mode\":\"lines\",\"name\":\"HAM\",\"showlegend\":true,\"x\":[0,1,2,3,4,5,6,7,8,9,10,11,12,13,14,15,16,17,18,19,20,21,22,23,24,25,26,27,28,29,30,31,32,33,34,35,36,37,38,39,40,41,42,43,44,45,46,47,48,49,50,51,52,53,54,55,56,57,58,59,60,61,62,63,64,65,66,67,68,69,70,71,72,73,74,75,76,77,78,79,80,81,82,83,84,85,86,87,88,89,90,91,92,93,94,95,96,97,98,99],\"xaxis\":\"x\",\"y\":[80.46943664550781,79.03170013427734,80.60895538330078,82.81830596923828,80.94605255126953,78.92782592773438,78.13395690917969,78.87460327148438,77.3441162109375,74.86138153076172,73.15348052978516,72.62638092041016,70.40009307861328,70.8692855834961,66.43622589111328,62.343971252441406,62.69639205932617,62.88461685180664,64.95800018310547,62.90687561035156,63.176876068115234,61.721553802490234,63.93526077270508,64.43138885498047,67.0689697265625,59.52639389038086,59.59800720214844,64.01703643798828,46.98479461669922,48.96414566040039,51.66075897216797,54.256561279296875,55.08962631225586,51.76736831665039,66.66767883300781,63.035423278808594,69.81283569335938,75.03750610351562,75.77508544921875,83.32121276855469,82.76879119873047,94.01216888427734,95.25555419921875,99.6926498413086,104.29973602294922,108.42780303955078,116.99940490722656,124.53826904296875,123.39214324951172,133.8526153564453,4.574028015136719,11.823214530944824,11.549666404724121,28.784326553344727,28.533681869506836,32.81948471069336,38.9288330078125,52.451560974121094,71.43412780761719,80.83879089355469,81.73782348632812,86.99459075927734,93.34942626953125,99.63555145263672,99.58296966552734,102.50732421875,101.40925598144531,108.84618377685547,109.72167205810547,111.84618377685547,114.07489013671875,114.79586029052734,115.42327880859375,118.79408264160156,124.29585266113281,119.84536743164062,112.86843872070312,119.2242431640625,96.80554962158203,99.36748504638672,96.766357421875,96.58894348144531,91.77845764160156,89.17942810058594,87.78975677490234,85.15911102294922,84.78491973876953,84.35782623291016,80.36669921875,84.61492156982422,84.08605194091797,84.18008422851562,81.24927520751953,83.41378784179688,82.78782653808594,86.50605010986328,89.45830535888672,89.15765380859375,89.53926849365234,88.05668640136719],\"yaxis\":\"y\",\"type\":\"scattergl\"},{\"hovertemplate\":\"Drv=SAI\\u003cbr\\u003eindex=%{x}\\u003cbr\\u003eResults=%{y}\\u003cextra\\u003e\\u003c\\u002fextra\\u003e\",\"legendgroup\":\"SAI\",\"line\":{\"color\":\"#FF6692\",\"dash\":\"solid\"},\"marker\":{\"symbol\":\"circle\"},\"mode\":\"lines\",\"name\":\"SAI\",\"showlegend\":true,\"x\":[0,1,2,3,4,5,6,7,8,9,10,11,12,13,14,15,16,17,18,19,20,21,22,23,24,25,26,27,28,29,30,31,32,33,34,35,36,37,38,39,40,41,42,43,44,45,46,47,48,49,50,51,52,53,54,55,56,57,58,59,60,61,62,63,64,65,66,67,68,69,70,71,72,73,74,75,76,77,78,79,80,81,82,83,84,85,86,87,88,89,90,91,92,93,94,95,96,97,98,99],\"xaxis\":\"x\",\"y\":[75.30476379394531,74.03718566894531,75.94347381591797,78.71186065673828,77.17879486083984,75.08670043945312,74.78266906738281,77.39073181152344,75.60960388183594,74.11863708496094,72.36412811279297,72.85783386230469,70.12606048583984,71.96057891845703,66.5846176147461,62.536712646484375,63.805908203125,64.77896881103516,68.92251586914062,66.5665512084961,67.18848419189453,65.91767883300781,69.4610595703125,72.05863952636719,76.25911712646484,65.80961608886719,66.37574005126953,72.02638244628906,38.223026275634766,40.672542572021484,43.4449577331543,46.43431091308594,46.84495544433594,41.99028396606445,60.613006591796875,55.68301010131836,64.06848907470703,70.10122680664062,70.45848083496094,79.60395812988281,78.87040710449219,91.6865234375,92.33232879638672,97.29861450195312,102.3126449584961,107.03199768066406,116.46940612792969,124.62956237792969,123.4581069946289,134.15487670898438,42.88173294067383,49.601566314697266,49.20689010620117,63.6642951965332,62.44945526123047,64.70122528076172,67.89541625976562,75.65509033203125,86.61524200439453,89.92845916748047,89.09507751464844,90.42991638183594,92.85636138916016,94.87474822998047,91.80733489990234,91.3944320678711,89.5960464477539,92.15813446044922,90.86459350585938,89.15652465820312,89.4349136352539,84.98233795166016,84.5781478881836,83.2633056640625,85.29830932617188,78.11202239990234,69.42332458496094,72.41622161865234,49.66140365600586,51.25269317626953,48.942535400390625,48.38398742675781,43.32850646972656,41.0281867980957,39.28705978393555,37.12528610229492,36.59738540649414,36.69093322753906,33.16948318481445,39.98689651489258,40.13479995727539,41.403831481933594,38.58609390258789,42.88608932495117,42.997215270996094,49.738502502441406,54.88349533081055,54.2676887512207,55.930267333984375,55.91413879394531],\"yaxis\":\"y\",\"type\":\"scattergl\"},{\"hovertemplate\":\"Drv=RUS\\u003cbr\\u003eindex=%{x}\\u003cbr\\u003eResults=%{y}\\u003cextra\\u003e\\u003c\\u002fextra\\u003e\",\"legendgroup\":\"RUS\",\"line\":{\"color\":\"#B6E880\",\"dash\":\"solid\"},\"marker\":{\"symbol\":\"circle\"},\"mode\":\"lines\",\"name\":\"RUS\",\"showlegend\":true,\"x\":[0,1,2,3,4,5,6,7,8,9,10,11,12,13,14,15,16,17,18,19,20,21,22,23,24,25,26,27,28,29,30,31,32,33,34,35,36,37,38,39,40,41,42,43,44,45,46,47,48,49,50,51,52,53,54,55,56,57,58,59,60,61,62,63,64,65,66,67,68,69,70,71,72,73,74,75,76,77,78,79,80,81,82,83,84,85,86,87,88,89,90,91,92,93,94,95,96,97,98,99],\"xaxis\":\"x\",\"y\":[62.86219787597656,62.766231536865234,65.63348388671875,67.814453125,64.97622680664062,64.37574768066406,66.5442886352539,62.716552734375,64.36622619628906,59.319297790527344,59.59946060180664,55.99946212768555,56.447689056396484,54.438175201416016,50.323177337646484,45.844635009765625,45.47592544555664,47.03205108642578,46.674957275390625,42.402862548828125,45.611568450927734,40.6667366027832,45.274635314941406,41.40189743041992,41.24431610107422,37.794639587402344,34.504966735839844,36.24125671386719,21.083206176757812,25.551265716552734,27.07610321044922,27.92255401611328,25.27497673034668,32.075775146484375,32.92013168334961,32.989967346191406,40.04867172241211,39.80189895629883,43.01802444458008,42.2380256652832,52.59624099731445,54.891239166259766,55.86591339111328,60.22962188720703,63.01945495605469,70.64557647705078,78.94686126708984,76.88105773925781,87.99007415771484,87.71492004394531,50.87382125854492,47.09624481201172,62.63816452026367,64.305908203125,65.38203430175781,69.769287109375,81.2563705444336,97.28539276123047,111.30941009521484,106.59989929199219,112.85150146484375,117.75456237792969,124.57987976074219,126.3682632446289,129.48471069335938,122.07682037353516,130.24423217773438,131.02020263671875,135.74745178222656,132.1522979736328,139.41873168945312,131.64552307128906,141.94921875,141.5298614501953,145.47824096679688,136.3108367919922,134.57406616210938,136.8248748779297,114.01779174804688,114.76150512695312,113.89827728271484,108.24376678466797,106.66893005371094,97.6458740234375,99.71135711669922,92.00894165039062,94.67378234863281,88.89878845214844,89.44459533691406,88.45120239257812,88.64185333251953,86.72733306884766,85.1936264038086,84.35169219970703,86.15911102294922,87.92475128173828,87.67910766601562,86.80653381347656,86.02265930175781,87.90717315673828],\"yaxis\":\"y\",\"type\":\"scattergl\"},{\"hovertemplate\":\"Drv=BOT\\u003cbr\\u003eindex=%{x}\\u003cbr\\u003eResults=%{y}\\u003cextra\\u003e\\u003c\\u002fextra\\u003e\",\"legendgroup\":\"BOT\",\"line\":{\"color\":\"#FF97FF\",\"dash\":\"solid\"},\"marker\":{\"symbol\":\"circle\"},\"mode\":\"lines\",\"name\":\"BOT\",\"showlegend\":true,\"x\":[0,1,2,3,4,5,6,7,8,9,10,11,12,13,14,15,16,17,18,19,20,21,22,23,24,25,26,27,28,29,30,31,32,33,34,35,36,37,38,39,40,41,42,43,44,45,46,47,48,49,50,51,52,53,54,55,56,57,58,59,60,61,62,63,64,65,66,67,68,69,70,71,72,73,74,75,76,77,78,79,80,81,82,83,84,85,86,87,88,89,90,91,92,93,94,95,96,97,98,99],\"xaxis\":\"x\",\"y\":[36.147064208984375,36.31867599487305,30.85174560546875,23.322559356689453,21.874011993408203,21.5773983001709,18.352079391479492,9.271442413330078,10.437248229980469,7.55644416809082,8.361443519592285,4.353544235229492,7.261606216430664,1.720966100692749,6.4288649559021,9.959829330444336,6.220639228820801,3.0903196334838867,5.441930294036865,4.597576141357422,6.379509925842285,8.844184875488281,13.405794143676758,16.861112594604492,21.4804630279541,12.687084197998047,10.730795860290527,14.526276588439941,16.935466766357422,15.556597709655762,14.94998550415039,14.576437950134277,16.27143669128418,21.01255989074707,13.64627742767334,17.932401657104492,14.997405052185059,14.067405700683594,15.43804931640625,12.606117248535156,13.31143856048584,9.350152015686035,10.121764183044434,8.799346923828125,7.560637950897217,6.392574310302734,3.7022545337677,0.19403207302093506,0.6180639266967773,1.9309659004211426,66.75332641601562,66.32041931152344,65.49187469482422,70.65831756591797,66.83332061767578,64.9796142578125,64.86461639404297,67.45316314697266,74.55992889404297,74.86073303222656,73.68057250976562,73.88896179199219,75.99992370605469,78.52863311767578,75.38912200927734,73.44622039794922,71.46735382080078,76.5433120727539,76.45767211914062,75.40412139892578,77.70879364013672,78.07008361816406,79.12718200683594,82.18669891357422,91.06942749023438,84.80314636230469,76.12847900390625,84.22330474853516,65.42945098876953,72.6733169555664,72.81202697753906,77.37266540527344,70.85977172851562,72.0307388305664,70.4017105102539,71.12879943847656,71.93186950683594,77.28089141845703,70.64347839355469,88.55378723144531,90.38362121582031,95.16087341308594,92.08023834228516,102.62506103515625,104.51554870605469,118.40214538574219,128.63906860351562,127.3769760131836,130.53277587890625,129.3611602783203],\"yaxis\":\"y\",\"type\":\"scattergl\"},{\"hovertemplate\":\"Drv=PIA\\u003cbr\\u003eindex=%{x}\\u003cbr\\u003eResults=%{y}\\u003cextra\\u003e\\u003c\\u002fextra\\u003e\",\"legendgroup\":\"PIA\",\"line\":{\"color\":\"#FECB52\",\"dash\":\"solid\"},\"marker\":{\"symbol\":\"circle\"},\"mode\":\"lines\",\"name\":\"PIA\",\"showlegend\":true,\"x\":[0,1,2,3,4,5,6,7,8,9,10,11,12,13,14,15,16,17,18,19,20,21,22,23,24,25,26,27,28,29,30,31,32,33,34,35,36,37,38,39,40,41,42,43,44,45,46,47,48,49,50,51,52,53,54,55,56,57,58,59,60,61,62,63,64,65,66,67,68,69,70,71,72,73,74,75,76,77,78,79,80,81,82,83,84,85,86,87,88,89,90,91,92,93,94,95,96,97,98,99],\"xaxis\":\"x\",\"y\":[37.4614143371582,39.3052864074707,34.62416076660156,27.858200073242188,28.048198699951172,28.807069778442383,26.724328994750977,19.589981079101562,21.123205184936523,20.612077713012695,22.13755989074707,19.33578872680664,22.87852668762207,18.058853149414062,24.340299606323242,30.151744842529297,27.189973831176758,24.631912231445312,16.955951690673828,20.19127082824707,18.607240676879883,14.616437911987305,9.16563606262207,4.824833869934082,1.4733856916427612,8.524991989135742,0.7109670639038086,3.2698354721069336,3.919189929962158,0.43290281295776367,4.030963897705078,7.544992923736572,9.240959167480469,3.8401575088500977,18.30466079711914,11.887247085571289,17.674821853637695,19.810787200927734,17.832725524902344,22.996429443359375,20.959657669067383,28.370779037475586,25.35158920288086,27.764328002929688,29.73561668395996,32.070613861083984,38.63044738769531,45.081085205078125,43.343990325927734,48.847049713134766,56.010108947753906,53.58430480957031,54.68688201904297,42.083831787109375,46.42366409301758,44.27995681762695,42.42786407470703,36.08964157104492,21.205785751342773,17.497079849243164,18.587562561035156,16.120145797729492,11.047892570495605,5.470317363739014,8.145315170288086,7.164186477661133,9.373377799987793,0.3261287212371826,0.22387075424194336,1.0474183559417725,4.249028205871582,6.4596710205078125,7.4380574226379395,11.676279067993164,19.316755294799805,13.720793724060059,9.231603622436523,14.90385627746582,3.093384265899658,7.232251167297363,5.477575302124023,6.636606693267822,2.213062286376953,0.16129016876220703,1.3917728662490845,3.935318946838379,4.224189758300781,4.264673233032227,8.178056716918945,2.4645137786865234,3.2846741676330566,3.2362871170043945,7.3504767417907715,4.761769771575928,5.800800800323486,2.213062286376953,0.6720961332321167,1.030644178390503,1.0506441593170166,1.7480628490447998],\"yaxis\":\"y\",\"type\":\"scattergl\"}],                        {\"template\":{\"data\":{\"histogram2dcontour\":[{\"type\":\"histogram2dcontour\",\"colorbar\":{\"outlinewidth\":0,\"ticks\":\"\"},\"colorscale\":[[0.0,\"#0d0887\"],[0.1111111111111111,\"#46039f\"],[0.2222222222222222,\"#7201a8\"],[0.3333333333333333,\"#9c179e\"],[0.4444444444444444,\"#bd3786\"],[0.5555555555555556,\"#d8576b\"],[0.6666666666666666,\"#ed7953\"],[0.7777777777777778,\"#fb9f3a\"],[0.8888888888888888,\"#fdca26\"],[1.0,\"#f0f921\"]]}],\"choropleth\":[{\"type\":\"choropleth\",\"colorbar\":{\"outlinewidth\":0,\"ticks\":\"\"}}],\"histogram2d\":[{\"type\":\"histogram2d\",\"colorbar\":{\"outlinewidth\":0,\"ticks\":\"\"},\"colorscale\":[[0.0,\"#0d0887\"],[0.1111111111111111,\"#46039f\"],[0.2222222222222222,\"#7201a8\"],[0.3333333333333333,\"#9c179e\"],[0.4444444444444444,\"#bd3786\"],[0.5555555555555556,\"#d8576b\"],[0.6666666666666666,\"#ed7953\"],[0.7777777777777778,\"#fb9f3a\"],[0.8888888888888888,\"#fdca26\"],[1.0,\"#f0f921\"]]}],\"heatmap\":[{\"type\":\"heatmap\",\"colorbar\":{\"outlinewidth\":0,\"ticks\":\"\"},\"colorscale\":[[0.0,\"#0d0887\"],[0.1111111111111111,\"#46039f\"],[0.2222222222222222,\"#7201a8\"],[0.3333333333333333,\"#9c179e\"],[0.4444444444444444,\"#bd3786\"],[0.5555555555555556,\"#d8576b\"],[0.6666666666666666,\"#ed7953\"],[0.7777777777777778,\"#fb9f3a\"],[0.8888888888888888,\"#fdca26\"],[1.0,\"#f0f921\"]]}],\"heatmapgl\":[{\"type\":\"heatmapgl\",\"colorbar\":{\"outlinewidth\":0,\"ticks\":\"\"},\"colorscale\":[[0.0,\"#0d0887\"],[0.1111111111111111,\"#46039f\"],[0.2222222222222222,\"#7201a8\"],[0.3333333333333333,\"#9c179e\"],[0.4444444444444444,\"#bd3786\"],[0.5555555555555556,\"#d8576b\"],[0.6666666666666666,\"#ed7953\"],[0.7777777777777778,\"#fb9f3a\"],[0.8888888888888888,\"#fdca26\"],[1.0,\"#f0f921\"]]}],\"contourcarpet\":[{\"type\":\"contourcarpet\",\"colorbar\":{\"outlinewidth\":0,\"ticks\":\"\"}}],\"contour\":[{\"type\":\"contour\",\"colorbar\":{\"outlinewidth\":0,\"ticks\":\"\"},\"colorscale\":[[0.0,\"#0d0887\"],[0.1111111111111111,\"#46039f\"],[0.2222222222222222,\"#7201a8\"],[0.3333333333333333,\"#9c179e\"],[0.4444444444444444,\"#bd3786\"],[0.5555555555555556,\"#d8576b\"],[0.6666666666666666,\"#ed7953\"],[0.7777777777777778,\"#fb9f3a\"],[0.8888888888888888,\"#fdca26\"],[1.0,\"#f0f921\"]]}],\"surface\":[{\"type\":\"surface\",\"colorbar\":{\"outlinewidth\":0,\"ticks\":\"\"},\"colorscale\":[[0.0,\"#0d0887\"],[0.1111111111111111,\"#46039f\"],[0.2222222222222222,\"#7201a8\"],[0.3333333333333333,\"#9c179e\"],[0.4444444444444444,\"#bd3786\"],[0.5555555555555556,\"#d8576b\"],[0.6666666666666666,\"#ed7953\"],[0.7777777777777778,\"#fb9f3a\"],[0.8888888888888888,\"#fdca26\"],[1.0,\"#f0f921\"]]}],\"mesh3d\":[{\"type\":\"mesh3d\",\"colorbar\":{\"outlinewidth\":0,\"ticks\":\"\"}}],\"scatter\":[{\"fillpattern\":{\"fillmode\":\"overlay\",\"size\":10,\"solidity\":0.2},\"type\":\"scatter\"}],\"parcoords\":[{\"type\":\"parcoords\",\"line\":{\"colorbar\":{\"outlinewidth\":0,\"ticks\":\"\"}}}],\"scatterpolargl\":[{\"type\":\"scatterpolargl\",\"marker\":{\"colorbar\":{\"outlinewidth\":0,\"ticks\":\"\"}}}],\"bar\":[{\"error_x\":{\"color\":\"#2a3f5f\"},\"error_y\":{\"color\":\"#2a3f5f\"},\"marker\":{\"line\":{\"color\":\"#E5ECF6\",\"width\":0.5},\"pattern\":{\"fillmode\":\"overlay\",\"size\":10,\"solidity\":0.2}},\"type\":\"bar\"}],\"scattergeo\":[{\"type\":\"scattergeo\",\"marker\":{\"colorbar\":{\"outlinewidth\":0,\"ticks\":\"\"}}}],\"scatterpolar\":[{\"type\":\"scatterpolar\",\"marker\":{\"colorbar\":{\"outlinewidth\":0,\"ticks\":\"\"}}}],\"histogram\":[{\"marker\":{\"pattern\":{\"fillmode\":\"overlay\",\"size\":10,\"solidity\":0.2}},\"type\":\"histogram\"}],\"scattergl\":[{\"type\":\"scattergl\",\"marker\":{\"colorbar\":{\"outlinewidth\":0,\"ticks\":\"\"}}}],\"scatter3d\":[{\"type\":\"scatter3d\",\"line\":{\"colorbar\":{\"outlinewidth\":0,\"ticks\":\"\"}},\"marker\":{\"colorbar\":{\"outlinewidth\":0,\"ticks\":\"\"}}}],\"scattermapbox\":[{\"type\":\"scattermapbox\",\"marker\":{\"colorbar\":{\"outlinewidth\":0,\"ticks\":\"\"}}}],\"scatterternary\":[{\"type\":\"scatterternary\",\"marker\":{\"colorbar\":{\"outlinewidth\":0,\"ticks\":\"\"}}}],\"scattercarpet\":[{\"type\":\"scattercarpet\",\"marker\":{\"colorbar\":{\"outlinewidth\":0,\"ticks\":\"\"}}}],\"carpet\":[{\"aaxis\":{\"endlinecolor\":\"#2a3f5f\",\"gridcolor\":\"white\",\"linecolor\":\"white\",\"minorgridcolor\":\"white\",\"startlinecolor\":\"#2a3f5f\"},\"baxis\":{\"endlinecolor\":\"#2a3f5f\",\"gridcolor\":\"white\",\"linecolor\":\"white\",\"minorgridcolor\":\"white\",\"startlinecolor\":\"#2a3f5f\"},\"type\":\"carpet\"}],\"table\":[{\"cells\":{\"fill\":{\"color\":\"#EBF0F8\"},\"line\":{\"color\":\"white\"}},\"header\":{\"fill\":{\"color\":\"#C8D4E3\"},\"line\":{\"color\":\"white\"}},\"type\":\"table\"}],\"barpolar\":[{\"marker\":{\"line\":{\"color\":\"#E5ECF6\",\"width\":0.5},\"pattern\":{\"fillmode\":\"overlay\",\"size\":10,\"solidity\":0.2}},\"type\":\"barpolar\"}],\"pie\":[{\"automargin\":true,\"type\":\"pie\"}]},\"layout\":{\"autotypenumbers\":\"strict\",\"colorway\":[\"#636efa\",\"#EF553B\",\"#00cc96\",\"#ab63fa\",\"#FFA15A\",\"#19d3f3\",\"#FF6692\",\"#B6E880\",\"#FF97FF\",\"#FECB52\"],\"font\":{\"color\":\"#2a3f5f\"},\"hovermode\":\"closest\",\"hoverlabel\":{\"align\":\"left\"},\"paper_bgcolor\":\"white\",\"plot_bgcolor\":\"#E5ECF6\",\"polar\":{\"bgcolor\":\"#E5ECF6\",\"angularaxis\":{\"gridcolor\":\"white\",\"linecolor\":\"white\",\"ticks\":\"\"},\"radialaxis\":{\"gridcolor\":\"white\",\"linecolor\":\"white\",\"ticks\":\"\"}},\"ternary\":{\"bgcolor\":\"#E5ECF6\",\"aaxis\":{\"gridcolor\":\"white\",\"linecolor\":\"white\",\"ticks\":\"\"},\"baxis\":{\"gridcolor\":\"white\",\"linecolor\":\"white\",\"ticks\":\"\"},\"caxis\":{\"gridcolor\":\"white\",\"linecolor\":\"white\",\"ticks\":\"\"}},\"coloraxis\":{\"colorbar\":{\"outlinewidth\":0,\"ticks\":\"\"}},\"colorscale\":{\"sequential\":[[0.0,\"#0d0887\"],[0.1111111111111111,\"#46039f\"],[0.2222222222222222,\"#7201a8\"],[0.3333333333333333,\"#9c179e\"],[0.4444444444444444,\"#bd3786\"],[0.5555555555555556,\"#d8576b\"],[0.6666666666666666,\"#ed7953\"],[0.7777777777777778,\"#fb9f3a\"],[0.8888888888888888,\"#fdca26\"],[1.0,\"#f0f921\"]],\"sequentialminus\":[[0.0,\"#0d0887\"],[0.1111111111111111,\"#46039f\"],[0.2222222222222222,\"#7201a8\"],[0.3333333333333333,\"#9c179e\"],[0.4444444444444444,\"#bd3786\"],[0.5555555555555556,\"#d8576b\"],[0.6666666666666666,\"#ed7953\"],[0.7777777777777778,\"#fb9f3a\"],[0.8888888888888888,\"#fdca26\"],[1.0,\"#f0f921\"]],\"diverging\":[[0,\"#8e0152\"],[0.1,\"#c51b7d\"],[0.2,\"#de77ae\"],[0.3,\"#f1b6da\"],[0.4,\"#fde0ef\"],[0.5,\"#f7f7f7\"],[0.6,\"#e6f5d0\"],[0.7,\"#b8e186\"],[0.8,\"#7fbc41\"],[0.9,\"#4d9221\"],[1,\"#276419\"]]},\"xaxis\":{\"gridcolor\":\"white\",\"linecolor\":\"white\",\"ticks\":\"\",\"title\":{\"standoff\":15},\"zerolinecolor\":\"white\",\"automargin\":true,\"zerolinewidth\":2},\"yaxis\":{\"gridcolor\":\"white\",\"linecolor\":\"white\",\"ticks\":\"\",\"title\":{\"standoff\":15},\"zerolinecolor\":\"white\",\"automargin\":true,\"zerolinewidth\":2},\"scene\":{\"xaxis\":{\"backgroundcolor\":\"#E5ECF6\",\"gridcolor\":\"white\",\"linecolor\":\"white\",\"showbackground\":true,\"ticks\":\"\",\"zerolinecolor\":\"white\",\"gridwidth\":2},\"yaxis\":{\"backgroundcolor\":\"#E5ECF6\",\"gridcolor\":\"white\",\"linecolor\":\"white\",\"showbackground\":true,\"ticks\":\"\",\"zerolinecolor\":\"white\",\"gridwidth\":2},\"zaxis\":{\"backgroundcolor\":\"#E5ECF6\",\"gridcolor\":\"white\",\"linecolor\":\"white\",\"showbackground\":true,\"ticks\":\"\",\"zerolinecolor\":\"white\",\"gridwidth\":2}},\"shapedefaults\":{\"line\":{\"color\":\"#2a3f5f\"}},\"annotationdefaults\":{\"arrowcolor\":\"#2a3f5f\",\"arrowhead\":0,\"arrowwidth\":1},\"geo\":{\"bgcolor\":\"white\",\"landcolor\":\"#E5ECF6\",\"subunitcolor\":\"white\",\"showland\":true,\"showlakes\":true,\"lakecolor\":\"white\"},\"title\":{\"x\":0.05},\"mapbox\":{\"style\":\"light\"}}},\"xaxis\":{\"anchor\":\"y\",\"domain\":[0.0,1.0],\"title\":{\"text\":\"index\"}},\"yaxis\":{\"anchor\":\"x\",\"domain\":[0.0,1.0],\"title\":{\"text\":\"Results\"}},\"legend\":{\"title\":{\"text\":\"Drv\"},\"tracegroupgap\":0},\"margin\":{\"t\":60}},                        {\"responsive\": true}                    ).then(function(){\n",
              "                            \n",
              "var gd = document.getElementById('526aef52-6610-4de7-a4f1-dcfae6ab02d1');\n",
              "var x = new MutationObserver(function (mutations, observer) {{\n",
              "        var display = window.getComputedStyle(gd).display;\n",
              "        if (!display || display === 'none') {{\n",
              "            console.log([gd, 'removed!']);\n",
              "            Plotly.purge(gd);\n",
              "            observer.disconnect();\n",
              "        }}\n",
              "}});\n",
              "\n",
              "// Listen for the removal of the full notebook cells\n",
              "var notebookContainer = gd.closest('#notebook-container');\n",
              "if (notebookContainer) {{\n",
              "    x.observe(notebookContainer, {childList: true});\n",
              "}}\n",
              "\n",
              "// Listen for the clearing of the current output cell\n",
              "var outputEl = gd.closest('.output');\n",
              "if (outputEl) {{\n",
              "    x.observe(outputEl, {childList: true});\n",
              "}}\n",
              "\n",
              "                        })                };                            </script>        </div>\n",
              "</body>\n",
              "</html>"
            ]
          },
          "metadata": {},
          "output_type": "display_data"
        }
      ],
      "source": [
        "import plotly.express as px\n",
        "data = obs_loss[obs_loss['Iter'] == 0]\n",
        "fig = px.line(data, x = data.index, y = 'Results', color = 'Drv')\n",
        "fig.show()"
      ]
    },
    {
      "cell_type": "markdown",
      "metadata": {
        "id": "ZGwXN90vy1PI"
      },
      "source": [
        "# While others did not perform so well"
      ]
    },
    {
      "cell_type": "code",
      "execution_count": 301,
      "metadata": {
        "colab": {
          "base_uri": "https://localhost:8080/",
          "height": 542
        },
        "id": "qMdEOUF2yt1Z",
        "outputId": "930d0446-71ee-486e-97e4-e2843fab2bb5"
      },
      "outputs": [
        {
          "data": {
            "text/html": [
              "<html>\n",
              "<head><meta charset=\"utf-8\" /></head>\n",
              "<body>\n",
              "    <div>            <script src=\"https://cdnjs.cloudflare.com/ajax/libs/mathjax/2.7.5/MathJax.js?config=TeX-AMS-MML_SVG\"></script><script type=\"text/javascript\">if (window.MathJax && window.MathJax.Hub && window.MathJax.Hub.Config) {window.MathJax.Hub.Config({SVG: {font: \"STIX-Web\"}});}</script>                <script type=\"text/javascript\">window.PlotlyConfig = {MathJaxConfig: 'local'};</script>\n",
              "        <script charset=\"utf-8\" src=\"https://cdn.plot.ly/plotly-2.24.1.min.js\"></script>                <div id=\"4944d545-0975-4672-8fff-aaa366954371\" class=\"plotly-graph-div\" style=\"height:525px; width:100%;\"></div>            <script type=\"text/javascript\">                                    window.PLOTLYENV=window.PLOTLYENV || {};                                    if (document.getElementById(\"4944d545-0975-4672-8fff-aaa366954371\")) {                    Plotly.newPlot(                        \"4944d545-0975-4672-8fff-aaa366954371\",                        [{\"hovertemplate\":\"Drv=VER\\u003cbr\\u003eindex=%{x}\\u003cbr\\u003eResults=%{y}\\u003cextra\\u003e\\u003c\\u002fextra\\u003e\",\"legendgroup\":\"VER\",\"line\":{\"color\":\"#636efa\",\"dash\":\"solid\"},\"marker\":{\"symbol\":\"circle\"},\"mode\":\"lines\",\"name\":\"VER\",\"showlegend\":true,\"x\":[0,1,2,3,4,5,6,7,8,9,10,11,12,13,14,15,16,17,18,19,20,21,22,23,24,25,26,27,28,29,30,31,32,33,34,35,36,37,38,39,40,41,42,43,44,45,46,47,48,49,50,51,52,53,54,55,56,57,58,59,60,61,62,63,64,65,66,67,68,69,70,71,72,73,74,75,76,77,78,79,80,81,82,83,84,85,86,87,88,89,90,91,92,93,94,95,96,97,98,99],\"xaxis\":\"x\",\"y\":[264.9490966796875,255.5087890625,258.8878173828125,252.09201049804688,257.62652587890625,249.00299072265625,255.39556884765625,249.4604034423828,252.46136474609375,252.9868621826172,245.79234313964844,239.72235107421875,195.4398193359375,104.59667205810547,102.46151733398438,77.5425033569336,89.52378845214844,51.2938232421875,56.127044677734375,64.11703491210938,61.20413589477539,75.36251068115234,74.15960693359375,74.56379699707031,85.57669067382812,81.50701904296875,91.71087646484375,90.26830291748047,96.92313385009766,94.6344223022461,106.67635345458984,111.48763275146484,116.61569213867188,118.2931137084961,126.11923217773438,129.20310974121094,143.7872772216797,144.0556640625,156.27017211914062,162.3837127685547,173.2085418701172,186.39950561523438,187.26724243164062,201.55593872070312,212.59559631347656,214.2323760986328,231.1546173095703,234.984619140625,247.63040161132812,259.730712890625,305.84906005859375,309.61163330078125,310.04034423828125,325.1903381347656,326.4855041503906,331.09613037109375,331.69000244140625,340.7506408691406,357.489013671875,348.71868896484375,355.4770812988281,356.6028747558594,324.5151672363281,123.24536895751953,110.20215606689453,84.55830383300781,101.03312683105469,56.42252731323242,66.65283966064453,68.77509307861328,74.65025329589844,96.52119445800781,92.231201171875,98.68571472167969,106.67053985595703,117.59214782714844,131.1424560546875,146.5569610595703,147.38954162597656,149.96986389160156,158.3050079345703,164.7592010498047,161.96243286132812,177.05661010742188,180.43789672851562,189.7749786376953,204.62722778320312,205.25367736816406,212.73431396484375,218.64849853515625,223.42140197753906,226.64332580566406,234.45977783203125,243.447509765625,246.1213836669922,250.56394958496094,256.2884521484375,259.0058898925781,264.3645935058594,271.3013610839844],\"yaxis\":\"y\",\"type\":\"scattergl\"},{\"hovertemplate\":\"Drv=GAS\\u003cbr\\u003eindex=%{x}\\u003cbr\\u003eResults=%{y}\\u003cextra\\u003e\\u003c\\u002fextra\\u003e\",\"legendgroup\":\"GAS\",\"line\":{\"color\":\"#EF553B\",\"dash\":\"solid\"},\"marker\":{\"symbol\":\"circle\"},\"mode\":\"lines\",\"name\":\"GAS\",\"showlegend\":true,\"x\":[0,1,2,3,4,5,6,7,8,9,10,11,12,13,14,15,16,17,18,19,20,21,22,23,24,25,26,27,28,29,30,31,32,33,34,35,36,37,38,39,40,41,42,43,44,45,46,47,48,49,50,51,52,53,54,55,56,57,58,59,60,61,62,63,64,65,66,67,68,69,70,71,72,73,74,75,76,77,78,79,80,81,82,83,84,85,86,87,88,89,90,91,92,93,94,95,96,97,98,99],\"xaxis\":\"x\",\"y\":[35.19770812988281,38.39609146118164,34.861419677734375,31.37255096435547,25.956266403198242,28.738521575927734,23.90739631652832,25.36707305908203,22.26691436767578,17.01966094970703,15.68950080871582,13.738051414489746,1.454514741897583,196.70948791503906,177.1995086669922,136.06712341308594,149.88436889648438,36.241416931152344,34.704322814941406,39.743350982666016,38.665122985839844,46.685279846191406,50.385921478271484,50.9801139831543,58.30445861816406,56.03913879394531,65.8168716430664,65.64977264404297,70.14896392822266,69.04815673828125,77.99686431884766,82.18975830078125,86.17121124267578,87.19330596923828,92.58184814453125,94.71394348144531,104.4576416015625,104.14877319335938,112.09699249267578,117.08714294433594,122.10052490234375,132.14439392089844,132.7050323486328,144.2793731689453,152.88905334472656,154.94161987304688,169.07870483398438,172.9545135498047,183.4896697998047,193.2161102294922,104.97667694091797,100.89183807373047,100.39393615722656,81.83702087402344,80.61105346679688,75.79911804199219,75.38944244384766,68.50235748291016,56.564300537109375,60.584136962890625,52.71075439453125,49.55366134643555,37.53948211669922,110.55360412597656,85.48088836669922,51.11382293701172,66.22767639160156,33.63125991821289,28.611263275146484,24.56513786315918,18.34708023071289,5.194833755493164,0.500967264175415,4.667253494262695,10.58482837677002,19.95256233215332,31.133840560913086,44.395118713378906,45.863826751708984,50.08753204345703,57.83784866333008,65.7944564819336,66.71138763427734,81.73976135253906,86.3125,96.22151947021484,112.86183166503906,113.35070037841797,121.26875305175781,129.5092315673828,134.8069610595703,138.9813232421875,151.41566467285156,166.26983642578125,170.19081115722656,178.81353759765625,188.98756408691406,195.0377197265625,204.4080352783203,215.42446899414062],\"yaxis\":\"y\",\"type\":\"scattergl\"},{\"hovertemplate\":\"Drv=PER\\u003cbr\\u003eindex=%{x}\\u003cbr\\u003eResults=%{y}\\u003cextra\\u003e\\u003c\\u002fextra\\u003e\",\"legendgroup\":\"PER\",\"line\":{\"color\":\"#00cc96\",\"dash\":\"solid\"},\"marker\":{\"symbol\":\"circle\"},\"mode\":\"lines\",\"name\":\"PER\",\"showlegend\":true,\"x\":[0,1,2,3,4,5,6,7,8,9,10,11,12,13,14,15,16,17,18,19,20,21,22,23,24,25,26,27,28,29,30,31,32,33,34,35,36,37,38,39,40,41,42,43,44,45,46,47,48,49,50,51,52,53,54,55,56,57,58,59,60,61,62,63,64,65,66,67,68,69,70,71,72,73,74,75,76,77,78,79,80,81,82,83,84,85,86,87,88,89,90,91,92,93,94,95,96,97,98,99],\"xaxis\":\"x\",\"y\":[300.5951843261719,294.6558532714844,300.4329528808594,302.8655090332031,311.2577819824219,303.4422912597656,310.6913146972656,305.2045593261719,309.3961486816406,312.8729248046875,310.1922912597656,307.7806701660156,287.10650634765625,112.32892608642578,97.85797119140625,48.39156723022461,69.21122741699219,29.42545509338379,33.94416046142578,30.01835823059082,32.60512924194336,21.364173889160156,23.821590423583984,22.58901023864746,13.549986839294434,16.957725524902344,3.484835386276245,3.9222543239593506,1.39290189743042,0.08129024505615234,10.853538513183594,15.296113967895508,19.741594314575195,20.79320526123047,27.264490127563477,29.89545440673828,42.081573486328125,42.10931396484375,52.4734992980957,58.08317184448242,64.68929290771484,74.87799072265625,74.67767333984375,86.61991882324219,95.4660415649414,97.27507019042969,112.0731201171875,113.71376037597656,124.4085922241211,133.387939453125,208.7323760986328,209.9636688232422,209.94076538085938,227.2978515625,228.0604248046875,230.22268676757812,230.92398071289062,237.82815551757812,252.36073303222656,243.3184814453125,248.7104034423828,249.2907257080078,234.53880310058594,86.3370132446289,73.81702423095703,33.421905517578125,52.76123809814453,28.974811553955078,25.788040161132812,23.950300216674805,17.37482261657715,1.463869571685791,1.188063383102417,8.437088966369629,16.474178314208984,28.96416664123535,47.16995620727539,64.03703308105469,65.91993713378906,71.25347900390625,80.96959686279297,91.27700805664062,92.6844253540039,108.5289306640625,113.7537612915039,123.24311065673828,139.5082550048828,140.29147338867188,148.32147216796875,154.3982391357422,160.07920837402344,163.4379119873047,171.92242431640625,181.01918029785156,183.42337036132812,188.988525390625,194.68142700195312,197.27272033691406,202.6798095703125,209.7139892578125],\"yaxis\":\"y\",\"type\":\"scattergl\"},{\"hovertemplate\":\"Drv=ALO\\u003cbr\\u003eindex=%{x}\\u003cbr\\u003eResults=%{y}\\u003cextra\\u003e\\u003c\\u002fextra\\u003e\",\"legendgroup\":\"ALO\",\"line\":{\"color\":\"#ab63fa\",\"dash\":\"solid\"},\"marker\":{\"symbol\":\"circle\"},\"mode\":\"lines\",\"name\":\"ALO\",\"showlegend\":true,\"x\":[0,1,2,3,4,5,6,7,8,9,10,11,12,13,14,15,16,17,18,19,20,21,22,23,24,25,26,27,28,29,30,31,32,33,34,35,36,37,38,39,40,41,42,43,44,45,46,47,48,49,50,51,52,53,54,55,56,57,58,59,60,61,62,63,64,65,66,67,68,69,70,71,72,73,74,75,76,77,78,79,80,81,82,83,84,85,86,87,88,89,90,91,92,93,94,95,96,97,98,99],\"xaxis\":\"x\",\"y\":[89.38056182861328,84.80056762695312,88.68637084960938,82.77249908447266,89.61878204345703,85.52943420410156,92.48474884033203,90.70813751220703,95.35345458984375,104.43392944335938,104.39441680908203,108.28166961669922,95.43458557128906,38.98480224609375,33.21529006958008,35.65593338012695,33.1648063659668,6.173542499542236,0.6296768188476562,5.393543243408203,0.2982255220413208,14.121599197387695,15.697242736816406,15.386436462402344,27.21949005126953,22.95207405090332,35.86157989501953,33.65399932861328,40.832542419433594,38.12141418457031,49.23946762084961,55.00543212890625,59.39188003540039,60.83574676513672,67.49784088134766,69.82977294921875,82.30766296386719,82.13895416259766,90.23297882080078,93.77555847167969,98.89474487304688,108.52909088134766,108.22054290771484,117.60343933105469,124.78874969482422,124.18585205078125,133.6106719970703,135.1148681640625,141.34341430664062,146.6406707763672,180.05160522460938,173.44918823242188,173.0762939453125,170.41241455078125,170.188232421875,163.30484008789062,163.43759155273438,158.4219512939453,162.563232421875,153.6030731201172,151.82034301757812,144.53599548339844,126.25116729736328,46.380924224853516,34.26254653930664,32.779483795166016,30.459163665771484,23.262235641479492,17.692724227905273,12.120795249938965,9.14741039276123,13.957406044006348,7.91676664352417,7.150960922241211,7.865476608276367,7.9048309326171875,13.34160041809082,16.941919326782227,15.738371849060059,13.483535766601562,14.38869571685791,16.75643539428711,10.797086715698242,19.440303802490234,19.31191635131836,25.969329833984375,36.68351364135742,36.7135124206543,40.828025817871094,45.75672912597656,48.450599670410156,49.95511245727539,58.0951042175293,68.7647705078125,71.4328384399414,76.09476470947266,84.92282104492188,88.10797882080078,96.62281036376953,107.5260238647461],\"yaxis\":\"y\",\"type\":\"scattergl\"},{\"hovertemplate\":\"Drv=LEC\\u003cbr\\u003eindex=%{x}\\u003cbr\\u003eResults=%{y}\\u003cextra\\u003e\\u003c\\u002fextra\\u003e\",\"legendgroup\":\"LEC\",\"line\":{\"color\":\"#FFA15A\",\"dash\":\"solid\"},\"marker\":{\"symbol\":\"circle\"},\"mode\":\"lines\",\"name\":\"LEC\",\"showlegend\":true,\"x\":[0,1,2,3,4,5,6,7,8,9,10,11,12,13,14,15,16,17,18,19,20,21,22,23,24,25,26,27,28,29,30,31,32,33,34,35,36,37,38,39,40,41,42,43,44,45,46,47,48,49,50,51,52,53,54,55,56,57,58,59,60,61,62,63,64,65,66,67,68,69,70,71,72,73,74,75,76,77,78,79,80,81,82,83,84,85,86,87,88,89,90,91,92,93,94,95,96,97,98,99],\"xaxis\":\"x\",\"y\":[217.4014129638672,205.49432373046875,211.7533416748047,205.30560302734375,210.7714080810547,202.7781982421875,207.10850524902344,207.879150390625,209.44464111328125,206.60980224609375,200.86883544921875,195.41336059570312,169.83822631835938,88.03411102294922,65.63316345214844,53.904788970947266,52.654144287109375,35.607383728027344,23.00062370300293,23.113203048706055,21.881591796875,20.632238388061523,23.381912231445312,18.889982223510742,25.5502986907959,18.612884521484375,26.575780868530273,21.865785598754883,30.466100692749023,29.883520126342773,32.987709045410156,32.04706573486328,29.82642364501953,29.159326553344727,36.638031005859375,35.74190139770508,41.30609130859375,45.68866729736328,48.286407470703125,57.851234436035156,53.42607879638672,62.03348922729492,69.23799896240234,69.5796127319336,83.37637329101562,82.66863250732422,93.27603912353516,99.80474090576172,110.95828247070312,122.43795013427734,162.88597106933594,171.69435119628906,172.61532592773438,172.7220916748047,172.57337951660156,175.47918701171875,190.39013671875,179.82757568359375,190.98788452148438,190.87368774414062,196.14593505859375,193.3720703125,154.16500854492188,9.139991760253906,12.155471801757812,29.54448699951172,19.041271209716797,18.57546615600586,18.49449920654297,8.191927909851074,8.52999210357666,3.403867721557617,1.636772632598877,7.806121826171875,16.517080307006836,25.170621871948242,28.49997329711914,29.315778732299805,34.03577423095703,37.197383880615234,35.09996795654297,46.100276947021484,45.0412483215332,51.132530212402344,61.34639358520508,61.45929718017578,65.02058410644531,69.52864074707031,71.99573516845703,73.76348114013672,79.00960540771484,86.47443389892578,88.1202392578125,92.22249603271484,97.66023254394531,99.43441772460938,104.89667510986328,111.11892700195312,113.15924835205078,119.27859497070312],\"yaxis\":\"y\",\"type\":\"scattergl\"},{\"hovertemplate\":\"Drv=STR\\u003cbr\\u003eindex=%{x}\\u003cbr\\u003eResults=%{y}\\u003cextra\\u003e\\u003c\\u002fextra\\u003e\",\"legendgroup\":\"STR\",\"line\":{\"color\":\"#19d3f3\",\"dash\":\"solid\"},\"marker\":{\"symbol\":\"circle\"},\"mode\":\"lines\",\"name\":\"STR\",\"showlegend\":true,\"x\":[0,1,2,3,4,5,6,7,8,9,10,11,12,13,14,15,16,17,18,19,20,21,22,23,24,25,26,27,28,29,30,31,32,33,34,35,36,37,38,39,40,41,42,43,44,45,46,47,48,49,50,51,52,53,54,55,56,57,58,59,60,61,62,63,64,65,66,67,68,69,70,71,72,73,74,75,76,77,78,79,80,81,82,83,84,85,86,87,88,89,90,91,92,93,94,95,96,97,98,99],\"xaxis\":\"x\",\"y\":[151.18646240234375,148.1934051513672,152.47662353515625,149.5198516845703,155.76211547851562,151.1125946044922,156.7640380859375,154.2288818359375,156.88372802734375,159.4385528564453,157.5459747314453,156.6753387451172,149.61776733398438,50.112693786621094,37.288997650146484,10.600151062011719,16.38901710510254,55.754783630371094,62.95090866088867,63.951229095458984,67.84074401855469,63.841552734375,66.23397064208984,68.26428985595703,66.09251403808594,69.31558227539062,64.055908203125,66.86993408203125,65.74784088134766,68.76912689208984,68.00719451904297,67.21993255615234,68.97364044189453,69.21412658691406,68.94961547851562,68.53864288330078,65.15299987792969,65.3705825805664,63.62784194946289,63.20816421508789,60.94284439086914,57.274784088134766,58.29865264892578,53.484947204589844,48.82882308959961,49.21446990966797,40.97705841064453,40.0673828125,33.82851791381836,27.670940399169922,65.52510070800781,68.13009643554688,68.23703002929688,80.64863586425781,81.45734405517578,85.71475982666016,86.54459381103516,94.64200592041016,106.79683685302734,102.5273208618164,109.88941192626953,114.90263366699219,117.33698272705078,53.53688430786133,62.36478042602539,66.90106201171875,61.01945877075195,93.5721664428711,91.8320083618164,91.3968505859375,87.16523742675781,71.2631607055664,70.15348052978516,65.71025848388672,59.5684928894043,49.58333969116211,36.32109451293945,24.134170532226562,23.639331817626953,21.80868911743164,17.666595458984375,10.419506072998047,13.946922302246094,0.8280637264251709,0.6919348239898682,8.044670104980469,19.41675567626953,19.60740089416504,22.13465690612793,24.89771842956543,27.81029510498047,29.1085205078125,34.49690246582031,40.1310920715332,41.616249084472656,43.33850860595703,46.787376403808594,47.9801139831543,50.92462921142578,54.62301254272461],\"yaxis\":\"y\",\"type\":\"scattergl\"},{\"hovertemplate\":\"Drv=SAR\\u003cbr\\u003eindex=%{x}\\u003cbr\\u003eResults=%{y}\\u003cextra\\u003e\\u003c\\u002fextra\\u003e\",\"legendgroup\":\"SAR\",\"line\":{\"color\":\"#FF6692\",\"dash\":\"solid\"},\"marker\":{\"symbol\":\"circle\"},\"mode\":\"lines\",\"name\":\"SAR\",\"showlegend\":true,\"x\":[0,1,2,3,4,5,6,7,8,9,10,11,12,13,14,15,16,17,18,19,20,21,22,23,24,25,26,27,28,29,30,31,32,33,34,35,36,37,38,39,40,41,42,43,44,45,46,47,48,49,50,51,52,53,54,55,56,57,58,59,60,61,62,63,64,65,66,67,68,69,70,71,72,73,74,75,76,77,78,79,80,81,82,83,84,85,86,87,88,89,90,91,92,93,94,95,96,97,98,99],\"xaxis\":\"x\",\"y\":[105.33345031738281,107.962158203125,99.69570922851562,103.74022674560547,91.47281646728516,95.27120208740234,84.7473373413086,86.0555648803711,80.37492370605469,72.33525085449219,73.34089660644531,73.27767181396484,88.38910675048828,87.36475372314453,92.22588348388672,96.76716613769531,94.2442626953125,136.0919647216797,146.9274444580078,147.0548553466797,151.61033630371094,144.38856506347656,148.2917938232422,148.886474609375,143.3287353515625,147.66357421875,140.0208282470703,141.887451171875,139.43051147460938,142.37696838378906,137.35018920898438,136.0132598876953,136.4408416748047,136.65745544433594,134.4627685546875,133.2626190185547,127.78874969482422,128.05503845214844,124.17424011230469,121.62036895751953,118.92472839355469,113.49005126953125,113.59553527832031,106.71473693847656,101.30667877197266,101.27151489257812,91.86797332763672,90.30571746826172,83.29814910888672,77.01105499267578,142.25131225585938,141.32664489746094,141.1851806640625,127.4937515258789,126.67842864990234,125.25294494628906,124.8819808959961,119.09117889404297,106.34231567382812,112.15924835205078,103.88893127441406,101.44828796386719,102.68877410888672,47.247535705566406,53.599788665771484,74.27073669433594,58.23332977294922,141.75550842285156,142.154541015625,143.02679443359375,139.98326110839844,125.549072265625,131.10971069335938,127.2658462524414,122.37181854248047,117.23827362060547,104.91748046875,95.65151977539062,96.13152313232422,96.54393768310547,91.61023712158203,87.28040313720703,93.03910827636719,81.93379211425781,81.04347229003906,72.81896209716797,60.0483283996582,60.02849197387695,54.775917053222656,48.55817794799805,45.24818420410156,43.92608642578125,34.899322509765625,23.639009475708008,21.071914672851562,16.64933967590332,8.666281700134277,6.761445045471191,0.5238704681396484,9.04144287109375],\"yaxis\":\"y\",\"type\":\"scattergl\"},{\"hovertemplate\":\"Drv=MAG\\u003cbr\\u003eindex=%{x}\\u003cbr\\u003eResults=%{y}\\u003cextra\\u003e\\u003c\\u002fextra\\u003e\",\"legendgroup\":\"MAG\",\"line\":{\"color\":\"#B6E880\",\"dash\":\"solid\"},\"marker\":{\"symbol\":\"circle\"},\"mode\":\"lines\",\"name\":\"MAG\",\"showlegend\":true,\"x\":[0,1,2,3,4,5,6,7,8,9,10,11,12,13,14,15,16,17,18,19,20,21,22,23,24,25,26,27,28,29,30,31,32,33,34,35,36,37,38,39,40,41,42,43,44,45,46,47,48,49,50,51,52,53,54,55,56,57,58,59,60,61,62,63,64,65,66,67,68,69,70,71,72,73,74,75,76,77,78,79,80,81,82,83,84,85,86,87,88,89,90,91,92,93,94,95,96,97,98,99],\"xaxis\":\"x\",\"y\":[12.636923789978027,8.923297882080078,12.198698043823242,10.379344940185547,14.466599464416504,10.297086715698242,14.424663543701172,11.759505271911621,13.65893840789795,14.603775978088379,12.997568130493164,10.71829605102539,7.657573223114014,0.46951568126678467,6.093542575836182,9.7151517868042,8.969749450683594,48.774147033691406,56.696075439453125,60.5326042175293,64.83171081542969,61.740264892578125,66.90026092529297,67.71710968017578,64.92082214355469,68.19429016113281,62.56727981567383,63.92082595825195,62.541229248046875,64.52993774414062,60.4176025390625,58.704219818115234,58.12607192993164,58.012203216552734,55.51059341430664,54.30430221557617,48.61188888549805,48.738582611083984,44.55431365966797,41.76939392089844,38.602142333984375,33.119808197021484,33.18553161621094,26.173927307128906,20.87344741821289,20.76788330078125,11.703133583068848,10.231039047241211,3.536609649658203,2.1091108322143555,54.22333526611328,50.41350173950195,50.23422622680664,33.73649978637695,32.89077377319336,29.121021270751953,28.64279556274414,21.800947189331055,10.201925277709961,15.121275901794434,8.015557289123535,5.895074844360352,7.833056926727295,87.53620910644531,109.3651351928711,132.08245849609375,124.60020446777344,158.92735290527344,156.76686096191406,159.6884002685547,158.23081970214844,143.1986541748047,147.20631408691406,143.38816833496094,137.7273712158203,130.2554473876953,116.65819549560547,103.4693374633789,103.65821075439453,102.83643341064453,96.22337341308594,88.4189453125,94.07498931884766,75.81444549560547,72.8333969116211,60.09784698486328,39.2023811340332,38.78302764892578,30.52287483215332,21.371431350708008,14.637405395507812,11.32434368133545,2.444755792617798,19.683046340942383,23.962881088256836,31.672470092773438,43.65100860595703,48.024227142333984,59.1621208190918,72.83678436279297],\"yaxis\":\"y\",\"type\":\"scattergl\"},{\"hovertemplate\":\"Drv=DEV\\u003cbr\\u003eindex=%{x}\\u003cbr\\u003eResults=%{y}\\u003cextra\\u003e\\u003c\\u002fextra\\u003e\",\"legendgroup\":\"DEV\",\"line\":{\"color\":\"#FF97FF\",\"dash\":\"solid\"},\"marker\":{\"symbol\":\"circle\"},\"mode\":\"lines\",\"name\":\"DEV\",\"showlegend\":true,\"x\":[0,1,2,3,4,5,6,7,8,9,10,11,12,13,14,15,16,17,18,19,20,21,22,23,24,25,26,27,28,29,30,31,32,33,34,35,36,37,38,39,40,41,42,43,44,45,46,47,48,49,50,51,52,53,54,55,56,57,58,59,60,61,62,63,64,65,66,67,68,69,70,71,72,73,74,75,76,77,78,79,80,81,82,83,84,85,86,87,88,89,90,91,92,93,94,95,96,97,98,99],\"xaxis\":\"x\",\"y\":[34.45706558227539,43.06632995605469,37.14423751831055,44.22785949707031,34.476016998291016,43.823184967041016,33.68165969848633,38.901092529296875,32.99738693237305,24.744976043701172,26.71747398376465,27.099166870117188,39.55246353149414,55.19414138793945,60.2913932800293,66.44469451904297,62.03703689575195,113.31642150878906,123.40206146240234,119.38351440429688,126.8370590209961,111.6917495727539,112.46255493164062,113.1356201171875,99.6344223022461,107.6874771118164,88.92047882080078,92.61821746826172,85.66161346435547,91.64958953857422,78.7262954711914,73.15791320800781,73.01420593261719,73.23855590820312,68.00428771972656,64.9997787475586,52.101078033447266,52.86260986328125,43.03858947753906,36.84318923950195,29.090778350830078,17.21530532836914,18.227401733398438,3.7928996086120605,7.039348125457764,8.007895469665527,25.639976501464844,26.852394104003906,37.511898040771484,45.23350524902344,14.728534698486328,14.41063117980957,14.489340782165527,3.3520936965942383,3.039997100830078,4.980801582336426,4.63547945022583,4.254350662231445,3.124351978302002,3.8809640407562256,1.2129020690917969,4.413866996765137,9.411442756652832,11.446118354797363,2.917255401611328,26.077878952026367,13.230148315429688,119.50408172607422,127.69245910644531,133.52357482910156,134.98471069335938,128.07713317871094,133.05020141601562,131.95181274414062,129.71971130371094,128.7230987548828,117.77472686767578,111.9952163696289,112.95828247070312,114.41553497314453,110.64537811279297,107.48102569580078,113.09892272949219,103.23844909667969,102.72022247314453,94.57862091064453,82.19621276855469,82.23895263671875,76.48654174804688,69.30525970458984,63.94655227661133,62.07606887817383,52.392208099365234,39.544639587402344,36.473350524902344,29.454004287719727,19.86465835571289,16.605144500732422,7.602734565734863,3.3799967765808105],\"yaxis\":\"y\",\"type\":\"scattergl\"},{\"hovertemplate\":\"Drv=TSU\\u003cbr\\u003eindex=%{x}\\u003cbr\\u003eResults=%{y}\\u003cextra\\u003e\\u003c\\u002fextra\\u003e\",\"legendgroup\":\"TSU\",\"line\":{\"color\":\"#FECB52\",\"dash\":\"solid\"},\"marker\":{\"symbol\":\"circle\"},\"mode\":\"lines\",\"name\":\"TSU\",\"showlegend\":true,\"x\":[0,1,2,3,4,5,6,7,8,9,10,11,12,13,14,15,16,17,18,19,20,21,22,23,24,25,26,27,28,29,30,31,32,33,34,35,36,37,38,39,40,41,42,43,44,45,46,47,48,49,50,51,52,53,54,55,56,57,58,59,60,61,62,63,64,65,66,67,68,69,70,71,72,73,74,75,76,77,78,79,80,81,82,83,84,85,86,87,88,89,90,91,92,93,94,95,96,97,98,99],\"xaxis\":\"x\",\"y\":[41.3404426574707,48.646568298339844,46.01140594482422,48.479793548583984,44.12398910522461,51.27430725097656,46.7170524597168,51.90898132324219,49.29285430908203,47.39592361450195,49.33882522583008,52.87607955932617,67.67719268798828,158.48855590820312,173.44967651367188,198.56094360351562,191.9441680908203,232.9296112060547,240.3905792236328,241.4709014892578,248.0892791748047,239.3633270263672,244.61976623535156,245.7183074951172,237.26800537109375,243.58670043945312,231.4349365234375,234.3412322998047,229.70751953125,234.26171875,224.6494598388672,220.7041473388672,219.55075073242188,219.20204162597656,214.39447021484375,212.03302001953125,201.149169921875,201.5952911376953,193.2885284423828,188.45884704589844,182.7612762451172,172.48048400878906,172.81967163085938,160.7241973876953,151.5159912109375,151.08050537109375,136.92599487304688,135.29100036621094,125.93907165527344,118.52714538574219,86.58023834228516,85.97233581542969,86.09846496582031,72.88912200927734,72.50299835205078,73.10234832763672,72.97299194335938,70.68347930908203,60.86058807373047,68.0684814453125,63.44477844238281,64.96493530273438,73.48799133300781,217.17721557617188,238.51187133789062,244.3307342529297,241.46041870117188,236.78639221191406,236.62106323242188,240.84332275390625,240.60137939453125,228.79493713378906,234.43284606933594,231.08575439453125,226.61688232421875,221.96107482910156,211.15286254882812,200.3362579345703,201.21641540527344,201.57029724121094,195.52755737304688,189.83482360839844,195.33352661132812,179.811767578125,177.49224853515625,166.52984619140625,148.9830780029297,148.92857360839844,142.11260986328125,134.8566436767578,130.75294494628906,128.61874389648438,119.94779205322266,110.38279724121094,108.31263732910156,104.78376770019531,98.96990203857422,97.16216278076172,92.141845703125,86.80233764648438],\"yaxis\":\"y\",\"type\":\"scattergl\"},{\"hovertemplate\":\"Drv=ALB\\u003cbr\\u003eindex=%{x}\\u003cbr\\u003eResults=%{y}\\u003cextra\\u003e\\u003c\\u002fextra\\u003e\",\"legendgroup\":\"ALB\",\"line\":{\"color\":\"#636efa\",\"dash\":\"solid\"},\"marker\":{\"symbol\":\"circle\"},\"mode\":\"lines\",\"name\":\"ALB\",\"showlegend\":true,\"x\":[0,1,2,3,4,5,6,7,8,9,10,11,12,13,14,15,16,17,18,19,20,21,22,23,24,25,26,27,28,29,30,31,32,33,34,35,36,37,38,39,40,41,42,43,44,45,46,47,48,49,50,51,52,53,54,55,56,57,58,59,60,61,62,63,64,65,66,67,68,69,70,71,72,73,74,75,76,77,78,79,80,81,82,83,84,85,86,87,88,89,90,91,92,93,94,95,96,97,98,99],\"xaxis\":\"x\",\"y\":[88.57443237304688,95.34136199951172,91.8857192993164,93.4791030883789,87.33895111083984,93.86361694335938,87.5242691040039,91.4787826538086,87.27120971679688,80.31024932861328,80.24137878417969,79.38798522949219,86.92282104492188,178.27757263183594,191.17965698242188,208.31689453125,202.14544677734375,243.44863891601562,249.42718505859375,245.50363159179688,251.26185607910156,238.02316284179688,239.80767822265625,239.62347412109375,227.61639404296875,233.23138427734375,218.26947021484375,220.34608459472656,213.9988250732422,217.74398803710938,206.200927734375,201.37351989746094,199.3406219482422,198.89352416992188,194.18368530273438,192.03868103027344,182.91175842285156,183.41207885742188,176.83290100097656,173.04241943359375,169.38742065429688,161.8848419189453,162.4390411376953,153.6845245361328,147.16517639160156,147.32164001464844,136.84793090820312,136.0930938720703,128.81068420410156,122.8413314819336,115.99198913574219,116.58246612548828,116.61085510253906,102.68780517578125,102.11006164550781,102.2568359375,102.14925384521484,98.52361297607422,87.1292724609375,94.0905532836914,87.69104766845703,87.74539947509766,90.71314239501953,174.03338623046875,194.26609802246094,203.66238403320312,197.55770874023438,206.1202850341797,203.44400024414062,205.10206604003906,202.93238830566406,188.774658203125,192.0548095703125,187.25965881347656,181.48709106445312,174.74322509765625,164.0853271484375,153.4974365234375,154.04469299316406,154.09243774414062,148.9085693359375,144.71292114257812,148.90679931640625,139.32357788085938,138.43374633789062,132.26051330566406,123.64665985107422,123.90310668945312,120.75020599365234,116.84133911132812,116.12101745605469,115.80085754394531,111.6960220336914,106.30215454101562,105.24909210205078,103.1257095336914,99.62281036376953,98.89781188964844,95.78781127929688,92.29136657714844],\"yaxis\":\"y\",\"type\":\"scattergl\"},{\"hovertemplate\":\"Drv=ZHO\\u003cbr\\u003eindex=%{x}\\u003cbr\\u003eResults=%{y}\\u003cextra\\u003e\\u003c\\u002fextra\\u003e\",\"legendgroup\":\"ZHO\",\"line\":{\"color\":\"#EF553B\",\"dash\":\"solid\"},\"marker\":{\"symbol\":\"circle\"},\"mode\":\"lines\",\"name\":\"ZHO\",\"showlegend\":true,\"x\":[0,1,2,3,4,5,6,7,8,9,10,11,12,13,14,15,16,17,18,19,20,21,22,23,24,25,26,27,28,29,30,31,32,33,34,35,36,37,38,39,40,41,42,43,44,45,46,47,48,49,50,51,52,53,54,55,56,57,58,59,60,61,62,63,64,65,66,67,68,69,70,71,72,73,74,75,76,77,78,79,80,81,82,83,84,85,86,87,88,89,90,91,92,93,94,95,96,97,98,99],\"xaxis\":\"x\",\"y\":[69.8629150390625,72.385498046875,66.30921173095703,68.50396728515625,58.531394958496094,61.553165435791016,51.50043487548828,51.10769271850586,44.83156967163086,31.55843734741211,30.483196258544922,24.551992416381836,35.27811050415039,72.91590118408203,85.59064483642578,114.84779357910156,106.44562530517578,228.297607421875,243.46864318847656,238.9421844482422,245.5191192626953,231.0189666748047,231.38719177246094,231.50509643554688,217.55349731445312,224.38583374023438,207.79649353027344,210.6600341796875,203.2782745361328,208.03028869628906,193.94296264648438,187.872802734375,185.37232971191406,184.78128051757812,177.6074981689453,174.35475158691406,159.48162841796875,159.88388061523438,149.26324462890625,142.7122039794922,134.3201141357422,121.20609283447266,121.4937515258789,106.12167358398438,94.69490814208984,93.13434600830078,75.51299285888672,73.39525604248047,62.36106872558594,54.447853088378906,70.22831726074219,66.5328369140625,66.26557922363281,54.1873664855957,53.50994873046875,51.48640441894531,51.26462936401367,47.12382507324219,38.90641403198242,41.747379302978516,36.55577087402344,34.37061309814453,37.2089958190918,92.10572052001953,101.81103515625,122.04214477539062,110.961669921875,170.88160705566406,172.2125701904297,172.8614501953125,170.25015258789062,162.86468505859375,164.5051727294922,161.71629333496094,158.53421020507812,154.49517822265625,146.15469360351562,138.84405517578125,138.67083740234375,137.5258331298828,132.9058380126953,128.8208465576172,131.19842529296875,121.0902099609375,118.37069702148438,110.7489242553711,97.13619995117188,96.60087585449219,90.50410461425781,83.90233612060547,77.29960632324219,74.37444305419922,63.534454345703125,50.818016052246094,47.54043960571289,40.7531852722168,31.491744995117188,27.3981990814209,18.599821090698242,7.510315418243408],\"yaxis\":\"y\",\"type\":\"scattergl\"},{\"hovertemplate\":\"Drv=HUL\\u003cbr\\u003eindex=%{x}\\u003cbr\\u003eResults=%{y}\\u003cextra\\u003e\\u003c\\u002fextra\\u003e\",\"legendgroup\":\"HUL\",\"line\":{\"color\":\"#00cc96\",\"dash\":\"solid\"},\"marker\":{\"symbol\":\"circle\"},\"mode\":\"lines\",\"name\":\"HUL\",\"showlegend\":true,\"x\":[0,1,2,3,4,5,6,7,8,9,10,11,12,13,14,15,16,17,18,19,20,21,22,23,24,25,26,27,28,29,30,31,32,33,34,35,36,37,38,39,40,41,42,43,44,45,46,47,48,49,50,51,52,53,54,55,56,57,58,59,60,61,62,63,64,65,66,67,68,69,70,71,72,73,74,75,76,77,78,79,80,81,82,83,84,85,86,87,88,89,90,91,92,93,94,95,96,97,98,99],\"xaxis\":\"x\",\"y\":[59.886959075927734,55.29244613647461,57.67397689819336,56.16551208496094,60.1823616027832,56.21349334716797,61.11050796508789,59.68558883666992,62.77486038208008,68.87307739257812,69.5421142578125,74.49767303466797,91.62047576904297,6.550558090209961,6.245639324188232,30.385536193847656,22.818042755126953,92.81531524658203,103.08135223388672,103.36078643798828,108.97409057617188,98.5479736328125,100.65877532958984,102.86522674560547,95.67853546142578,101.26224517822266,89.2694320678711,92.7737045288086,88.13410949707031,92.57410430908203,84.98895263671875,79.34944152832031,78.58839416503906,77.88137817382812,73.71065521240234,71.31654357910156,61.22260284423828,61.3874397277832,54.07978820800781,49.46213150024414,42.545928955078125,32.11674499511719,31.81956672668457,20.072965621948242,10.766763687133789,9.861845016479492,5.3694305419921875,7.8875732421875,18.835948944091797,28.141101837158203,90.8433837890625,87.82806396484375,87.1290283203125,68.32670593261719,66.81509399414062,62.34082794189453,61.47953796386719,52.714141845703125,36.536739349365234,41.89915466308594,30.64480972290039,24.324331283569336,12.626520156860352,100.9493408203125,116.50666046142578,121.05940246582031,112.39344024658203,120.70399475097656,111.38118743896484,110.93763732910156,106.25344848632812,87.14765930175781,90.66910552978516,84.6766128540039,77.2712173461914,67.89396667480469,54.320350646972656,38.484397888183594,38.32988357543945,36.65867614746094,27.67852210998535,18.233692169189453,23.378686904907227,6.309349060058594,3.8478994369506836,6.690638542175293,21.68594741821289,21.72901153564453,26.436426162719727,32.5693244934082,35.29657745361328,36.12851333618164,42.94786071777344,51.11027526855469,52.784950256347656,55.07704544067383,60.477684020996094,61.520748138427734,66.10235595703125,70.67412567138672],\"yaxis\":\"y\",\"type\":\"scattergl\"},{\"hovertemplate\":\"Drv=OCO\\u003cbr\\u003eindex=%{x}\\u003cbr\\u003eResults=%{y}\\u003cextra\\u003e\\u003c\\u002fextra\\u003e\",\"legendgroup\":\"OCO\",\"line\":{\"color\":\"#ab63fa\",\"dash\":\"solid\"},\"marker\":{\"symbol\":\"circle\"},\"mode\":\"lines\",\"name\":\"OCO\",\"showlegend\":true,\"x\":[0,1,2,3,4,5,6,7,8,9,10,11,12,13,14,15,16,17,18,19,20,21,22,23,24,25,26,27,28,29,30,31,32,33,34,35,36,37,38,39,40,41,42,43,44,45,46,47,48,49,50,51,52,53,54,55,56,57,58,59,60,61,62,63,64,65,66,67,68,69,70,71,72,73,74,75,76,77,78,79,80,81,82,83,84,85,86,87,88,89,90,91,92,93,94,95,96,97,98,99],\"xaxis\":\"x\",\"y\":[154.1666259765625,143.3856658935547,148.94212341308594,145.2340545654297,149.9359893798828,145.57308959960938,148.60598754882812,151.16566467285156,152.55662536621094,152.8285675048828,150.72727966308594,148.1227569580078,128.2908477783203,224.86656188964844,209.89979553222656,158.10952758789062,171.37564086914062,170.7021026611328,162.8401641845703,165.232421875,166.2592010498047,167.59693908691406,170.83145141601562,169.76370239257812,176.7301483154297,174.98402404785156,177.6917724609375,177.66725158691406,186.91143798828125,191.43917846679688,198.59207153320312,200.5010986328125,207.12109375,209.28237915039062,221.9639892578125,222.20753479003906,232.50978088378906,237.70008850097656,246.607177734375,258.3355712890625,259.5707092285156,273.569091796875,283.5916748046875,287.1468200683594,302.460693359375,308.5813293457031,320.1029052734375,332.90032958984375,346.4077453613281,362.9296569824219,178.06692504882812,194.93756103515625,196.37496948242188,203.1749725341797,203.9239959716797,229.9349365234375,245.0320281982422,257.1449279785156,272.06201171875,304.6590576171875,340.45159912109375,396.1492919921875,561.2591552734375,1100.540283203125,1385.7509765625,2549.9521484375,2252.891357421875,4479.0654296875,4571.88232421875,4638.9697265625,4677.04541015625,4680.890625,4738.921875,588.8353881835938,568.7754516601562,524.4943237304688,532.7614135742188,486.4547119140625,473.65704345703125,437.41143798828125,401.5912780761719,374.67254638671875,336.6552429199219,305.57647705078125,275.3858947753906,257.0929870605469,211.69528198242188,207.99229431152344,183.81430053710938,162.07925415039062,139.1573944091797,125.36740112304688,105.46134948730469,77.3149642944336,69.92822265625,46.188846588134766,30.887248992919922,14.133776664733887,2.1785664558410645,22.954614639282227],\"yaxis\":\"y\",\"type\":\"scattergl\"},{\"hovertemplate\":\"Drv=NOR\\u003cbr\\u003eindex=%{x}\\u003cbr\\u003eResults=%{y}\\u003cextra\\u003e\\u003c\\u002fextra\\u003e\",\"legendgroup\":\"NOR\",\"line\":{\"color\":\"#FFA15A\",\"dash\":\"solid\"},\"marker\":{\"symbol\":\"circle\"},\"mode\":\"lines\",\"name\":\"NOR\",\"showlegend\":true,\"x\":[0,1,2,3,4,5,6,7,8,9,10,11,12,13,14,15,16,17,18,19,20,21,22,23,24,25,26,27,28,29,30,31,32,33,34,35,36,37,38,39,40,41,42,43,44,45,46,47,48,49,50,51,52,53,54,55,56,57,58,59,60,61,62,63,64,65,66,67,68,69,70,71,72,73,74,75,76,77,78,79,80,81,82,83,84,85,86,87,88,89,90,91,92,93,94,95,96,97,98,99],\"xaxis\":\"x\",\"y\":[248.91331481933594,242.8278350830078,247.64395141601562,251.5136260986328,255.9252471923828,249.8171844482422,252.64041137695312,253.51686096191406,255.1513671875,255.32266235351562,253.8878173828125,252.70556640625,254.411376953125,358.83837890625,311.637451171875,231.20816040039062,240.77976989746094,61.28316879272461,16.35385513305664,3.3941903114318848,4.511931419372559,7.004509449005127,11.558698654174805,16.864822387695312,9.775474548339844,17.772563934326172,13.164826393127441,18.128047943115234,8.552572250366211,8.798701286315918,3.8748350143432617,5.543542861938477,4.071286201477051,2.9645133018493652,8.37708854675293,8.274185180664062,16.907726287841797,22.46481704711914,29.93739128112793,41.92479705810547,40.0925407409668,52.902530670166016,62.069942474365234,64.64380645751953,80.73540496826172,83.15830993652344,95.49700927734375,106.8969955444336,121.15440368652344,137.60826110839844,419.40185546875,449.41119384765625,451.4608459472656,506.99920654296875,508.39178466796875,526.1133422851562,542.3743286132812,543.378173828125,559.1859130859375,580.3446044921875,613.066162109375,644.0355224609375,4463.0830078125,62.20977783203125,35.73382568359375,95.82097625732422,124.89373016357422,12.416460037231445,11.566224098205566,18.059165954589844,28.51202964782715,55.27605438232422,51.754478454589844,63.730072021484375,74.93968963623047,87.68219757080078,102.4279556274414,124.41474151611328,126.07080841064453,130.82115173339844,146.9342803955078,155.23841857910156,152.49798583984375,173.970703125,178.68112182617188,194.26551818847656,218.14166259765625,218.70030212402344,234.74562072753906,247.9794158935547,254.56167602539062,258.41119384765625,272.8179931640625,292.6068115234375,297.44879150390625,308.1837463378906,322.0988464355469,325.9302673339844,338.7073669433594,353.84906005859375],\"yaxis\":\"y\",\"type\":\"scattergl\"},{\"hovertemplate\":\"Drv=HAM\\u003cbr\\u003eindex=%{x}\\u003cbr\\u003eResults=%{y}\\u003cextra\\u003e\\u003c\\u002fextra\\u003e\",\"legendgroup\":\"HAM\",\"line\":{\"color\":\"#19d3f3\",\"dash\":\"solid\"},\"marker\":{\"symbol\":\"circle\"},\"mode\":\"lines\",\"name\":\"HAM\",\"showlegend\":true,\"x\":[0,1,2,3,4,5,6,7,8,9,10,11,12,13,14,15,16,17,18,19,20,21,22,23,24,25,26,27,28,29,30,31,32,33,34,35,36,37,38,39,40,41,42,43,44,45,46,47,48,49,50,51,52,53,54,55,56,57,58,59,60,61,62,63,64,65,66,67,68,69,70,71,72,73,74,75,76,77,78,79,80,81,82,83,84,85,86,87,88,89,90,91,92,93,94,95,96,97,98,99],\"xaxis\":\"x\",\"y\":[98.28361511230469,97.8516845703125,104.0900650024414,103.10038757324219,113.30134582519531,112.36714935302734,122.51375579833984,124.43342590332031,130.8469696044922,145.17308044433594,146.126953125,153.89259338378906,146.6587371826172,3.840480327606201,2.1395139694213867,13.60095500946045,8.131121635437012,46.08866500854492,49.47737121582031,40.15721893310547,42.26060485839844,29.983036041259766,25.30997657775879,24.804330825805664,15.040630340576172,17.298370361328125,6.305155277252197,7.485315322875977,2.5525782108306885,3.980802536010742,2.8425779342651367,6.866929054260254,8.803055763244629,9.385958671569824,12.3622465133667,13.4074068069458,18.978530883789062,18.843852996826172,21.62352752685547,22.94481658935547,25.737878799438477,30.01319694519043,29.967390060424805,34.13706588745117,37.442867279052734,37.615447998046875,42.35770034790039,43.450443267822266,46.82511520385742,49.977210998535156,73.50476837158203,70.0083236694336,69.86831665039062,70.76622009277344,70.86412811279297,69.35638427734375,69.86848449707031,70.86219024658203,75.90766906738281,71.43122100830078,72.91315460205078,72.84347534179688,69.20316314697266,25.0286865234375,36.06093215942383,54.25865936279297,47.78221130371094,106.09312438964844,107.7047348022461,108.94086456298828,106.83634948730469,96.30281066894531,95.13087463378906,92.56120300292969,88.42411041259766,81.35282897949219,70.09671020507812,59.37575149536133,58.919944763183594,57.04478454589844,52.25575637817383,44.797698974609375,47.69285583496094,31.715776443481445,28.57674789428711,18.08675765991211,0.04193544387817383,0.615483283996582,7.257412433624268,14.245792388916016,21.277076721191406,25.09933090209961,37.5393180847168,51.958984375,56.15349578857422,64.22445678710938,75.22476959228516,80.9850845336914,91.77732849121094,106.10828399658203],\"yaxis\":\"y\",\"type\":\"scattergl\"},{\"hovertemplate\":\"Drv=SAI\\u003cbr\\u003eindex=%{x}\\u003cbr\\u003eResults=%{y}\\u003cextra\\u003e\\u003c\\u002fextra\\u003e\",\"legendgroup\":\"SAI\",\"line\":{\"color\":\"#FF6692\",\"dash\":\"solid\"},\"marker\":{\"symbol\":\"circle\"},\"mode\":\"lines\",\"name\":\"SAI\",\"showlegend\":true,\"x\":[0,1,2,3,4,5,6,7,8,9,10,11,12,13,14,15,16,17,18,19,20,21,22,23,24,25,26,27,28,29,30,31,32,33,34,35,36,37,38,39,40,41,42,43,44,45,46,47,48,49,50,51,52,53,54,55,56,57,58,59,60,61,62,63,64,65,66,67,68,69,70,71,72,73,74,75,76,77,78,79,80,81,82,83,84,85,86,87,88,89,90,91,92,93,94,95,96,97,98,99],\"xaxis\":\"x\",\"y\":[156.6493682861328,149.94760131835938,152.68678283691406,146.7205047607422,150.77647399902344,144.65792846679688,148.537109375,144.00018310546875,145.76437377929688,145.4400177001953,142.42018127441406,138.6688995361328,127.09874725341797,96.27732849121094,88.67959594726562,80.84685516357422,82.24798583984375,56.2486572265625,50.926727294921875,49.07301712036133,44.53044128417969,48.36592102050781,45.27027893066406,43.11899185180664,45.86302185058594,41.58850860595703,48.310760498046875,45.252376556396484,46.862213134765625,43.31140899658203,45.71044158935547,47.30818176269531,45.98543930053711,45.7852783203125,47.089149475097656,47.978179931640625,53.28253173828125,52.94978713989258,56.41607666015625,57.922203063964844,60.55445861816406,66.96251678466797,66.37993621826172,74.2908935546875,81.02540588378906,80.99637603759766,92.4070053100586,94.0147476196289,102.61409759521484,110.53215026855469,85.31507873535156,89.47120666503906,89.73539733886719,103.26409149169922,104.28764343261719,109.81892395019531,110.25473022460938,119.11827087402344,133.00599670410156,128.24472045898438,136.44955444335938,140.89276123046875,131.0889129638672,19.731916427612305,27.47029685974121,28.029327392578125,21.47772216796875,45.99318313598633,43.85189437866211,45.40511703491211,42.05576705932617,24.176427841186523,25.161911010742188,20.706432342529297,14.231599807739258,3.942899465560913,11.588053703308105,26.6125545501709,27.162555694580078,29.62481117248535,36.56157684326172,45.25672912597656,40.913509368896484,61.19510269165039,64.94477844238281,78.29508972167969,100.97667694091797,101.58796691894531,110.62344360351562,119.49311065673828,127.61762237548828,132.01084899902344,147.12953186035156,165.0714569091797,169.8124237060547,178.38241577148438,190.08143615722656,194.8543243408203,204.38560485839844,215.36817932128906],\"yaxis\":\"y\",\"type\":\"scattergl\"},{\"hovertemplate\":\"Drv=RUS\\u003cbr\\u003eindex=%{x}\\u003cbr\\u003eResults=%{y}\\u003cextra\\u003e\\u003c\\u002fextra\\u003e\",\"legendgroup\":\"RUS\",\"line\":{\"color\":\"#B6E880\",\"dash\":\"solid\"},\"marker\":{\"symbol\":\"circle\"},\"mode\":\"lines\",\"name\":\"RUS\",\"showlegend\":true,\"x\":[0,1,2,3,4,5,6,7,8,9,10,11,12,13,14,15,16,17,18,19,20,21,22,23,24,25,26,27,28,29,30,31,32,33,34,35,36,37,38,39,40,41,42,43,44,45,46,47,48,49,50,51,52,53,54,55,56,57,58,59,60,61,62,63,64,65,66,67,68,69,70,71,72,73,74,75,76,77,78,79,80,81,82,83,84,85,86,87,88,89,90,91,92,93,94,95,96,97,98,99],\"xaxis\":\"x\",\"y\":[132.68035888671875,127.20052337646484,128.2184295654297,127.32697296142578,128.6961669921875,126.09632873535156,128.10440063476562,125.1458511352539,130.48455810546875,127.3240737915039,128.50601196289062,124.62826538085938,123.76116943359375,69.98542022705078,62.78574752807617,42.22883224487305,49.96285629272461,1.0359667539596558,3.6183836460113525,9.576120376586914,7.745960235595703,4.262092590332031,9.597087860107422,6.089994430541992,7.4198317527771,4.970963001251221,2.0335464477539062,0.6135478019714355,1.012740969657898,3.446287155151367,5.4720916748046875,9.712409973144531,6.602574348449707,11.618053436279297,10.925796508789062,20.99030303955078,19.364498138427734,27.61900520324707,30.128841400146484,35.81932067871094,43.99189376831055,43.6873779296875,54.11688232421875,61.7401008605957,64.09703826904297,75.91363525390625,79.4560546875,88.86314392089844,98.54845428466797,110.22167205810547,116.55763244628906,107.73312377929688,130.85955810546875,123.9847183227539,136.6247100830078,129.37841796875,145.4654998779297,153.78065490722656,153.99679565429688,159.55210876464844,166.00645446777344,170.5667724609375,162.8054962158203,64.88590240478516,66.58090209960938,54.27978515625,66.96332550048828,52.780433654785156,52.12946701049805,52.198177337646484,59.456878662109375,61.556392669677734,60.043006896972656,61.95478057861328,67.48493194580078,69.92816162109375,79.4712142944336,77.32073211669922,78.25460052490234,78.51476287841797,79.69121551513672,78.16815185546875,80.35057067871094,81.16008758544922,82.58072662353516,89.3612060546875,87.60749816894531,90.31749725341797,90.5308837890625,91.3944320678711,90.76475524902344,93.31926727294922,96.89652252197266,97.03055572509766,99.10765075683594,100.3934555053711,101.65538787841797,103.55538177490234,107.12860870361328,107.9215087890625],\"yaxis\":\"y\",\"type\":\"scattergl\"},{\"hovertemplate\":\"Drv=BOT\\u003cbr\\u003eindex=%{x}\\u003cbr\\u003eResults=%{y}\\u003cextra\\u003e\\u003c\\u002fextra\\u003e\",\"legendgroup\":\"BOT\",\"line\":{\"color\":\"#FF97FF\",\"dash\":\"solid\"},\"marker\":{\"symbol\":\"circle\"},\"mode\":\"lines\",\"name\":\"BOT\",\"showlegend\":true,\"x\":[0,1,2,3,4,5,6,7,8,9,10,11,12,13,14,15,16,17,18,19,20,21,22,23,24,25,26,27,28,29,30,31,32,33,34,35,36,37,38,39,40,41,42,43,44,45,46,47,48,49,50,51,52,53,54,55,56,57,58,59,60,61,62,63,64,65,66,67,68,69,70,71,72,73,74,75,76,77,78,79,80,81,82,83,84,85,86,87,88,89,90,91,92,93,94,95,96,97,98,99],\"xaxis\":\"x\",\"y\":[61.113975524902344,62.843971252441406,58.03171920776367,57.28704071044922,49.64963150024414,50.56092071533203,43.325443267822266,42.08463668823242,37.3073844909668,26.22336196899414,24.741750717163086,18.973691940307617,20.807884216308594,9.217733383178711,16.68256378173828,43.36254119873047,33.02029037475586,114.70182800292969,121.61972045898438,115.15166473388672,117.74488830566406,104.12812805175781,100.09974670410156,99.35845184326172,87.98588562011719,90.6915283203125,76.447021484375,77.18814849853516,70.12686920166016,71.47380065917969,59.925750732421875,54.204463958740234,48.97027587890625,47.32640838623047,40.408992767333984,37.8575439453125,25.91610336303711,26.007394790649414,17.748371124267578,13.770792961120605,7.396928310394287,0.8864507675170898,1.1924182176589966,9.219991683959961,15.304985046386719,15.315792083740234,23.846752166748047,24.788686752319336,29.780454635620117,33.73464584350586,94.47200775146484,94.67893981933594,94.55233001708984,98.42571258544922,98.58926391601562,98.21087646484375,98.5408706665039,99.56474304199219,104.21651458740234,100.64102935791016,102.73054504394531,100.89764404296875,92.16765594482422,103.7999038696289,95.27474975585938,78.38153839111328,83.96798706054688,49.21930694580078,50.452369689941406,49.30963134765625,49.81414794921875,55.10430145263672,54.80752944946289,55.3434944152832,56.83849334716797,58.752685546875,66.84058380126953,71.71977233886719,71.17041778564453,70.6754150390625,72.66348266601562,76.1371841430664,71.77574157714844,81.2887954711914,81.99298858642578,89.21298217773438,101.37554931640625,101.47893524169922,105.90006256103516,111.49102020263672,118.08246612548828,120.52342987060547,130.73068237304688,143.1713104248047,146.38809204101562,152.59437561035156,161.41162109375,165.5398406982422,174.1338653564453,185.45579528808594],\"yaxis\":\"y\",\"type\":\"scattergl\"},{\"hovertemplate\":\"Drv=PIA\\u003cbr\\u003eindex=%{x}\\u003cbr\\u003eResults=%{y}\\u003cextra\\u003e\\u003c\\u002fextra\\u003e\",\"legendgroup\":\"PIA\",\"line\":{\"color\":\"#FECB52\",\"dash\":\"solid\"},\"marker\":{\"symbol\":\"circle\"},\"mode\":\"lines\",\"name\":\"PIA\",\"showlegend\":true,\"x\":[0,1,2,3,4,5,6,7,8,9,10,11,12,13,14,15,16,17,18,19,20,21,22,23,24,25,26,27,28,29,30,31,32,33,34,35,36,37,38,39,40,41,42,43,44,45,46,47,48,49,50,51,52,53,54,55,56,57,58,59,60,61,62,63,64,65,66,67,68,69,70,71,72,73,74,75,76,77,78,79,80,81,82,83,84,85,86,87,88,89,90,91,92,93,94,95,96,97,98,99],\"xaxis\":\"x\",\"y\":[35.05904006958008,36.78141784667969,36.89774703979492,42.98060607910156,43.167903900146484,45.29167175292969,45.30753707885742,47.27003479003906,47.566566467285156,50.06168746948242,52.39045333862305,54.9527702331543,59.51506423950195,51.49805450439453,54.618778228759766,63.734859466552734,62.23231887817383,74.72053527832031,75.92242431640625,77.647705078125,78.95799255371094,79.60945892333984,79.8267822265625,80.74220275878906,81.1634521484375,81.7750244140625,81.5868148803711,82.33399200439453,82.51351165771484,83.07405090332031,83.86784362792969,83.88909149169922,84.30415344238281,84.23497772216797,84.2682876586914,84.2612533569336,84.22463989257812,84.13742065429688,84.5516128540039,84.6075210571289,84.34375,84.01887512207031,83.89366912841797,83.85790252685547,83.73468017578125,83.18479919433594,83.12439727783203,82.64203643798828,82.48282623291016,82.10250091552734,70.36141204833984,70.84342193603516,70.8897705078125,71.82774353027344,71.92186737060547,73.09575653076172,73.22517395019531,74.7200698852539,74.8370132446289,76.24714660644531,76.96663665771484,78.76304626464844,83.1369400024414,71.64165496826172,73.471923828125,80.48887634277344,77.49768829345703,80.23784637451172,77.67255401611328,77.51648712158203,77.50911712646484,77.53656005859375,78.09329223632812,77.72123718261719,77.49706268310547,77.61402130126953,77.27855682373047,76.99324035644531,77.04569244384766,77.01402282714844,76.45858001708984,76.38569641113281,76.18010711669922,76.14432525634766,75.87240600585938,75.72010803222656,75.45602416992188,75.41509246826172,75.00809478759766,74.60257720947266,74.23438262939453,74.25885009765625,74.3669662475586,74.26431274414062,74.30208587646484,74.01654052734375,73.91761016845703,73.79559326171875,73.6674575805664,73.5388412475586],\"yaxis\":\"y\",\"type\":\"scattergl\"}],                        {\"template\":{\"data\":{\"histogram2dcontour\":[{\"type\":\"histogram2dcontour\",\"colorbar\":{\"outlinewidth\":0,\"ticks\":\"\"},\"colorscale\":[[0.0,\"#0d0887\"],[0.1111111111111111,\"#46039f\"],[0.2222222222222222,\"#7201a8\"],[0.3333333333333333,\"#9c179e\"],[0.4444444444444444,\"#bd3786\"],[0.5555555555555556,\"#d8576b\"],[0.6666666666666666,\"#ed7953\"],[0.7777777777777778,\"#fb9f3a\"],[0.8888888888888888,\"#fdca26\"],[1.0,\"#f0f921\"]]}],\"choropleth\":[{\"type\":\"choropleth\",\"colorbar\":{\"outlinewidth\":0,\"ticks\":\"\"}}],\"histogram2d\":[{\"type\":\"histogram2d\",\"colorbar\":{\"outlinewidth\":0,\"ticks\":\"\"},\"colorscale\":[[0.0,\"#0d0887\"],[0.1111111111111111,\"#46039f\"],[0.2222222222222222,\"#7201a8\"],[0.3333333333333333,\"#9c179e\"],[0.4444444444444444,\"#bd3786\"],[0.5555555555555556,\"#d8576b\"],[0.6666666666666666,\"#ed7953\"],[0.7777777777777778,\"#fb9f3a\"],[0.8888888888888888,\"#fdca26\"],[1.0,\"#f0f921\"]]}],\"heatmap\":[{\"type\":\"heatmap\",\"colorbar\":{\"outlinewidth\":0,\"ticks\":\"\"},\"colorscale\":[[0.0,\"#0d0887\"],[0.1111111111111111,\"#46039f\"],[0.2222222222222222,\"#7201a8\"],[0.3333333333333333,\"#9c179e\"],[0.4444444444444444,\"#bd3786\"],[0.5555555555555556,\"#d8576b\"],[0.6666666666666666,\"#ed7953\"],[0.7777777777777778,\"#fb9f3a\"],[0.8888888888888888,\"#fdca26\"],[1.0,\"#f0f921\"]]}],\"heatmapgl\":[{\"type\":\"heatmapgl\",\"colorbar\":{\"outlinewidth\":0,\"ticks\":\"\"},\"colorscale\":[[0.0,\"#0d0887\"],[0.1111111111111111,\"#46039f\"],[0.2222222222222222,\"#7201a8\"],[0.3333333333333333,\"#9c179e\"],[0.4444444444444444,\"#bd3786\"],[0.5555555555555556,\"#d8576b\"],[0.6666666666666666,\"#ed7953\"],[0.7777777777777778,\"#fb9f3a\"],[0.8888888888888888,\"#fdca26\"],[1.0,\"#f0f921\"]]}],\"contourcarpet\":[{\"type\":\"contourcarpet\",\"colorbar\":{\"outlinewidth\":0,\"ticks\":\"\"}}],\"contour\":[{\"type\":\"contour\",\"colorbar\":{\"outlinewidth\":0,\"ticks\":\"\"},\"colorscale\":[[0.0,\"#0d0887\"],[0.1111111111111111,\"#46039f\"],[0.2222222222222222,\"#7201a8\"],[0.3333333333333333,\"#9c179e\"],[0.4444444444444444,\"#bd3786\"],[0.5555555555555556,\"#d8576b\"],[0.6666666666666666,\"#ed7953\"],[0.7777777777777778,\"#fb9f3a\"],[0.8888888888888888,\"#fdca26\"],[1.0,\"#f0f921\"]]}],\"surface\":[{\"type\":\"surface\",\"colorbar\":{\"outlinewidth\":0,\"ticks\":\"\"},\"colorscale\":[[0.0,\"#0d0887\"],[0.1111111111111111,\"#46039f\"],[0.2222222222222222,\"#7201a8\"],[0.3333333333333333,\"#9c179e\"],[0.4444444444444444,\"#bd3786\"],[0.5555555555555556,\"#d8576b\"],[0.6666666666666666,\"#ed7953\"],[0.7777777777777778,\"#fb9f3a\"],[0.8888888888888888,\"#fdca26\"],[1.0,\"#f0f921\"]]}],\"mesh3d\":[{\"type\":\"mesh3d\",\"colorbar\":{\"outlinewidth\":0,\"ticks\":\"\"}}],\"scatter\":[{\"fillpattern\":{\"fillmode\":\"overlay\",\"size\":10,\"solidity\":0.2},\"type\":\"scatter\"}],\"parcoords\":[{\"type\":\"parcoords\",\"line\":{\"colorbar\":{\"outlinewidth\":0,\"ticks\":\"\"}}}],\"scatterpolargl\":[{\"type\":\"scatterpolargl\",\"marker\":{\"colorbar\":{\"outlinewidth\":0,\"ticks\":\"\"}}}],\"bar\":[{\"error_x\":{\"color\":\"#2a3f5f\"},\"error_y\":{\"color\":\"#2a3f5f\"},\"marker\":{\"line\":{\"color\":\"#E5ECF6\",\"width\":0.5},\"pattern\":{\"fillmode\":\"overlay\",\"size\":10,\"solidity\":0.2}},\"type\":\"bar\"}],\"scattergeo\":[{\"type\":\"scattergeo\",\"marker\":{\"colorbar\":{\"outlinewidth\":0,\"ticks\":\"\"}}}],\"scatterpolar\":[{\"type\":\"scatterpolar\",\"marker\":{\"colorbar\":{\"outlinewidth\":0,\"ticks\":\"\"}}}],\"histogram\":[{\"marker\":{\"pattern\":{\"fillmode\":\"overlay\",\"size\":10,\"solidity\":0.2}},\"type\":\"histogram\"}],\"scattergl\":[{\"type\":\"scattergl\",\"marker\":{\"colorbar\":{\"outlinewidth\":0,\"ticks\":\"\"}}}],\"scatter3d\":[{\"type\":\"scatter3d\",\"line\":{\"colorbar\":{\"outlinewidth\":0,\"ticks\":\"\"}},\"marker\":{\"colorbar\":{\"outlinewidth\":0,\"ticks\":\"\"}}}],\"scattermapbox\":[{\"type\":\"scattermapbox\",\"marker\":{\"colorbar\":{\"outlinewidth\":0,\"ticks\":\"\"}}}],\"scatterternary\":[{\"type\":\"scatterternary\",\"marker\":{\"colorbar\":{\"outlinewidth\":0,\"ticks\":\"\"}}}],\"scattercarpet\":[{\"type\":\"scattercarpet\",\"marker\":{\"colorbar\":{\"outlinewidth\":0,\"ticks\":\"\"}}}],\"carpet\":[{\"aaxis\":{\"endlinecolor\":\"#2a3f5f\",\"gridcolor\":\"white\",\"linecolor\":\"white\",\"minorgridcolor\":\"white\",\"startlinecolor\":\"#2a3f5f\"},\"baxis\":{\"endlinecolor\":\"#2a3f5f\",\"gridcolor\":\"white\",\"linecolor\":\"white\",\"minorgridcolor\":\"white\",\"startlinecolor\":\"#2a3f5f\"},\"type\":\"carpet\"}],\"table\":[{\"cells\":{\"fill\":{\"color\":\"#EBF0F8\"},\"line\":{\"color\":\"white\"}},\"header\":{\"fill\":{\"color\":\"#C8D4E3\"},\"line\":{\"color\":\"white\"}},\"type\":\"table\"}],\"barpolar\":[{\"marker\":{\"line\":{\"color\":\"#E5ECF6\",\"width\":0.5},\"pattern\":{\"fillmode\":\"overlay\",\"size\":10,\"solidity\":0.2}},\"type\":\"barpolar\"}],\"pie\":[{\"automargin\":true,\"type\":\"pie\"}]},\"layout\":{\"autotypenumbers\":\"strict\",\"colorway\":[\"#636efa\",\"#EF553B\",\"#00cc96\",\"#ab63fa\",\"#FFA15A\",\"#19d3f3\",\"#FF6692\",\"#B6E880\",\"#FF97FF\",\"#FECB52\"],\"font\":{\"color\":\"#2a3f5f\"},\"hovermode\":\"closest\",\"hoverlabel\":{\"align\":\"left\"},\"paper_bgcolor\":\"white\",\"plot_bgcolor\":\"#E5ECF6\",\"polar\":{\"bgcolor\":\"#E5ECF6\",\"angularaxis\":{\"gridcolor\":\"white\",\"linecolor\":\"white\",\"ticks\":\"\"},\"radialaxis\":{\"gridcolor\":\"white\",\"linecolor\":\"white\",\"ticks\":\"\"}},\"ternary\":{\"bgcolor\":\"#E5ECF6\",\"aaxis\":{\"gridcolor\":\"white\",\"linecolor\":\"white\",\"ticks\":\"\"},\"baxis\":{\"gridcolor\":\"white\",\"linecolor\":\"white\",\"ticks\":\"\"},\"caxis\":{\"gridcolor\":\"white\",\"linecolor\":\"white\",\"ticks\":\"\"}},\"coloraxis\":{\"colorbar\":{\"outlinewidth\":0,\"ticks\":\"\"}},\"colorscale\":{\"sequential\":[[0.0,\"#0d0887\"],[0.1111111111111111,\"#46039f\"],[0.2222222222222222,\"#7201a8\"],[0.3333333333333333,\"#9c179e\"],[0.4444444444444444,\"#bd3786\"],[0.5555555555555556,\"#d8576b\"],[0.6666666666666666,\"#ed7953\"],[0.7777777777777778,\"#fb9f3a\"],[0.8888888888888888,\"#fdca26\"],[1.0,\"#f0f921\"]],\"sequentialminus\":[[0.0,\"#0d0887\"],[0.1111111111111111,\"#46039f\"],[0.2222222222222222,\"#7201a8\"],[0.3333333333333333,\"#9c179e\"],[0.4444444444444444,\"#bd3786\"],[0.5555555555555556,\"#d8576b\"],[0.6666666666666666,\"#ed7953\"],[0.7777777777777778,\"#fb9f3a\"],[0.8888888888888888,\"#fdca26\"],[1.0,\"#f0f921\"]],\"diverging\":[[0,\"#8e0152\"],[0.1,\"#c51b7d\"],[0.2,\"#de77ae\"],[0.3,\"#f1b6da\"],[0.4,\"#fde0ef\"],[0.5,\"#f7f7f7\"],[0.6,\"#e6f5d0\"],[0.7,\"#b8e186\"],[0.8,\"#7fbc41\"],[0.9,\"#4d9221\"],[1,\"#276419\"]]},\"xaxis\":{\"gridcolor\":\"white\",\"linecolor\":\"white\",\"ticks\":\"\",\"title\":{\"standoff\":15},\"zerolinecolor\":\"white\",\"automargin\":true,\"zerolinewidth\":2},\"yaxis\":{\"gridcolor\":\"white\",\"linecolor\":\"white\",\"ticks\":\"\",\"title\":{\"standoff\":15},\"zerolinecolor\":\"white\",\"automargin\":true,\"zerolinewidth\":2},\"scene\":{\"xaxis\":{\"backgroundcolor\":\"#E5ECF6\",\"gridcolor\":\"white\",\"linecolor\":\"white\",\"showbackground\":true,\"ticks\":\"\",\"zerolinecolor\":\"white\",\"gridwidth\":2},\"yaxis\":{\"backgroundcolor\":\"#E5ECF6\",\"gridcolor\":\"white\",\"linecolor\":\"white\",\"showbackground\":true,\"ticks\":\"\",\"zerolinecolor\":\"white\",\"gridwidth\":2},\"zaxis\":{\"backgroundcolor\":\"#E5ECF6\",\"gridcolor\":\"white\",\"linecolor\":\"white\",\"showbackground\":true,\"ticks\":\"\",\"zerolinecolor\":\"white\",\"gridwidth\":2}},\"shapedefaults\":{\"line\":{\"color\":\"#2a3f5f\"}},\"annotationdefaults\":{\"arrowcolor\":\"#2a3f5f\",\"arrowhead\":0,\"arrowwidth\":1},\"geo\":{\"bgcolor\":\"white\",\"landcolor\":\"#E5ECF6\",\"subunitcolor\":\"white\",\"showland\":true,\"showlakes\":true,\"lakecolor\":\"white\"},\"title\":{\"x\":0.05},\"mapbox\":{\"style\":\"light\"}}},\"xaxis\":{\"anchor\":\"y\",\"domain\":[0.0,1.0],\"title\":{\"text\":\"index\"}},\"yaxis\":{\"anchor\":\"x\",\"domain\":[0.0,1.0],\"title\":{\"text\":\"Results\"}},\"legend\":{\"title\":{\"text\":\"Drv\"},\"tracegroupgap\":0},\"margin\":{\"t\":60}},                        {\"responsive\": true}                    ).then(function(){\n",
              "                            \n",
              "var gd = document.getElementById('4944d545-0975-4672-8fff-aaa366954371');\n",
              "var x = new MutationObserver(function (mutations, observer) {{\n",
              "        var display = window.getComputedStyle(gd).display;\n",
              "        if (!display || display === 'none') {{\n",
              "            console.log([gd, 'removed!']);\n",
              "            Plotly.purge(gd);\n",
              "            observer.disconnect();\n",
              "        }}\n",
              "}});\n",
              "\n",
              "// Listen for the removal of the full notebook cells\n",
              "var notebookContainer = gd.closest('#notebook-container');\n",
              "if (notebookContainer) {{\n",
              "    x.observe(notebookContainer, {childList: true});\n",
              "}}\n",
              "\n",
              "// Listen for the clearing of the current output cell\n",
              "var outputEl = gd.closest('.output');\n",
              "if (outputEl) {{\n",
              "    x.observe(outputEl, {childList: true});\n",
              "}}\n",
              "\n",
              "                        })                };                            </script>        </div>\n",
              "</body>\n",
              "</html>"
            ]
          },
          "metadata": {},
          "output_type": "display_data"
        }
      ],
      "source": [
        "import plotly.express as px\n",
        "data = obs_loss[obs_loss['Iter'] == 20]\n",
        "fig = px.line(data, x = data.index, y = 'Results', color = 'Drv')\n",
        "fig.show()"
      ]
    }
  ],
  "metadata": {
    "accelerator": "GPU",
    "colab": {
      "gpuType": "T4",
      "include_colab_link": true,
      "provenance": []
    },
    "kernelspec": {
      "display_name": "Python 3",
      "name": "python3"
    },
    "language_info": {
      "name": "python"
    }
  },
  "nbformat": 4,
  "nbformat_minor": 0
}
