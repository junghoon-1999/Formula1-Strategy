{
 "cells": [
  {
   "cell_type": "markdown",
   "metadata": {},
   "source": [
    "# 1. Explaratory Data Analysis"
   ]
  },
  {
   "cell_type": "code",
   "execution_count": 2,
   "metadata": {},
   "outputs": [],
   "source": [
    "# Import libraries for data analysis\n",
    "import fastf1 as f1\n",
    "import pandas as pd\n",
    "import seaborn as sns\n",
    "import scipy.stats as stats"
   ]
  },
  {
   "cell_type": "markdown",
   "metadata": {},
   "source": [
    "## 1-1. Observe difference in race times for the same track between different years"
   ]
  },
  {
   "cell_type": "markdown",
   "metadata": {},
   "source": [
    "We will compare how the race times for the same racetrack for the same driver across different years to determine how to define our dataset. We have chosen 2022 and 2023, as 2022 was the last time the FIA introduced a major rule change. \n",
    "We have chosen Verstappen and Perez as their cars have shown consistent results throughout the two years (2022 and 2023)."
   ]
  },
  {
   "cell_type": "code",
   "execution_count": null,
   "metadata": {},
   "outputs": [],
   "source": [
    "# Create a dataset and collect all the laptimes for Verstappen and Perez\n",
    "race_hist = pd.DataFrame()\n",
    "Years = [2022, 2023]\n",
    "for year in Years:\n",
    "    Events = f1.get_event_schedule(year)\n",
    "    for _, Event in Events[Events['Session5'] == 'Race'].iterrows():\n",
    "        session = f1.core.Session(Event, session_name = 'Race', f1_api_support  = True)\n",
    "        session.load(laps = True, telemetry = True, weather = True, messages = True)\n",
    "\n",
    "        drivers = ['VER', 'PER']\n",
    "\n",
    "        for driver in drivers:\n",
    "            sesh_l = session.laps\n",
    "            sesh_driver = sesh_l.pick_driver(driver).reset_index()\n",
    "            sesh_driver = sesh_driver[sesh_driver['LapTime'].isna() == False]\n",
    "            sesh_driver = sesh_driver[sesh_driver[['PitOutTime', 'PitInTime']].isna().all(axis=1)]\n",
    "\n",
    "            temp = pd.DataFrame(columns = ['Driver', 'Year', 'Location', 'Laptime'])\n",
    "            temp['Laptime'] = sesh_driver['LapTime']\n",
    "            temp['Driver'] = driver\n",
    "            temp['Year'] = year\n",
    "            temp['Location'] = Event['Country']\n",
    "\n",
    "            race_hist = pd.concat([race_hist, temp], axis = 0, ignore_index = True)"
   ]
  },
  {
   "cell_type": "markdown",
   "metadata": {},
   "source": []
  },
  {
   "cell_type": "code",
   "execution_count": null,
   "metadata": {},
   "outputs": [],
   "source": [
    "race_hist.head()"
   ]
  },
  {
   "cell_type": "code",
   "execution_count": null,
   "metadata": {},
   "outputs": [],
   "source": [
    "# Convert timedelta objects to total seconds \n",
    "for i in range(len(race_hist['Laptime'])):\n",
    "    race_hist['Laptime'].loc[i] = race_hist['Laptime'].loc[i].total_seconds()"
   ]
  },
  {
   "cell_type": "code",
   "execution_count": null,
   "metadata": {},
   "outputs": [],
   "source": [
    "# Conduct Kolmogorov-Smirnov to determine normality\n",
    "locations = race_hist['Location'].unique()\n",
    "drivers = race_hist['Driver'].unique()\n",
    "norm = []\n",
    "not_norm = []\n",
    "for drv in drivers:\n",
    "    for loc in locations:\n",
    "        for year in [2022, 2023]:\n",
    "            dat = race_hist[(race_hist['Driver'] == drv )&\n",
    "                      (race_hist['Location'] == loc )&\n",
    "                      (race_hist['Year'] == year)]['Laptime'].astype(int)\n",
    "            if dat.empty == False:\n",
    "                mean_val = dat.mean()\n",
    "                sd_val = dat.std()\n",
    "                if stats.kstest(rvs = dat, cdf = 'norm', args = (mean_val, sd_val)).pvalue < 0.05:\n",
    "                    ks_score = stats.kstest(rvs = dat, cdf = 'norm', args = (mean_val, sd_val)).statistic\n",
    "                    not_norm.append((drv, loc, year, ks_score))\n",
    "                else:\n",
    "                    norm.append((drv, loc, year))\n",
    "len(norm) == 0"
   ]
  },
  {
   "cell_type": "markdown",
   "metadata": {},
   "source": [
    "The Kolomogorov-Smirnov test shows that the datasets are not normally distributed. This can be easily observed by plotting an instance of the dataset as shown below. We will plot the distribution of the time it took of Verstappen to complete the race in Bahrain in 2022."
   ]
  },
  {
   "cell_type": "code",
   "execution_count": null,
   "metadata": {},
   "outputs": [],
   "source": [
    "sns.histplot(data = race_hist[(race_hist['Driver'] == 'VER') & \n",
    "        (race_hist['Location'] == 'Bahrain') & \n",
    "        (race_hist['Year'] == 2022)]['Laptime'].astype(int))"
   ]
  },
  {
   "cell_type": "code",
   "execution_count": null,
   "metadata": {},
   "outputs": [],
   "source": [
    "sns.histplot(data = race_hist[(race_hist['Driver'] == 'VER') & \n",
    "        (race_hist['Location'] == 'Bahrain') & \n",
    "        (race_hist['Year'] == 2023)]['Laptime'].astype(int))"
   ]
  },
  {
   "cell_type": "code",
   "execution_count": null,
   "metadata": {},
   "outputs": [],
   "source": [
    "sns.histplot(data = race_hist[(race_hist['Driver'] == 'PER') & \n",
    "        (race_hist['Location'] == 'Bahrain') & \n",
    "        (race_hist['Year'] == 2022)]['Laptime'].astype(int))"
   ]
  },
  {
   "cell_type": "code",
   "execution_count": null,
   "metadata": {},
   "outputs": [],
   "source": [
    "sns.histplot(data = race_hist[(race_hist['Driver'] == 'PER') & \n",
    "        (race_hist['Location'] == 'Bahrain') & \n",
    "        (race_hist['Year'] == 2023)]['Laptime'].astype(int))"
   ]
  },
  {
   "cell_type": "markdown",
   "metadata": {},
   "source": [
    "It is visibally obvious that the dataset is highly skewed with outliers."
   ]
  },
  {
   "cell_type": "code",
   "execution_count": null,
   "metadata": {},
   "outputs": [],
   "source": [
    "import numpy as np\n",
    "import matplotlib.pyplot as plt"
   ]
  },
  {
   "cell_type": "code",
   "execution_count": null,
   "metadata": {},
   "outputs": [],
   "source": [
    "# Visualize how the time it took to complete a lap differs \n",
    "laptime = race_hist[(race_hist['Driver'] == 'VER') & \n",
    "        (race_hist['Location'] == 'Bahrain') & \n",
    "        (race_hist['Year'] == 2022)]['Laptime'].astype(int).to_numpy()\n",
    "x = np.arange(len(laptime))\n",
    "plt.plot(x, list(laptime))"
   ]
  },
  {
   "cell_type": "markdown",
   "metadata": {},
   "source": [
    "Potting the lap times by the lap number visually shows how the laps times are highly skewed."
   ]
  },
  {
   "cell_type": "markdown",
   "metadata": {},
   "source": [
    "Since the dataset is clearly not normally distributed we will be using a Kruskal-Wallis test to see if the median values across two years in the same race between the same players are equal."
   ]
  },
  {
   "cell_type": "code",
   "execution_count": null,
   "metadata": {},
   "outputs": [],
   "source": [
    "null_hypo = []\n",
    "alt_hypo = []\n",
    "for drv in drivers:\n",
    "    for loc in locations:\n",
    "        dat = race_hist[(race_hist['Driver'] == drv )&\n",
    "                      (race_hist['Location'] == loc )]\n",
    "        if (dat[dat.Year == 2022].empty == False) & (dat[dat.Year == 2023].empty == False):\n",
    "            dat_2022 = dat[dat['Year'] == 2022]['Laptime'].astype(int)\n",
    "            dat_2023 = dat[dat['Year'] == 2023]['Laptime'].astype(int)\n",
    "            if stats.kruskal(dat_2022, dat_2023).pvalue < 0.05:\n",
    "                alt_hypo.append((drv, loc))\n",
    "            else:\n",
    "                null_hypo.append((drv, loc))\n",
    "len(alt_hypo) > len(null_hypo)\n",
    "alt_hypo"
   ]
  },
  {
   "cell_type": "markdown",
   "metadata": {},
   "source": [
    "The results show that for the vast majority of cases the two distributions are not equal."
   ]
  },
  {
   "cell_type": "markdown",
   "metadata": {},
   "source": [
    "# Conclusion"
   ]
  },
  {
   "cell_type": "markdown",
   "metadata": {},
   "source": [
    "The Kruskal Wallis test confirms that the two distributions for a driver in the same racetrack across the two years are not equal. In fact they seem to be faster on average. "
   ]
  },
  {
   "cell_type": "markdown",
   "metadata": {},
   "source": [
    "Additionally, in 2022 due to the changes in regulations the Mercedes team suffered heavily with porpoising. This lead to the team underscording compared to usual. This suggests that combining the results from 2022 and 2023 to create a large dataset would not be appropriate. \n",
    "Moreover, teams regularly repair and change vehicles between races due to DNFs or performance issues etc. Therefore fitting a model using data where a single time point is defined as a lap seems inappropriate. Instead, our model should use telemetry data to predict what would happen within a single lap. "
   ]
  },
  {
   "cell_type": "markdown",
   "metadata": {},
   "source": [
    "The data creation file uses telemetry data to predict the changes in positions within a race. The reults would then be used assist in determining whether a tyre change would be advisory or not. "
   ]
  }
 ],
 "metadata": {
  "kernelspec": {
   "display_name": "Python 3",
   "language": "python",
   "name": "python3"
  },
  "language_info": {
   "codemirror_mode": {
    "name": "ipython",
    "version": 3
   },
   "file_extension": ".py",
   "mimetype": "text/x-python",
   "name": "python",
   "nbconvert_exporter": "python",
   "pygments_lexer": "ipython3",
   "version": "3.9.6"
  }
 },
 "nbformat": 4,
 "nbformat_minor": 2
}
