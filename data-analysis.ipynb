{
 "cells": [
  {
   "cell_type": "markdown",
   "metadata": {},
   "source": [
    "# 1. Explaratory Data Analysis"
   ]
  },
  {
   "cell_type": "code",
   "execution_count": 2,
   "metadata": {},
   "outputs": [],
   "source": [
    "# Import libraries for data analysis\n",
    "import fastf1 as f1\n",
    "import pandas as pd\n",
    "import seaborn as sns\n",
    "import scipy.stats as stats"
   ]
  },
  {
   "cell_type": "markdown",
   "metadata": {},
   "source": [
    "## 1-1. Observe difference in race times for the same track between different years"
   ]
  },
  {
   "cell_type": "markdown",
   "metadata": {},
   "source": [
    "We will compare how the race times for the same racetrack for the same driver across different years to determine how to define our dataset. We have chosen 2022 and 2023, as 2022 was the last time the FIA introduced a major rule change. \n",
    "We have chosen Verstappen and Perez as their cars have shown consistent results throughout the two years (2022 and 2023)."
   ]
  },
  {
   "cell_type": "code",
   "execution_count": null,
   "metadata": {},
   "outputs": [],
   "source": [
    "# Create a dataset and collect all the laptimes for Verstappen and Perez\n",
    "race_hist = pd.DataFrame()\n",
    "Years = [2022, 2023]\n",
    "record = []\n",
    "for year in Years:\n",
    "    Events = f1.get_event_schedule(year)\n",
    "    for _, Event in Events[Events['Session5'] == 'Race'].iterrows():\n",
    "        session = f1.core.Session(Event, session_name = 'Race', f1_api_support  = True)\n",
    "        session.load(laps = True, telemetry = True, weather = True, messages = True)\n",
    "\n",
    "        drivers = ['VER', 'PER']\n",
    "\n",
    "        for driver in drivers:\n",
    "            sesh_l = session.laps\n",
    "            sesh_driver = sesh_l.pick_driver(driver).reset_index()\n",
    "            sesh_driver = sesh_driver[sesh_driver['LapTime'].isna() == False]\n",
    "            sesh_driver = sesh_driver[sesh_driver[['PitOutTime', 'PitInTime']].isna().all(axis=1)]\n",
    "\n",
    "            temp = pd.DataFrame(columns = ['Driver', 'Year', 'Location', 'Laptime'])\n",
    "            temp['Laptime'] = sesh_driver['LapTime']\n",
    "            temp['Driver'] = sesh_driver['Driver']\n",
    "            temp['Year'] = year\n",
    "            temp['Location'] = Event['Location']\n",
    "            record.append(len(temp))\n",
    "\n",
    "            race_hist = pd.concat([race_hist, temp], axis = 0, ignore_index = True)"
   ]
  },
  {
   "cell_type": "code",
   "execution_count": null,
   "metadata": {},
   "outputs": [],
   "source": [
    "# Convert timedelta objects to total seconds \n",
    "for i in range(len(race_hist['Laptime'])):\n",
    "    race_hist['Laptime'].loc[i] = race_hist['Laptime'].loc[i].total_seconds()"
   ]
  },
  {
   "cell_type": "code",
   "execution_count": 17,
   "metadata": {},
   "outputs": [],
   "source": [
    "# Isolate the datasets by year and get the racetracks for those years\n",
    "locs_22 = race_hist[race_hist['Year'] == 2022].Location.unique()\n",
    "locs_23 = race_hist[race_hist['Year'] == 2023].Location.unique()\n",
    "\n",
    "# Obtain the racetracks used in both years\n",
    "common_tracks = set(locs_22) - (set(locs_22) - set(locs_23))\n",
    "common_tracks = list(common_tracks)"
   ]
  },
  {
   "cell_type": "code",
   "execution_count": null,
   "metadata": {},
   "outputs": [],
   "source": [
    "# Eliminate instances on racetracks where the drivers DNF\n",
    "Years = [2022, 2023]\n",
    "drivers = ['VER', 'PER']\n",
    "dnfs = []\n",
    "\n",
    "for drv in drivers:\n",
    "    for yr in Years:\n",
    "        for locs in common_tracks:\n",
    "            session = f1.get_session(yr, locs, 'r')\n",
    "            session.load(laps = True)\n",
    "            sesh_r = session.results\n",
    "            if sesh_r[sesh_r['Abbreviation'] == drv]['Status'][0] != 'Finished':\n",
    "                dnfs.append(locs)"
   ]
  },
  {
   "cell_type": "code",
   "execution_count": 83,
   "metadata": {},
   "outputs": [],
   "source": [
    "# Attain list of tracks completed in both years \n",
    "completed_tracks = []\n",
    "for i in common_tracks:\n",
    "    if i not in dnfs:\n",
    "        completed_tracks.append(i)"
   ]
  },
  {
   "cell_type": "code",
   "execution_count": 54,
   "metadata": {},
   "outputs": [
    {
     "data": {
      "text/html": [
       "<div>\n",
       "<style scoped>\n",
       "    .dataframe tbody tr th:only-of-type {\n",
       "        vertical-align: middle;\n",
       "    }\n",
       "\n",
       "    .dataframe tbody tr th {\n",
       "        vertical-align: top;\n",
       "    }\n",
       "\n",
       "    .dataframe thead th {\n",
       "        text-align: right;\n",
       "    }\n",
       "</style>\n",
       "<table border=\"1\" class=\"dataframe\">\n",
       "  <thead>\n",
       "    <tr style=\"text-align: right;\">\n",
       "      <th></th>\n",
       "      <th>Driver</th>\n",
       "      <th>Year</th>\n",
       "      <th>Location</th>\n",
       "      <th>Laptime</th>\n",
       "    </tr>\n",
       "  </thead>\n",
       "  <tbody>\n",
       "    <tr>\n",
       "      <th>0</th>\n",
       "      <td>VER</td>\n",
       "      <td>2022</td>\n",
       "      <td>Sakhir</td>\n",
       "      <td>100.236</td>\n",
       "    </tr>\n",
       "    <tr>\n",
       "      <th>1</th>\n",
       "      <td>VER</td>\n",
       "      <td>2022</td>\n",
       "      <td>Sakhir</td>\n",
       "      <td>97.88</td>\n",
       "    </tr>\n",
       "    <tr>\n",
       "      <th>2</th>\n",
       "      <td>VER</td>\n",
       "      <td>2022</td>\n",
       "      <td>Sakhir</td>\n",
       "      <td>98.357</td>\n",
       "    </tr>\n",
       "    <tr>\n",
       "      <th>3</th>\n",
       "      <td>VER</td>\n",
       "      <td>2022</td>\n",
       "      <td>Sakhir</td>\n",
       "      <td>98.566</td>\n",
       "    </tr>\n",
       "    <tr>\n",
       "      <th>4</th>\n",
       "      <td>VER</td>\n",
       "      <td>2022</td>\n",
       "      <td>Sakhir</td>\n",
       "      <td>98.877</td>\n",
       "    </tr>\n",
       "    <tr>\n",
       "      <th>...</th>\n",
       "      <td>...</td>\n",
       "      <td>...</td>\n",
       "      <td>...</td>\n",
       "      <td>...</td>\n",
       "    </tr>\n",
       "    <tr>\n",
       "      <th>4541</th>\n",
       "      <td>PER</td>\n",
       "      <td>2023</td>\n",
       "      <td>Yas Island</td>\n",
       "      <td>88.024</td>\n",
       "    </tr>\n",
       "    <tr>\n",
       "      <th>4542</th>\n",
       "      <td>PER</td>\n",
       "      <td>2023</td>\n",
       "      <td>Yas Island</td>\n",
       "      <td>88.187</td>\n",
       "    </tr>\n",
       "    <tr>\n",
       "      <th>4543</th>\n",
       "      <td>PER</td>\n",
       "      <td>2023</td>\n",
       "      <td>Yas Island</td>\n",
       "      <td>87.896</td>\n",
       "    </tr>\n",
       "    <tr>\n",
       "      <th>4544</th>\n",
       "      <td>PER</td>\n",
       "      <td>2023</td>\n",
       "      <td>Yas Island</td>\n",
       "      <td>87.991</td>\n",
       "    </tr>\n",
       "    <tr>\n",
       "      <th>4545</th>\n",
       "      <td>PER</td>\n",
       "      <td>2023</td>\n",
       "      <td>Yas Island</td>\n",
       "      <td>87.948</td>\n",
       "    </tr>\n",
       "  </tbody>\n",
       "</table>\n",
       "<p>4546 rows × 4 columns</p>\n",
       "</div>"
      ],
      "text/plain": [
       "     Driver  Year    Location  Laptime\n",
       "0       VER  2022      Sakhir  100.236\n",
       "1       VER  2022      Sakhir    97.88\n",
       "2       VER  2022      Sakhir   98.357\n",
       "3       VER  2022      Sakhir   98.566\n",
       "4       VER  2022      Sakhir   98.877\n",
       "...     ...   ...         ...      ...\n",
       "4541    PER  2023  Yas Island   88.024\n",
       "4542    PER  2023  Yas Island   88.187\n",
       "4543    PER  2023  Yas Island   87.896\n",
       "4544    PER  2023  Yas Island   87.991\n",
       "4545    PER  2023  Yas Island   87.948\n",
       "\n",
       "[4546 rows x 4 columns]"
      ]
     },
     "execution_count": 54,
     "metadata": {},
     "output_type": "execute_result"
    }
   ],
   "source": [
    "race_hist"
   ]
  },
  {
   "cell_type": "code",
   "execution_count": 64,
   "metadata": {},
   "outputs": [
    {
     "data": {
      "text/html": [
       "<div>\n",
       "<style scoped>\n",
       "    .dataframe tbody tr th:only-of-type {\n",
       "        vertical-align: middle;\n",
       "    }\n",
       "\n",
       "    .dataframe tbody tr th {\n",
       "        vertical-align: top;\n",
       "    }\n",
       "\n",
       "    .dataframe thead th {\n",
       "        text-align: right;\n",
       "    }\n",
       "</style>\n",
       "<table border=\"1\" class=\"dataframe\">\n",
       "  <thead>\n",
       "    <tr style=\"text-align: right;\">\n",
       "      <th></th>\n",
       "      <th>Driver</th>\n",
       "      <th>Year</th>\n",
       "      <th>Location</th>\n",
       "      <th>Laptime</th>\n",
       "    </tr>\n",
       "  </thead>\n",
       "  <tbody>\n",
       "    <tr>\n",
       "      <th>46</th>\n",
       "      <td>PER</td>\n",
       "      <td>2022</td>\n",
       "      <td>Sakhir</td>\n",
       "      <td>102.993</td>\n",
       "    </tr>\n",
       "    <tr>\n",
       "      <th>47</th>\n",
       "      <td>PER</td>\n",
       "      <td>2022</td>\n",
       "      <td>Sakhir</td>\n",
       "      <td>99.092</td>\n",
       "    </tr>\n",
       "    <tr>\n",
       "      <th>48</th>\n",
       "      <td>PER</td>\n",
       "      <td>2022</td>\n",
       "      <td>Sakhir</td>\n",
       "      <td>99.473</td>\n",
       "    </tr>\n",
       "    <tr>\n",
       "      <th>49</th>\n",
       "      <td>PER</td>\n",
       "      <td>2022</td>\n",
       "      <td>Sakhir</td>\n",
       "      <td>98.741</td>\n",
       "    </tr>\n",
       "    <tr>\n",
       "      <th>50</th>\n",
       "      <td>PER</td>\n",
       "      <td>2022</td>\n",
       "      <td>Sakhir</td>\n",
       "      <td>98.861</td>\n",
       "    </tr>\n",
       "    <tr>\n",
       "      <th>...</th>\n",
       "      <td>...</td>\n",
       "      <td>...</td>\n",
       "      <td>...</td>\n",
       "      <td>...</td>\n",
       "    </tr>\n",
       "    <tr>\n",
       "      <th>2215</th>\n",
       "      <td>PER</td>\n",
       "      <td>2022</td>\n",
       "      <td>Yas Island</td>\n",
       "      <td>89.152</td>\n",
       "    </tr>\n",
       "    <tr>\n",
       "      <th>2216</th>\n",
       "      <td>PER</td>\n",
       "      <td>2022</td>\n",
       "      <td>Yas Island</td>\n",
       "      <td>89.205</td>\n",
       "    </tr>\n",
       "    <tr>\n",
       "      <th>2217</th>\n",
       "      <td>PER</td>\n",
       "      <td>2022</td>\n",
       "      <td>Yas Island</td>\n",
       "      <td>89.446</td>\n",
       "    </tr>\n",
       "    <tr>\n",
       "      <th>2218</th>\n",
       "      <td>PER</td>\n",
       "      <td>2022</td>\n",
       "      <td>Yas Island</td>\n",
       "      <td>89.573</td>\n",
       "    </tr>\n",
       "    <tr>\n",
       "      <th>2219</th>\n",
       "      <td>PER</td>\n",
       "      <td>2022</td>\n",
       "      <td>Yas Island</td>\n",
       "      <td>89.856</td>\n",
       "    </tr>\n",
       "  </tbody>\n",
       "</table>\n",
       "<p>1073 rows × 4 columns</p>\n",
       "</div>"
      ],
      "text/plain": [
       "     Driver  Year    Location  Laptime\n",
       "46      PER  2022      Sakhir  102.993\n",
       "47      PER  2022      Sakhir   99.092\n",
       "48      PER  2022      Sakhir   99.473\n",
       "49      PER  2022      Sakhir   98.741\n",
       "50      PER  2022      Sakhir   98.861\n",
       "...     ...   ...         ...      ...\n",
       "2215    PER  2022  Yas Island   89.152\n",
       "2216    PER  2022  Yas Island   89.205\n",
       "2217    PER  2022  Yas Island   89.446\n",
       "2218    PER  2022  Yas Island   89.573\n",
       "2219    PER  2022  Yas Island   89.856\n",
       "\n",
       "[1073 rows x 4 columns]"
      ]
     },
     "execution_count": 64,
     "metadata": {},
     "output_type": "execute_result"
    }
   ],
   "source": [
    "temp"
   ]
  },
  {
   "cell_type": "code",
   "execution_count": 65,
   "metadata": {},
   "outputs": [],
   "source": [
    "temp  = race_hist[(race_hist['Driver'] == 'PER') & (race_hist['Year'] == 2022)]"
   ]
  },
  {
   "cell_type": "code",
   "execution_count": 61,
   "metadata": {},
   "outputs": [],
   "source": [
    "temp1  = race_hist[(race_hist['Driver'] == 'PER') & (race_hist['Year'] == 2023)]"
   ]
  },
  {
   "cell_type": "code",
   "execution_count": 62,
   "metadata": {},
   "outputs": [
    {
     "data": {
      "text/plain": [
       "1073"
      ]
     },
     "execution_count": 62,
     "metadata": {},
     "output_type": "execute_result"
    }
   ],
   "source": [
    "len(temp)"
   ]
  },
  {
   "cell_type": "code",
   "execution_count": 63,
   "metadata": {},
   "outputs": [
    {
     "data": {
      "text/plain": [
       "1107"
      ]
     },
     "execution_count": 63,
     "metadata": {},
     "output_type": "execute_result"
    }
   ],
   "source": [
    "len(temp1)"
   ]
  },
  {
   "cell_type": "code",
   "execution_count": null,
   "metadata": {},
   "outputs": [],
   "source": [
    "stats.kstest(rvs = dat, cdf = 'norm', args = (mean_val, sd_val)).pvalue"
   ]
  },
  {
   "cell_type": "code",
   "execution_count": 79,
   "metadata": {},
   "outputs": [
    {
     "data": {
      "text/plain": [
       "[['Sakhir'],\n",
       " ['Melbourne'],\n",
       " ['Montréal'],\n",
       " ['Spielberg'],\n",
       " ['Sakhir'],\n",
       " ['Suzuka'],\n",
       " ['Mexico City'],\n",
       " ['Monaco']]"
      ]
     },
     "execution_count": 79,
     "metadata": {},
     "output_type": "execute_result"
    }
   ],
   "source": [
    "dnfs"
   ]
  },
  {
   "cell_type": "code",
   "execution_count": 78,
   "metadata": {},
   "outputs": [
    {
     "ename": "TypeError",
     "evalue": "unhashable type: 'list'",
     "output_type": "error",
     "traceback": [
      "\u001b[0;31m---------------------------------------------------------------------------\u001b[0m",
      "\u001b[0;31mTypeError\u001b[0m                                 Traceback (most recent call last)",
      "Input \u001b[0;32mIn [78]\u001b[0m, in \u001b[0;36m<module>\u001b[0;34m\u001b[0m\n\u001b[0;32m----> 1\u001b[0m \u001b[38;5;28;43mset\u001b[39;49m\u001b[43m(\u001b[49m\u001b[43mdnfs\u001b[49m\u001b[43m)\u001b[49m\n",
      "\u001b[0;31mTypeError\u001b[0m: unhashable type: 'list'"
     ]
    }
   ],
   "source": [
    "set(dnfs)"
   ]
  },
  {
   "cell_type": "code",
   "execution_count": 77,
   "metadata": {},
   "outputs": [
    {
     "ename": "TypeError",
     "evalue": "unhashable type: 'list'",
     "output_type": "error",
     "traceback": [
      "\u001b[0;31m---------------------------------------------------------------------------\u001b[0m",
      "\u001b[0;31mTypeError\u001b[0m                                 Traceback (most recent call last)",
      "Input \u001b[0;32mIn [77]\u001b[0m, in \u001b[0;36m<module>\u001b[0;34m\u001b[0m\n\u001b[0;32m----> 1\u001b[0m \u001b[38;5;28mset\u001b[39m(common_tracks) \u001b[38;5;241m-\u001b[39m \u001b[38;5;28;43mset\u001b[39;49m\u001b[43m(\u001b[49m\u001b[43mdnfs\u001b[49m\u001b[43m)\u001b[49m\n",
      "\u001b[0;31mTypeError\u001b[0m: unhashable type: 'list'"
     ]
    }
   ],
   "source": [
    "set(common_tracks) - set(dnfs)"
   ]
  },
  {
   "cell_type": "code",
   "execution_count": 84,
   "metadata": {},
   "outputs": [],
   "source": [
    "# Conduct normality test on the races using Kolomogorav Smirnov test\n",
    "def norm_test(common_tracks, dnf, driver):\n",
    "    tracks = set(common_tracks) - set(dnf)\n",
    "    tracks = list(tracks)\n",
    "    norm = []\n",
    "    not_norm = []\n",
    "    hist = race_hist[race_hist['Driver'] == driver]\n",
    "    for loc in tracks:\n",
    "        for year in [2022, 2023]:\n",
    "            dat = hist[(hist['Location'] == loc) &\n",
    "                       (hist['Year'] == year)]['Laptime'].astype(int)\n",
    "            mean_val = dat.mean()\n",
    "            sd_val = dat.std()\n",
    "            if stats.kstest(rvs = dat, cdf = 'norm', args = (mean_val, sd_val)).pvalue < 0.05:\n",
    "                        ks_score = stats.kstest(rvs = dat, cdf = 'norm', args = (mean_val, sd_val)).statistic\n",
    "                        not_norm.append((driver, loc, year, ks_score))\n",
    "            else:\n",
    "                norm.append((driver, loc, year))      \n",
    "    return ('normal:', len(norm), 'not normal:',  len(not_norm))"
   ]
  },
  {
   "cell_type": "code",
   "execution_count": 85,
   "metadata": {},
   "outputs": [
    {
     "data": {
      "text/plain": [
       "('normal:', 3, 'not normal:', 23)"
      ]
     },
     "execution_count": 85,
     "metadata": {},
     "output_type": "execute_result"
    }
   ],
   "source": [
    "norm_test(common_tracks, dnfs, 'VER')"
   ]
  },
  {
   "cell_type": "code",
   "execution_count": 87,
   "metadata": {},
   "outputs": [
    {
     "data": {
      "text/plain": [
       "('normal:', 2, 'not normal:', 24)"
      ]
     },
     "execution_count": 87,
     "metadata": {},
     "output_type": "execute_result"
    }
   ],
   "source": [
    "norm_test(common_tracks, dnfs, 'PER')"
   ]
  },
  {
   "cell_type": "markdown",
   "metadata": {},
   "source": [
    "The Kolomogorov-Smirnov test shows that the datasets are not normally distributed. This can be easily observed by plotting an instance of the dataset as shown below. We will plot the distribution of the time it took of Verstappen to complete the race in Bahrain in 2022."
   ]
  },
  {
   "cell_type": "code",
   "execution_count": 89,
   "metadata": {},
   "outputs": [
    {
     "name": "stderr",
     "output_type": "stream",
     "text": [
      "/Library/Frameworks/Python.framework/Versions/3.9/lib/python3.9/site-packages/seaborn/_oldcore.py:1119: FutureWarning: use_inf_as_na option is deprecated and will be removed in a future version. Convert inf values to NaN before operating instead.\n",
      "  with pd.option_context('mode.use_inf_as_na', True):\n"
     ]
    },
    {
     "data": {
      "text/plain": [
       "<AxesSubplot:xlabel='Laptime', ylabel='Count'>"
      ]
     },
     "execution_count": 89,
     "metadata": {},
     "output_type": "execute_result"
    },
    {
     "data": {
      "image/png": "[encoded data removed]",
      "text/plain": [
       "<Figure size 432x288 with 1 Axes>"
      ]
     },
     "metadata": {
      "needs_background": "light"
     },
     "output_type": "display_data"
    }
   ],
   "source": [
    "sns.histplot(data = race_hist[(race_hist['Driver'] == 'VER') & \n",
    "        (race_hist['Location'] == 'Sakhir') & \n",
    "        (race_hist['Year'] == 2022)]['Laptime'].astype(int))"
   ]
  },
  {
   "cell_type": "code",
   "execution_count": 90,
   "metadata": {},
   "outputs": [
    {
     "name": "stderr",
     "output_type": "stream",
     "text": [
      "/Library/Frameworks/Python.framework/Versions/3.9/lib/python3.9/site-packages/seaborn/_oldcore.py:1119: FutureWarning: use_inf_as_na option is deprecated and will be removed in a future version. Convert inf values to NaN before operating instead.\n",
      "  with pd.option_context('mode.use_inf_as_na', True):\n"
     ]
    },
    {
     "data": {
      "text/plain": [
       "<AxesSubplot:xlabel='Laptime', ylabel='Count'>"
      ]
     },
     "execution_count": 90,
     "metadata": {},
     "output_type": "execute_result"
    },
    {
     "data": {
      "image/png": "[encoded data removed]",
      "text/plain": [
       "<Figure size 432x288 with 1 Axes>"
      ]
     },
     "metadata": {
      "needs_background": "light"
     },
     "output_type": "display_data"
    }
   ],
   "source": [
    "sns.histplot(data = race_hist[(race_hist['Driver'] == 'VER') & \n",
    "        (race_hist['Location'] == 'Sakhir') & \n",
    "        (race_hist['Year'] == 2023)]['Laptime'].astype(int))"
   ]
  },
  {
   "cell_type": "code",
   "execution_count": 91,
   "metadata": {},
   "outputs": [
    {
     "name": "stderr",
     "output_type": "stream",
     "text": [
      "/Library/Frameworks/Python.framework/Versions/3.9/lib/python3.9/site-packages/seaborn/_oldcore.py:1119: FutureWarning: use_inf_as_na option is deprecated and will be removed in a future version. Convert inf values to NaN before operating instead.\n",
      "  with pd.option_context('mode.use_inf_as_na', True):\n"
     ]
    },
    {
     "data": {
      "text/plain": [
       "<AxesSubplot:xlabel='Laptime', ylabel='Count'>"
      ]
     },
     "execution_count": 91,
     "metadata": {},
     "output_type": "execute_result"
    },
    {
     "data": {
      "image/png": "[encoded data removed]",
      "text/plain": [
       "<Figure size 432x288 with 1 Axes>"
      ]
     },
     "metadata": {
      "needs_background": "light"
     },
     "output_type": "display_data"
    }
   ],
   "source": [
    "sns.histplot(data = race_hist[(race_hist['Driver'] == 'PER') & \n",
    "        (race_hist['Location'] == 'Sakhir') & \n",
    "        (race_hist['Year'] == 2022)]['Laptime'].astype(int))"
   ]
  },
  {
   "cell_type": "code",
   "execution_count": 92,
   "metadata": {},
   "outputs": [
    {
     "name": "stderr",
     "output_type": "stream",
     "text": [
      "/Library/Frameworks/Python.framework/Versions/3.9/lib/python3.9/site-packages/seaborn/_oldcore.py:1119: FutureWarning: use_inf_as_na option is deprecated and will be removed in a future version. Convert inf values to NaN before operating instead.\n",
      "  with pd.option_context('mode.use_inf_as_na', True):\n"
     ]
    },
    {
     "data": {
      "text/plain": [
       "<AxesSubplot:xlabel='Laptime', ylabel='Count'>"
      ]
     },
     "execution_count": 92,
     "metadata": {},
     "output_type": "execute_result"
    },
    {
     "data": {
      "image/png": "[encoded data removed]",
      "text/plain": [
       "<Figure size 432x288 with 1 Axes>"
      ]
     },
     "metadata": {
      "needs_background": "light"
     },
     "output_type": "display_data"
    }
   ],
   "source": [
    "sns.histplot(data = race_hist[(race_hist['Driver'] == 'PER') & \n",
    "        (race_hist['Location'] == 'Sakhir') & \n",
    "        (race_hist['Year'] == 2023)]['Laptime'].astype(int))"
   ]
  },
  {
   "cell_type": "markdown",
   "metadata": {},
   "source": [
    "It is visibally obvious that the dataset is highly skewed with outliers."
   ]
  },
  {
   "cell_type": "code",
   "execution_count": 93,
   "metadata": {},
   "outputs": [],
   "source": [
    "import numpy as np\n",
    "import matplotlib.pyplot as plt"
   ]
  },
  {
   "cell_type": "markdown",
   "metadata": {},
   "source": [
    "Potting the lap times by the lap number visually shows how the laps times are highly skewed."
   ]
  },
  {
   "cell_type": "code",
   "execution_count": 95,
   "metadata": {},
   "outputs": [
    {
     "data": {
      "text/plain": [
       "[<matplotlib.lines.Line2D at 0x10a3cce20>]"
      ]
     },
     "execution_count": 95,
     "metadata": {},
     "output_type": "execute_result"
    },
    {
     "data": {
      "image/png": "[encoded data removed]",
      "text/plain": [
       "<Figure size 432x288 with 1 Axes>"
      ]
     },
     "metadata": {
      "needs_background": "light"
     },
     "output_type": "display_data"
    }
   ],
   "source": [
    "# Visualize how the time it took to complete a lap differs \n",
    "laptime = race_hist[(race_hist['Driver'] == 'VER') & \n",
    "        (race_hist['Location'] == 'Sakhir') & \n",
    "        (race_hist['Year'] == 2022)]['Laptime'].astype(int).to_numpy()\n",
    "x = np.arange(len(laptime))\n",
    "plt.plot(x, list(laptime))"
   ]
  },
  {
   "cell_type": "code",
   "execution_count": 96,
   "metadata": {},
   "outputs": [
    {
     "data": {
      "text/plain": [
       "[<matplotlib.lines.Line2D at 0x109fb8370>]"
      ]
     },
     "execution_count": 96,
     "metadata": {},
     "output_type": "execute_result"
    },
    {
     "data": {
      "image/png": "[encoded data removed]",
      "text/plain": [
       "<Figure size 432x288 with 1 Axes>"
      ]
     },
     "metadata": {
      "needs_background": "light"
     },
     "output_type": "display_data"
    }
   ],
   "source": [
    "# Visualize how the time it took to complete a lap differs \n",
    "laptime = race_hist[(race_hist['Driver'] == 'PER') & \n",
    "        (race_hist['Location'] == 'Sakhir') & \n",
    "        (race_hist['Year'] == 2022)]['Laptime'].astype(int).to_numpy()\n",
    "x = np.arange(len(laptime))\n",
    "plt.plot(x, list(laptime))"
   ]
  },
  {
   "cell_type": "markdown",
   "metadata": {},
   "source": [
    "Since the dataset is clearly not normally distributed we will be using a Kruskal-Wallis test to see if the median values across two years in the same race between the same players are equal."
   ]
  },
  {
   "cell_type": "code",
   "execution_count": 115,
   "metadata": {},
   "outputs": [],
   "source": [
    "def kwtest(common_tracks, dnf, driver):\n",
    "    tracks = list(set(common_tracks) - set(dnf))\n",
    "    null_hypo = []\n",
    "    alt_hypo = []\n",
    "    hist = race_hist[race_hist['Driver'] == driver]\n",
    "    for loc in tracks:\n",
    "        dat = hist[hist['Location'] == loc]\n",
    "        dat_2022 = dat[dat['Year'] == 2022]['Laptime'].astype(int)\n",
    "        dat_2023 = dat[dat['Year'] == 2023]['Laptime'].astype(int)\n",
    "        if stats.kruskal(dat_2022, dat_2023).pvalue < 0.05:\n",
    "            alt_hypo.append((driver, loc))\n",
    "        else:\n",
    "            null_hypo.append((drv, loc))\n",
    "    return ('alt_hypo:', alt_hypo, 'null_hypo:', null_hypo)"
   ]
  },
  {
   "cell_type": "code",
   "execution_count": 116,
   "metadata": {},
   "outputs": [
    {
     "data": {
      "text/html": [
       "<div>\n",
       "<style scoped>\n",
       "    .dataframe tbody tr th:only-of-type {\n",
       "        vertical-align: middle;\n",
       "    }\n",
       "\n",
       "    .dataframe tbody tr th {\n",
       "        vertical-align: top;\n",
       "    }\n",
       "\n",
       "    .dataframe thead th {\n",
       "        text-align: right;\n",
       "    }\n",
       "</style>\n",
       "<table border=\"1\" class=\"dataframe\">\n",
       "  <thead>\n",
       "    <tr style=\"text-align: right;\">\n",
       "      <th></th>\n",
       "      <th>Driver</th>\n",
       "      <th>Year</th>\n",
       "      <th>Location</th>\n",
       "      <th>Laptime</th>\n",
       "    </tr>\n",
       "  </thead>\n",
       "  <tbody>\n",
       "    <tr>\n",
       "      <th>2110</th>\n",
       "      <td>VER</td>\n",
       "      <td>2022</td>\n",
       "      <td>Yas Island</td>\n",
       "      <td>92.198</td>\n",
       "    </tr>\n",
       "    <tr>\n",
       "      <th>2111</th>\n",
       "      <td>VER</td>\n",
       "      <td>2022</td>\n",
       "      <td>Yas Island</td>\n",
       "      <td>90.541</td>\n",
       "    </tr>\n",
       "    <tr>\n",
       "      <th>2112</th>\n",
       "      <td>VER</td>\n",
       "      <td>2022</td>\n",
       "      <td>Yas Island</td>\n",
       "      <td>89.968</td>\n",
       "    </tr>\n",
       "    <tr>\n",
       "      <th>2113</th>\n",
       "      <td>VER</td>\n",
       "      <td>2022</td>\n",
       "      <td>Yas Island</td>\n",
       "      <td>90.368</td>\n",
       "    </tr>\n",
       "    <tr>\n",
       "      <th>2114</th>\n",
       "      <td>VER</td>\n",
       "      <td>2022</td>\n",
       "      <td>Yas Island</td>\n",
       "      <td>90.502</td>\n",
       "    </tr>\n",
       "    <tr>\n",
       "      <th>...</th>\n",
       "      <td>...</td>\n",
       "      <td>...</td>\n",
       "      <td>...</td>\n",
       "      <td>...</td>\n",
       "    </tr>\n",
       "    <tr>\n",
       "      <th>4487</th>\n",
       "      <td>VER</td>\n",
       "      <td>2023</td>\n",
       "      <td>Yas Island</td>\n",
       "      <td>87.513</td>\n",
       "    </tr>\n",
       "    <tr>\n",
       "      <th>4488</th>\n",
       "      <td>VER</td>\n",
       "      <td>2023</td>\n",
       "      <td>Yas Island</td>\n",
       "      <td>87.93</td>\n",
       "    </tr>\n",
       "    <tr>\n",
       "      <th>4489</th>\n",
       "      <td>VER</td>\n",
       "      <td>2023</td>\n",
       "      <td>Yas Island</td>\n",
       "      <td>87.727</td>\n",
       "    </tr>\n",
       "    <tr>\n",
       "      <th>4490</th>\n",
       "      <td>VER</td>\n",
       "      <td>2023</td>\n",
       "      <td>Yas Island</td>\n",
       "      <td>87.98</td>\n",
       "    </tr>\n",
       "    <tr>\n",
       "      <th>4491</th>\n",
       "      <td>VER</td>\n",
       "      <td>2023</td>\n",
       "      <td>Yas Island</td>\n",
       "      <td>88.545</td>\n",
       "    </tr>\n",
       "  </tbody>\n",
       "</table>\n",
       "<p>110 rows × 4 columns</p>\n",
       "</div>"
      ],
      "text/plain": [
       "     Driver  Year    Location Laptime\n",
       "2110    VER  2022  Yas Island  92.198\n",
       "2111    VER  2022  Yas Island  90.541\n",
       "2112    VER  2022  Yas Island  89.968\n",
       "2113    VER  2022  Yas Island  90.368\n",
       "2114    VER  2022  Yas Island  90.502\n",
       "...     ...   ...         ...     ...\n",
       "4487    VER  2023  Yas Island  87.513\n",
       "4488    VER  2023  Yas Island   87.93\n",
       "4489    VER  2023  Yas Island  87.727\n",
       "4490    VER  2023  Yas Island   87.98\n",
       "4491    VER  2023  Yas Island  88.545\n",
       "\n",
       "[110 rows x 4 columns]"
      ]
     },
     "execution_count": 116,
     "metadata": {},
     "output_type": "execute_result"
    }
   ],
   "source": [
    "hist = race_hist[race_hist['Driver'] == 'VER']\n",
    "hist[hist['Location'] == 'Yas Island']"
   ]
  },
  {
   "cell_type": "code",
   "execution_count": 117,
   "metadata": {},
   "outputs": [
    {
     "data": {
      "text/plain": [
       "('alt_hypo:',\n",
       " [('VER', 'Yas Island'),\n",
       "  ('VER', 'Monza'),\n",
       "  ('VER', 'Miami'),\n",
       "  ('VER', 'São Paulo'),\n",
       "  ('VER', 'Silverstone'),\n",
       "  ('VER', 'Barcelona'),\n",
       "  ('VER', 'Marina Bay'),\n",
       "  ('VER', 'Spa-Francorchamps'),\n",
       "  ('VER', 'Baku')],\n",
       " 'null_hypo:',\n",
       " [('PER', 'Jeddah'),\n",
       "  ('PER', 'Austin'),\n",
       "  ('PER', 'Zandvoort'),\n",
       "  ('PER', 'Budapest')])"
      ]
     },
     "execution_count": 117,
     "metadata": {},
     "output_type": "execute_result"
    }
   ],
   "source": [
    "kwtest(common_tracks, dnfs, 'VER')"
   ]
  },
  {
   "cell_type": "code",
   "execution_count": 118,
   "metadata": {},
   "outputs": [
    {
     "data": {
      "text/plain": [
       "('alt_hypo:',\n",
       " [('PER', 'Yas Island'),\n",
       "  ('PER', 'Monza'),\n",
       "  ('PER', 'Miami'),\n",
       "  ('PER', 'São Paulo'),\n",
       "  ('PER', 'Barcelona'),\n",
       "  ('PER', 'Marina Bay'),\n",
       "  ('PER', 'Spa-Francorchamps'),\n",
       "  ('PER', 'Baku')],\n",
       " 'null_hypo:',\n",
       " [('PER', 'Jeddah'),\n",
       "  ('PER', 'Austin'),\n",
       "  ('PER', 'Silverstone'),\n",
       "  ('PER', 'Zandvoort'),\n",
       "  ('PER', 'Budapest')])"
      ]
     },
     "execution_count": 118,
     "metadata": {},
     "output_type": "execute_result"
    }
   ],
   "source": [
    "kwtest(common_tracks, dnfs, 'PER')"
   ]
  },
  {
   "cell_type": "markdown",
   "metadata": {},
   "source": [
    "The results show that for the vast majority of cases the two distributions are not equal."
   ]
  },
  {
   "cell_type": "markdown",
   "metadata": {},
   "source": [
    "# Conclusion"
   ]
  },
  {
   "cell_type": "markdown",
   "metadata": {},
   "source": [
    "The Kruskal Wallis test confirms that the two distributions for a driver in the same racetrack across the two years are not equal. In fact they seem to be faster on average. "
   ]
  },
  {
   "cell_type": "markdown",
   "metadata": {},
   "source": [
    "Additionally, in 2022 due to the changes in regulations the Mercedes team suffered heavily with porpoising. This lead to the team underscording compared to usual. This suggests that combining the results from 2022 and 2023 to create a large dataset would not be appropriate. \n",
    "Moreover, teams regularly repair and change vehicles between races due to DNFs or performance issues etc. Therefore fitting a model using data where a single time point is defined as a lap seems inappropriate. Instead, our model should use telemetry data to predict what would happen within a single lap. "
   ]
  },
  {
   "cell_type": "markdown",
   "metadata": {},
   "source": [
    "# Sequencing - Seasonality and Trend "
   ]
  },
  {
   "cell_type": "markdown",
   "metadata": {},
   "source": [
    "Since we are using a time series data we will see if the data shows any visible trend or seasonality that could be removed to increase the model's prediction and performance. "
   ]
  },
  {
   "cell_type": "code",
   "execution_count": 120,
   "metadata": {},
   "outputs": [],
   "source": [
    "total_tele = pd.read_csv('../../Desktop/tot_dat_bah.csv')"
   ]
  },
  {
   "cell_type": "markdown",
   "metadata": {},
   "source": [
    "By plotting the telemetry data it can be shown that there exists seasonality for our data, but has no visible trend. "
   ]
  },
  {
   "cell_type": "code",
   "execution_count": 125,
   "metadata": {},
   "outputs": [
    {
     "data": {
      "image/png": "[encoded data removed]",
      "text/plain": [
       "<Figure size 432x288 with 1 Axes>"
      ]
     },
     "metadata": {
      "needs_background": "light"
     },
     "output_type": "display_data"
    }
   ],
   "source": [
    "fig, ax = plt.subplots()\n",
    "ax.plot(total_tele['VER_Distance'][0:3000], color = '#0600ef', label='VER')\n",
    "ax.plot(total_tele['HAM_Distance'][0:3000], color = '#27f4d2', label='HAM')\n",
    "ax.plot(total_tele['OCO_Distance'][0:3000], color = '#ff87bc', label = 'OCO' )\n",
    "ax.plot(total_tele['ALB_Distance'][0:3000], color = '#00a0dd', label = 'ALB')\n",
    "ax.plot(total_tele['LEC_Distance'][0:3000], color = '#e8002d', label = 'LEC')\n",
    "ax.legend()\n",
    "\n",
    "plt.show()"
   ]
  },
  {
   "cell_type": "markdown",
   "metadata": {},
   "source": [
    "This seasonality occurs because the drivers are going around tracks. However, as shown in the plot below as the drivers are going at different paces this seasonlity becomes irregular and unique for each driver. "
   ]
  },
  {
   "cell_type": "code",
   "execution_count": 127,
   "metadata": {},
   "outputs": [
    {
     "data": {
      "image/png": "[encoded data removed]",
      "text/plain": [
       "<Figure size 432x288 with 1 Axes>"
      ]
     },
     "metadata": {
      "needs_background": "light"
     },
     "output_type": "display_data"
    }
   ],
   "source": [
    "fig, ax = plt.subplots()\n",
    "ax.plot(total_tele['VER_Distance'][8000:10000], color = '#0600ef', label='VER')\n",
    "ax.plot(total_tele['HAM_Distance'][8000:10000], color = '#27f4d2', label='HAM')\n",
    "ax.plot(total_tele['OCO_Distance'][8000:10000], color = '#ff87bc', label = 'OCO' )\n",
    "ax.plot(total_tele['ALB_Distance'][8000:10000], color = '#00a0dd', label = 'ALB')\n",
    "ax.plot(total_tele['LEC_Distance'][8000:10000], color = '#e8002d', label = 'LEC')\n",
    "ax.legend()\n",
    "\n",
    "plt.show()"
   ]
  },
  {
   "cell_type": "markdown",
   "metadata": {},
   "source": [
    "Thus we will fit our data without removing trend or seasonality, as removing seasonality from one driver means we have to remove it for all other drivers with the same cyclicality."
   ]
  }
 ],
 "metadata": {
  "kernelspec": {
   "display_name": "Python 3",
   "language": "python",
   "name": "python3"
  },
  "language_info": {
   "codemirror_mode": {
    "name": "ipython",
    "version": 3
   },
   "file_extension": ".py",
   "mimetype": "text/x-python",
   "name": "python",
   "nbconvert_exporter": "python",
   "pygments_lexer": "ipython3",
   "version": "3.9.6"
  }
 },
 "nbformat": 4,
 "nbformat_minor": 2
}
