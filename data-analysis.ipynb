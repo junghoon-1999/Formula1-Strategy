{
 "cells": [
  {
   "cell_type": "markdown",
   "metadata": {},
   "source": [
    "# 1. Explaratory Data Analysis"
   ]
  },
  {
   "cell_type": "code",
   "execution_count": 2,
   "metadata": {},
   "outputs": [],
   "source": [
    "# Import libraries for data analysis\n",
    "import fastf1 as f1\n",
    "import pandas as pd\n",
    "import seaborn as sns\n",
    "import scipy.stats as stats"
   ]
  },
  {
   "cell_type": "markdown",
   "metadata": {},
   "source": [
    "## 1-1. Observe difference in race times for the same track between different years"
   ]
  },
  {
   "cell_type": "markdown",
   "metadata": {},
   "source": [
    "We will compare how the race times for the same racetrack for the same driver across different years to determine how to define our dataset. We have chosen 2022 and 2023, as 2022 was the last time the FIA introduced a major rule change. \n",
    "We have chosen Verstappen and Perez as their cars have shown consistent results throughout the two years (2022 and 2023)."
   ]
  },
  {
   "cell_type": "code",
   "execution_count": null,
   "metadata": {},
   "outputs": [],
   "source": [
    "# Create a dataset and collect all the laptimes for Verstappen and Perez\n",
    "race_hist = pd.DataFrame()\n",
    "Years = [2022, 2023]\n",
    "for year in Years:\n",
    "    Events = f1.get_event_schedule(year)\n",
    "    for _, Event in Events[Events['Session5'] == 'Race'].iterrows():\n",
    "        session = f1.core.Session(Event, session_name = 'Race', f1_api_support  = True)\n",
    "        session.load(laps = True, telemetry = True, weather = True, messages = True)\n",
    "\n",
    "        drivers = ['VER', 'PER']\n",
    "\n",
    "        for driver in drivers:\n",
    "            sesh_l = session.laps\n",
    "            sesh_driver = sesh_l.pick_driver(driver).reset_index()\n",
    "            sesh_driver = sesh_driver[sesh_driver['LapTime'].isna() == False]\n",
    "            sesh_driver = sesh_driver[sesh_driver[['PitOutTime', 'PitInTime']].isna().all(axis=1)]\n",
    "\n",
    "            temp = pd.DataFrame(columns = ['Driver', 'Year', 'Location', 'Laptime'])\n",
    "            temp['Laptime'] = sesh_driver['LapTime']\n",
    "            temp['Driver'] = driver\n",
    "            temp['Year'] = year\n",
    "            temp['Location'] = Event['Country']\n",
    "\n",
    "            race_hist = pd.concat([race_hist, temp], axis = 0, ignore_index = True)"
   ]
  }
 ],
 "metadata": {
  "kernelspec": {
   "display_name": "Python 3",
   "language": "python",
   "name": "python3"
  },
  "language_info": {
   "codemirror_mode": {
    "name": "ipython",
    "version": 3
   },
   "file_extension": ".py",
   "mimetype": "text/x-python",
   "name": "python",
   "nbconvert_exporter": "python",
   "pygments_lexer": "ipython3",
   "version": "3.9.6"
  }
 },
 "nbformat": 4,
 "nbformat_minor": 2
}
